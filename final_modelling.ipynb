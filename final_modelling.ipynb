{
 "cells": [
  {
   "cell_type": "markdown",
   "metadata": {},
   "source": [
    "# Iyzico Datathon - Time Series Modelling"
   ]
  },
  {
   "cell_type": "code",
   "execution_count": 82,
   "metadata": {},
   "outputs": [],
   "source": [
    "# Base packages\n",
    "import numpy as np\n",
    "import pandas as pd\n",
    "import itertools\n",
    "import warnings\n",
    "from tqdm import tqdm\n",
    "\n",
    "# Data Visualization\n",
    "from matplotlib import pyplot as plt\n",
    "import seaborn as sns\n",
    "\n",
    "# Modelling\n",
    "import pmdarima as pm\n",
    "from statsmodels.tsa.api import ExponentialSmoothing\n",
    "from statsmodels.tsa.arima.model import ARIMA\n",
    "from statsmodels.tsa.statespace.sarimax import SARIMAX\n",
    "\n",
    "# Evaluation\n",
    "from sklearn.metrics import mean_absolute_error"
   ]
  },
  {
   "cell_type": "code",
   "execution_count": 3,
   "metadata": {},
   "outputs": [],
   "source": [
    "pd.set_option(\"display.max_columns\", None)\n",
    "pd.set_option(\"display.max_rows\", None)\n",
    "pd.set_option(\"display.width\", 500)\n",
    "pd.set_option(\"display.expand_frame_repr\", False)\n",
    "pd.set_option(\"display.float_format\", lambda x: '%.1f' % x)\n",
    "warnings.filterwarnings('ignore')"
   ]
  },
  {
   "cell_type": "markdown",
   "metadata": {},
   "source": [
    "## Data Manipulation"
   ]
  },
  {
   "cell_type": "code",
   "execution_count": 4,
   "metadata": {},
   "outputs": [],
   "source": [
    "data = pd.read_csv(\"C:/Users/MONSTER/Desktop/train.csv\")\n",
    "\n",
    "def get_season(month):\n",
    "    if month in [1, 2, 3]:\n",
    "        return 'Q1'\n",
    "    elif month in [4, 5, 6]:\n",
    "        return 'Q2'\n",
    "    elif month in [7, 8, 9]:\n",
    "        return 'Q3'\n",
    "    else: # 10, 11, 12\n",
    "        return 'Q4'\n",
    "\n",
    "data['month_id'] = data['month_id'].astype(str)\n",
    "data['year'] = data['month_id'].str[:4].astype(int)\n",
    "data['month'] = data['month_id'].str[4:].astype(int)\n",
    "data['season'] = data['month'].apply(get_season)\n",
    "data['month_id'] = pd.to_datetime(data['month_id'], format='%Y%m')\n",
    "\n",
    "\n",
    "column_order = ['month_id', 'merchant_id', 'year', 'month', 'season', 'merchant_source_name', 'settlement_period', 'working_type', 'mcc_id', 'merchant_segment', 'net_payment_count']\n",
    "data = data[column_order]\n",
    "data = data.sort_values(by='month_id').reset_index(drop=True)\n",
    "\n",
    "# Segment column\n",
    "data.loc[data['merchant_segment'].isin([\"Segment - 1\", \"Segment - 2\", \"Segment - 3\"]), 'merchant_segment'] = \"otherSegments123\"\n",
    "data.loc[data['merchant_segment'] == \"Segment - 4\", 'merchant_segment'] = \"StandartSegment4\"\n",
    "\n",
    "# negative values in target \n",
    "data.loc[data['net_payment_count'] < 0, 'net_payment_count'] = 0\n",
    "\n",
    "# mcc_id to integer\n",
    "data['mcc_id'] = data['mcc_id'].str.replace('mcc_', '').astype(int)\n",
    "\n",
    "# Working type\n",
    "data.loc[data['working_type'].isin([\"Working Type - 1\", \"Working Type - 3\", \"Working Type - 4\"]), 'working_type'] = \"otherWorkingTypes134\"\n",
    "\n",
    "# settlement_period\n",
    "data.loc[data['settlement_period'].isin([\"Settlement Period - 2\", \"Settlement Period - 3\"]), 'settlement_period'] = \"otherSettlementPeriods23\"\n",
    "\n",
    "# Time series data\n",
    "time_series = data.groupby([\"month_id\", \"merchant_id\"]).agg({\"net_payment_count\": \"sum\"}).reset_index()"
   ]
  },
  {
   "cell_type": "code",
   "execution_count": 5,
   "metadata": {},
   "outputs": [
    {
     "data": {
      "text/html": [
       "<div>\n",
       "<style scoped>\n",
       "    .dataframe tbody tr th:only-of-type {\n",
       "        vertical-align: middle;\n",
       "    }\n",
       "\n",
       "    .dataframe tbody tr th {\n",
       "        vertical-align: top;\n",
       "    }\n",
       "\n",
       "    .dataframe thead th {\n",
       "        text-align: right;\n",
       "    }\n",
       "</style>\n",
       "<table border=\"1\" class=\"dataframe\">\n",
       "  <thead>\n",
       "    <tr style=\"text-align: right;\">\n",
       "      <th></th>\n",
       "      <th>month_id</th>\n",
       "      <th>merchant_id</th>\n",
       "      <th>year</th>\n",
       "      <th>month</th>\n",
       "      <th>season</th>\n",
       "      <th>merchant_source_name</th>\n",
       "      <th>settlement_period</th>\n",
       "      <th>working_type</th>\n",
       "      <th>mcc_id</th>\n",
       "      <th>merchant_segment</th>\n",
       "      <th>net_payment_count</th>\n",
       "    </tr>\n",
       "  </thead>\n",
       "  <tbody>\n",
       "    <tr>\n",
       "      <th>0</th>\n",
       "      <td>2020-01-01</td>\n",
       "      <td>merchant_66740</td>\n",
       "      <td>2020</td>\n",
       "      <td>1</td>\n",
       "      <td>Q1</td>\n",
       "      <td>Merchant Source - 1</td>\n",
       "      <td>Settlement Period - 1</td>\n",
       "      <td>Working Type - 6</td>\n",
       "      <td>130</td>\n",
       "      <td>StandartSegment4</td>\n",
       "      <td>6</td>\n",
       "    </tr>\n",
       "    <tr>\n",
       "      <th>1</th>\n",
       "      <td>2020-01-01</td>\n",
       "      <td>merchant_12444</td>\n",
       "      <td>2020</td>\n",
       "      <td>1</td>\n",
       "      <td>Q1</td>\n",
       "      <td>Merchant Source - 1</td>\n",
       "      <td>Settlement Period - 1</td>\n",
       "      <td>Working Type - 2</td>\n",
       "      <td>153</td>\n",
       "      <td>StandartSegment4</td>\n",
       "      <td>3</td>\n",
       "    </tr>\n",
       "    <tr>\n",
       "      <th>2</th>\n",
       "      <td>2020-01-01</td>\n",
       "      <td>merchant_40154</td>\n",
       "      <td>2020</td>\n",
       "      <td>1</td>\n",
       "      <td>Q1</td>\n",
       "      <td>Merchant Source - 2</td>\n",
       "      <td>Settlement Period - 1</td>\n",
       "      <td>Working Type - 5</td>\n",
       "      <td>168</td>\n",
       "      <td>StandartSegment4</td>\n",
       "      <td>3</td>\n",
       "    </tr>\n",
       "    <tr>\n",
       "      <th>3</th>\n",
       "      <td>2020-01-01</td>\n",
       "      <td>merchant_33179</td>\n",
       "      <td>2020</td>\n",
       "      <td>1</td>\n",
       "      <td>Q1</td>\n",
       "      <td>Merchant Source - 3</td>\n",
       "      <td>otherSettlementPeriods23</td>\n",
       "      <td>Working Type - 2</td>\n",
       "      <td>25</td>\n",
       "      <td>otherSegments123</td>\n",
       "      <td>787</td>\n",
       "    </tr>\n",
       "    <tr>\n",
       "      <th>4</th>\n",
       "      <td>2020-01-01</td>\n",
       "      <td>merchant_16977</td>\n",
       "      <td>2020</td>\n",
       "      <td>1</td>\n",
       "      <td>Q1</td>\n",
       "      <td>Merchant Source - 2</td>\n",
       "      <td>Settlement Period - 1</td>\n",
       "      <td>Working Type - 6</td>\n",
       "      <td>31</td>\n",
       "      <td>StandartSegment4</td>\n",
       "      <td>5</td>\n",
       "    </tr>\n",
       "  </tbody>\n",
       "</table>\n",
       "</div>"
      ],
      "text/plain": [
       "    month_id     merchant_id  year  month season merchant_source_name         settlement_period      working_type  mcc_id  merchant_segment  net_payment_count\n",
       "0 2020-01-01  merchant_66740  2020      1     Q1  Merchant Source - 1     Settlement Period - 1  Working Type - 6     130  StandartSegment4                  6\n",
       "1 2020-01-01  merchant_12444  2020      1     Q1  Merchant Source - 1     Settlement Period - 1  Working Type - 2     153  StandartSegment4                  3\n",
       "2 2020-01-01  merchant_40154  2020      1     Q1  Merchant Source - 2     Settlement Period - 1  Working Type - 5     168  StandartSegment4                  3\n",
       "3 2020-01-01  merchant_33179  2020      1     Q1  Merchant Source - 3  otherSettlementPeriods23  Working Type - 2      25  otherSegments123                787\n",
       "4 2020-01-01  merchant_16977  2020      1     Q1  Merchant Source - 2     Settlement Period - 1  Working Type - 6      31  StandartSegment4                  5"
      ]
     },
     "execution_count": 5,
     "metadata": {},
     "output_type": "execute_result"
    }
   ],
   "source": [
    "data.head()"
   ]
  },
  {
   "cell_type": "code",
   "execution_count": 6,
   "metadata": {},
   "outputs": [
    {
     "data": {
      "text/html": [
       "<div>\n",
       "<style scoped>\n",
       "    .dataframe tbody tr th:only-of-type {\n",
       "        vertical-align: middle;\n",
       "    }\n",
       "\n",
       "    .dataframe tbody tr th {\n",
       "        vertical-align: top;\n",
       "    }\n",
       "\n",
       "    .dataframe thead th {\n",
       "        text-align: right;\n",
       "    }\n",
       "</style>\n",
       "<table border=\"1\" class=\"dataframe\">\n",
       "  <thead>\n",
       "    <tr style=\"text-align: right;\">\n",
       "      <th></th>\n",
       "      <th>month_id</th>\n",
       "      <th>merchant_id</th>\n",
       "      <th>net_payment_count</th>\n",
       "    </tr>\n",
       "  </thead>\n",
       "  <tbody>\n",
       "    <tr>\n",
       "      <th>0</th>\n",
       "      <td>2020-01-01</td>\n",
       "      <td>merchant_10005</td>\n",
       "      <td>3</td>\n",
       "    </tr>\n",
       "    <tr>\n",
       "      <th>1</th>\n",
       "      <td>2020-01-01</td>\n",
       "      <td>merchant_10034</td>\n",
       "      <td>5</td>\n",
       "    </tr>\n",
       "    <tr>\n",
       "      <th>2</th>\n",
       "      <td>2020-01-01</td>\n",
       "      <td>merchant_10052</td>\n",
       "      <td>5</td>\n",
       "    </tr>\n",
       "    <tr>\n",
       "      <th>3</th>\n",
       "      <td>2020-01-01</td>\n",
       "      <td>merchant_10078</td>\n",
       "      <td>134</td>\n",
       "    </tr>\n",
       "    <tr>\n",
       "      <th>4</th>\n",
       "      <td>2020-01-01</td>\n",
       "      <td>merchant_10134</td>\n",
       "      <td>3</td>\n",
       "    </tr>\n",
       "  </tbody>\n",
       "</table>\n",
       "</div>"
      ],
      "text/plain": [
       "    month_id     merchant_id  net_payment_count\n",
       "0 2020-01-01  merchant_10005                  3\n",
       "1 2020-01-01  merchant_10034                  5\n",
       "2 2020-01-01  merchant_10052                  5\n",
       "3 2020-01-01  merchant_10078                134\n",
       "4 2020-01-01  merchant_10134                  3"
      ]
     },
     "execution_count": 6,
     "metadata": {},
     "output_type": "execute_result"
    }
   ],
   "source": [
    "time_series.head()"
   ]
  },
  {
   "cell_type": "markdown",
   "metadata": {},
   "source": [
    "### 1.1 Time Series Data for Modelling "
   ]
  },
  {
   "cell_type": "code",
   "execution_count": 7,
   "metadata": {},
   "outputs": [],
   "source": [
    "# Create a date range for all months\n",
    "all_months = pd.date_range(start='2020-01-01', end='2023-09-01', freq='MS')\n",
    "\n",
    "# Create a DataFrame with all combinations of customer_id and all_months\n",
    "all_customers = time_series['merchant_id'].unique()\n",
    "all_combinations = pd.MultiIndex.from_product([all_customers, all_months], names=['merchant_id', 'month_id'])\n",
    "temp_df = pd.DataFrame(index=all_combinations).reset_index()\n",
    "\n",
    "# Merge the complete_df with the original df\n",
    "ts_df = temp_df.merge(time_series, on=['merchant_id', 'month_id'], how='left')\n",
    "\n",
    "# Fill missing sales with zero\n",
    "ts_df['net_payment_count'] = ts_df['net_payment_count'].fillna(0)\n"
   ]
  },
  {
   "cell_type": "code",
   "execution_count": 11,
   "metadata": {},
   "outputs": [
    {
     "data": {
      "text/html": [
       "<div>\n",
       "<style scoped>\n",
       "    .dataframe tbody tr th:only-of-type {\n",
       "        vertical-align: middle;\n",
       "    }\n",
       "\n",
       "    .dataframe tbody tr th {\n",
       "        vertical-align: top;\n",
       "    }\n",
       "\n",
       "    .dataframe thead th {\n",
       "        text-align: right;\n",
       "    }\n",
       "</style>\n",
       "<table border=\"1\" class=\"dataframe\">\n",
       "  <thead>\n",
       "    <tr style=\"text-align: right;\">\n",
       "      <th></th>\n",
       "      <th>merchant_id</th>\n",
       "      <th>month_id</th>\n",
       "      <th>net_payment_count</th>\n",
       "    </tr>\n",
       "  </thead>\n",
       "  <tbody>\n",
       "    <tr>\n",
       "      <th>0</th>\n",
       "      <td>merchant_10005</td>\n",
       "      <td>2020-01-01</td>\n",
       "      <td>3.0</td>\n",
       "    </tr>\n",
       "    <tr>\n",
       "      <th>1</th>\n",
       "      <td>merchant_10005</td>\n",
       "      <td>2020-02-01</td>\n",
       "      <td>4.0</td>\n",
       "    </tr>\n",
       "    <tr>\n",
       "      <th>2</th>\n",
       "      <td>merchant_10005</td>\n",
       "      <td>2020-03-01</td>\n",
       "      <td>3.0</td>\n",
       "    </tr>\n",
       "    <tr>\n",
       "      <th>3</th>\n",
       "      <td>merchant_10005</td>\n",
       "      <td>2020-04-01</td>\n",
       "      <td>0.0</td>\n",
       "    </tr>\n",
       "    <tr>\n",
       "      <th>4</th>\n",
       "      <td>merchant_10005</td>\n",
       "      <td>2020-05-01</td>\n",
       "      <td>0.0</td>\n",
       "    </tr>\n",
       "  </tbody>\n",
       "</table>\n",
       "</div>"
      ],
      "text/plain": [
       "      merchant_id   month_id  net_payment_count\n",
       "0  merchant_10005 2020-01-01                3.0\n",
       "1  merchant_10005 2020-02-01                4.0\n",
       "2  merchant_10005 2020-03-01                3.0\n",
       "3  merchant_10005 2020-04-01                0.0\n",
       "4  merchant_10005 2020-05-01                0.0"
      ]
     },
     "execution_count": 11,
     "metadata": {},
     "output_type": "execute_result"
    }
   ],
   "source": [
    "ts_df.head()"
   ]
  },
  {
   "cell_type": "code",
   "execution_count": 12,
   "metadata": {},
   "outputs": [],
   "source": [
    "last_three_months = ts_df['month_id'].max() - pd.DateOffset(months=3)\n",
    "new_customer_df = ts_df[ts_df['month_id'] < last_three_months].groupby('merchant_id').filter(lambda x: x['net_payment_count'].sum() == 0)\n",
    "new_customer_ids = new_customer_df['merchant_id'].unique()"
   ]
  },
  {
   "cell_type": "markdown",
   "metadata": {},
   "source": [
    "## 2. Modelling"
   ]
  },
  {
   "cell_type": "markdown",
   "metadata": {},
   "source": [
    "### 2.1 Holt-Winters' Modelling"
   ]
  },
  {
   "cell_type": "code",
   "execution_count": 49,
   "metadata": {},
   "outputs": [],
   "source": [
    "def tes_optimizer(train, test):\n",
    "    model_holt_winters = ExponentialSmoothing(train, trend='add', \n",
    "                                              seasonal_periods=12).fit(optimized=True)\n",
    "    \n",
    "    best_alpha = model_holt_winters.params['smoothing_level']\n",
    "    best_beta = model_holt_winters.params['smoothing_trend']\n",
    "    best_gamma = model_holt_winters.params['smoothing_seasonal']\n",
    "\n",
    "    forecast = model_holt_winters.forecast(len(test))\n",
    "\n",
    "    mae = mean_absolute_error(test, forecast)\n",
    "\n",
    "    if np.isnan(model_holt_winters.params['smoothing_seasonal']):\n",
    "        best_gamma = 0\n",
    "    \n",
    "    # print(f\"parameters: a = {best_alpha}, b = {best_beta}, g = {best_gamma}, mae = {mae}\")\n",
    "\n",
    "    return best_alpha, best_beta, best_gamma, mae\n"
   ]
  },
  {
   "cell_type": "code",
   "execution_count": 50,
   "metadata": {},
   "outputs": [
    {
     "name": "stderr",
     "output_type": "stream",
     "text": [
      "Processing Customers: 100%|██████████| 26060/26060 [31:10<00:00, 13.93it/s]"
     ]
    },
    {
     "name": "stdout",
     "output_type": "stream",
     "text": [
      "Average MAE: 50.485981803654035\n"
     ]
    },
    {
     "name": "stderr",
     "output_type": "stream",
     "text": [
      "\n"
     ]
    }
   ],
   "source": [
    "forecast_df = pd.DataFrame(columns=['month_id', 'merchant_id', 'forecast'])\n",
    "\n",
    "iteration_control = 0\n",
    "total_mae = 0\n",
    "\n",
    "for customer_id in tqdm(ts_df['merchant_id'].unique(), desc=\"Processing Customers\"):\n",
    "    try:\n",
    "        customer_data = ts_df[ts_df['merchant_id'] == customer_id]\n",
    "        customer_data = customer_data.set_index('month_id')\n",
    "        customer_data = customer_data.drop('merchant_id', axis=1)\n",
    "\n",
    "        # Ensure the sales column is numeric and the index is datetime\n",
    "        customer_data['net_payment_count'] = pd.to_numeric(customer_data['net_payment_count'], errors='coerce')\n",
    "        customer_data.index = pd.to_datetime(customer_data.index)\n",
    "\n",
    "        if customer_id in new_customer_ids:\n",
    "            moving_average_october = (customer_data['net_payment_count'][\"2023-09-01\"] + customer_data['net_payment_count'][\"2023-08-01\"] + customer_data['net_payment_count'][\"2023-07-01\"] + customer_data['net_payment_count'][\"2023-06-01\"]) / 4\n",
    "            moving_average_november = (customer_data['net_payment_count'][\"2023-09-01\"] + customer_data['net_payment_count'][\"2023-08-01\"] + customer_data['net_payment_count'][\"2023-07-01\"]) / 3 \n",
    "            moving_average_december = (customer_data['net_payment_count'][\"2023-09-01\"] + customer_data['net_payment_count'][\"2023-08-01\"]) / 2\n",
    "            \n",
    "            moving_averages_df = pd.DataFrame({\n",
    "                'month_id': [\"2023-10-01\", \"2023-11-01\", \"2023-12-01\"],\n",
    "                'merchant_id': [customer_id] * 3,\n",
    "                'forecast': [moving_average_october, moving_average_november, moving_average_december]\n",
    "            })\n",
    "            \n",
    "            forecast_df = forecast_df.append(moving_averages_df, ignore_index=True)\n",
    "            \n",
    "        else:\n",
    "            train = customer_data[:\"2023-05-01\"]\n",
    "            test = customer_data[\"2023-06-01\":]\n",
    "\n",
    "            y_pred_len = len(test)\n",
    "            best_alpha, best_beta, best_gamma, best_mae = tes_optimizer(train, test)\n",
    "\n",
    "            tes_model = ExponentialSmoothing(customer_data, trend=\"add\", seasonal=\"add\", seasonal_periods=12).\\\n",
    "                fit(smoothing_level=best_alpha, smoothing_slope=best_beta, smoothing_seasonal=best_gamma)\n",
    "            \n",
    "            y_pred = tes_model.forecast(3)\n",
    "            y_pred = pd.DataFrame(y_pred, columns=['forecast'])\n",
    "\n",
    "            # print(f\"Customer {customer_id} - MAE: {best_mae}\")\n",
    "\n",
    "            y_pred = np.array(y_pred).flatten()\n",
    "\n",
    "            forecast_dates = pd.date_range(start=customer_data.index[-1], periods=len(y_pred) + 1, freq='MS')[1:]\n",
    "            forecast_df_temp = pd.DataFrame({\n",
    "                'month_id': forecast_dates,\n",
    "                'merchant_id': [customer_id] * len(y_pred), \n",
    "                'forecast': y_pred\n",
    "            })\n",
    "\n",
    "            forecast_df = forecast_df.append(forecast_df_temp, ignore_index=True)\n",
    "\n",
    "            iteration_control += 1\n",
    "            total_mae += best_mae\n",
    "\n",
    "    except Exception as e:\n",
    "        print(f\"Error processing in customer: {customer_id}: {e}\")\n",
    "        break\n",
    "\n",
    "# After all forecasts have been appended to forecast_df\n",
    "avg_mae = total_mae / iteration_control\n",
    "forecast_df['forecast'] = forecast_df['forecast'].apply(lambda x: 0 if x < 1 else x)\n",
    "print(f\"Average MAE: {avg_mae}\")"
   ]
  },
  {
   "cell_type": "code",
   "execution_count": 51,
   "metadata": {},
   "outputs": [],
   "source": [
    "forecast_df_new = forecast_df.copy()"
   ]
  },
  {
   "cell_type": "code",
   "execution_count": 54,
   "metadata": {},
   "outputs": [
    {
     "data": {
      "text/html": [
       "<div>\n",
       "<style scoped>\n",
       "    .dataframe tbody tr th:only-of-type {\n",
       "        vertical-align: middle;\n",
       "    }\n",
       "\n",
       "    .dataframe tbody tr th {\n",
       "        vertical-align: top;\n",
       "    }\n",
       "\n",
       "    .dataframe thead th {\n",
       "        text-align: right;\n",
       "    }\n",
       "</style>\n",
       "<table border=\"1\" class=\"dataframe\">\n",
       "  <thead>\n",
       "    <tr style=\"text-align: right;\">\n",
       "      <th></th>\n",
       "      <th>month_id</th>\n",
       "      <th>merchant_id</th>\n",
       "      <th>forecast</th>\n",
       "    </tr>\n",
       "  </thead>\n",
       "  <tbody>\n",
       "    <tr>\n",
       "      <th>0</th>\n",
       "      <td>2023-10-01 00:00:00</td>\n",
       "      <td>merchant_10005</td>\n",
       "      <td>0.0</td>\n",
       "    </tr>\n",
       "    <tr>\n",
       "      <th>1</th>\n",
       "      <td>2023-11-01 00:00:00</td>\n",
       "      <td>merchant_10005</td>\n",
       "      <td>0.0</td>\n",
       "    </tr>\n",
       "    <tr>\n",
       "      <th>2</th>\n",
       "      <td>2023-12-01 00:00:00</td>\n",
       "      <td>merchant_10005</td>\n",
       "      <td>0.0</td>\n",
       "    </tr>\n",
       "    <tr>\n",
       "      <th>3</th>\n",
       "      <td>2023-10-01 00:00:00</td>\n",
       "      <td>merchant_10034</td>\n",
       "      <td>0.0</td>\n",
       "    </tr>\n",
       "    <tr>\n",
       "      <th>4</th>\n",
       "      <td>2023-11-01 00:00:00</td>\n",
       "      <td>merchant_10034</td>\n",
       "      <td>0.0</td>\n",
       "    </tr>\n",
       "  </tbody>\n",
       "</table>\n",
       "</div>"
      ],
      "text/plain": [
       "              month_id     merchant_id  forecast\n",
       "0  2023-10-01 00:00:00  merchant_10005       0.0\n",
       "1  2023-11-01 00:00:00  merchant_10005       0.0\n",
       "2  2023-12-01 00:00:00  merchant_10005       0.0\n",
       "3  2023-10-01 00:00:00  merchant_10034       0.0\n",
       "4  2023-11-01 00:00:00  merchant_10034       0.0"
      ]
     },
     "execution_count": 54,
     "metadata": {},
     "output_type": "execute_result"
    }
   ],
   "source": [
    "forecast_df_new.head()"
   ]
  },
  {
   "cell_type": "code",
   "execution_count": 55,
   "metadata": {},
   "outputs": [],
   "source": [
    "forecast_df_new[\"month_id\"] = pd.to_datetime(forecast_df_new[\"month_id\"], format='%Y-%m-%d')"
   ]
  },
  {
   "cell_type": "code",
   "execution_count": 56,
   "metadata": {},
   "outputs": [],
   "source": [
    "forecast_df_new['date_id'] = forecast_df_new['month_id'].apply(lambda x: x.strftime('%Y%m') if x.month in [10, 11, 12] else '')\n",
    "forecast_df_new['general_merchant_id'] = forecast_df_new['date_id'] + forecast_df_new['merchant_id']"
   ]
  },
  {
   "cell_type": "code",
   "execution_count": 90,
   "metadata": {},
   "outputs": [],
   "source": [
    "forecast_df_new.to_csv(\"C:/Users/MONSTER/Desktop/forecast.csv\", index=False)"
   ]
  },
  {
   "cell_type": "markdown",
   "metadata": {},
   "source": [
    "### 2.2 ARIMA Modelling"
   ]
  },
  {
   "cell_type": "code",
   "execution_count": 85,
   "metadata": {},
   "outputs": [
    {
     "name": "stderr",
     "output_type": "stream",
     "text": [
      "Processing Customers: 100%|██████████| 26060/26060 [39:02<00:00, 11.12it/s] "
     ]
    },
    {
     "name": "stdout",
     "output_type": "stream",
     "text": [
      "Average MAE: 7.383240546304094\n"
     ]
    },
    {
     "name": "stderr",
     "output_type": "stream",
     "text": [
      "\n"
     ]
    }
   ],
   "source": [
    "forecast_df_arima = pd.DataFrame(columns=['month_id', 'merchant_id', 'forecast'])\n",
    "\n",
    "iteration_control = 0\n",
    "total_mae = 0\n",
    "\n",
    "for customer_id in tqdm(ts_df['merchant_id'].unique(), desc=\"Processing Customers\"):\n",
    "    try:\n",
    "        customer_data = ts_df[ts_df['merchant_id'] == customer_id]\n",
    "        customer_data = customer_data.set_index('month_id')\n",
    "        customer_data = customer_data.drop('merchant_id', axis=1)\n",
    "\n",
    "        # Ensure the sales column is numeric and the index is datetime\n",
    "        customer_data['net_payment_count'] = pd.to_numeric(customer_data['net_payment_count'], errors='coerce')\n",
    "        customer_data.index = pd.to_datetime(customer_data.index)\n",
    "\n",
    "        if customer_id in new_customer_ids:\n",
    "            moving_average_october = (customer_data['net_payment_count'][\"2023-09-01\"] + customer_data['net_payment_count'][\"2023-08-01\"] + customer_data['net_payment_count'][\"2023-07-01\"] + customer_data['net_payment_count'][\"2023-06-01\"]) / 4\n",
    "            moving_average_november = (customer_data['net_payment_count'][\"2023-09-01\"] + customer_data['net_payment_count'][\"2023-08-01\"] + customer_data['net_payment_count'][\"2023-07-01\"]) / 3 \n",
    "            moving_average_december = (customer_data['net_payment_count'][\"2023-09-01\"] + customer_data['net_payment_count'][\"2023-08-01\"]) / 2\n",
    "            \n",
    "            moving_averages_df = pd.DataFrame({\n",
    "                'month_id': [\"2023-10-01\", \"2023-11-01\", \"2023-12-01\"],\n",
    "                'merchant_id': [customer_id] * 3,\n",
    "                'forecast': [moving_average_october, moving_average_november, moving_average_december]\n",
    "            })\n",
    "            \n",
    "            forecast_df_arima = forecast_df_arima.append(moving_averages_df, ignore_index=True)\n",
    "            \n",
    "        else:\n",
    "            arima_model = ARIMA(customer_data, order=(1, 1, 1)).fit()\n",
    "            \n",
    "            y_pred = arima_model.get_forecast(3).predicted_mean\n",
    "            y_pred = pd.DataFrame(y_pred)\n",
    "\n",
    "            # print(f\"Customer {customer_id} - MAE: {best_mae}\")\n",
    "\n",
    "            y_pred = np.array(y_pred).flatten()\n",
    "\n",
    "            forecast_dates = pd.date_range(start=customer_data.index[-1], periods=len(y_pred) + 1, freq='MS')[1:]\n",
    "\n",
    "            forecast_df_temp = pd.DataFrame({\n",
    "                'month_id': forecast_dates,\n",
    "                'merchant_id': [customer_id] * len(y_pred), \n",
    "                'forecast': y_pred\n",
    "            })\n",
    "\n",
    "            forecast_df_arima = forecast_df_arima.append(forecast_df_temp, ignore_index=True)\n",
    "\n",
    "            iteration_control += 1\n",
    "            total_mae += best_mae\n",
    "\n",
    "            # if iteration_control == 100:\n",
    "            #     print(forecast_df_arima.head(200))\n",
    "            #     break\n",
    "\n",
    "    except Exception as e:\n",
    "        print(f\"Error processing in customer: {customer_id}: {e}\")\n",
    "        break\n",
    "\n",
    "# After all forecasts have been appended to forecast_df\n",
    "avg_mae = total_mae / iteration_control\n",
    "forecast_df_arima['forecast'] = forecast_df_arima['forecast'].apply(lambda x: 0 if x < 1 else x)\n",
    "print(f\"Average MAE: {avg_mae}\")"
   ]
  },
  {
   "cell_type": "code",
   "execution_count": 88,
   "metadata": {},
   "outputs": [
    {
     "data": {
      "text/html": [
       "<div>\n",
       "<style scoped>\n",
       "    .dataframe tbody tr th:only-of-type {\n",
       "        vertical-align: middle;\n",
       "    }\n",
       "\n",
       "    .dataframe tbody tr th {\n",
       "        vertical-align: top;\n",
       "    }\n",
       "\n",
       "    .dataframe thead th {\n",
       "        text-align: right;\n",
       "    }\n",
       "</style>\n",
       "<table border=\"1\" class=\"dataframe\">\n",
       "  <thead>\n",
       "    <tr style=\"text-align: right;\">\n",
       "      <th></th>\n",
       "      <th>month_id</th>\n",
       "      <th>merchant_id</th>\n",
       "      <th>forecast</th>\n",
       "    </tr>\n",
       "  </thead>\n",
       "  <tbody>\n",
       "    <tr>\n",
       "      <th>0</th>\n",
       "      <td>2023-10-01 00:00:00</td>\n",
       "      <td>merchant_10005</td>\n",
       "      <td>0.0</td>\n",
       "    </tr>\n",
       "    <tr>\n",
       "      <th>1</th>\n",
       "      <td>2023-11-01 00:00:00</td>\n",
       "      <td>merchant_10005</td>\n",
       "      <td>0.0</td>\n",
       "    </tr>\n",
       "    <tr>\n",
       "      <th>2</th>\n",
       "      <td>2023-12-01 00:00:00</td>\n",
       "      <td>merchant_10005</td>\n",
       "      <td>0.0</td>\n",
       "    </tr>\n",
       "    <tr>\n",
       "      <th>3</th>\n",
       "      <td>2023-10-01 00:00:00</td>\n",
       "      <td>merchant_10034</td>\n",
       "      <td>0.0</td>\n",
       "    </tr>\n",
       "    <tr>\n",
       "      <th>4</th>\n",
       "      <td>2023-11-01 00:00:00</td>\n",
       "      <td>merchant_10034</td>\n",
       "      <td>0.0</td>\n",
       "    </tr>\n",
       "  </tbody>\n",
       "</table>\n",
       "</div>"
      ],
      "text/plain": [
       "              month_id     merchant_id  forecast\n",
       "0  2023-10-01 00:00:00  merchant_10005       0.0\n",
       "1  2023-11-01 00:00:00  merchant_10005       0.0\n",
       "2  2023-12-01 00:00:00  merchant_10005       0.0\n",
       "3  2023-10-01 00:00:00  merchant_10034       0.0\n",
       "4  2023-11-01 00:00:00  merchant_10034       0.0"
      ]
     },
     "execution_count": 88,
     "metadata": {},
     "output_type": "execute_result"
    }
   ],
   "source": [
    "forecast_df_arima.head()"
   ]
  },
  {
   "cell_type": "code",
   "execution_count": 89,
   "metadata": {},
   "outputs": [],
   "source": [
    "forecast_df_arima_new = forecast_df_arima.copy()"
   ]
  },
  {
   "cell_type": "code",
   "execution_count": 92,
   "metadata": {},
   "outputs": [
    {
     "ename": "AttributeError",
     "evalue": "'str' object has no attribute 'month'",
     "output_type": "error",
     "traceback": [
      "\u001b[1;31m---------------------------------------------------------------------------\u001b[0m",
      "\u001b[1;31mAttributeError\u001b[0m                            Traceback (most recent call last)",
      "Cell \u001b[1;32mIn[92], line 1\u001b[0m\n\u001b[1;32m----> 1\u001b[0m forecast_df_arima_new[\u001b[38;5;124m'\u001b[39m\u001b[38;5;124mdate_id\u001b[39m\u001b[38;5;124m'\u001b[39m] \u001b[38;5;241m=\u001b[39m \u001b[43mforecast_df_arima_new\u001b[49m\u001b[43m[\u001b[49m\u001b[38;5;124;43m'\u001b[39;49m\u001b[38;5;124;43mmonth_id\u001b[39;49m\u001b[38;5;124;43m'\u001b[39;49m\u001b[43m]\u001b[49m\u001b[38;5;241;43m.\u001b[39;49m\u001b[43mapply\u001b[49m\u001b[43m(\u001b[49m\u001b[38;5;28;43;01mlambda\u001b[39;49;00m\u001b[43m \u001b[49m\u001b[43mx\u001b[49m\u001b[43m:\u001b[49m\u001b[43m \u001b[49m\u001b[43mx\u001b[49m\u001b[38;5;241;43m.\u001b[39;49m\u001b[43mstrftime\u001b[49m\u001b[43m(\u001b[49m\u001b[38;5;124;43m'\u001b[39;49m\u001b[38;5;124;43m%\u001b[39;49m\u001b[38;5;124;43mY\u001b[39;49m\u001b[38;5;124;43m%\u001b[39;49m\u001b[38;5;124;43mm\u001b[39;49m\u001b[38;5;124;43m'\u001b[39;49m\u001b[43m)\u001b[49m\u001b[43m \u001b[49m\u001b[38;5;28;43;01mif\u001b[39;49;00m\u001b[43m \u001b[49m\u001b[43mx\u001b[49m\u001b[38;5;241;43m.\u001b[39;49m\u001b[43mmonth\u001b[49m\u001b[43m \u001b[49m\u001b[38;5;129;43;01min\u001b[39;49;00m\u001b[43m \u001b[49m\u001b[43m[\u001b[49m\u001b[38;5;241;43m10\u001b[39;49m\u001b[43m,\u001b[49m\u001b[43m \u001b[49m\u001b[38;5;241;43m11\u001b[39;49m\u001b[43m,\u001b[49m\u001b[43m \u001b[49m\u001b[38;5;241;43m12\u001b[39;49m\u001b[43m]\u001b[49m\u001b[43m \u001b[49m\u001b[38;5;28;43;01melse\u001b[39;49;00m\u001b[43m \u001b[49m\u001b[38;5;124;43m'\u001b[39;49m\u001b[38;5;124;43m'\u001b[39;49m\u001b[43m)\u001b[49m\n\u001b[0;32m      2\u001b[0m forecast_df_arima_new[\u001b[38;5;124m'\u001b[39m\u001b[38;5;124mgeneral_merchant_id\u001b[39m\u001b[38;5;124m'\u001b[39m] \u001b[38;5;241m=\u001b[39m forecast_df_arima_new[\u001b[38;5;124m'\u001b[39m\u001b[38;5;124mdate_id\u001b[39m\u001b[38;5;124m'\u001b[39m] \u001b[38;5;241m+\u001b[39m forecast_df_arima_new[\u001b[38;5;124m'\u001b[39m\u001b[38;5;124mmerchant_id\u001b[39m\u001b[38;5;124m'\u001b[39m]\n",
      "File \u001b[1;32m~\\AppData\\Local\\Packages\\PythonSoftwareFoundation.Python.3.10_qbz5n2kfra8p0\\LocalCache\\local-packages\\Python310\\site-packages\\pandas\\core\\series.py:4771\u001b[0m, in \u001b[0;36mSeries.apply\u001b[1;34m(self, func, convert_dtype, args, **kwargs)\u001b[0m\n\u001b[0;32m   4661\u001b[0m \u001b[38;5;28;01mdef\u001b[39;00m \u001b[38;5;21mapply\u001b[39m(\n\u001b[0;32m   4662\u001b[0m     \u001b[38;5;28mself\u001b[39m,\n\u001b[0;32m   4663\u001b[0m     func: AggFuncType,\n\u001b[1;32m   (...)\u001b[0m\n\u001b[0;32m   4666\u001b[0m     \u001b[38;5;241m*\u001b[39m\u001b[38;5;241m*\u001b[39mkwargs,\n\u001b[0;32m   4667\u001b[0m ) \u001b[38;5;241m-\u001b[39m\u001b[38;5;241m>\u001b[39m DataFrame \u001b[38;5;241m|\u001b[39m Series:\n\u001b[0;32m   4668\u001b[0m \u001b[38;5;250m    \u001b[39m\u001b[38;5;124;03m\"\"\"\u001b[39;00m\n\u001b[0;32m   4669\u001b[0m \u001b[38;5;124;03m    Invoke function on values of Series.\u001b[39;00m\n\u001b[0;32m   4670\u001b[0m \n\u001b[1;32m   (...)\u001b[0m\n\u001b[0;32m   4769\u001b[0m \u001b[38;5;124;03m    dtype: float64\u001b[39;00m\n\u001b[0;32m   4770\u001b[0m \u001b[38;5;124;03m    \"\"\"\u001b[39;00m\n\u001b[1;32m-> 4771\u001b[0m     \u001b[38;5;28;01mreturn\u001b[39;00m \u001b[43mSeriesApply\u001b[49m\u001b[43m(\u001b[49m\u001b[38;5;28;43mself\u001b[39;49m\u001b[43m,\u001b[49m\u001b[43m \u001b[49m\u001b[43mfunc\u001b[49m\u001b[43m,\u001b[49m\u001b[43m \u001b[49m\u001b[43mconvert_dtype\u001b[49m\u001b[43m,\u001b[49m\u001b[43m \u001b[49m\u001b[43margs\u001b[49m\u001b[43m,\u001b[49m\u001b[43m \u001b[49m\u001b[43mkwargs\u001b[49m\u001b[43m)\u001b[49m\u001b[38;5;241;43m.\u001b[39;49m\u001b[43mapply\u001b[49m\u001b[43m(\u001b[49m\u001b[43m)\u001b[49m\n",
      "File \u001b[1;32m~\\AppData\\Local\\Packages\\PythonSoftwareFoundation.Python.3.10_qbz5n2kfra8p0\\LocalCache\\local-packages\\Python310\\site-packages\\pandas\\core\\apply.py:1123\u001b[0m, in \u001b[0;36mSeriesApply.apply\u001b[1;34m(self)\u001b[0m\n\u001b[0;32m   1120\u001b[0m     \u001b[38;5;28;01mreturn\u001b[39;00m \u001b[38;5;28mself\u001b[39m\u001b[38;5;241m.\u001b[39mapply_str()\n\u001b[0;32m   1122\u001b[0m \u001b[38;5;66;03m# self.f is Callable\u001b[39;00m\n\u001b[1;32m-> 1123\u001b[0m \u001b[38;5;28;01mreturn\u001b[39;00m \u001b[38;5;28;43mself\u001b[39;49m\u001b[38;5;241;43m.\u001b[39;49m\u001b[43mapply_standard\u001b[49m\u001b[43m(\u001b[49m\u001b[43m)\u001b[49m\n",
      "File \u001b[1;32m~\\AppData\\Local\\Packages\\PythonSoftwareFoundation.Python.3.10_qbz5n2kfra8p0\\LocalCache\\local-packages\\Python310\\site-packages\\pandas\\core\\apply.py:1174\u001b[0m, in \u001b[0;36mSeriesApply.apply_standard\u001b[1;34m(self)\u001b[0m\n\u001b[0;32m   1172\u001b[0m     \u001b[38;5;28;01melse\u001b[39;00m:\n\u001b[0;32m   1173\u001b[0m         values \u001b[38;5;241m=\u001b[39m obj\u001b[38;5;241m.\u001b[39mastype(\u001b[38;5;28mobject\u001b[39m)\u001b[38;5;241m.\u001b[39m_values\n\u001b[1;32m-> 1174\u001b[0m         mapped \u001b[38;5;241m=\u001b[39m \u001b[43mlib\u001b[49m\u001b[38;5;241;43m.\u001b[39;49m\u001b[43mmap_infer\u001b[49m\u001b[43m(\u001b[49m\n\u001b[0;32m   1175\u001b[0m \u001b[43m            \u001b[49m\u001b[43mvalues\u001b[49m\u001b[43m,\u001b[49m\n\u001b[0;32m   1176\u001b[0m \u001b[43m            \u001b[49m\u001b[43mf\u001b[49m\u001b[43m,\u001b[49m\n\u001b[0;32m   1177\u001b[0m \u001b[43m            \u001b[49m\u001b[43mconvert\u001b[49m\u001b[38;5;241;43m=\u001b[39;49m\u001b[38;5;28;43mself\u001b[39;49m\u001b[38;5;241;43m.\u001b[39;49m\u001b[43mconvert_dtype\u001b[49m\u001b[43m,\u001b[49m\n\u001b[0;32m   1178\u001b[0m \u001b[43m        \u001b[49m\u001b[43m)\u001b[49m\n\u001b[0;32m   1180\u001b[0m \u001b[38;5;28;01mif\u001b[39;00m \u001b[38;5;28mlen\u001b[39m(mapped) \u001b[38;5;129;01mand\u001b[39;00m \u001b[38;5;28misinstance\u001b[39m(mapped[\u001b[38;5;241m0\u001b[39m], ABCSeries):\n\u001b[0;32m   1181\u001b[0m     \u001b[38;5;66;03m# GH#43986 Need to do list(mapped) in order to get treated as nested\u001b[39;00m\n\u001b[0;32m   1182\u001b[0m     \u001b[38;5;66;03m#  See also GH#25959 regarding EA support\u001b[39;00m\n\u001b[0;32m   1183\u001b[0m     \u001b[38;5;28;01mreturn\u001b[39;00m obj\u001b[38;5;241m.\u001b[39m_constructor_expanddim(\u001b[38;5;28mlist\u001b[39m(mapped), index\u001b[38;5;241m=\u001b[39mobj\u001b[38;5;241m.\u001b[39mindex)\n",
      "File \u001b[1;32m~\\AppData\\Local\\Packages\\PythonSoftwareFoundation.Python.3.10_qbz5n2kfra8p0\\LocalCache\\local-packages\\Python310\\site-packages\\pandas\\_libs\\lib.pyx:2924\u001b[0m, in \u001b[0;36mpandas._libs.lib.map_infer\u001b[1;34m()\u001b[0m\n",
      "Cell \u001b[1;32mIn[92], line 1\u001b[0m, in \u001b[0;36m<lambda>\u001b[1;34m(x)\u001b[0m\n\u001b[1;32m----> 1\u001b[0m forecast_df_arima_new[\u001b[38;5;124m'\u001b[39m\u001b[38;5;124mdate_id\u001b[39m\u001b[38;5;124m'\u001b[39m] \u001b[38;5;241m=\u001b[39m forecast_df_arima_new[\u001b[38;5;124m'\u001b[39m\u001b[38;5;124mmonth_id\u001b[39m\u001b[38;5;124m'\u001b[39m]\u001b[38;5;241m.\u001b[39mapply(\u001b[38;5;28;01mlambda\u001b[39;00m x: x\u001b[38;5;241m.\u001b[39mstrftime(\u001b[38;5;124m'\u001b[39m\u001b[38;5;124m%\u001b[39m\u001b[38;5;124mY\u001b[39m\u001b[38;5;124m%\u001b[39m\u001b[38;5;124mm\u001b[39m\u001b[38;5;124m'\u001b[39m) \u001b[38;5;28;01mif\u001b[39;00m \u001b[43mx\u001b[49m\u001b[38;5;241;43m.\u001b[39;49m\u001b[43mmonth\u001b[49m \u001b[38;5;129;01min\u001b[39;00m [\u001b[38;5;241m10\u001b[39m, \u001b[38;5;241m11\u001b[39m, \u001b[38;5;241m12\u001b[39m] \u001b[38;5;28;01melse\u001b[39;00m \u001b[38;5;124m'\u001b[39m\u001b[38;5;124m'\u001b[39m)\n\u001b[0;32m      2\u001b[0m forecast_df_arima_new[\u001b[38;5;124m'\u001b[39m\u001b[38;5;124mgeneral_merchant_id\u001b[39m\u001b[38;5;124m'\u001b[39m] \u001b[38;5;241m=\u001b[39m forecast_df_arima_new[\u001b[38;5;124m'\u001b[39m\u001b[38;5;124mdate_id\u001b[39m\u001b[38;5;124m'\u001b[39m] \u001b[38;5;241m+\u001b[39m forecast_df_arima_new[\u001b[38;5;124m'\u001b[39m\u001b[38;5;124mmerchant_id\u001b[39m\u001b[38;5;124m'\u001b[39m]\n",
      "\u001b[1;31mAttributeError\u001b[0m: 'str' object has no attribute 'month'"
     ]
    }
   ],
   "source": [
    "forecast_df_arima_new['date_id'] = forecast_df_arima_new['month_id'].apply(lambda x: x.strftime('%Y%m') if x.month in [10, 11, 12] else '')\n",
    "forecast_df_arima_new['general_merchant_id'] = forecast_df_arima_new['date_id'] + forecast_df_arima_new['merchant_id']"
   ]
  },
  {
   "cell_type": "code",
   "execution_count": 91,
   "metadata": {},
   "outputs": [],
   "source": [
    "forecast_df_arima_new.to_csv(\"C:/Users/MONSTER/Desktop/forecast_arima.csv\", index=False)"
   ]
  }
 ],
 "metadata": {
  "kernelspec": {
   "display_name": "Python 3",
   "language": "python",
   "name": "python3"
  },
  "language_info": {
   "codemirror_mode": {
    "name": "ipython",
    "version": 3
   },
   "file_extension": ".py",
   "mimetype": "text/x-python",
   "name": "python",
   "nbconvert_exporter": "python",
   "pygments_lexer": "ipython3",
   "version": "3.10.11"
  }
 },
 "nbformat": 4,
 "nbformat_minor": 2
}
