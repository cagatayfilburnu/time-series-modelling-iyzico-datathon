{
 "cells": [
  {
   "cell_type": "code",
   "execution_count": 2,
   "metadata": {},
   "outputs": [],
   "source": [
    "# Base packages\n",
    "import numpy as np\n",
    "import pandas as pd\n",
    "import itertools\n",
    "import warnings\n",
    "from tqdm import tqdm\n",
    "\n",
    "# Data Visualization\n",
    "from matplotlib import pyplot as plt\n",
    "import seaborn as sns\n",
    "\n",
    "# Modelling\n",
    "import pmdarima as pm\n",
    "from statsmodels.tsa.api import ExponentialSmoothing\n",
    "from statsmodels.graphics.tsaplots import plot_acf, plot_pacf\n",
    "\n",
    "# Evaluation\n",
    "from sklearn.metrics import mean_absolute_error"
   ]
  },
  {
   "cell_type": "code",
   "execution_count": 3,
   "metadata": {},
   "outputs": [],
   "source": [
    "pd.set_option(\"display.max_columns\", None)\n",
    "pd.set_option(\"display.max_rows\", None)\n",
    "pd.set_option(\"display.width\", 500)\n",
    "pd.set_option(\"display.expand_frame_repr\", False)\n",
    "pd.set_option(\"display.float_format\", lambda x: '%.1f' % x)\n",
    "warnings.filterwarnings('ignore')"
   ]
  },
  {
   "cell_type": "markdown",
   "metadata": {},
   "source": [
    "## Data Manipulation"
   ]
  },
  {
   "cell_type": "code",
   "execution_count": 4,
   "metadata": {},
   "outputs": [],
   "source": [
    "data = pd.read_csv(\"C:/Users/MONSTER/Desktop/train.csv\")\n",
    "\n",
    "def get_season(month):\n",
    "    if month in [1, 2, 3]:\n",
    "        return 'Q1'\n",
    "    elif month in [4, 5, 6]:\n",
    "        return 'Q2'\n",
    "    elif month in [7, 8, 9]:\n",
    "        return 'Q3'\n",
    "    else: # 10, 11, 12\n",
    "        return 'Q4'\n",
    "\n",
    "data['month_id'] = data['month_id'].astype(str)\n",
    "data['year'] = data['month_id'].str[:4].astype(int)\n",
    "data['month'] = data['month_id'].str[4:].astype(int)\n",
    "data['season'] = data['month'].apply(get_season)\n",
    "data['month_id'] = pd.to_datetime(data['month_id'], format='%Y%m')\n",
    "\n",
    "\n",
    "column_order = ['month_id', 'merchant_id', 'year', 'month', 'season', 'merchant_source_name', 'settlement_period', 'working_type', 'mcc_id', 'merchant_segment', 'net_payment_count']\n",
    "data = data[column_order]\n",
    "data = data.sort_values(by='month_id').reset_index(drop=True)\n",
    "\n",
    "# Segment column\n",
    "data.loc[data['merchant_segment'].isin([\"Segment - 1\", \"Segment - 2\", \"Segment - 3\"]), 'merchant_segment'] = \"otherSegments123\"\n",
    "data.loc[data['merchant_segment'] == \"Segment - 4\", 'merchant_segment'] = \"StandartSegment4\"\n",
    "# negative values in target \n",
    "data.loc[data['net_payment_count'] < 0, 'net_payment_count'] = 0\n",
    "# mcc_id to integer\n",
    "data['mcc_id'] = data['mcc_id'].str.replace('mcc_', '').astype(int)\n",
    "# Working type\n",
    "data.loc[data['working_type'].isin([\"Working Type - 1\", \"Working Type - 3\", \"Working Type - 4\"]), 'working_type'] = \"otherWorkingTypes134\"\n",
    "# settlement_period\n",
    "data.loc[data['settlement_period'].isin([\"Settlement Period - 2\", \"Settlement Period - 3\"]), 'settlement_period'] = \"otherSettlementPeriods23\""
   ]
  },
  {
   "cell_type": "code",
   "execution_count": 5,
   "metadata": {},
   "outputs": [
    {
     "data": {
      "text/html": [
       "<div>\n",
       "<style scoped>\n",
       "    .dataframe tbody tr th:only-of-type {\n",
       "        vertical-align: middle;\n",
       "    }\n",
       "\n",
       "    .dataframe tbody tr th {\n",
       "        vertical-align: top;\n",
       "    }\n",
       "\n",
       "    .dataframe thead th {\n",
       "        text-align: right;\n",
       "    }\n",
       "</style>\n",
       "<table border=\"1\" class=\"dataframe\">\n",
       "  <thead>\n",
       "    <tr style=\"text-align: right;\">\n",
       "      <th></th>\n",
       "      <th>month_id</th>\n",
       "      <th>merchant_id</th>\n",
       "      <th>year</th>\n",
       "      <th>month</th>\n",
       "      <th>season</th>\n",
       "      <th>merchant_source_name</th>\n",
       "      <th>settlement_period</th>\n",
       "      <th>working_type</th>\n",
       "      <th>mcc_id</th>\n",
       "      <th>merchant_segment</th>\n",
       "      <th>net_payment_count</th>\n",
       "    </tr>\n",
       "  </thead>\n",
       "  <tbody>\n",
       "    <tr>\n",
       "      <th>0</th>\n",
       "      <td>2020-01-01</td>\n",
       "      <td>merchant_66740</td>\n",
       "      <td>2020</td>\n",
       "      <td>1</td>\n",
       "      <td>Q1</td>\n",
       "      <td>Merchant Source - 1</td>\n",
       "      <td>Settlement Period - 1</td>\n",
       "      <td>Working Type - 6</td>\n",
       "      <td>130</td>\n",
       "      <td>StandartSegment4</td>\n",
       "      <td>6</td>\n",
       "    </tr>\n",
       "    <tr>\n",
       "      <th>1</th>\n",
       "      <td>2020-01-01</td>\n",
       "      <td>merchant_12444</td>\n",
       "      <td>2020</td>\n",
       "      <td>1</td>\n",
       "      <td>Q1</td>\n",
       "      <td>Merchant Source - 1</td>\n",
       "      <td>Settlement Period - 1</td>\n",
       "      <td>Working Type - 2</td>\n",
       "      <td>153</td>\n",
       "      <td>StandartSegment4</td>\n",
       "      <td>3</td>\n",
       "    </tr>\n",
       "    <tr>\n",
       "      <th>2</th>\n",
       "      <td>2020-01-01</td>\n",
       "      <td>merchant_40154</td>\n",
       "      <td>2020</td>\n",
       "      <td>1</td>\n",
       "      <td>Q1</td>\n",
       "      <td>Merchant Source - 2</td>\n",
       "      <td>Settlement Period - 1</td>\n",
       "      <td>Working Type - 5</td>\n",
       "      <td>168</td>\n",
       "      <td>StandartSegment4</td>\n",
       "      <td>3</td>\n",
       "    </tr>\n",
       "    <tr>\n",
       "      <th>3</th>\n",
       "      <td>2020-01-01</td>\n",
       "      <td>merchant_33179</td>\n",
       "      <td>2020</td>\n",
       "      <td>1</td>\n",
       "      <td>Q1</td>\n",
       "      <td>Merchant Source - 3</td>\n",
       "      <td>otherSettlementPeriods23</td>\n",
       "      <td>Working Type - 2</td>\n",
       "      <td>25</td>\n",
       "      <td>otherSegments123</td>\n",
       "      <td>787</td>\n",
       "    </tr>\n",
       "    <tr>\n",
       "      <th>4</th>\n",
       "      <td>2020-01-01</td>\n",
       "      <td>merchant_16977</td>\n",
       "      <td>2020</td>\n",
       "      <td>1</td>\n",
       "      <td>Q1</td>\n",
       "      <td>Merchant Source - 2</td>\n",
       "      <td>Settlement Period - 1</td>\n",
       "      <td>Working Type - 6</td>\n",
       "      <td>31</td>\n",
       "      <td>StandartSegment4</td>\n",
       "      <td>5</td>\n",
       "    </tr>\n",
       "    <tr>\n",
       "      <th>5</th>\n",
       "      <td>2020-01-01</td>\n",
       "      <td>merchant_25991</td>\n",
       "      <td>2020</td>\n",
       "      <td>1</td>\n",
       "      <td>Q1</td>\n",
       "      <td>Merchant Source - 2</td>\n",
       "      <td>Settlement Period - 1</td>\n",
       "      <td>Working Type - 6</td>\n",
       "      <td>110</td>\n",
       "      <td>StandartSegment4</td>\n",
       "      <td>8</td>\n",
       "    </tr>\n",
       "    <tr>\n",
       "      <th>6</th>\n",
       "      <td>2020-01-01</td>\n",
       "      <td>merchant_92</td>\n",
       "      <td>2020</td>\n",
       "      <td>1</td>\n",
       "      <td>Q1</td>\n",
       "      <td>Merchant Source - 1</td>\n",
       "      <td>Settlement Period - 1</td>\n",
       "      <td>Working Type - 6</td>\n",
       "      <td>73</td>\n",
       "      <td>StandartSegment4</td>\n",
       "      <td>3</td>\n",
       "    </tr>\n",
       "    <tr>\n",
       "      <th>7</th>\n",
       "      <td>2020-01-01</td>\n",
       "      <td>merchant_13117</td>\n",
       "      <td>2020</td>\n",
       "      <td>1</td>\n",
       "      <td>Q1</td>\n",
       "      <td>Merchant Source - 1</td>\n",
       "      <td>Settlement Period - 1</td>\n",
       "      <td>Working Type - 6</td>\n",
       "      <td>126</td>\n",
       "      <td>StandartSegment4</td>\n",
       "      <td>9</td>\n",
       "    </tr>\n",
       "    <tr>\n",
       "      <th>8</th>\n",
       "      <td>2020-01-01</td>\n",
       "      <td>merchant_43413</td>\n",
       "      <td>2020</td>\n",
       "      <td>1</td>\n",
       "      <td>Q1</td>\n",
       "      <td>Merchant Source - 1</td>\n",
       "      <td>Settlement Period - 1</td>\n",
       "      <td>Working Type - 6</td>\n",
       "      <td>42</td>\n",
       "      <td>StandartSegment4</td>\n",
       "      <td>14</td>\n",
       "    </tr>\n",
       "    <tr>\n",
       "      <th>9</th>\n",
       "      <td>2020-01-01</td>\n",
       "      <td>merchant_26670</td>\n",
       "      <td>2020</td>\n",
       "      <td>1</td>\n",
       "      <td>Q1</td>\n",
       "      <td>Merchant Source - 1</td>\n",
       "      <td>Settlement Period - 1</td>\n",
       "      <td>Working Type - 2</td>\n",
       "      <td>166</td>\n",
       "      <td>StandartSegment4</td>\n",
       "      <td>3</td>\n",
       "    </tr>\n",
       "  </tbody>\n",
       "</table>\n",
       "</div>"
      ],
      "text/plain": [
       "    month_id     merchant_id  year  month season merchant_source_name         settlement_period      working_type  mcc_id  merchant_segment  net_payment_count\n",
       "0 2020-01-01  merchant_66740  2020      1     Q1  Merchant Source - 1     Settlement Period - 1  Working Type - 6     130  StandartSegment4                  6\n",
       "1 2020-01-01  merchant_12444  2020      1     Q1  Merchant Source - 1     Settlement Period - 1  Working Type - 2     153  StandartSegment4                  3\n",
       "2 2020-01-01  merchant_40154  2020      1     Q1  Merchant Source - 2     Settlement Period - 1  Working Type - 5     168  StandartSegment4                  3\n",
       "3 2020-01-01  merchant_33179  2020      1     Q1  Merchant Source - 3  otherSettlementPeriods23  Working Type - 2      25  otherSegments123                787\n",
       "4 2020-01-01  merchant_16977  2020      1     Q1  Merchant Source - 2     Settlement Period - 1  Working Type - 6      31  StandartSegment4                  5\n",
       "5 2020-01-01  merchant_25991  2020      1     Q1  Merchant Source - 2     Settlement Period - 1  Working Type - 6     110  StandartSegment4                  8\n",
       "6 2020-01-01     merchant_92  2020      1     Q1  Merchant Source - 1     Settlement Period - 1  Working Type - 6      73  StandartSegment4                  3\n",
       "7 2020-01-01  merchant_13117  2020      1     Q1  Merchant Source - 1     Settlement Period - 1  Working Type - 6     126  StandartSegment4                  9\n",
       "8 2020-01-01  merchant_43413  2020      1     Q1  Merchant Source - 1     Settlement Period - 1  Working Type - 6      42  StandartSegment4                 14\n",
       "9 2020-01-01  merchant_26670  2020      1     Q1  Merchant Source - 1     Settlement Period - 1  Working Type - 2     166  StandartSegment4                  3"
      ]
     },
     "execution_count": 5,
     "metadata": {},
     "output_type": "execute_result"
    }
   ],
   "source": [
    "data.head(10)"
   ]
  },
  {
   "cell_type": "code",
   "execution_count": 6,
   "metadata": {},
   "outputs": [
    {
     "data": {
      "text/plain": [
       "26060"
      ]
     },
     "execution_count": 6,
     "metadata": {},
     "output_type": "execute_result"
    }
   ],
   "source": [
    "data[\"merchant_id\"].nunique()"
   ]
  },
  {
   "cell_type": "code",
   "execution_count": 7,
   "metadata": {},
   "outputs": [],
   "source": [
    "time_series = data.groupby([\"month_id\", \"merchant_id\"]).agg({\"net_payment_count\": \"sum\"}).reset_index()"
   ]
  },
  {
   "cell_type": "code",
   "execution_count": 8,
   "metadata": {},
   "outputs": [
    {
     "data": {
      "text/html": [
       "<div>\n",
       "<style scoped>\n",
       "    .dataframe tbody tr th:only-of-type {\n",
       "        vertical-align: middle;\n",
       "    }\n",
       "\n",
       "    .dataframe tbody tr th {\n",
       "        vertical-align: top;\n",
       "    }\n",
       "\n",
       "    .dataframe thead th {\n",
       "        text-align: right;\n",
       "    }\n",
       "</style>\n",
       "<table border=\"1\" class=\"dataframe\">\n",
       "  <thead>\n",
       "    <tr style=\"text-align: right;\">\n",
       "      <th></th>\n",
       "      <th>month_id</th>\n",
       "      <th>merchant_id</th>\n",
       "      <th>net_payment_count</th>\n",
       "    </tr>\n",
       "  </thead>\n",
       "  <tbody>\n",
       "    <tr>\n",
       "      <th>291137</th>\n",
       "      <td>2023-09-01</td>\n",
       "      <td>merchant_9946</td>\n",
       "      <td>3</td>\n",
       "    </tr>\n",
       "    <tr>\n",
       "      <th>291138</th>\n",
       "      <td>2023-09-01</td>\n",
       "      <td>merchant_9965</td>\n",
       "      <td>5</td>\n",
       "    </tr>\n",
       "    <tr>\n",
       "      <th>291139</th>\n",
       "      <td>2023-09-01</td>\n",
       "      <td>merchant_9982</td>\n",
       "      <td>5</td>\n",
       "    </tr>\n",
       "    <tr>\n",
       "      <th>291140</th>\n",
       "      <td>2023-09-01</td>\n",
       "      <td>merchant_9984</td>\n",
       "      <td>5</td>\n",
       "    </tr>\n",
       "    <tr>\n",
       "      <th>291141</th>\n",
       "      <td>2023-09-01</td>\n",
       "      <td>merchant_9991</td>\n",
       "      <td>4</td>\n",
       "    </tr>\n",
       "  </tbody>\n",
       "</table>\n",
       "</div>"
      ],
      "text/plain": [
       "         month_id    merchant_id  net_payment_count\n",
       "291137 2023-09-01  merchant_9946                  3\n",
       "291138 2023-09-01  merchant_9965                  5\n",
       "291139 2023-09-01  merchant_9982                  5\n",
       "291140 2023-09-01  merchant_9984                  5\n",
       "291141 2023-09-01  merchant_9991                  4"
      ]
     },
     "execution_count": 8,
     "metadata": {},
     "output_type": "execute_result"
    }
   ],
   "source": [
    "time_series.tail()"
   ]
  },
  {
   "cell_type": "code",
   "execution_count": 9,
   "metadata": {},
   "outputs": [
    {
     "data": {
      "text/plain": [
       "(291142, 3)"
      ]
     },
     "execution_count": 9,
     "metadata": {},
     "output_type": "execute_result"
    }
   ],
   "source": [
    "time_series.shape"
   ]
  },
  {
   "cell_type": "code",
   "execution_count": 10,
   "metadata": {},
   "outputs": [
    {
     "data": {
      "text/html": [
       "<div>\n",
       "<style scoped>\n",
       "    .dataframe tbody tr th:only-of-type {\n",
       "        vertical-align: middle;\n",
       "    }\n",
       "\n",
       "    .dataframe tbody tr th {\n",
       "        vertical-align: top;\n",
       "    }\n",
       "\n",
       "    .dataframe thead th {\n",
       "        text-align: right;\n",
       "    }\n",
       "</style>\n",
       "<table border=\"1\" class=\"dataframe\">\n",
       "  <thead>\n",
       "    <tr style=\"text-align: right;\">\n",
       "      <th></th>\n",
       "      <th>merchant_id</th>\n",
       "      <th>month_id</th>\n",
       "      <th>net_payment_count</th>\n",
       "    </tr>\n",
       "  </thead>\n",
       "  <tbody>\n",
       "    <tr>\n",
       "      <th>0</th>\n",
       "      <td>merchant_1</td>\n",
       "      <td>2021-08-01</td>\n",
       "      <td>3</td>\n",
       "    </tr>\n",
       "    <tr>\n",
       "      <th>1</th>\n",
       "      <td>merchant_1</td>\n",
       "      <td>2022-10-01</td>\n",
       "      <td>3</td>\n",
       "    </tr>\n",
       "    <tr>\n",
       "      <th>2</th>\n",
       "      <td>merchant_10</td>\n",
       "      <td>2021-11-01</td>\n",
       "      <td>6</td>\n",
       "    </tr>\n",
       "    <tr>\n",
       "      <th>3</th>\n",
       "      <td>merchant_10</td>\n",
       "      <td>2021-12-01</td>\n",
       "      <td>24</td>\n",
       "    </tr>\n",
       "    <tr>\n",
       "      <th>4</th>\n",
       "      <td>merchant_10</td>\n",
       "      <td>2022-01-01</td>\n",
       "      <td>15</td>\n",
       "    </tr>\n",
       "    <tr>\n",
       "      <th>5</th>\n",
       "      <td>merchant_10</td>\n",
       "      <td>2022-02-01</td>\n",
       "      <td>7</td>\n",
       "    </tr>\n",
       "    <tr>\n",
       "      <th>6</th>\n",
       "      <td>merchant_10</td>\n",
       "      <td>2022-03-01</td>\n",
       "      <td>9</td>\n",
       "    </tr>\n",
       "    <tr>\n",
       "      <th>7</th>\n",
       "      <td>merchant_10</td>\n",
       "      <td>2022-04-01</td>\n",
       "      <td>4</td>\n",
       "    </tr>\n",
       "    <tr>\n",
       "      <th>8</th>\n",
       "      <td>merchant_10000</td>\n",
       "      <td>2022-05-01</td>\n",
       "      <td>3</td>\n",
       "    </tr>\n",
       "    <tr>\n",
       "      <th>9</th>\n",
       "      <td>merchant_10000</td>\n",
       "      <td>2022-06-01</td>\n",
       "      <td>4</td>\n",
       "    </tr>\n",
       "  </tbody>\n",
       "</table>\n",
       "</div>"
      ],
      "text/plain": [
       "      merchant_id   month_id  net_payment_count\n",
       "0      merchant_1 2021-08-01                  3\n",
       "1      merchant_1 2022-10-01                  3\n",
       "2     merchant_10 2021-11-01                  6\n",
       "3     merchant_10 2021-12-01                 24\n",
       "4     merchant_10 2022-01-01                 15\n",
       "5     merchant_10 2022-02-01                  7\n",
       "6     merchant_10 2022-03-01                  9\n",
       "7     merchant_10 2022-04-01                  4\n",
       "8  merchant_10000 2022-05-01                  3\n",
       "9  merchant_10000 2022-06-01                  4"
      ]
     },
     "execution_count": 10,
     "metadata": {},
     "output_type": "execute_result"
    }
   ],
   "source": [
    "time_series.groupby([\"merchant_id\", \"month_id\"]).agg({\"net_payment_count\": \"sum\"}).reset_index().head(10)"
   ]
  },
  {
   "cell_type": "code",
   "execution_count": 11,
   "metadata": {},
   "outputs": [
    {
     "data": {
      "text/html": [
       "<div>\n",
       "<style scoped>\n",
       "    .dataframe tbody tr th:only-of-type {\n",
       "        vertical-align: middle;\n",
       "    }\n",
       "\n",
       "    .dataframe tbody tr th {\n",
       "        vertical-align: top;\n",
       "    }\n",
       "\n",
       "    .dataframe thead th {\n",
       "        text-align: right;\n",
       "    }\n",
       "</style>\n",
       "<table border=\"1\" class=\"dataframe\">\n",
       "  <thead>\n",
       "    <tr style=\"text-align: right;\">\n",
       "      <th></th>\n",
       "      <th>month_id</th>\n",
       "      <th>merchant_id</th>\n",
       "      <th>net_payment_count</th>\n",
       "    </tr>\n",
       "  </thead>\n",
       "  <tbody>\n",
       "    <tr>\n",
       "      <th>849</th>\n",
       "      <td>2020-01-01</td>\n",
       "      <td>merchant_2419</td>\n",
       "      <td>10</td>\n",
       "    </tr>\n",
       "    <tr>\n",
       "      <th>4608</th>\n",
       "      <td>2020-02-01</td>\n",
       "      <td>merchant_2419</td>\n",
       "      <td>32</td>\n",
       "    </tr>\n",
       "    <tr>\n",
       "      <th>8499</th>\n",
       "      <td>2020-03-01</td>\n",
       "      <td>merchant_2419</td>\n",
       "      <td>11</td>\n",
       "    </tr>\n",
       "    <tr>\n",
       "      <th>12524</th>\n",
       "      <td>2020-04-01</td>\n",
       "      <td>merchant_2419</td>\n",
       "      <td>511</td>\n",
       "    </tr>\n",
       "    <tr>\n",
       "      <th>16752</th>\n",
       "      <td>2020-05-01</td>\n",
       "      <td>merchant_2419</td>\n",
       "      <td>2274</td>\n",
       "    </tr>\n",
       "    <tr>\n",
       "      <th>21497</th>\n",
       "      <td>2020-06-01</td>\n",
       "      <td>merchant_2419</td>\n",
       "      <td>1751</td>\n",
       "    </tr>\n",
       "    <tr>\n",
       "      <th>26438</th>\n",
       "      <td>2020-07-01</td>\n",
       "      <td>merchant_2419</td>\n",
       "      <td>1975</td>\n",
       "    </tr>\n",
       "    <tr>\n",
       "      <th>31492</th>\n",
       "      <td>2020-08-01</td>\n",
       "      <td>merchant_2419</td>\n",
       "      <td>4231</td>\n",
       "    </tr>\n",
       "    <tr>\n",
       "      <th>36795</th>\n",
       "      <td>2020-09-01</td>\n",
       "      <td>merchant_2419</td>\n",
       "      <td>5184</td>\n",
       "    </tr>\n",
       "    <tr>\n",
       "      <th>42317</th>\n",
       "      <td>2020-10-01</td>\n",
       "      <td>merchant_2419</td>\n",
       "      <td>7808</td>\n",
       "    </tr>\n",
       "    <tr>\n",
       "      <th>47959</th>\n",
       "      <td>2020-11-01</td>\n",
       "      <td>merchant_2419</td>\n",
       "      <td>9914</td>\n",
       "    </tr>\n",
       "    <tr>\n",
       "      <th>54022</th>\n",
       "      <td>2020-12-01</td>\n",
       "      <td>merchant_2419</td>\n",
       "      <td>18037</td>\n",
       "    </tr>\n",
       "    <tr>\n",
       "      <th>60370</th>\n",
       "      <td>2021-01-01</td>\n",
       "      <td>merchant_2419</td>\n",
       "      <td>25547</td>\n",
       "    </tr>\n",
       "    <tr>\n",
       "      <th>66856</th>\n",
       "      <td>2021-02-01</td>\n",
       "      <td>merchant_2419</td>\n",
       "      <td>25661</td>\n",
       "    </tr>\n",
       "    <tr>\n",
       "      <th>73535</th>\n",
       "      <td>2021-03-01</td>\n",
       "      <td>merchant_2419</td>\n",
       "      <td>30834</td>\n",
       "    </tr>\n",
       "    <tr>\n",
       "      <th>80418</th>\n",
       "      <td>2021-04-01</td>\n",
       "      <td>merchant_2419</td>\n",
       "      <td>30441</td>\n",
       "    </tr>\n",
       "    <tr>\n",
       "      <th>87341</th>\n",
       "      <td>2021-05-01</td>\n",
       "      <td>merchant_2419</td>\n",
       "      <td>38577</td>\n",
       "    </tr>\n",
       "    <tr>\n",
       "      <th>94390</th>\n",
       "      <td>2021-06-01</td>\n",
       "      <td>merchant_2419</td>\n",
       "      <td>37907</td>\n",
       "    </tr>\n",
       "    <tr>\n",
       "      <th>101269</th>\n",
       "      <td>2021-07-01</td>\n",
       "      <td>merchant_2419</td>\n",
       "      <td>41419</td>\n",
       "    </tr>\n",
       "    <tr>\n",
       "      <th>107821</th>\n",
       "      <td>2021-08-01</td>\n",
       "      <td>merchant_2419</td>\n",
       "      <td>43130</td>\n",
       "    </tr>\n",
       "    <tr>\n",
       "      <th>114620</th>\n",
       "      <td>2021-09-01</td>\n",
       "      <td>merchant_2419</td>\n",
       "      <td>43067</td>\n",
       "    </tr>\n",
       "    <tr>\n",
       "      <th>121656</th>\n",
       "      <td>2021-10-01</td>\n",
       "      <td>merchant_2419</td>\n",
       "      <td>46409</td>\n",
       "    </tr>\n",
       "    <tr>\n",
       "      <th>128691</th>\n",
       "      <td>2021-11-01</td>\n",
       "      <td>merchant_2419</td>\n",
       "      <td>47256</td>\n",
       "    </tr>\n",
       "    <tr>\n",
       "      <th>135905</th>\n",
       "      <td>2021-12-01</td>\n",
       "      <td>merchant_2419</td>\n",
       "      <td>55967</td>\n",
       "    </tr>\n",
       "    <tr>\n",
       "      <th>143255</th>\n",
       "      <td>2022-01-01</td>\n",
       "      <td>merchant_2419</td>\n",
       "      <td>63028</td>\n",
       "    </tr>\n",
       "    <tr>\n",
       "      <th>150445</th>\n",
       "      <td>2022-02-01</td>\n",
       "      <td>merchant_2419</td>\n",
       "      <td>67307</td>\n",
       "    </tr>\n",
       "    <tr>\n",
       "      <th>157561</th>\n",
       "      <td>2022-03-01</td>\n",
       "      <td>merchant_2419</td>\n",
       "      <td>79314</td>\n",
       "    </tr>\n",
       "    <tr>\n",
       "      <th>164870</th>\n",
       "      <td>2022-04-01</td>\n",
       "      <td>merchant_2419</td>\n",
       "      <td>78276</td>\n",
       "    </tr>\n",
       "    <tr>\n",
       "      <th>172090</th>\n",
       "      <td>2022-05-01</td>\n",
       "      <td>merchant_2419</td>\n",
       "      <td>40053</td>\n",
       "    </tr>\n",
       "    <tr>\n",
       "      <th>179171</th>\n",
       "      <td>2022-06-01</td>\n",
       "      <td>merchant_2419</td>\n",
       "      <td>0</td>\n",
       "    </tr>\n",
       "    <tr>\n",
       "      <th>186101</th>\n",
       "      <td>2022-07-01</td>\n",
       "      <td>merchant_2419</td>\n",
       "      <td>23091</td>\n",
       "    </tr>\n",
       "    <tr>\n",
       "      <th>192786</th>\n",
       "      <td>2022-08-01</td>\n",
       "      <td>merchant_2419</td>\n",
       "      <td>16917</td>\n",
       "    </tr>\n",
       "    <tr>\n",
       "      <th>199708</th>\n",
       "      <td>2022-09-01</td>\n",
       "      <td>merchant_2419</td>\n",
       "      <td>3471</td>\n",
       "    </tr>\n",
       "    <tr>\n",
       "      <th>206675</th>\n",
       "      <td>2022-10-01</td>\n",
       "      <td>merchant_2419</td>\n",
       "      <td>0</td>\n",
       "    </tr>\n",
       "    <tr>\n",
       "      <th>235152</th>\n",
       "      <td>2023-02-01</td>\n",
       "      <td>merchant_2419</td>\n",
       "      <td>0</td>\n",
       "    </tr>\n",
       "  </tbody>\n",
       "</table>\n",
       "</div>"
      ],
      "text/plain": [
       "         month_id    merchant_id  net_payment_count\n",
       "849    2020-01-01  merchant_2419                 10\n",
       "4608   2020-02-01  merchant_2419                 32\n",
       "8499   2020-03-01  merchant_2419                 11\n",
       "12524  2020-04-01  merchant_2419                511\n",
       "16752  2020-05-01  merchant_2419               2274\n",
       "21497  2020-06-01  merchant_2419               1751\n",
       "26438  2020-07-01  merchant_2419               1975\n",
       "31492  2020-08-01  merchant_2419               4231\n",
       "36795  2020-09-01  merchant_2419               5184\n",
       "42317  2020-10-01  merchant_2419               7808\n",
       "47959  2020-11-01  merchant_2419               9914\n",
       "54022  2020-12-01  merchant_2419              18037\n",
       "60370  2021-01-01  merchant_2419              25547\n",
       "66856  2021-02-01  merchant_2419              25661\n",
       "73535  2021-03-01  merchant_2419              30834\n",
       "80418  2021-04-01  merchant_2419              30441\n",
       "87341  2021-05-01  merchant_2419              38577\n",
       "94390  2021-06-01  merchant_2419              37907\n",
       "101269 2021-07-01  merchant_2419              41419\n",
       "107821 2021-08-01  merchant_2419              43130\n",
       "114620 2021-09-01  merchant_2419              43067\n",
       "121656 2021-10-01  merchant_2419              46409\n",
       "128691 2021-11-01  merchant_2419              47256\n",
       "135905 2021-12-01  merchant_2419              55967\n",
       "143255 2022-01-01  merchant_2419              63028\n",
       "150445 2022-02-01  merchant_2419              67307\n",
       "157561 2022-03-01  merchant_2419              79314\n",
       "164870 2022-04-01  merchant_2419              78276\n",
       "172090 2022-05-01  merchant_2419              40053\n",
       "179171 2022-06-01  merchant_2419                  0\n",
       "186101 2022-07-01  merchant_2419              23091\n",
       "192786 2022-08-01  merchant_2419              16917\n",
       "199708 2022-09-01  merchant_2419               3471\n",
       "206675 2022-10-01  merchant_2419                  0\n",
       "235152 2023-02-01  merchant_2419                  0"
      ]
     },
     "execution_count": 11,
     "metadata": {},
     "output_type": "execute_result"
    }
   ],
   "source": [
    "time_series.loc[time_series[\"merchant_id\"] == \"merchant_2419\"].head(100).sort_values(by=\"month_id\")"
   ]
  },
  {
   "cell_type": "code",
   "execution_count": 12,
   "metadata": {},
   "outputs": [],
   "source": [
    "# Create a date range for all months\n",
    "all_months = pd.date_range(start='2020-01-01', end='2023-09-01', freq='MS')\n",
    "\n",
    "# Create a DataFrame with all combinations of customer_id and all_months\n",
    "all_customers = time_series['merchant_id'].unique()\n",
    "all_combinations = pd.MultiIndex.from_product([all_customers, all_months], names=['merchant_id', 'month_id'])\n",
    "complete_df = pd.DataFrame(index=all_combinations).reset_index()\n",
    "\n",
    "# Merge the complete_df with the original df\n",
    "df_merged = complete_df.merge(time_series, on=['merchant_id', 'month_id'], how='left')\n",
    "\n",
    "# Fill missing sales with zero\n",
    "df_merged['net_payment_count'] = df_merged['net_payment_count'].fillna(0)\n"
   ]
  },
  {
   "cell_type": "code",
   "execution_count": 41,
   "metadata": {},
   "outputs": [
    {
     "data": {
      "text/html": [
       "<div>\n",
       "<style scoped>\n",
       "    .dataframe tbody tr th:only-of-type {\n",
       "        vertical-align: middle;\n",
       "    }\n",
       "\n",
       "    .dataframe tbody tr th {\n",
       "        vertical-align: top;\n",
       "    }\n",
       "\n",
       "    .dataframe thead th {\n",
       "        text-align: right;\n",
       "    }\n",
       "</style>\n",
       "<table border=\"1\" class=\"dataframe\">\n",
       "  <thead>\n",
       "    <tr style=\"text-align: right;\">\n",
       "      <th></th>\n",
       "      <th>merchant_id</th>\n",
       "      <th>month_id</th>\n",
       "      <th>net_payment_count</th>\n",
       "    </tr>\n",
       "  </thead>\n",
       "  <tbody>\n",
       "    <tr>\n",
       "      <th>0</th>\n",
       "      <td>merchant_10005</td>\n",
       "      <td>2020-01-01</td>\n",
       "      <td>3.0</td>\n",
       "    </tr>\n",
       "    <tr>\n",
       "      <th>1</th>\n",
       "      <td>merchant_10005</td>\n",
       "      <td>2020-02-01</td>\n",
       "      <td>4.0</td>\n",
       "    </tr>\n",
       "    <tr>\n",
       "      <th>2</th>\n",
       "      <td>merchant_10005</td>\n",
       "      <td>2020-03-01</td>\n",
       "      <td>3.0</td>\n",
       "    </tr>\n",
       "    <tr>\n",
       "      <th>3</th>\n",
       "      <td>merchant_10005</td>\n",
       "      <td>2020-04-01</td>\n",
       "      <td>0.0</td>\n",
       "    </tr>\n",
       "    <tr>\n",
       "      <th>4</th>\n",
       "      <td>merchant_10005</td>\n",
       "      <td>2020-05-01</td>\n",
       "      <td>0.0</td>\n",
       "    </tr>\n",
       "    <tr>\n",
       "      <th>5</th>\n",
       "      <td>merchant_10005</td>\n",
       "      <td>2020-06-01</td>\n",
       "      <td>4.0</td>\n",
       "    </tr>\n",
       "    <tr>\n",
       "      <th>6</th>\n",
       "      <td>merchant_10005</td>\n",
       "      <td>2020-07-01</td>\n",
       "      <td>3.0</td>\n",
       "    </tr>\n",
       "    <tr>\n",
       "      <th>7</th>\n",
       "      <td>merchant_10005</td>\n",
       "      <td>2020-08-01</td>\n",
       "      <td>0.0</td>\n",
       "    </tr>\n",
       "    <tr>\n",
       "      <th>8</th>\n",
       "      <td>merchant_10005</td>\n",
       "      <td>2020-09-01</td>\n",
       "      <td>3.0</td>\n",
       "    </tr>\n",
       "    <tr>\n",
       "      <th>9</th>\n",
       "      <td>merchant_10005</td>\n",
       "      <td>2020-10-01</td>\n",
       "      <td>4.0</td>\n",
       "    </tr>\n",
       "  </tbody>\n",
       "</table>\n",
       "</div>"
      ],
      "text/plain": [
       "      merchant_id   month_id  net_payment_count\n",
       "0  merchant_10005 2020-01-01                3.0\n",
       "1  merchant_10005 2020-02-01                4.0\n",
       "2  merchant_10005 2020-03-01                3.0\n",
       "3  merchant_10005 2020-04-01                0.0\n",
       "4  merchant_10005 2020-05-01                0.0\n",
       "5  merchant_10005 2020-06-01                4.0\n",
       "6  merchant_10005 2020-07-01                3.0\n",
       "7  merchant_10005 2020-08-01                0.0\n",
       "8  merchant_10005 2020-09-01                3.0\n",
       "9  merchant_10005 2020-10-01                4.0"
      ]
     },
     "execution_count": 41,
     "metadata": {},
     "output_type": "execute_result"
    }
   ],
   "source": [
    "df_merged.head(10)"
   ]
  },
  {
   "cell_type": "markdown",
   "metadata": {},
   "source": [
    "## Modelling"
   ]
  },
  {
   "cell_type": "code",
   "execution_count": 13,
   "metadata": {},
   "outputs": [],
   "source": [
    "def tes_optimizer(train, test, abg, step, logging=False):\n",
    "    best_alpha, best_beta, best_gamma, best_mae = None, None, None, float(\"inf\")\n",
    "\n",
    "    for comb in abg:\n",
    "        tes_model = ExponentialSmoothing(train, trend=\"add\", seasonal=\"add\", seasonal_periods=12).\\\n",
    "            fit(smoothing_level=comb[0], smoothing_slope=comb[1], smoothing_seasonal=comb[2])\n",
    "        \n",
    "        y_pred = tes_model.forecast(step)\n",
    "        mae = mean_absolute_error(test, y_pred)\n",
    "\n",
    "        if mae < best_mae:\n",
    "            best_alpha, best_beta, best_gamma, best_mae = comb[0], comb[1], comb[2], mae\n",
    "        if logging:\n",
    "            print([round(comb[0], 2), round(comb[1], 2), round(comb[2], 2), round(mae, 2)])\n",
    "\n",
    "    if logging:\n",
    "        print(\"best_alpha:\", round(best_alpha, 2), \"best_beta:\", round(best_beta, 2), \"best_gamma:\", round(best_gamma, 2),\n",
    "              \"best_mae:\", round(best_mae, 4))\n",
    "\n",
    "    return best_alpha, best_beta, best_gamma, best_mae\n"
   ]
  },
  {
   "cell_type": "code",
   "execution_count": 30,
   "metadata": {},
   "outputs": [
    {
     "name": "stderr",
     "output_type": "stream",
     "text": [
      "Processing Customers: 100%|██████████| 26060/26060 [2:26:17<00:00,  2.97it/s]  "
     ]
    },
    {
     "name": "stdout",
     "output_type": "stream",
     "text": [
      "Average MAE: 30.76022206280839\n"
     ]
    },
    {
     "name": "stderr",
     "output_type": "stream",
     "text": [
      "\n"
     ]
    }
   ],
   "source": [
    "forecast_df = pd.DataFrame(columns=['month_id', 'merchant_id', 'forecast'])\n",
    "\n",
    "alphas = betas = gammas = np.arange(0.4, 1, 0.4)\n",
    "\n",
    "abg = list(itertools.product(alphas, betas, gammas))\n",
    "\n",
    "iteration_control = 0\n",
    "total_mae = 0\n",
    "\n",
    "for customer_id in tqdm(df_merged['merchant_id'].unique(), desc=\"Processing Customers\"):\n",
    "    try:\n",
    "        customer_data = df_merged[df_merged['merchant_id'] == customer_id]\n",
    "        customer_data = customer_data.set_index('month_id')\n",
    "        customer_data = customer_data.drop('merchant_id', axis=1)\n",
    "\n",
    "        # Ensure the sales column is numeric and the index is datetime\n",
    "        customer_data['net_payment_count'] = pd.to_numeric(customer_data['net_payment_count'], errors='coerce')\n",
    "        customer_data.index = pd.to_datetime(customer_data.index)\n",
    "\n",
    "        # Split the data into training and testing\n",
    "        train = customer_data[:\"2023-05-01\"]\n",
    "        test = customer_data[\"2023-06-01\":]\n",
    "\n",
    "        # Optimize the model\n",
    "        y_pred_len = len(test)\n",
    "        best_alpha, best_beta, best_gamma, best_mae = tes_optimizer(train, test, abg, y_pred_len, logging=False)\n",
    "\n",
    "        # Train the model\n",
    "        tes_model = ExponentialSmoothing(customer_data, trend=\"add\", seasonal=\"add\", seasonal_periods=12).\\\n",
    "            fit(smoothing_level=best_alpha, smoothing_slope=best_beta, smoothing_seasonal=best_gamma)\n",
    "        \n",
    "        # Forecast\n",
    "        y_pred = tes_model.forecast(3)\n",
    "        y_pred = pd.DataFrame(y_pred, columns=['forecast'])\n",
    "\n",
    "        # print(f\"Customer {customer_id} - MAE: {best_mae}\")\n",
    "\n",
    "        # Ensuring the forecast is 1-dimensional\n",
    "        y_pred = np.array(y_pred).flatten()\n",
    "\n",
    "        # Creating a new DataFrame for the forecasted values\n",
    "        forecast_dates = pd.date_range(start=customer_data.index[-1], periods=len(y_pred) + 1, freq='MS')[1:]\n",
    "        forecast_df_temp = pd.DataFrame({\n",
    "            'month_id': forecast_dates,\n",
    "            'merchant_id': [customer_id] * len(y_pred),  # Repeating the customer_id for each prediction\n",
    "            'forecast': y_pred\n",
    "        })\n",
    "\n",
    "        # Append the forecasts for this customer to the forecast_df\n",
    "        forecast_df = forecast_df.append(forecast_df_temp, ignore_index=True)\n",
    "\n",
    "        iteration_control += 1\n",
    "        total_mae += best_mae\n",
    "\n",
    "    except Exception as e:\n",
    "        print(f\"Error processing in customer: {customer_id}: {e}\")\n",
    "        break\n",
    "\n",
    "# After all forecasts have been appended to forecast_df\n",
    "avg_mae = total_mae / iteration_control\n",
    "forecast_df['forecast'] = forecast_df['forecast'].apply(lambda x: 0 if x < 1 else x)\n",
    "print(f\"Average MAE: {avg_mae}\")"
   ]
  },
  {
   "cell_type": "code",
   "execution_count": 31,
   "metadata": {},
   "outputs": [],
   "source": [
    "forecast_df_new = forecast_df.copy()"
   ]
  },
  {
   "cell_type": "code",
   "execution_count": 32,
   "metadata": {},
   "outputs": [
    {
     "data": {
      "text/html": [
       "<div>\n",
       "<style scoped>\n",
       "    .dataframe tbody tr th:only-of-type {\n",
       "        vertical-align: middle;\n",
       "    }\n",
       "\n",
       "    .dataframe tbody tr th {\n",
       "        vertical-align: top;\n",
       "    }\n",
       "\n",
       "    .dataframe thead th {\n",
       "        text-align: right;\n",
       "    }\n",
       "</style>\n",
       "<table border=\"1\" class=\"dataframe\">\n",
       "  <thead>\n",
       "    <tr style=\"text-align: right;\">\n",
       "      <th></th>\n",
       "      <th>month_id</th>\n",
       "      <th>merchant_id</th>\n",
       "      <th>forecast</th>\n",
       "    </tr>\n",
       "  </thead>\n",
       "  <tbody>\n",
       "    <tr>\n",
       "      <th>0</th>\n",
       "      <td>2023-10-01</td>\n",
       "      <td>merchant_10005</td>\n",
       "      <td>1.1</td>\n",
       "    </tr>\n",
       "    <tr>\n",
       "      <th>1</th>\n",
       "      <td>2023-11-01</td>\n",
       "      <td>merchant_10005</td>\n",
       "      <td>0.0</td>\n",
       "    </tr>\n",
       "    <tr>\n",
       "      <th>2</th>\n",
       "      <td>2023-12-01</td>\n",
       "      <td>merchant_10005</td>\n",
       "      <td>1.4</td>\n",
       "    </tr>\n",
       "    <tr>\n",
       "      <th>3</th>\n",
       "      <td>2023-10-01</td>\n",
       "      <td>merchant_10034</td>\n",
       "      <td>0.0</td>\n",
       "    </tr>\n",
       "    <tr>\n",
       "      <th>4</th>\n",
       "      <td>2023-11-01</td>\n",
       "      <td>merchant_10034</td>\n",
       "      <td>0.0</td>\n",
       "    </tr>\n",
       "  </tbody>\n",
       "</table>\n",
       "</div>"
      ],
      "text/plain": [
       "    month_id     merchant_id  forecast\n",
       "0 2023-10-01  merchant_10005       1.1\n",
       "1 2023-11-01  merchant_10005       0.0\n",
       "2 2023-12-01  merchant_10005       1.4\n",
       "3 2023-10-01  merchant_10034       0.0\n",
       "4 2023-11-01  merchant_10034       0.0"
      ]
     },
     "execution_count": 32,
     "metadata": {},
     "output_type": "execute_result"
    }
   ],
   "source": [
    "forecast_df_new.head()"
   ]
  },
  {
   "cell_type": "code",
   "execution_count": 33,
   "metadata": {},
   "outputs": [],
   "source": [
    "forecast_df_new['date_id'] = forecast_df_new['month_id'].apply(lambda x: x.strftime('%Y%m') if x.month in [10, 11, 12] else '')\n"
   ]
  },
  {
   "cell_type": "code",
   "execution_count": 34,
   "metadata": {},
   "outputs": [],
   "source": [
    "forecast_df_new['general_merchant_id'] = forecast_df_new['date_id'] + forecast_df_new['merchant_id']"
   ]
  },
  {
   "cell_type": "code",
   "execution_count": 35,
   "metadata": {},
   "outputs": [
    {
     "data": {
      "text/html": [
       "<div>\n",
       "<style scoped>\n",
       "    .dataframe tbody tr th:only-of-type {\n",
       "        vertical-align: middle;\n",
       "    }\n",
       "\n",
       "    .dataframe tbody tr th {\n",
       "        vertical-align: top;\n",
       "    }\n",
       "\n",
       "    .dataframe thead th {\n",
       "        text-align: right;\n",
       "    }\n",
       "</style>\n",
       "<table border=\"1\" class=\"dataframe\">\n",
       "  <thead>\n",
       "    <tr style=\"text-align: right;\">\n",
       "      <th></th>\n",
       "      <th>month_id</th>\n",
       "      <th>merchant_id</th>\n",
       "      <th>forecast</th>\n",
       "      <th>date_id</th>\n",
       "      <th>general_merchant_id</th>\n",
       "    </tr>\n",
       "  </thead>\n",
       "  <tbody>\n",
       "    <tr>\n",
       "      <th>0</th>\n",
       "      <td>2023-10-01</td>\n",
       "      <td>merchant_10005</td>\n",
       "      <td>1.1</td>\n",
       "      <td>202310</td>\n",
       "      <td>202310merchant_10005</td>\n",
       "    </tr>\n",
       "    <tr>\n",
       "      <th>1</th>\n",
       "      <td>2023-11-01</td>\n",
       "      <td>merchant_10005</td>\n",
       "      <td>0.0</td>\n",
       "      <td>202311</td>\n",
       "      <td>202311merchant_10005</td>\n",
       "    </tr>\n",
       "    <tr>\n",
       "      <th>2</th>\n",
       "      <td>2023-12-01</td>\n",
       "      <td>merchant_10005</td>\n",
       "      <td>1.4</td>\n",
       "      <td>202312</td>\n",
       "      <td>202312merchant_10005</td>\n",
       "    </tr>\n",
       "    <tr>\n",
       "      <th>3</th>\n",
       "      <td>2023-10-01</td>\n",
       "      <td>merchant_10034</td>\n",
       "      <td>0.0</td>\n",
       "      <td>202310</td>\n",
       "      <td>202310merchant_10034</td>\n",
       "    </tr>\n",
       "    <tr>\n",
       "      <th>4</th>\n",
       "      <td>2023-11-01</td>\n",
       "      <td>merchant_10034</td>\n",
       "      <td>0.0</td>\n",
       "      <td>202311</td>\n",
       "      <td>202311merchant_10034</td>\n",
       "    </tr>\n",
       "  </tbody>\n",
       "</table>\n",
       "</div>"
      ],
      "text/plain": [
       "    month_id     merchant_id  forecast date_id   general_merchant_id\n",
       "0 2023-10-01  merchant_10005       1.1  202310  202310merchant_10005\n",
       "1 2023-11-01  merchant_10005       0.0  202311  202311merchant_10005\n",
       "2 2023-12-01  merchant_10005       1.4  202312  202312merchant_10005\n",
       "3 2023-10-01  merchant_10034       0.0  202310  202310merchant_10034\n",
       "4 2023-11-01  merchant_10034       0.0  202311  202311merchant_10034"
      ]
     },
     "execution_count": 35,
     "metadata": {},
     "output_type": "execute_result"
    }
   ],
   "source": [
    "forecast_df_new.head()"
   ]
  },
  {
   "cell_type": "code",
   "execution_count": 36,
   "metadata": {},
   "outputs": [],
   "source": [
    "forecast_df_new.to_csv(\"C:/Users/MONSTER/Desktop/forecast.csv\", index=False)"
   ]
  },
  {
   "cell_type": "code",
   "execution_count": 74,
   "metadata": {},
   "outputs": [],
   "source": [
    "last_three_months = df_merged['month_id'].max() - pd.DateOffset(months=3)\n",
    "new_customer_df = df_merged[df_merged['month_id'] < last_three_months].groupby('merchant_id').filter(lambda x: x['net_payment_count'].sum() == 0)\n",
    "new_customer_ids = new_customer_df['merchant_id'].unique()"
   ]
  },
  {
   "cell_type": "code",
   "execution_count": 78,
   "metadata": {},
   "outputs": [
    {
     "data": {
      "text/plain": [
       "array(['merchant_57693', 'merchant_1010', 'merchant_10211', ...,\n",
       "       'merchant_9373', 'merchant_9383', 'merchant_9545'], dtype=object)"
      ]
     },
     "execution_count": 78,
     "metadata": {},
     "output_type": "execute_result"
    }
   ],
   "source": [
    "new_customer_ids"
   ]
  },
  {
   "cell_type": "code",
   "execution_count": 81,
   "metadata": {},
   "outputs": [
    {
     "name": "stderr",
     "output_type": "stream",
     "text": [
      "Processing Customers:  17%|█▋        | 4473/26060 [10:58<45:46,  7.86it/s]  "
     ]
    },
    {
     "name": "stdout",
     "output_type": "stream",
     "text": [
      "     month_id     merchant_id  forecast\n",
      "0  2023-10-01  merchant_57693       0.0\n",
      "1  2023-11-01  merchant_57693       0.0\n",
      "2  2023-12-01  merchant_57693       0.0\n"
     ]
    },
    {
     "name": "stderr",
     "output_type": "stream",
     "text": [
      "Processing Customers:  94%|█████████▍| 24598/26060 [59:07<01:55, 12.64it/s] "
     ]
    },
    {
     "name": "stdout",
     "output_type": "stream",
     "text": [
      "     month_id    merchant_id  forecast\n",
      "0  2023-10-01  merchant_1010       1.5\n",
      "1  2023-11-01  merchant_1010       1.0\n",
      "2  2023-12-01  merchant_1010       1.5\n",
      "     month_id     merchant_id  forecast\n",
      "0  2023-10-01  merchant_10211       3.5\n",
      "1  2023-11-01  merchant_10211       3.7\n",
      "2  2023-12-01  merchant_10211       3.5\n",
      "     month_id     merchant_id  forecast\n",
      "0  2023-10-01  merchant_10264       0.8\n",
      "1  2023-11-01  merchant_10264       0.0\n",
      "2  2023-12-01  merchant_10264       0.0\n",
      "     month_id     merchant_id  forecast\n",
      "0  2023-10-01  merchant_10455       8.8\n",
      "1  2023-11-01  merchant_10455      10.0\n",
      "2  2023-12-01  merchant_10455      11.0\n",
      "     month_id    merchant_id  forecast\n",
      "0  2023-10-01  merchant_1054       3.0\n",
      "1  2023-11-01  merchant_1054       3.0\n",
      "2  2023-12-01  merchant_1054       2.0\n"
     ]
    },
    {
     "name": "stderr",
     "output_type": "stream",
     "text": [
      "Processing Customers:  94%|█████████▍| 24602/26060 [59:07<01:33, 15.61it/s]"
     ]
    },
    {
     "name": "stdout",
     "output_type": "stream",
     "text": [
      "     month_id     merchant_id  forecast\n",
      "0  2023-10-01  merchant_10714       3.5\n",
      "1  2023-11-01  merchant_10714       3.7\n",
      "2  2023-12-01  merchant_10714       4.0\n",
      "     month_id     merchant_id  forecast\n",
      "0  2023-10-01  merchant_10842       2.2\n",
      "1  2023-11-01  merchant_10842       2.0\n",
      "2  2023-12-01  merchant_10842       3.0\n",
      "     month_id     merchant_id  forecast\n",
      "0  2023-10-01  merchant_11168       8.0\n",
      "1  2023-11-01  merchant_11168       5.7\n",
      "2  2023-12-01  merchant_11168       7.0\n",
      "     month_id     merchant_id  forecast\n",
      "0  2023-10-01  merchant_11268       3.2\n",
      "1  2023-11-01  merchant_11268       2.3\n",
      "2  2023-12-01  merchant_11268       1.5\n"
     ]
    },
    {
     "name": "stderr",
     "output_type": "stream",
     "text": [
      "Processing Customers:  94%|█████████▍| 24606/26060 [59:07<01:27, 16.61it/s]"
     ]
    },
    {
     "name": "stdout",
     "output_type": "stream",
     "text": [
      "     month_id     merchant_id  forecast\n",
      "0  2023-10-01  merchant_11377       0.8\n",
      "1  2023-11-01  merchant_11377       0.0\n",
      "2  2023-12-01  merchant_11377       0.0\n",
      "     month_id     merchant_id  forecast\n",
      "0  2023-10-01  merchant_11385       3.2\n",
      "1  2023-11-01  merchant_11385       3.3\n",
      "2  2023-12-01  merchant_11385       3.5\n",
      "     month_id     merchant_id  forecast\n",
      "0  2023-10-01  merchant_11444       1.8\n",
      "1  2023-11-01  merchant_11444       1.3\n",
      "2  2023-12-01  merchant_11444       2.0\n",
      "     month_id     merchant_id  forecast\n",
      "0  2023-10-01  merchant_11470       1.5\n",
      "1  2023-11-01  merchant_11470       1.0\n",
      "2  2023-12-01  merchant_11470       1.5\n"
     ]
    },
    {
     "name": "stderr",
     "output_type": "stream",
     "text": [
      "Processing Customers:  94%|█████████▍| 24610/26060 [59:08<01:29, 16.27it/s]"
     ]
    },
    {
     "name": "stdout",
     "output_type": "stream",
     "text": [
      "     month_id     merchant_id  forecast\n",
      "0  2023-10-01  merchant_11703       0.8\n",
      "1  2023-11-01  merchant_11703       0.0\n",
      "2  2023-12-01  merchant_11703       0.0\n",
      "     month_id    merchant_id  forecast\n",
      "0  2023-10-01  merchant_1210       1.8\n",
      "1  2023-11-01  merchant_1210       1.3\n",
      "2  2023-12-01  merchant_1210       2.0\n",
      "     month_id     merchant_id  forecast\n",
      "0  2023-10-01  merchant_12144       0.8\n",
      "1  2023-11-01  merchant_12144       0.0\n",
      "2  2023-12-01  merchant_12144       0.0\n"
     ]
    },
    {
     "name": "stderr",
     "output_type": "stream",
     "text": [
      "Processing Customers:  94%|█████████▍| 24614/26060 [59:08<01:24, 17.09it/s]"
     ]
    },
    {
     "name": "stdout",
     "output_type": "stream",
     "text": [
      "     month_id     merchant_id  forecast\n",
      "0  2023-10-01  merchant_12311       1.2\n",
      "1  2023-11-01  merchant_12311       0.0\n",
      "2  2023-12-01  merchant_12311       0.0\n",
      "     month_id     merchant_id  forecast\n",
      "0  2023-10-01  merchant_12787       2.5\n",
      "1  2023-11-01  merchant_12787       2.3\n",
      "2  2023-12-01  merchant_12787       3.5\n",
      "     month_id     merchant_id  forecast\n",
      "0  2023-10-01  merchant_12829       8.8\n",
      "1  2023-11-01  merchant_12829      10.3\n",
      "2  2023-12-01  merchant_12829      13.5\n",
      "     month_id     merchant_id  forecast\n",
      "0  2023-10-01  merchant_13105       1.0\n",
      "1  2023-11-01  merchant_13105       0.0\n",
      "2  2023-12-01  merchant_13105       0.0\n",
      "     month_id     merchant_id  forecast\n",
      "0  2023-10-01  merchant_13476     472.5\n",
      "1  2023-11-01  merchant_13476     537.3\n",
      "2  2023-12-01  merchant_13476     721.0\n",
      "     month_id     merchant_id  forecast\n",
      "0  2023-10-01  merchant_13512       2.2\n",
      "1  2023-11-01  merchant_13512       1.0\n",
      "2  2023-12-01  merchant_13512       0.0\n"
     ]
    },
    {
     "name": "stderr",
     "output_type": "stream",
     "text": [
      "Processing Customers:  94%|█████████▍| 24620/26060 [59:08<01:21, 17.67it/s]"
     ]
    },
    {
     "name": "stdout",
     "output_type": "stream",
     "text": [
      "     month_id     merchant_id  forecast\n",
      "0  2023-10-01  merchant_14002       0.8\n",
      "1  2023-11-01  merchant_14002       0.0\n",
      "2  2023-12-01  merchant_14002       0.0\n",
      "     month_id     merchant_id  forecast\n",
      "0  2023-10-01  merchant_14591       0.8\n",
      "1  2023-11-01  merchant_14591       0.0\n",
      "2  2023-12-01  merchant_14591       0.0\n",
      "     month_id     merchant_id  forecast\n",
      "0  2023-10-01  merchant_14984       0.8\n",
      "1  2023-11-01  merchant_14984       0.0\n",
      "2  2023-12-01  merchant_14984       0.0\n",
      "     month_id     merchant_id  forecast\n",
      "0  2023-10-01  merchant_15196      22.8\n",
      "1  2023-11-01  merchant_15196      29.3\n",
      "2  2023-12-01  merchant_15196      39.5\n",
      "     month_id     merchant_id  forecast\n",
      "0  2023-10-01  merchant_15483       0.8\n",
      "1  2023-11-01  merchant_15483       0.0\n",
      "2  2023-12-01  merchant_15483       0.0\n",
      "     month_id     merchant_id  forecast\n",
      "0  2023-10-01  merchant_15709       4.0\n",
      "1  2023-11-01  merchant_15709       4.0\n",
      "2  2023-12-01  merchant_15709       3.5\n"
     ]
    },
    {
     "name": "stderr",
     "output_type": "stream",
     "text": [
      "Processing Customers:  94%|█████████▍| 24626/26060 [59:09<01:20, 17.85it/s]"
     ]
    },
    {
     "name": "stdout",
     "output_type": "stream",
     "text": [
      "     month_id     merchant_id  forecast\n",
      "0  2023-10-01  merchant_15749       3.8\n",
      "1  2023-11-01  merchant_15749       3.7\n",
      "2  2023-12-01  merchant_15749       2.0\n",
      "     month_id     merchant_id  forecast\n",
      "0  2023-10-01  merchant_16028       3.5\n",
      "1  2023-11-01  merchant_16028       3.0\n",
      "2  2023-12-01  merchant_16028       3.0\n",
      "     month_id     merchant_id  forecast\n",
      "0  2023-10-01  merchant_16042       1.0\n",
      "1  2023-11-01  merchant_16042       0.0\n",
      "2  2023-12-01  merchant_16042       0.0\n",
      "     month_id     merchant_id  forecast\n",
      "0  2023-10-01  merchant_16232       0.8\n",
      "1  2023-11-01  merchant_16232       0.0\n",
      "2  2023-12-01  merchant_16232       0.0\n",
      "     month_id     merchant_id  forecast\n",
      "0  2023-10-01  merchant_16233       2.8\n",
      "1  2023-11-01  merchant_16233       2.3\n",
      "2  2023-12-01  merchant_16233       3.5\n"
     ]
    },
    {
     "name": "stderr",
     "output_type": "stream",
     "text": [
      "Processing Customers:  95%|█████████▍| 24630/26060 [59:09<01:19, 17.93it/s]"
     ]
    },
    {
     "name": "stdout",
     "output_type": "stream",
     "text": [
      "     month_id     merchant_id  forecast\n",
      "0  2023-10-01  merchant_16519       1.8\n",
      "1  2023-11-01  merchant_16519       1.0\n",
      "2  2023-12-01  merchant_16519       1.5\n",
      "     month_id     merchant_id  forecast\n",
      "0  2023-10-01  merchant_16686       7.2\n",
      "1  2023-11-01  merchant_16686       8.7\n",
      "2  2023-12-01  merchant_16686      13.0\n",
      "     month_id     merchant_id  forecast\n",
      "0  2023-10-01  merchant_16967       2.2\n",
      "1  2023-11-01  merchant_16967       1.3\n",
      "2  2023-12-01  merchant_16967       0.0\n",
      "     month_id     merchant_id  forecast\n",
      "0  2023-10-01  merchant_16968      62.2\n",
      "1  2023-11-01  merchant_16968      71.0\n",
      "2  2023-12-01  merchant_16968      34.0\n"
     ]
    },
    {
     "name": "stderr",
     "output_type": "stream",
     "text": [
      "Processing Customers:  95%|█████████▍| 24634/26060 [59:09<01:19, 17.96it/s]"
     ]
    },
    {
     "name": "stdout",
     "output_type": "stream",
     "text": [
      "     month_id    merchant_id  forecast\n",
      "0  2023-10-01  merchant_1720       0.8\n",
      "1  2023-11-01  merchant_1720       0.0\n",
      "2  2023-12-01  merchant_1720       0.0\n",
      "     month_id     merchant_id  forecast\n",
      "0  2023-10-01  merchant_17376       5.8\n",
      "1  2023-11-01  merchant_17376       6.0\n",
      "2  2023-12-01  merchant_17376       9.0\n",
      "     month_id     merchant_id  forecast\n",
      "0  2023-10-01  merchant_17399       1.5\n",
      "1  2023-11-01  merchant_17399       1.0\n",
      "2  2023-12-01  merchant_17399       1.5\n",
      "     month_id     merchant_id  forecast\n",
      "0  2023-10-01  merchant_17567       1.5\n",
      "1  2023-11-01  merchant_17567       1.0\n",
      "2  2023-12-01  merchant_17567       1.5\n"
     ]
    },
    {
     "name": "stderr",
     "output_type": "stream",
     "text": [
      "Processing Customers:  95%|█████████▍| 24638/26060 [59:09<01:19, 17.90it/s]"
     ]
    },
    {
     "name": "stdout",
     "output_type": "stream",
     "text": [
      "     month_id     merchant_id  forecast\n",
      "0  2023-10-01  merchant_17737       4.2\n",
      "1  2023-11-01  merchant_17737       4.7\n",
      "2  2023-12-01  merchant_17737       5.0\n",
      "     month_id     merchant_id  forecast\n",
      "0  2023-10-01  merchant_18187       3.2\n",
      "1  2023-11-01  merchant_18187       3.0\n",
      "2  2023-12-01  merchant_18187       1.5\n",
      "     month_id     merchant_id  forecast\n",
      "0  2023-10-01  merchant_18244       2.5\n",
      "1  2023-11-01  merchant_18244       2.0\n",
      "2  2023-12-01  merchant_18244       1.5\n",
      "     month_id     merchant_id  forecast\n",
      "0  2023-10-01  merchant_18387       1.5\n",
      "1  2023-11-01  merchant_18387       1.0\n",
      "2  2023-12-01  merchant_18387       1.5\n"
     ]
    },
    {
     "name": "stderr",
     "output_type": "stream",
     "text": [
      "Processing Customers:  95%|█████████▍| 24642/26060 [59:09<01:19, 17.87it/s]"
     ]
    },
    {
     "name": "stdout",
     "output_type": "stream",
     "text": [
      "     month_id     merchant_id  forecast\n",
      "0  2023-10-01  merchant_18664      12.2\n",
      "1  2023-11-01  merchant_18664      11.0\n",
      "2  2023-12-01  merchant_18664       8.5\n",
      "     month_id     merchant_id  forecast\n",
      "0  2023-10-01  merchant_19191       6.0\n",
      "1  2023-11-01  merchant_19191       6.7\n",
      "2  2023-12-01  merchant_19191       7.5\n",
      "     month_id     merchant_id  forecast\n",
      "0  2023-10-01  merchant_19465       3.8\n",
      "1  2023-11-01  merchant_19465       3.7\n",
      "2  2023-12-01  merchant_19465       3.5\n",
      "     month_id    merchant_id  forecast\n",
      "0  2023-10-01  merchant_1948       2.2\n",
      "1  2023-11-01  merchant_1948       2.0\n",
      "2  2023-12-01  merchant_1948       1.5\n"
     ]
    },
    {
     "name": "stderr",
     "output_type": "stream",
     "text": [
      "Processing Customers:  95%|█████████▍| 24646/26060 [59:10<01:18, 17.92it/s]"
     ]
    },
    {
     "name": "stdout",
     "output_type": "stream",
     "text": [
      "     month_id     merchant_id  forecast\n",
      "0  2023-10-01  merchant_20122       0.8\n",
      "1  2023-11-01  merchant_20122       0.0\n",
      "2  2023-12-01  merchant_20122       0.0\n",
      "     month_id     merchant_id  forecast\n",
      "0  2023-10-01  merchant_20326       5.2\n",
      "1  2023-11-01  merchant_20326       5.3\n",
      "2  2023-12-01  merchant_20326       5.5\n",
      "     month_id     merchant_id  forecast\n",
      "0  2023-10-01  merchant_20336       2.5\n",
      "1  2023-11-01  merchant_20336       2.0\n",
      "2  2023-12-01  merchant_20336       1.5\n",
      "     month_id     merchant_id  forecast\n",
      "0  2023-10-01  merchant_20356       0.8\n",
      "1  2023-11-01  merchant_20356       0.0\n",
      "2  2023-12-01  merchant_20356       0.0\n"
     ]
    },
    {
     "name": "stderr",
     "output_type": "stream",
     "text": [
      "Processing Customers:  95%|█████████▍| 24650/26060 [59:10<01:22, 17.11it/s]"
     ]
    },
    {
     "name": "stdout",
     "output_type": "stream",
     "text": [
      "     month_id     merchant_id  forecast\n",
      "0  2023-10-01  merchant_20420       1.5\n",
      "1  2023-11-01  merchant_20420       1.0\n",
      "2  2023-12-01  merchant_20420       1.5\n",
      "     month_id    merchant_id  forecast\n",
      "0  2023-10-01  merchant_2052       3.0\n",
      "1  2023-11-01  merchant_2052       2.7\n",
      "2  2023-12-01  merchant_2052       1.5\n",
      "     month_id     merchant_id  forecast\n",
      "0  2023-10-01  merchant_20525       4.0\n",
      "1  2023-11-01  merchant_20525       3.7\n",
      "2  2023-12-01  merchant_20525       3.5\n",
      "     month_id     merchant_id  forecast\n",
      "0  2023-10-01  merchant_20587       4.0\n",
      "1  2023-11-01  merchant_20587       3.3\n",
      "2  2023-12-01  merchant_20587       1.5\n"
     ]
    },
    {
     "name": "stderr",
     "output_type": "stream",
     "text": [
      "Processing Customers:  95%|█████████▍| 24654/26060 [59:10<01:23, 16.75it/s]"
     ]
    },
    {
     "name": "stdout",
     "output_type": "stream",
     "text": [
      "     month_id     merchant_id  forecast\n",
      "0  2023-10-01  merchant_20824       1.5\n",
      "1  2023-11-01  merchant_20824       1.0\n",
      "2  2023-12-01  merchant_20824       1.5\n",
      "     month_id     merchant_id  forecast\n",
      "0  2023-10-01  merchant_20854       1.0\n",
      "1  2023-11-01  merchant_20854       0.0\n",
      "2  2023-12-01  merchant_20854       0.0\n",
      "     month_id    merchant_id  forecast\n",
      "0  2023-10-01  merchant_2090       1.5\n",
      "1  2023-11-01  merchant_2090       1.0\n",
      "2  2023-12-01  merchant_2090       0.0\n",
      "     month_id     merchant_id  forecast\n",
      "0  2023-10-01  merchant_21351       1.5\n",
      "1  2023-11-01  merchant_21351       1.0\n",
      "2  2023-12-01  merchant_21351       0.0\n"
     ]
    },
    {
     "name": "stderr",
     "output_type": "stream",
     "text": [
      "Processing Customers:  95%|█████████▍| 24658/26060 [59:10<01:22, 17.05it/s]"
     ]
    },
    {
     "name": "stdout",
     "output_type": "stream",
     "text": [
      "     month_id     merchant_id  forecast\n",
      "0  2023-10-01  merchant_21431       0.8\n",
      "1  2023-11-01  merchant_21431       0.0\n",
      "2  2023-12-01  merchant_21431       0.0\n",
      "     month_id     merchant_id  forecast\n",
      "0  2023-10-01  merchant_22003       0.8\n",
      "1  2023-11-01  merchant_22003       0.0\n",
      "2  2023-12-01  merchant_22003       0.0\n",
      "     month_id     merchant_id  forecast\n",
      "0  2023-10-01  merchant_22272       6.5\n",
      "1  2023-11-01  merchant_22272       7.3\n",
      "2  2023-12-01  merchant_22272       8.0\n",
      "     month_id     merchant_id  forecast\n",
      "0  2023-10-01  merchant_22601       3.2\n",
      "1  2023-11-01  merchant_22601       3.3\n",
      "2  2023-12-01  merchant_22601       3.5\n"
     ]
    },
    {
     "name": "stderr",
     "output_type": "stream",
     "text": [
      "Processing Customers:  95%|█████████▍| 24662/26060 [59:11<01:23, 16.83it/s]"
     ]
    },
    {
     "name": "stdout",
     "output_type": "stream",
     "text": [
      "     month_id     merchant_id  forecast\n",
      "0  2023-10-01  merchant_22946       0.8\n",
      "1  2023-11-01  merchant_22946       0.0\n",
      "2  2023-12-01  merchant_22946       0.0\n",
      "     month_id    merchant_id  forecast\n",
      "0  2023-10-01  merchant_2320      74.5\n",
      "1  2023-11-01  merchant_2320      98.0\n",
      "2  2023-12-01  merchant_2320     142.5\n",
      "     month_id    merchant_id  forecast\n",
      "0  2023-10-01  merchant_2323       3.0\n",
      "1  2023-11-01  merchant_2323       2.7\n",
      "2  2023-12-01  merchant_2323       2.0\n",
      "     month_id     merchant_id  forecast\n",
      "0  2023-10-01  merchant_23322       8.0\n",
      "1  2023-11-01  merchant_23322       9.3\n",
      "2  2023-12-01  merchant_23322       9.0\n"
     ]
    },
    {
     "name": "stderr",
     "output_type": "stream",
     "text": [
      "Processing Customers:  95%|█████████▍| 24666/26060 [59:11<01:20, 17.26it/s]"
     ]
    },
    {
     "name": "stdout",
     "output_type": "stream",
     "text": [
      "     month_id     merchant_id  forecast\n",
      "0  2023-10-01  merchant_23627       1.0\n",
      "1  2023-11-01  merchant_23627       0.0\n",
      "2  2023-12-01  merchant_23627       0.0\n",
      "     month_id     merchant_id  forecast\n",
      "0  2023-10-01  merchant_23767       2.5\n",
      "1  2023-11-01  merchant_23767       2.3\n",
      "2  2023-12-01  merchant_23767       2.0\n",
      "     month_id     merchant_id  forecast\n",
      "0  2023-10-01  merchant_23954       0.8\n",
      "1  2023-11-01  merchant_23954       0.0\n",
      "2  2023-12-01  merchant_23954       0.0\n",
      "     month_id     merchant_id  forecast\n",
      "0  2023-10-01  merchant_24066      45.8\n",
      "1  2023-11-01  merchant_24066      59.7\n",
      "2  2023-12-01  merchant_24066      14.0\n"
     ]
    },
    {
     "name": "stderr",
     "output_type": "stream",
     "text": [
      "Processing Customers:  95%|█████████▍| 24670/26060 [59:11<01:19, 17.42it/s]"
     ]
    },
    {
     "name": "stdout",
     "output_type": "stream",
     "text": [
      "     month_id     merchant_id  forecast\n",
      "0  2023-10-01  merchant_24162       1.5\n",
      "1  2023-11-01  merchant_24162       1.0\n",
      "2  2023-12-01  merchant_24162       1.5\n",
      "     month_id     merchant_id  forecast\n",
      "0  2023-10-01  merchant_24178       2.0\n",
      "1  2023-11-01  merchant_24178       1.0\n",
      "2  2023-12-01  merchant_24178       1.5\n",
      "     month_id     merchant_id  forecast\n",
      "0  2023-10-01  merchant_24286       2.5\n",
      "1  2023-11-01  merchant_24286       2.3\n",
      "2  2023-12-01  merchant_24286       1.5\n"
     ]
    },
    {
     "name": "stderr",
     "output_type": "stream",
     "text": [
      "Processing Customers:  95%|█████████▍| 24674/26060 [59:11<01:21, 16.91it/s]"
     ]
    },
    {
     "name": "stdout",
     "output_type": "stream",
     "text": [
      "     month_id     merchant_id  forecast\n",
      "0  2023-10-01  merchant_24562       3.8\n",
      "1  2023-11-01  merchant_24562       4.0\n",
      "2  2023-12-01  merchant_24562       4.0\n",
      "     month_id     merchant_id  forecast\n",
      "0  2023-10-01  merchant_24606      11.2\n",
      "1  2023-11-01  merchant_24606      12.7\n",
      "2  2023-12-01  merchant_24606      11.0\n",
      "     month_id    merchant_id  forecast\n",
      "0  2023-10-01  merchant_2484       0.8\n",
      "1  2023-11-01  merchant_2484       0.0\n",
      "2  2023-12-01  merchant_2484       0.0\n",
      "     month_id     merchant_id  forecast\n",
      "0  2023-10-01  merchant_24941       0.8\n",
      "1  2023-11-01  merchant_24941       0.0\n",
      "2  2023-12-01  merchant_24941       0.0\n"
     ]
    },
    {
     "name": "stderr",
     "output_type": "stream",
     "text": [
      "Processing Customers:  95%|█████████▍| 24678/26060 [59:12<01:19, 17.29it/s]"
     ]
    },
    {
     "name": "stdout",
     "output_type": "stream",
     "text": [
      "     month_id     merchant_id  forecast\n",
      "0  2023-10-01  merchant_25071       7.2\n",
      "1  2023-11-01  merchant_25071       8.7\n",
      "2  2023-12-01  merchant_25071      10.0\n",
      "     month_id     merchant_id  forecast\n",
      "0  2023-10-01  merchant_25866       2.2\n",
      "1  2023-11-01  merchant_25866       2.0\n",
      "2  2023-12-01  merchant_25866       3.0\n",
      "     month_id    merchant_id  forecast\n",
      "0  2023-10-01  merchant_2591       3.5\n",
      "1  2023-11-01  merchant_2591       3.7\n",
      "2  2023-12-01  merchant_2591       4.0\n",
      "     month_id     merchant_id  forecast\n",
      "0  2023-10-01  merchant_26034      17.5\n",
      "1  2023-11-01  merchant_26034      19.3\n",
      "2  2023-12-01  merchant_26034      19.0\n",
      "     month_id     merchant_id  forecast\n",
      "0  2023-10-01  merchant_26207      19.8\n",
      "1  2023-11-01  merchant_26207      25.3\n",
      "2  2023-12-01  merchant_26207      32.5\n",
      "     month_id     merchant_id  forecast\n",
      "0  2023-10-01  merchant_26414       0.8\n",
      "1  2023-11-01  merchant_26414       0.0\n",
      "2  2023-12-01  merchant_26414       0.0\n"
     ]
    },
    {
     "name": "stderr",
     "output_type": "stream",
     "text": [
      "Processing Customers:  95%|█████████▍| 24684/26060 [59:12<01:17, 17.85it/s]"
     ]
    },
    {
     "name": "stdout",
     "output_type": "stream",
     "text": [
      "     month_id     merchant_id  forecast\n",
      "0  2023-10-01  merchant_26539       2.0\n",
      "1  2023-11-01  merchant_26539       1.7\n",
      "2  2023-12-01  merchant_26539       0.0\n",
      "     month_id     merchant_id  forecast\n",
      "0  2023-10-01  merchant_26919       0.8\n",
      "1  2023-11-01  merchant_26919       0.0\n",
      "2  2023-12-01  merchant_26919       0.0\n",
      "     month_id     merchant_id  forecast\n",
      "0  2023-10-01  merchant_27012       9.8\n",
      "1  2023-11-01  merchant_27012      11.7\n",
      "2  2023-12-01  merchant_27012      10.0\n",
      "     month_id     merchant_id  forecast\n",
      "0  2023-10-01  merchant_27507       0.8\n",
      "1  2023-11-01  merchant_27507       0.0\n",
      "2  2023-12-01  merchant_27507       0.0\n",
      "     month_id    merchant_id  forecast\n",
      "0  2023-10-01  merchant_2769       1.0\n",
      "1  2023-11-01  merchant_2769       0.0\n",
      "2  2023-12-01  merchant_2769       0.0\n"
     ]
    },
    {
     "name": "stderr",
     "output_type": "stream",
     "text": [
      "Processing Customers:  95%|█████████▍| 24688/26060 [59:12<01:20, 16.97it/s]"
     ]
    },
    {
     "name": "stdout",
     "output_type": "stream",
     "text": [
      "     month_id     merchant_id  forecast\n",
      "0  2023-10-01  merchant_27778       0.8\n",
      "1  2023-11-01  merchant_27778       0.0\n",
      "2  2023-12-01  merchant_27778       0.0\n",
      "     month_id     merchant_id  forecast\n",
      "0  2023-10-01  merchant_27900       4.0\n",
      "1  2023-11-01  merchant_27900       3.0\n",
      "2  2023-12-01  merchant_27900       4.5\n",
      "     month_id     merchant_id  forecast\n",
      "0  2023-10-01  merchant_27956       1.5\n",
      "1  2023-11-01  merchant_27956       1.0\n",
      "2  2023-12-01  merchant_27956       1.5\n"
     ]
    },
    {
     "name": "stderr",
     "output_type": "stream",
     "text": [
      "Processing Customers:  95%|█████████▍| 24692/26060 [59:12<01:21, 16.70it/s]"
     ]
    },
    {
     "name": "stdout",
     "output_type": "stream",
     "text": [
      "     month_id     merchant_id  forecast\n",
      "0  2023-10-01  merchant_28010       4.0\n",
      "1  2023-11-01  merchant_28010       4.0\n",
      "2  2023-12-01  merchant_28010       3.5\n",
      "     month_id     merchant_id  forecast\n",
      "0  2023-10-01  merchant_28043       0.8\n",
      "1  2023-11-01  merchant_28043       0.0\n",
      "2  2023-12-01  merchant_28043       0.0\n",
      "     month_id     merchant_id  forecast\n",
      "0  2023-10-01  merchant_28100       1.8\n",
      "1  2023-11-01  merchant_28100       1.3\n",
      "2  2023-12-01  merchant_28100       2.0\n",
      "     month_id     merchant_id  forecast\n",
      "0  2023-10-01  merchant_28366       1.8\n",
      "1  2023-11-01  merchant_28366       1.3\n",
      "2  2023-12-01  merchant_28366       0.0\n"
     ]
    },
    {
     "name": "stderr",
     "output_type": "stream",
     "text": [
      "Processing Customers:  95%|█████████▍| 24696/26060 [59:13<01:19, 17.07it/s]"
     ]
    },
    {
     "name": "stdout",
     "output_type": "stream",
     "text": [
      "     month_id     merchant_id  forecast\n",
      "0  2023-10-01  merchant_28373      33.5\n",
      "1  2023-11-01  merchant_28373      43.0\n",
      "2  2023-12-01  merchant_28373      48.0\n",
      "     month_id     merchant_id  forecast\n",
      "0  2023-10-01  merchant_28436       2.0\n",
      "1  2023-11-01  merchant_28436       1.3\n",
      "2  2023-12-01  merchant_28436       0.0\n",
      "     month_id     merchant_id  forecast\n",
      "0  2023-10-01  merchant_28774       2.8\n",
      "1  2023-11-01  merchant_28774       2.3\n",
      "2  2023-12-01  merchant_28774       1.5\n",
      "     month_id     merchant_id  forecast\n",
      "0  2023-10-01  merchant_28805       1.0\n",
      "1  2023-11-01  merchant_28805       0.0\n",
      "2  2023-12-01  merchant_28805       0.0\n",
      "     month_id     merchant_id  forecast\n",
      "0  2023-10-01  merchant_28911       1.5\n",
      "1  2023-11-01  merchant_28911       1.0\n",
      "2  2023-12-01  merchant_28911       0.0\n"
     ]
    },
    {
     "name": "stderr",
     "output_type": "stream",
     "text": [
      "Processing Customers:  95%|█████████▍| 24700/26060 [59:13<01:17, 17.44it/s]"
     ]
    },
    {
     "name": "stdout",
     "output_type": "stream",
     "text": [
      "     month_id    merchant_id  forecast\n",
      "0  2023-10-01  merchant_2892       0.8\n",
      "1  2023-11-01  merchant_2892       0.0\n",
      "2  2023-12-01  merchant_2892       0.0\n",
      "     month_id     merchant_id  forecast\n",
      "0  2023-10-01  merchant_28928       2.8\n",
      "1  2023-11-01  merchant_28928       2.7\n",
      "2  2023-12-01  merchant_28928       4.0\n",
      "     month_id     merchant_id  forecast\n",
      "0  2023-10-01  merchant_29122       1.8\n",
      "1  2023-11-01  merchant_29122       1.3\n",
      "2  2023-12-01  merchant_29122       2.0\n",
      "     month_id     merchant_id  forecast\n",
      "0  2023-10-01  merchant_29148       0.8\n",
      "1  2023-11-01  merchant_29148       0.0\n",
      "2  2023-12-01  merchant_29148       0.0\n"
     ]
    },
    {
     "name": "stderr",
     "output_type": "stream",
     "text": [
      "Processing Customers:  95%|█████████▍| 24704/26060 [59:13<01:17, 17.46it/s]"
     ]
    },
    {
     "name": "stdout",
     "output_type": "stream",
     "text": [
      "     month_id     merchant_id  forecast\n",
      "0  2023-10-01  merchant_29183       0.8\n",
      "1  2023-11-01  merchant_29183       0.0\n",
      "2  2023-12-01  merchant_29183       0.0\n",
      "     month_id     merchant_id  forecast\n",
      "0  2023-10-01  merchant_29351       3.8\n",
      "1  2023-11-01  merchant_29351       3.7\n",
      "2  2023-12-01  merchant_29351       3.5\n",
      "     month_id     merchant_id  forecast\n",
      "0  2023-10-01  merchant_29371       3.8\n",
      "1  2023-11-01  merchant_29371       3.7\n",
      "2  2023-12-01  merchant_29371       4.0\n",
      "     month_id     merchant_id  forecast\n",
      "0  2023-10-01  merchant_29493      36.0\n",
      "1  2023-11-01  merchant_29493      45.0\n",
      "2  2023-12-01  merchant_29493      53.5\n"
     ]
    },
    {
     "name": "stderr",
     "output_type": "stream",
     "text": [
      "Processing Customers:  95%|█████████▍| 24708/26060 [59:13<01:19, 17.01it/s]"
     ]
    },
    {
     "name": "stdout",
     "output_type": "stream",
     "text": [
      "     month_id     merchant_id  forecast\n",
      "0  2023-10-01  merchant_29683       8.0\n",
      "1  2023-11-01  merchant_29683       8.7\n",
      "2  2023-12-01  merchant_29683       8.0\n",
      "     month_id   merchant_id  forecast\n",
      "0  2023-10-01  merchant_299       0.8\n",
      "1  2023-11-01  merchant_299       0.0\n",
      "2  2023-12-01  merchant_299       0.0\n",
      "     month_id     merchant_id  forecast\n",
      "0  2023-10-01  merchant_29965       3.8\n",
      "1  2023-11-01  merchant_29965       3.7\n",
      "2  2023-12-01  merchant_29965       4.0\n"
     ]
    },
    {
     "name": "stderr",
     "output_type": "stream",
     "text": [
      "Processing Customers:  95%|█████████▍| 24712/26060 [59:14<01:18, 17.13it/s]"
     ]
    },
    {
     "name": "stdout",
     "output_type": "stream",
     "text": [
      "     month_id     merchant_id  forecast\n",
      "0  2023-10-01  merchant_30063       0.8\n",
      "1  2023-11-01  merchant_30063       0.0\n",
      "2  2023-12-01  merchant_30063       0.0\n",
      "     month_id     merchant_id  forecast\n",
      "0  2023-10-01  merchant_30110       4.2\n",
      "1  2023-11-01  merchant_30110       4.3\n",
      "2  2023-12-01  merchant_30110       5.0\n",
      "     month_id     merchant_id  forecast\n",
      "0  2023-10-01  merchant_30469       1.5\n",
      "1  2023-11-01  merchant_30469       1.0\n",
      "2  2023-12-01  merchant_30469       1.5\n",
      "     month_id     merchant_id  forecast\n",
      "0  2023-10-01  merchant_30526       1.0\n",
      "1  2023-11-01  merchant_30526       0.0\n",
      "2  2023-12-01  merchant_30526       0.0\n"
     ]
    },
    {
     "name": "stderr",
     "output_type": "stream",
     "text": [
      "Processing Customers:  95%|█████████▍| 24714/26060 [59:14<01:20, 16.74it/s]"
     ]
    },
    {
     "name": "stdout",
     "output_type": "stream",
     "text": [
      "     month_id     merchant_id  forecast\n",
      "0  2023-10-01  merchant_31257       0.8\n",
      "1  2023-11-01  merchant_31257       0.0\n",
      "2  2023-12-01  merchant_31257       0.0\n",
      "     month_id     merchant_id  forecast\n",
      "0  2023-10-01  merchant_31290       2.8\n",
      "1  2023-11-01  merchant_31290       2.7\n",
      "2  2023-12-01  merchant_31290       1.5\n",
      "     month_id    merchant_id  forecast\n",
      "0  2023-10-01  merchant_3144       6.2\n",
      "1  2023-11-01  merchant_3144       5.7\n",
      "2  2023-12-01  merchant_3144       1.5\n",
      "     month_id     merchant_id  forecast\n",
      "0  2023-10-01  merchant_31909       2.0\n",
      "1  2023-11-01  merchant_31909       1.3\n",
      "2  2023-12-01  merchant_31909       2.0\n"
     ]
    },
    {
     "name": "stderr",
     "output_type": "stream",
     "text": [
      "Processing Customers:  95%|█████████▍| 24720/26060 [59:14<01:17, 17.38it/s]"
     ]
    },
    {
     "name": "stdout",
     "output_type": "stream",
     "text": [
      "     month_id     merchant_id  forecast\n",
      "0  2023-10-01  merchant_31953       0.8\n",
      "1  2023-11-01  merchant_31953       0.0\n",
      "2  2023-12-01  merchant_31953       0.0\n",
      "     month_id     merchant_id  forecast\n",
      "0  2023-10-01  merchant_31975       1.5\n",
      "1  2023-11-01  merchant_31975       1.0\n",
      "2  2023-12-01  merchant_31975       1.5\n",
      "     month_id     merchant_id  forecast\n",
      "0  2023-10-01  merchant_32456       1.8\n",
      "1  2023-11-01  merchant_32456       1.3\n",
      "2  2023-12-01  merchant_32456       2.0\n",
      "     month_id     merchant_id  forecast\n",
      "0  2023-10-01  merchant_32520       0.8\n",
      "1  2023-11-01  merchant_32520       0.0\n",
      "2  2023-12-01  merchant_32520       0.0\n",
      "     month_id     merchant_id  forecast\n",
      "0  2023-10-01  merchant_32537       1.5\n",
      "1  2023-11-01  merchant_32537       1.0\n",
      "2  2023-12-01  merchant_32537       0.0\n"
     ]
    },
    {
     "name": "stderr",
     "output_type": "stream",
     "text": [
      "Processing Customers:  95%|█████████▍| 24724/26060 [59:14<01:17, 17.31it/s]"
     ]
    },
    {
     "name": "stdout",
     "output_type": "stream",
     "text": [
      "     month_id     merchant_id  forecast\n",
      "0  2023-10-01  merchant_32601       1.5\n",
      "1  2023-11-01  merchant_32601       1.0\n",
      "2  2023-12-01  merchant_32601       1.5\n",
      "     month_id     merchant_id  forecast\n",
      "0  2023-10-01  merchant_33036       0.8\n",
      "1  2023-11-01  merchant_33036       0.0\n",
      "2  2023-12-01  merchant_33036       0.0\n",
      "     month_id     merchant_id  forecast\n",
      "0  2023-10-01  merchant_33184       1.5\n",
      "1  2023-11-01  merchant_33184       1.0\n",
      "2  2023-12-01  merchant_33184       1.5\n",
      "     month_id     merchant_id  forecast\n",
      "0  2023-10-01  merchant_33285       1.5\n",
      "1  2023-11-01  merchant_33285       1.0\n",
      "2  2023-12-01  merchant_33285       1.5\n"
     ]
    },
    {
     "name": "stderr",
     "output_type": "stream",
     "text": [
      "Processing Customers:  95%|█████████▍| 24728/26060 [59:14<01:25, 15.61it/s]"
     ]
    },
    {
     "name": "stdout",
     "output_type": "stream",
     "text": [
      "     month_id     merchant_id  forecast\n",
      "0  2023-10-01  merchant_33343      20.8\n",
      "1  2023-11-01  merchant_33343      26.7\n",
      "2  2023-12-01  merchant_33343      31.5\n",
      "     month_id     merchant_id  forecast\n",
      "0  2023-10-01  merchant_33433       0.8\n",
      "1  2023-11-01  merchant_33433       0.0\n",
      "2  2023-12-01  merchant_33433       0.0\n",
      "     month_id     merchant_id  forecast\n",
      "0  2023-10-01  merchant_33643       1.5\n",
      "1  2023-11-01  merchant_33643       1.0\n",
      "2  2023-12-01  merchant_33643       1.5\n",
      "     month_id     merchant_id  forecast\n",
      "0  2023-10-01  merchant_33961       0.8\n",
      "1  2023-11-01  merchant_33961       0.0\n",
      "2  2023-12-01  merchant_33961       0.0\n"
     ]
    },
    {
     "name": "stderr",
     "output_type": "stream",
     "text": [
      "Processing Customers:  95%|█████████▍| 24732/26060 [59:15<01:20, 16.53it/s]"
     ]
    },
    {
     "name": "stdout",
     "output_type": "stream",
     "text": [
      "     month_id     merchant_id  forecast\n",
      "0  2023-10-01  merchant_34065       1.5\n",
      "1  2023-11-01  merchant_34065       1.0\n",
      "2  2023-12-01  merchant_34065       0.0\n",
      "     month_id     merchant_id  forecast\n",
      "0  2023-10-01  merchant_34285       2.2\n",
      "1  2023-11-01  merchant_34285       2.0\n",
      "2  2023-12-01  merchant_34285       1.5\n",
      "     month_id     merchant_id  forecast\n",
      "0  2023-10-01  merchant_34306       1.5\n",
      "1  2023-11-01  merchant_34306       1.0\n",
      "2  2023-12-01  merchant_34306       0.0\n",
      "     month_id     merchant_id  forecast\n",
      "0  2023-10-01  merchant_34508       1.2\n",
      "1  2023-11-01  merchant_34508       0.0\n",
      "2  2023-12-01  merchant_34508       0.0\n"
     ]
    },
    {
     "name": "stderr",
     "output_type": "stream",
     "text": [
      "Processing Customers:  95%|█████████▍| 24736/26060 [59:15<01:17, 17.04it/s]"
     ]
    },
    {
     "name": "stdout",
     "output_type": "stream",
     "text": [
      "     month_id     merchant_id  forecast\n",
      "0  2023-10-01  merchant_34571     970.8\n",
      "1  2023-11-01  merchant_34571    1110.7\n",
      "2  2023-12-01  merchant_34571    1062.5\n",
      "     month_id     merchant_id  forecast\n",
      "0  2023-10-01  merchant_34613       4.2\n",
      "1  2023-11-01  merchant_34613       4.7\n",
      "2  2023-12-01  merchant_34613       7.0\n",
      "     month_id     merchant_id  forecast\n",
      "0  2023-10-01  merchant_34803       1.0\n",
      "1  2023-11-01  merchant_34803       0.0\n",
      "2  2023-12-01  merchant_34803       0.0\n",
      "     month_id     merchant_id  forecast\n",
      "0  2023-10-01  merchant_34827       0.8\n",
      "1  2023-11-01  merchant_34827       0.0\n",
      "2  2023-12-01  merchant_34827       0.0\n"
     ]
    },
    {
     "name": "stderr",
     "output_type": "stream",
     "text": [
      "Processing Customers:  95%|█████████▍| 24740/26060 [59:15<01:15, 17.48it/s]"
     ]
    },
    {
     "name": "stdout",
     "output_type": "stream",
     "text": [
      "     month_id     merchant_id  forecast\n",
      "0  2023-10-01  merchant_35012       1.0\n",
      "1  2023-11-01  merchant_35012       0.0\n",
      "2  2023-12-01  merchant_35012       0.0\n",
      "     month_id     merchant_id  forecast\n",
      "0  2023-10-01  merchant_35078       4.0\n",
      "1  2023-11-01  merchant_35078       3.3\n",
      "2  2023-12-01  merchant_35078       3.0\n",
      "     month_id    merchant_id  forecast\n",
      "0  2023-10-01  merchant_3530      13.2\n",
      "1  2023-11-01  merchant_3530      16.0\n",
      "2  2023-12-01  merchant_3530      16.0\n",
      "     month_id     merchant_id  forecast\n",
      "0  2023-10-01  merchant_35691       0.8\n",
      "1  2023-11-01  merchant_35691       0.0\n",
      "2  2023-12-01  merchant_35691       0.0\n"
     ]
    },
    {
     "name": "stderr",
     "output_type": "stream",
     "text": [
      "Processing Customers:  95%|█████████▍| 24744/26060 [59:15<01:15, 17.38it/s]"
     ]
    },
    {
     "name": "stdout",
     "output_type": "stream",
     "text": [
      "     month_id     merchant_id  forecast\n",
      "0  2023-10-01  merchant_35751       2.5\n",
      "1  2023-11-01  merchant_35751       1.0\n",
      "2  2023-12-01  merchant_35751       0.0\n",
      "     month_id     merchant_id  forecast\n",
      "0  2023-10-01  merchant_36029       0.8\n",
      "1  2023-11-01  merchant_36029       0.0\n",
      "2  2023-12-01  merchant_36029       0.0\n",
      "     month_id     merchant_id  forecast\n",
      "0  2023-10-01  merchant_36075       1.0\n",
      "1  2023-11-01  merchant_36075       0.0\n",
      "2  2023-12-01  merchant_36075       0.0\n",
      "     month_id     merchant_id  forecast\n",
      "0  2023-10-01  merchant_36139      61.8\n",
      "1  2023-11-01  merchant_36139      71.0\n",
      "2  2023-12-01  merchant_36139      79.0\n"
     ]
    },
    {
     "name": "stderr",
     "output_type": "stream",
     "text": [
      "Processing Customers:  95%|█████████▍| 24748/26060 [59:16<01:14, 17.69it/s]"
     ]
    },
    {
     "name": "stdout",
     "output_type": "stream",
     "text": [
      "     month_id     merchant_id  forecast\n",
      "0  2023-10-01  merchant_36202       0.8\n",
      "1  2023-11-01  merchant_36202       0.0\n",
      "2  2023-12-01  merchant_36202       0.0\n",
      "     month_id    merchant_id  forecast\n",
      "0  2023-10-01  merchant_3656       0.8\n",
      "1  2023-11-01  merchant_3656       0.0\n",
      "2  2023-12-01  merchant_3656       0.0\n",
      "     month_id     merchant_id  forecast\n",
      "0  2023-10-01  merchant_36717       2.8\n",
      "1  2023-11-01  merchant_36717       2.7\n",
      "2  2023-12-01  merchant_36717       2.0\n",
      "     month_id     merchant_id  forecast\n",
      "0  2023-10-01  merchant_36771       8.8\n",
      "1  2023-11-01  merchant_36771       9.7\n",
      "2  2023-12-01  merchant_36771      11.5\n"
     ]
    },
    {
     "name": "stderr",
     "output_type": "stream",
     "text": [
      "Processing Customers:  95%|█████████▍| 24752/26060 [59:16<01:13, 17.85it/s]"
     ]
    },
    {
     "name": "stdout",
     "output_type": "stream",
     "text": [
      "     month_id     merchant_id  forecast\n",
      "0  2023-10-01  merchant_36947       2.5\n",
      "1  2023-11-01  merchant_36947       2.0\n",
      "2  2023-12-01  merchant_36947       3.0\n",
      "     month_id   merchant_id  forecast\n",
      "0  2023-10-01  merchant_371       2.5\n",
      "1  2023-11-01  merchant_371       1.7\n",
      "2  2023-12-01  merchant_371       1.5\n",
      "     month_id     merchant_id  forecast\n",
      "0  2023-10-01  merchant_37156       3.8\n",
      "1  2023-11-01  merchant_37156       3.7\n",
      "2  2023-12-01  merchant_37156       3.5\n",
      "     month_id     merchant_id  forecast\n",
      "0  2023-10-01  merchant_37366       4.0\n",
      "1  2023-11-01  merchant_37366       4.3\n",
      "2  2023-12-01  merchant_37366       3.5\n"
     ]
    },
    {
     "name": "stderr",
     "output_type": "stream",
     "text": [
      "Processing Customers:  95%|█████████▍| 24756/26060 [59:16<01:13, 17.69it/s]"
     ]
    },
    {
     "name": "stdout",
     "output_type": "stream",
     "text": [
      "     month_id     merchant_id  forecast\n",
      "0  2023-10-01  merchant_37418       1.8\n",
      "1  2023-11-01  merchant_37418       1.3\n",
      "2  2023-12-01  merchant_37418       2.0\n",
      "     month_id     merchant_id  forecast\n",
      "0  2023-10-01  merchant_37563       5.0\n",
      "1  2023-11-01  merchant_37563       5.7\n",
      "2  2023-12-01  merchant_37563       6.0\n",
      "     month_id     merchant_id  forecast\n",
      "0  2023-10-01  merchant_37845      11.0\n",
      "1  2023-11-01  merchant_37845      12.7\n",
      "2  2023-12-01  merchant_37845      10.5\n",
      "     month_id     merchant_id  forecast\n",
      "0  2023-10-01  merchant_37849       1.5\n",
      "1  2023-11-01  merchant_37849       1.0\n",
      "2  2023-12-01  merchant_37849       0.0\n"
     ]
    },
    {
     "name": "stderr",
     "output_type": "stream",
     "text": [
      "Processing Customers:  95%|█████████▌| 24760/26060 [59:16<01:14, 17.50it/s]"
     ]
    },
    {
     "name": "stdout",
     "output_type": "stream",
     "text": [
      "     month_id     merchant_id  forecast\n",
      "0  2023-10-01  merchant_38017       5.8\n",
      "1  2023-11-01  merchant_38017       6.3\n",
      "2  2023-12-01  merchant_38017       5.5\n",
      "     month_id     merchant_id  forecast\n",
      "0  2023-10-01  merchant_38167       0.8\n",
      "1  2023-11-01  merchant_38167       0.0\n",
      "2  2023-12-01  merchant_38167       0.0\n",
      "     month_id     merchant_id  forecast\n",
      "0  2023-10-01  merchant_38298       0.8\n",
      "1  2023-11-01  merchant_38298       0.0\n",
      "2  2023-12-01  merchant_38298       0.0\n",
      "     month_id     merchant_id  forecast\n",
      "0  2023-10-01  merchant_38672       1.8\n",
      "1  2023-11-01  merchant_38672       1.0\n",
      "2  2023-12-01  merchant_38672       0.0\n"
     ]
    },
    {
     "name": "stderr",
     "output_type": "stream",
     "text": [
      "Processing Customers:  95%|█████████▌| 24764/26060 [59:17<01:17, 16.78it/s]"
     ]
    },
    {
     "name": "stdout",
     "output_type": "stream",
     "text": [
      "     month_id     merchant_id  forecast\n",
      "0  2023-10-01  merchant_38793       2.0\n",
      "1  2023-11-01  merchant_38793       1.3\n",
      "2  2023-12-01  merchant_38793       0.0\n",
      "     month_id     merchant_id  forecast\n",
      "0  2023-10-01  merchant_38801       2.8\n",
      "1  2023-11-01  merchant_38801       2.0\n",
      "2  2023-12-01  merchant_38801       1.5\n",
      "     month_id     merchant_id  forecast\n",
      "0  2023-10-01  merchant_38807       5.8\n",
      "1  2023-11-01  merchant_38807       5.0\n",
      "2  2023-12-01  merchant_38807       4.0\n",
      "     month_id    merchant_id  forecast\n",
      "0  2023-10-01  merchant_3909       0.8\n",
      "1  2023-11-01  merchant_3909       0.0\n",
      "2  2023-12-01  merchant_3909       0.0\n"
     ]
    },
    {
     "name": "stderr",
     "output_type": "stream",
     "text": [
      "Processing Customers:  95%|█████████▌| 24768/26060 [59:17<01:14, 17.38it/s]"
     ]
    },
    {
     "name": "stdout",
     "output_type": "stream",
     "text": [
      "     month_id     merchant_id  forecast\n",
      "0  2023-10-01  merchant_39120       9.5\n",
      "1  2023-11-01  merchant_39120      11.7\n",
      "2  2023-12-01  merchant_39120      16.0\n",
      "     month_id     merchant_id  forecast\n",
      "0  2023-10-01  merchant_39355       8.2\n",
      "1  2023-11-01  merchant_39355       9.3\n",
      "2  2023-12-01  merchant_39355       5.0\n",
      "     month_id     merchant_id  forecast\n",
      "0  2023-10-01  merchant_39668       3.5\n",
      "1  2023-11-01  merchant_39668       3.7\n",
      "2  2023-12-01  merchant_39668       3.0\n",
      "     month_id    merchant_id  forecast\n",
      "0  2023-10-01  merchant_3969       0.8\n",
      "1  2023-11-01  merchant_3969       0.0\n",
      "2  2023-12-01  merchant_3969       0.0\n"
     ]
    },
    {
     "name": "stderr",
     "output_type": "stream",
     "text": [
      "Processing Customers:  95%|█████████▌| 24772/26060 [59:17<01:13, 17.64it/s]"
     ]
    },
    {
     "name": "stdout",
     "output_type": "stream",
     "text": [
      "     month_id     merchant_id  forecast\n",
      "0  2023-10-01  merchant_40180       9.5\n",
      "1  2023-11-01  merchant_40180       8.7\n",
      "2  2023-12-01  merchant_40180       0.0\n",
      "     month_id     merchant_id  forecast\n",
      "0  2023-10-01  merchant_40280       3.8\n",
      "1  2023-11-01  merchant_40280       3.3\n",
      "2  2023-12-01  merchant_40280       2.5\n",
      "     month_id     merchant_id  forecast\n",
      "0  2023-10-01  merchant_40493       3.2\n",
      "1  2023-11-01  merchant_40493       3.0\n",
      "2  2023-12-01  merchant_40493       1.5\n",
      "     month_id     merchant_id  forecast\n",
      "0  2023-10-01  merchant_41215       3.2\n",
      "1  2023-11-01  merchant_41215       3.0\n",
      "2  2023-12-01  merchant_41215       1.5\n"
     ]
    },
    {
     "name": "stderr",
     "output_type": "stream",
     "text": [
      "Processing Customers:  95%|█████████▌| 24776/26060 [59:17<01:12, 17.69it/s]"
     ]
    },
    {
     "name": "stdout",
     "output_type": "stream",
     "text": [
      "     month_id     merchant_id  forecast\n",
      "0  2023-10-01  merchant_41221       0.8\n",
      "1  2023-11-01  merchant_41221       0.0\n",
      "2  2023-12-01  merchant_41221       0.0\n",
      "     month_id     merchant_id  forecast\n",
      "0  2023-10-01  merchant_41299       7.2\n",
      "1  2023-11-01  merchant_41299       8.7\n",
      "2  2023-12-01  merchant_41299      10.0\n",
      "     month_id     merchant_id  forecast\n",
      "0  2023-10-01  merchant_41369       0.8\n",
      "1  2023-11-01  merchant_41369       0.0\n",
      "2  2023-12-01  merchant_41369       0.0\n",
      "     month_id     merchant_id  forecast\n",
      "0  2023-10-01  merchant_41486       1.5\n",
      "1  2023-11-01  merchant_41486       1.0\n",
      "2  2023-12-01  merchant_41486       0.0\n"
     ]
    },
    {
     "name": "stderr",
     "output_type": "stream",
     "text": [
      "Processing Customers:  95%|█████████▌| 24780/26060 [59:17<01:12, 17.70it/s]"
     ]
    },
    {
     "name": "stdout",
     "output_type": "stream",
     "text": [
      "     month_id     merchant_id  forecast\n",
      "0  2023-10-01  merchant_41748       2.8\n",
      "1  2023-11-01  merchant_41748       2.3\n",
      "2  2023-12-01  merchant_41748       2.0\n",
      "     month_id     merchant_id  forecast\n",
      "0  2023-10-01  merchant_41889       3.0\n",
      "1  2023-11-01  merchant_41889       2.7\n",
      "2  2023-12-01  merchant_41889       4.0\n",
      "     month_id     merchant_id  forecast\n",
      "0  2023-10-01  merchant_41907       0.8\n",
      "1  2023-11-01  merchant_41907       0.0\n",
      "2  2023-12-01  merchant_41907       0.0\n",
      "     month_id     merchant_id  forecast\n",
      "0  2023-10-01  merchant_42031     183.5\n",
      "1  2023-11-01  merchant_42031     179.7\n",
      "2  2023-12-01  merchant_42031     194.0\n"
     ]
    },
    {
     "name": "stderr",
     "output_type": "stream",
     "text": [
      "Processing Customers:  95%|█████████▌| 24784/26060 [59:18<01:12, 17.67it/s]"
     ]
    },
    {
     "name": "stdout",
     "output_type": "stream",
     "text": [
      "     month_id     merchant_id  forecast\n",
      "0  2023-10-01  merchant_42153       3.5\n",
      "1  2023-11-01  merchant_42153       3.7\n",
      "2  2023-12-01  merchant_42153       4.0\n",
      "     month_id     merchant_id  forecast\n",
      "0  2023-10-01  merchant_42429       0.8\n",
      "1  2023-11-01  merchant_42429       0.0\n",
      "2  2023-12-01  merchant_42429       0.0\n",
      "     month_id     merchant_id  forecast\n",
      "0  2023-10-01  merchant_43265       2.2\n",
      "1  2023-11-01  merchant_43265       1.0\n",
      "2  2023-12-01  merchant_43265       0.0\n",
      "     month_id     merchant_id  forecast\n",
      "0  2023-10-01  merchant_43384       1.0\n",
      "1  2023-11-01  merchant_43384       0.0\n",
      "2  2023-12-01  merchant_43384       0.0\n"
     ]
    },
    {
     "name": "stderr",
     "output_type": "stream",
     "text": [
      "Processing Customers:  95%|█████████▌| 24788/26060 [59:18<01:11, 17.72it/s]"
     ]
    },
    {
     "name": "stdout",
     "output_type": "stream",
     "text": [
      "     month_id     merchant_id  forecast\n",
      "0  2023-10-01  merchant_43565       3.0\n",
      "1  2023-11-01  merchant_43565       2.7\n",
      "2  2023-12-01  merchant_43565       0.0\n",
      "     month_id     merchant_id  forecast\n",
      "0  2023-10-01  merchant_43896       0.8\n",
      "1  2023-11-01  merchant_43896       0.0\n",
      "2  2023-12-01  merchant_43896       0.0\n",
      "     month_id     merchant_id  forecast\n",
      "0  2023-10-01  merchant_43940       7.5\n",
      "1  2023-11-01  merchant_43940       6.7\n",
      "2  2023-12-01  merchant_43940       8.0\n",
      "     month_id     merchant_id  forecast\n",
      "0  2023-10-01  merchant_43948       3.0\n",
      "1  2023-11-01  merchant_43948       2.7\n",
      "2  2023-12-01  merchant_43948       4.0\n"
     ]
    },
    {
     "name": "stderr",
     "output_type": "stream",
     "text": [
      "Processing Customers:  95%|█████████▌| 24792/26060 [59:18<01:12, 17.50it/s]"
     ]
    },
    {
     "name": "stdout",
     "output_type": "stream",
     "text": [
      "     month_id     merchant_id  forecast\n",
      "0  2023-10-01  merchant_44691       3.0\n",
      "1  2023-11-01  merchant_44691       3.0\n",
      "2  2023-12-01  merchant_44691       3.0\n",
      "     month_id     merchant_id  forecast\n",
      "0  2023-10-01  merchant_44829       4.2\n",
      "1  2023-11-01  merchant_44829       4.3\n",
      "2  2023-12-01  merchant_44829       5.0\n",
      "     month_id     merchant_id  forecast\n",
      "0  2023-10-01  merchant_45143       2.5\n",
      "1  2023-11-01  merchant_45143       2.3\n",
      "2  2023-12-01  merchant_45143       1.5\n",
      "     month_id     merchant_id  forecast\n",
      "0  2023-10-01  merchant_45290       3.8\n",
      "1  2023-11-01  merchant_45290       3.3\n",
      "2  2023-12-01  merchant_45290       5.0\n"
     ]
    },
    {
     "name": "stderr",
     "output_type": "stream",
     "text": [
      "Processing Customers:  95%|█████████▌| 24796/26060 [59:18<01:15, 16.75it/s]"
     ]
    },
    {
     "name": "stdout",
     "output_type": "stream",
     "text": [
      "     month_id     merchant_id  forecast\n",
      "0  2023-10-01  merchant_45320       1.5\n",
      "1  2023-11-01  merchant_45320       1.0\n",
      "2  2023-12-01  merchant_45320       1.5\n",
      "     month_id     merchant_id  forecast\n",
      "0  2023-10-01  merchant_45381       1.5\n",
      "1  2023-11-01  merchant_45381       1.0\n",
      "2  2023-12-01  merchant_45381       0.0\n",
      "     month_id     merchant_id  forecast\n",
      "0  2023-10-01  merchant_45414       1.8\n",
      "1  2023-11-01  merchant_45414       1.0\n",
      "2  2023-12-01  merchant_45414       0.0\n"
     ]
    },
    {
     "name": "stderr",
     "output_type": "stream",
     "text": [
      "Processing Customers:  95%|█████████▌| 24800/26060 [59:19<01:13, 17.10it/s]"
     ]
    },
    {
     "name": "stdout",
     "output_type": "stream",
     "text": [
      "     month_id     merchant_id  forecast\n",
      "0  2023-10-01  merchant_45963       6.5\n",
      "1  2023-11-01  merchant_45963       7.7\n",
      "2  2023-12-01  merchant_45963       7.0\n",
      "     month_id     merchant_id  forecast\n",
      "0  2023-10-01  merchant_45970       0.8\n",
      "1  2023-11-01  merchant_45970       0.0\n",
      "2  2023-12-01  merchant_45970       0.0\n",
      "     month_id     merchant_id  forecast\n",
      "0  2023-10-01  merchant_46017      12.2\n",
      "1  2023-11-01  merchant_46017      15.3\n",
      "2  2023-12-01  merchant_46017      13.5\n",
      "     month_id     merchant_id  forecast\n",
      "0  2023-10-01  merchant_46104       0.8\n",
      "1  2023-11-01  merchant_46104       0.0\n",
      "2  2023-12-01  merchant_46104       0.0\n",
      "     month_id     merchant_id  forecast\n",
      "0  2023-10-01  merchant_46148       2.2\n",
      "1  2023-11-01  merchant_46148       2.0\n",
      "2  2023-12-01  merchant_46148       1.5\n"
     ]
    },
    {
     "name": "stderr",
     "output_type": "stream",
     "text": [
      "Processing Customers:  95%|█████████▌| 24804/26060 [59:19<01:12, 17.23it/s]"
     ]
    },
    {
     "name": "stdout",
     "output_type": "stream",
     "text": [
      "     month_id     merchant_id  forecast\n",
      "0  2023-10-01  merchant_46555       4.2\n",
      "1  2023-11-01  merchant_46555       3.7\n",
      "2  2023-12-01  merchant_46555       3.5\n",
      "     month_id     merchant_id  forecast\n",
      "0  2023-10-01  merchant_46613       4.0\n",
      "1  2023-11-01  merchant_46613       4.0\n",
      "2  2023-12-01  merchant_46613       4.0\n",
      "     month_id     merchant_id  forecast\n",
      "0  2023-10-01  merchant_46725       2.0\n",
      "1  2023-11-01  merchant_46725       1.7\n",
      "2  2023-12-01  merchant_46725       0.0\n",
      "     month_id   merchant_id  forecast\n",
      "0  2023-10-01  merchant_469       2.2\n",
      "1  2023-11-01  merchant_469       2.0\n",
      "2  2023-12-01  merchant_469       3.0\n"
     ]
    },
    {
     "name": "stderr",
     "output_type": "stream",
     "text": [
      "Processing Customers:  95%|█████████▌| 24808/26060 [59:19<01:12, 17.33it/s]"
     ]
    },
    {
     "name": "stdout",
     "output_type": "stream",
     "text": [
      "     month_id     merchant_id  forecast\n",
      "0  2023-10-01  merchant_46906       1.8\n",
      "1  2023-11-01  merchant_46906       1.0\n",
      "2  2023-12-01  merchant_46906       1.5\n",
      "     month_id     merchant_id  forecast\n",
      "0  2023-10-01  merchant_46939       5.0\n",
      "1  2023-11-01  merchant_46939       4.7\n",
      "2  2023-12-01  merchant_46939       3.5\n",
      "     month_id     merchant_id  forecast\n",
      "0  2023-10-01  merchant_47077      58.8\n",
      "1  2023-11-01  merchant_47077      77.0\n",
      "2  2023-12-01  merchant_47077      85.5\n",
      "     month_id     merchant_id  forecast\n",
      "0  2023-10-01  merchant_47120       1.0\n",
      "1  2023-11-01  merchant_47120       0.0\n",
      "2  2023-12-01  merchant_47120       0.0\n"
     ]
    },
    {
     "name": "stderr",
     "output_type": "stream",
     "text": [
      "Processing Customers:  95%|█████████▌| 24812/26060 [59:19<01:11, 17.47it/s]"
     ]
    },
    {
     "name": "stdout",
     "output_type": "stream",
     "text": [
      "     month_id     merchant_id  forecast\n",
      "0  2023-10-01  merchant_47142       0.8\n",
      "1  2023-11-01  merchant_47142       0.0\n",
      "2  2023-12-01  merchant_47142       0.0\n",
      "     month_id   merchant_id  forecast\n",
      "0  2023-10-01  merchant_473       4.0\n",
      "1  2023-11-01  merchant_473       3.7\n",
      "2  2023-12-01  merchant_473       4.0\n",
      "     month_id     merchant_id  forecast\n",
      "0  2023-10-01  merchant_47450       6.5\n",
      "1  2023-11-01  merchant_47450       7.3\n",
      "2  2023-12-01  merchant_47450       3.0\n",
      "     month_id     merchant_id  forecast\n",
      "0  2023-10-01  merchant_47620       1.8\n",
      "1  2023-11-01  merchant_47620       1.0\n",
      "2  2023-12-01  merchant_47620       1.5\n"
     ]
    },
    {
     "name": "stderr",
     "output_type": "stream",
     "text": [
      "Processing Customers:  95%|█████████▌| 24816/26060 [59:20<01:12, 17.28it/s]"
     ]
    },
    {
     "name": "stdout",
     "output_type": "stream",
     "text": [
      "     month_id     merchant_id  forecast\n",
      "0  2023-10-01  merchant_47689       2.2\n",
      "1  2023-11-01  merchant_47689       1.0\n",
      "2  2023-12-01  merchant_47689       1.5\n",
      "     month_id     merchant_id  forecast\n",
      "0  2023-10-01  merchant_47854      27.8\n",
      "1  2023-11-01  merchant_47854      36.0\n",
      "2  2023-12-01  merchant_47854      54.0\n",
      "     month_id     merchant_id  forecast\n",
      "0  2023-10-01  merchant_47889       2.5\n",
      "1  2023-11-01  merchant_47889       2.3\n",
      "2  2023-12-01  merchant_47889       2.0\n",
      "     month_id     merchant_id  forecast\n",
      "0  2023-10-01  merchant_48372       0.8\n",
      "1  2023-11-01  merchant_48372       0.0\n",
      "2  2023-12-01  merchant_48372       0.0\n"
     ]
    },
    {
     "name": "stderr",
     "output_type": "stream",
     "text": [
      "Processing Customers:  95%|█████████▌| 24820/26060 [59:20<01:09, 17.87it/s]"
     ]
    },
    {
     "name": "stdout",
     "output_type": "stream",
     "text": [
      "     month_id     merchant_id  forecast\n",
      "0  2023-10-01  merchant_48557       5.2\n",
      "1  2023-11-01  merchant_48557       4.7\n",
      "2  2023-12-01  merchant_48557       2.5\n",
      "     month_id    merchant_id  forecast\n",
      "0  2023-10-01  merchant_4858       0.8\n",
      "1  2023-11-01  merchant_4858       0.0\n",
      "2  2023-12-01  merchant_4858       0.0\n",
      "     month_id    merchant_id  forecast\n",
      "0  2023-10-01  merchant_4882       2.2\n",
      "1  2023-11-01  merchant_4882       2.0\n",
      "2  2023-12-01  merchant_4882       1.5\n",
      "     month_id     merchant_id  forecast\n",
      "0  2023-10-01  merchant_48861       2.5\n",
      "1  2023-11-01  merchant_48861       2.3\n",
      "2  2023-12-01  merchant_48861       2.0\n"
     ]
    },
    {
     "name": "stderr",
     "output_type": "stream",
     "text": [
      "Processing Customers:  95%|█████████▌| 24824/26060 [59:20<01:09, 17.84it/s]"
     ]
    },
    {
     "name": "stdout",
     "output_type": "stream",
     "text": [
      "     month_id    merchant_id  forecast\n",
      "0  2023-10-01  merchant_4913       0.8\n",
      "1  2023-11-01  merchant_4913       0.0\n",
      "2  2023-12-01  merchant_4913       0.0\n",
      "     month_id     merchant_id  forecast\n",
      "0  2023-10-01  merchant_49299       1.8\n",
      "1  2023-11-01  merchant_49299       1.0\n",
      "2  2023-12-01  merchant_49299       1.5\n",
      "     month_id     merchant_id  forecast\n",
      "0  2023-10-01  merchant_49327       0.8\n",
      "1  2023-11-01  merchant_49327       0.0\n",
      "2  2023-12-01  merchant_49327       0.0\n",
      "     month_id     merchant_id  forecast\n",
      "0  2023-10-01  merchant_49399      13.2\n",
      "1  2023-11-01  merchant_49399      15.0\n",
      "2  2023-12-01  merchant_49399      18.0\n"
     ]
    },
    {
     "name": "stderr",
     "output_type": "stream",
     "text": [
      "Processing Customers:  95%|█████████▌| 24828/26060 [59:20<01:09, 17.63it/s]"
     ]
    },
    {
     "name": "stdout",
     "output_type": "stream",
     "text": [
      "     month_id     merchant_id  forecast\n",
      "0  2023-10-01  merchant_49406       1.0\n",
      "1  2023-11-01  merchant_49406       0.0\n",
      "2  2023-12-01  merchant_49406       0.0\n",
      "     month_id     merchant_id  forecast\n",
      "0  2023-10-01  merchant_49677       2.5\n",
      "1  2023-11-01  merchant_49677       2.3\n",
      "2  2023-12-01  merchant_49677       1.5\n",
      "     month_id     merchant_id  forecast\n",
      "0  2023-10-01  merchant_49783       0.8\n",
      "1  2023-11-01  merchant_49783       0.0\n",
      "2  2023-12-01  merchant_49783       0.0\n",
      "     month_id     merchant_id  forecast\n",
      "0  2023-10-01  merchant_50162       0.8\n",
      "1  2023-11-01  merchant_50162       0.0\n",
      "2  2023-12-01  merchant_50162       0.0\n"
     ]
    },
    {
     "name": "stderr",
     "output_type": "stream",
     "text": [
      "Processing Customers:  95%|█████████▌| 24832/26060 [59:20<01:12, 17.01it/s]"
     ]
    },
    {
     "name": "stdout",
     "output_type": "stream",
     "text": [
      "     month_id     merchant_id  forecast\n",
      "0  2023-10-01  merchant_50193       2.0\n",
      "1  2023-11-01  merchant_50193       1.3\n",
      "2  2023-12-01  merchant_50193       2.0\n",
      "     month_id     merchant_id  forecast\n",
      "0  2023-10-01  merchant_50747       1.5\n",
      "1  2023-11-01  merchant_50747       1.0\n",
      "2  2023-12-01  merchant_50747       1.5\n",
      "     month_id     merchant_id  forecast\n",
      "0  2023-10-01  merchant_50846       0.8\n",
      "1  2023-11-01  merchant_50846       0.0\n",
      "2  2023-12-01  merchant_50846       0.0\n"
     ]
    },
    {
     "name": "stderr",
     "output_type": "stream",
     "text": [
      "Processing Customers:  95%|█████████▌| 24836/26060 [59:21<01:10, 17.34it/s]"
     ]
    },
    {
     "name": "stdout",
     "output_type": "stream",
     "text": [
      "     month_id     merchant_id  forecast\n",
      "0  2023-10-01  merchant_51137       3.2\n",
      "1  2023-11-01  merchant_51137       3.3\n",
      "2  2023-12-01  merchant_51137       3.0\n",
      "     month_id     merchant_id  forecast\n",
      "0  2023-10-01  merchant_51303       4.5\n",
      "1  2023-11-01  merchant_51303       4.3\n",
      "2  2023-12-01  merchant_51303       4.5\n",
      "     month_id     merchant_id  forecast\n",
      "0  2023-10-01  merchant_51355       4.2\n",
      "1  2023-11-01  merchant_51355       4.0\n",
      "2  2023-12-01  merchant_51355       4.0\n",
      "     month_id     merchant_id  forecast\n",
      "0  2023-10-01  merchant_51478       0.8\n",
      "1  2023-11-01  merchant_51478       0.0\n",
      "2  2023-12-01  merchant_51478       0.0\n",
      "     month_id     merchant_id  forecast\n",
      "0  2023-10-01  merchant_51624       0.8\n",
      "1  2023-11-01  merchant_51624       0.0\n",
      "2  2023-12-01  merchant_51624       0.0\n"
     ]
    },
    {
     "name": "stderr",
     "output_type": "stream",
     "text": [
      "Processing Customers:  95%|█████████▌| 24840/26060 [59:21<01:09, 17.50it/s]"
     ]
    },
    {
     "name": "stdout",
     "output_type": "stream",
     "text": [
      "     month_id     merchant_id  forecast\n",
      "0  2023-10-01  merchant_51695       0.8\n",
      "1  2023-11-01  merchant_51695       0.0\n",
      "2  2023-12-01  merchant_51695       0.0\n",
      "     month_id     merchant_id  forecast\n",
      "0  2023-10-01  merchant_51792      14.5\n",
      "1  2023-11-01  merchant_51792      14.7\n",
      "2  2023-12-01  merchant_51792      10.5\n",
      "     month_id     merchant_id  forecast\n",
      "0  2023-10-01  merchant_51919       1.8\n",
      "1  2023-11-01  merchant_51919       1.3\n",
      "2  2023-12-01  merchant_51919       0.0\n",
      "     month_id     merchant_id  forecast\n",
      "0  2023-10-01  merchant_52333       2.2\n",
      "1  2023-11-01  merchant_52333       2.0\n",
      "2  2023-12-01  merchant_52333       3.0\n"
     ]
    },
    {
     "name": "stderr",
     "output_type": "stream",
     "text": [
      "Processing Customers:  95%|█████████▌| 24844/26060 [59:21<01:09, 17.51it/s]"
     ]
    },
    {
     "name": "stdout",
     "output_type": "stream",
     "text": [
      "     month_id     merchant_id  forecast\n",
      "0  2023-10-01  merchant_52719       1.8\n",
      "1  2023-11-01  merchant_52719       1.0\n",
      "2  2023-12-01  merchant_52719       1.5\n",
      "     month_id     merchant_id  forecast\n",
      "0  2023-10-01  merchant_53187       4.2\n",
      "1  2023-11-01  merchant_53187       3.0\n",
      "2  2023-12-01  merchant_53187       3.0\n",
      "     month_id     merchant_id  forecast\n",
      "0  2023-10-01  merchant_53274       2.8\n",
      "1  2023-11-01  merchant_53274       2.0\n",
      "2  2023-12-01  merchant_53274       3.0\n",
      "     month_id     merchant_id  forecast\n",
      "0  2023-10-01  merchant_53489       3.0\n",
      "1  2023-11-01  merchant_53489       3.0\n",
      "2  2023-12-01  merchant_53489       4.5\n"
     ]
    },
    {
     "name": "stderr",
     "output_type": "stream",
     "text": [
      "Processing Customers:  95%|█████████▌| 24850/26060 [59:21<01:06, 18.10it/s]"
     ]
    },
    {
     "name": "stdout",
     "output_type": "stream",
     "text": [
      "     month_id     merchant_id  forecast\n",
      "0  2023-10-01  merchant_53689       0.8\n",
      "1  2023-11-01  merchant_53689       0.0\n",
      "2  2023-12-01  merchant_53689       0.0\n",
      "     month_id     merchant_id  forecast\n",
      "0  2023-10-01  merchant_53894       2.5\n",
      "1  2023-11-01  merchant_53894       1.7\n",
      "2  2023-12-01  merchant_53894       1.5\n",
      "     month_id     merchant_id  forecast\n",
      "0  2023-10-01  merchant_54007       1.5\n",
      "1  2023-11-01  merchant_54007       1.0\n",
      "2  2023-12-01  merchant_54007       0.0\n",
      "     month_id     merchant_id  forecast\n",
      "0  2023-10-01  merchant_54050       1.5\n",
      "1  2023-11-01  merchant_54050       0.0\n",
      "2  2023-12-01  merchant_54050       0.0\n",
      "     month_id    merchant_id  forecast\n",
      "0  2023-10-01  merchant_5420       3.0\n",
      "1  2023-11-01  merchant_5420       3.0\n",
      "2  2023-12-01  merchant_5420       3.0\n"
     ]
    },
    {
     "name": "stderr",
     "output_type": "stream",
     "text": [
      "Processing Customers:  95%|█████████▌| 24854/26060 [59:22<01:07, 17.75it/s]"
     ]
    },
    {
     "name": "stdout",
     "output_type": "stream",
     "text": [
      "     month_id     merchant_id  forecast\n",
      "0  2023-10-01  merchant_55227       6.0\n",
      "1  2023-11-01  merchant_55227       7.0\n",
      "2  2023-12-01  merchant_55227       6.0\n",
      "     month_id     merchant_id  forecast\n",
      "0  2023-10-01  merchant_55436       2.0\n",
      "1  2023-11-01  merchant_55436       1.7\n",
      "2  2023-12-01  merchant_55436       2.5\n",
      "     month_id     merchant_id  forecast\n",
      "0  2023-10-01  merchant_56120       5.8\n",
      "1  2023-11-01  merchant_56120       6.7\n",
      "2  2023-12-01  merchant_56120       7.0\n",
      "     month_id     merchant_id  forecast\n",
      "0  2023-10-01  merchant_57166       0.8\n",
      "1  2023-11-01  merchant_57166       0.0\n",
      "2  2023-12-01  merchant_57166       0.0\n",
      "     month_id    merchant_id  forecast\n",
      "0  2023-10-01  merchant_5718       1.5\n",
      "1  2023-11-01  merchant_5718       1.0\n",
      "2  2023-12-01  merchant_5718       1.5\n"
     ]
    },
    {
     "name": "stderr",
     "output_type": "stream",
     "text": [
      "Processing Customers:  95%|█████████▌| 24858/26060 [59:22<01:09, 17.39it/s]"
     ]
    },
    {
     "name": "stdout",
     "output_type": "stream",
     "text": [
      "     month_id     merchant_id  forecast\n",
      "0  2023-10-01  merchant_57209       3.0\n",
      "1  2023-11-01  merchant_57209       3.0\n",
      "2  2023-12-01  merchant_57209       3.0\n",
      "     month_id     merchant_id  forecast\n",
      "0  2023-10-01  merchant_57448       0.8\n",
      "1  2023-11-01  merchant_57448       0.0\n",
      "2  2023-12-01  merchant_57448       0.0\n",
      "     month_id     merchant_id  forecast\n",
      "0  2023-10-01  merchant_57584       3.8\n",
      "1  2023-11-01  merchant_57584       3.7\n",
      "2  2023-12-01  merchant_57584       4.0\n",
      "     month_id     merchant_id  forecast\n",
      "0  2023-10-01  merchant_58093      15.5\n",
      "1  2023-11-01  merchant_58093      19.7\n",
      "2  2023-12-01  merchant_58093      25.0\n"
     ]
    },
    {
     "name": "stderr",
     "output_type": "stream",
     "text": [
      "Processing Customers:  95%|█████████▌| 24862/26060 [59:22<01:08, 17.50it/s]"
     ]
    },
    {
     "name": "stdout",
     "output_type": "stream",
     "text": [
      "     month_id     merchant_id  forecast\n",
      "0  2023-10-01  merchant_58197       0.8\n",
      "1  2023-11-01  merchant_58197       0.0\n",
      "2  2023-12-01  merchant_58197       0.0\n",
      "     month_id     merchant_id  forecast\n",
      "0  2023-10-01  merchant_58330       7.2\n",
      "1  2023-11-01  merchant_58330       5.7\n",
      "2  2023-12-01  merchant_58330       3.5\n",
      "     month_id     merchant_id  forecast\n",
      "0  2023-10-01  merchant_58337       3.5\n",
      "1  2023-11-01  merchant_58337       3.7\n",
      "2  2023-12-01  merchant_58337       4.0\n",
      "     month_id     merchant_id  forecast\n",
      "0  2023-10-01  merchant_58441       0.8\n",
      "1  2023-11-01  merchant_58441       0.0\n",
      "2  2023-12-01  merchant_58441       0.0\n"
     ]
    },
    {
     "name": "stderr",
     "output_type": "stream",
     "text": [
      "Processing Customers:  95%|█████████▌| 24866/26060 [59:22<01:07, 17.75it/s]"
     ]
    },
    {
     "name": "stdout",
     "output_type": "stream",
     "text": [
      "     month_id    merchant_id  forecast\n",
      "0  2023-10-01  merchant_5850       1.5\n",
      "1  2023-11-01  merchant_5850       1.0\n",
      "2  2023-12-01  merchant_5850       1.5\n",
      "     month_id     merchant_id  forecast\n",
      "0  2023-10-01  merchant_58609       0.8\n",
      "1  2023-11-01  merchant_58609       0.0\n",
      "2  2023-12-01  merchant_58609       0.0\n",
      "     month_id     merchant_id  forecast\n",
      "0  2023-10-01  merchant_58909      12.2\n",
      "1  2023-11-01  merchant_58909      13.3\n",
      "2  2023-12-01  merchant_58909      13.5\n",
      "     month_id     merchant_id  forecast\n",
      "0  2023-10-01  merchant_58998       0.8\n",
      "1  2023-11-01  merchant_58998       0.0\n",
      "2  2023-12-01  merchant_58998       0.0\n"
     ]
    },
    {
     "name": "stderr",
     "output_type": "stream",
     "text": [
      "Processing Customers:  95%|█████████▌| 24870/26060 [59:23<01:10, 16.91it/s]"
     ]
    },
    {
     "name": "stdout",
     "output_type": "stream",
     "text": [
      "     month_id     merchant_id  forecast\n",
      "0  2023-10-01  merchant_59093       0.8\n",
      "1  2023-11-01  merchant_59093       0.0\n",
      "2  2023-12-01  merchant_59093       0.0\n",
      "     month_id     merchant_id  forecast\n",
      "0  2023-10-01  merchant_59120      22.0\n",
      "1  2023-11-01  merchant_59120      26.3\n",
      "2  2023-12-01  merchant_59120      21.5\n",
      "     month_id     merchant_id  forecast\n",
      "0  2023-10-01  merchant_59226       1.8\n",
      "1  2023-11-01  merchant_59226       1.0\n",
      "2  2023-12-01  merchant_59226       0.0\n"
     ]
    },
    {
     "name": "stderr",
     "output_type": "stream",
     "text": [
      "Processing Customers:  95%|█████████▌| 24874/26060 [59:23<01:09, 17.16it/s]"
     ]
    },
    {
     "name": "stdout",
     "output_type": "stream",
     "text": [
      "     month_id     merchant_id  forecast\n",
      "0  2023-10-01  merchant_59249       2.0\n",
      "1  2023-11-01  merchant_59249       1.0\n",
      "2  2023-12-01  merchant_59249       1.5\n",
      "     month_id     merchant_id  forecast\n",
      "0  2023-10-01  merchant_59610       1.5\n",
      "1  2023-11-01  merchant_59610       1.0\n",
      "2  2023-12-01  merchant_59610       0.0\n",
      "     month_id     merchant_id  forecast\n",
      "0  2023-10-01  merchant_59973       0.8\n",
      "1  2023-11-01  merchant_59973       0.0\n",
      "2  2023-12-01  merchant_59973       0.0\n",
      "     month_id     merchant_id  forecast\n",
      "0  2023-10-01  merchant_60793    7128.0\n",
      "1  2023-11-01  merchant_60793    7582.7\n",
      "2  2023-12-01  merchant_60793    7832.5\n",
      "     month_id     merchant_id  forecast\n",
      "0  2023-10-01  merchant_61214       8.0\n",
      "1  2023-11-01  merchant_61214       9.7\n",
      "2  2023-12-01  merchant_61214      12.5\n"
     ]
    },
    {
     "name": "stderr",
     "output_type": "stream",
     "text": [
      "Processing Customers:  95%|█████████▌| 24878/26060 [59:23<01:07, 17.50it/s]"
     ]
    },
    {
     "name": "stdout",
     "output_type": "stream",
     "text": [
      "     month_id     merchant_id  forecast\n",
      "0  2023-10-01  merchant_61254       0.8\n",
      "1  2023-11-01  merchant_61254       0.0\n",
      "2  2023-12-01  merchant_61254       0.0\n",
      "     month_id     merchant_id  forecast\n",
      "0  2023-10-01  merchant_61498       4.5\n",
      "1  2023-11-01  merchant_61498       4.0\n",
      "2  2023-12-01  merchant_61498       3.0\n",
      "     month_id     merchant_id  forecast\n",
      "0  2023-10-01  merchant_61534       1.8\n",
      "1  2023-11-01  merchant_61534       1.3\n",
      "2  2023-12-01  merchant_61534       2.0\n",
      "     month_id     merchant_id  forecast\n",
      "0  2023-10-01  merchant_61612       0.8\n",
      "1  2023-11-01  merchant_61612       0.0\n",
      "2  2023-12-01  merchant_61612       0.0\n"
     ]
    },
    {
     "name": "stderr",
     "output_type": "stream",
     "text": [
      "Processing Customers:  95%|█████████▌| 24882/26060 [59:23<01:07, 17.56it/s]"
     ]
    },
    {
     "name": "stdout",
     "output_type": "stream",
     "text": [
      "     month_id     merchant_id  forecast\n",
      "0  2023-10-01  merchant_61789       9.2\n",
      "1  2023-11-01  merchant_61789       9.7\n",
      "2  2023-12-01  merchant_61789       8.5\n",
      "     month_id   merchant_id  forecast\n",
      "0  2023-10-01  merchant_620       0.8\n",
      "1  2023-11-01  merchant_620       0.0\n",
      "2  2023-12-01  merchant_620       0.0\n",
      "     month_id     merchant_id  forecast\n",
      "0  2023-10-01  merchant_62014       0.8\n",
      "1  2023-11-01  merchant_62014       0.0\n",
      "2  2023-12-01  merchant_62014       0.0\n",
      "     month_id     merchant_id  forecast\n",
      "0  2023-10-01  merchant_62023       0.8\n",
      "1  2023-11-01  merchant_62023       0.0\n",
      "2  2023-12-01  merchant_62023       0.0\n"
     ]
    },
    {
     "name": "stderr",
     "output_type": "stream",
     "text": [
      "Processing Customers:  95%|█████████▌| 24886/26060 [59:23<01:06, 17.62it/s]"
     ]
    },
    {
     "name": "stdout",
     "output_type": "stream",
     "text": [
      "     month_id     merchant_id  forecast\n",
      "0  2023-10-01  merchant_62166       0.8\n",
      "1  2023-11-01  merchant_62166       0.0\n",
      "2  2023-12-01  merchant_62166       0.0\n",
      "     month_id     merchant_id  forecast\n",
      "0  2023-10-01  merchant_62190       4.2\n",
      "1  2023-11-01  merchant_62190       4.7\n",
      "2  2023-12-01  merchant_62190       4.5\n",
      "     month_id     merchant_id  forecast\n",
      "0  2023-10-01  merchant_62227       4.0\n",
      "1  2023-11-01  merchant_62227       4.0\n",
      "2  2023-12-01  merchant_62227       4.5\n",
      "     month_id     merchant_id  forecast\n",
      "0  2023-10-01  merchant_62439      10.8\n",
      "1  2023-11-01  merchant_62439      10.7\n",
      "2  2023-12-01  merchant_62439      12.0\n"
     ]
    },
    {
     "name": "stderr",
     "output_type": "stream",
     "text": [
      "Processing Customers:  96%|█████████▌| 24890/26060 [59:24<01:05, 17.75it/s]"
     ]
    },
    {
     "name": "stdout",
     "output_type": "stream",
     "text": [
      "     month_id     merchant_id  forecast\n",
      "0  2023-10-01  merchant_62851       3.2\n",
      "1  2023-11-01  merchant_62851       3.3\n",
      "2  2023-12-01  merchant_62851       3.5\n",
      "     month_id     merchant_id  forecast\n",
      "0  2023-10-01  merchant_62970       0.8\n",
      "1  2023-11-01  merchant_62970       0.0\n",
      "2  2023-12-01  merchant_62970       0.0\n",
      "     month_id     merchant_id  forecast\n",
      "0  2023-10-01  merchant_63001       1.5\n",
      "1  2023-11-01  merchant_63001       1.0\n",
      "2  2023-12-01  merchant_63001       0.0\n",
      "     month_id     merchant_id  forecast\n",
      "0  2023-10-01  merchant_63079       4.8\n",
      "1  2023-11-01  merchant_63079       5.3\n",
      "2  2023-12-01  merchant_63079       5.0\n"
     ]
    },
    {
     "name": "stderr",
     "output_type": "stream",
     "text": [
      "Processing Customers:  96%|█████████▌| 24894/26060 [59:24<01:05, 17.77it/s]"
     ]
    },
    {
     "name": "stdout",
     "output_type": "stream",
     "text": [
      "     month_id     merchant_id  forecast\n",
      "0  2023-10-01  merchant_63105       1.5\n",
      "1  2023-11-01  merchant_63105       1.0\n",
      "2  2023-12-01  merchant_63105       1.5\n",
      "     month_id     merchant_id  forecast\n",
      "0  2023-10-01  merchant_63170       1.8\n",
      "1  2023-11-01  merchant_63170       1.0\n",
      "2  2023-12-01  merchant_63170       1.5\n",
      "     month_id     merchant_id  forecast\n",
      "0  2023-10-01  merchant_63174       2.2\n",
      "1  2023-11-01  merchant_63174       2.0\n",
      "2  2023-12-01  merchant_63174       0.0\n",
      "     month_id     merchant_id  forecast\n",
      "0  2023-10-01  merchant_63441       0.8\n",
      "1  2023-11-01  merchant_63441       0.0\n",
      "2  2023-12-01  merchant_63441       0.0\n",
      "     month_id     merchant_id  forecast\n",
      "0  2023-10-01  merchant_63475       2.2\n",
      "1  2023-11-01  merchant_63475       2.0\n",
      "2  2023-12-01  merchant_63475       3.0\n"
     ]
    },
    {
     "name": "stderr",
     "output_type": "stream",
     "text": [
      "Processing Customers:  96%|█████████▌| 24900/26060 [59:24<01:05, 17.64it/s]"
     ]
    },
    {
     "name": "stdout",
     "output_type": "stream",
     "text": [
      "     month_id     merchant_id  forecast\n",
      "0  2023-10-01  merchant_63696       1.8\n",
      "1  2023-11-01  merchant_63696       1.3\n",
      "2  2023-12-01  merchant_63696       2.0\n",
      "     month_id     merchant_id  forecast\n",
      "0  2023-10-01  merchant_63823       6.5\n",
      "1  2023-11-01  merchant_63823       6.7\n",
      "2  2023-12-01  merchant_63823       7.0\n",
      "     month_id     merchant_id  forecast\n",
      "0  2023-10-01  merchant_64328       3.5\n",
      "1  2023-11-01  merchant_64328       3.3\n",
      "2  2023-12-01  merchant_64328       3.5\n",
      "     month_id     merchant_id  forecast\n",
      "0  2023-10-01  merchant_64523       1.5\n",
      "1  2023-11-01  merchant_64523       1.0\n",
      "2  2023-12-01  merchant_64523       1.5\n",
      "     month_id     merchant_id  forecast\n",
      "0  2023-10-01  merchant_64588       4.2\n",
      "1  2023-11-01  merchant_64588       4.3\n",
      "2  2023-12-01  merchant_64588       5.0\n"
     ]
    },
    {
     "name": "stderr",
     "output_type": "stream",
     "text": [
      "Processing Customers:  96%|█████████▌| 24904/26060 [59:25<01:05, 17.76it/s]"
     ]
    },
    {
     "name": "stdout",
     "output_type": "stream",
     "text": [
      "     month_id     merchant_id  forecast\n",
      "0  2023-10-01  merchant_64889       1.5\n",
      "1  2023-11-01  merchant_64889       1.0\n",
      "2  2023-12-01  merchant_64889       0.0\n",
      "     month_id     merchant_id  forecast\n",
      "0  2023-10-01  merchant_65144       0.8\n",
      "1  2023-11-01  merchant_65144       0.0\n",
      "2  2023-12-01  merchant_65144       0.0\n",
      "     month_id    merchant_id  forecast\n",
      "0  2023-10-01  merchant_6526       6.0\n",
      "1  2023-11-01  merchant_6526       7.0\n",
      "2  2023-12-01  merchant_6526       7.0\n",
      "     month_id     merchant_id  forecast\n",
      "0  2023-10-01  merchant_65320       2.8\n",
      "1  2023-11-01  merchant_65320       2.7\n",
      "2  2023-12-01  merchant_65320       4.0\n"
     ]
    },
    {
     "name": "stderr",
     "output_type": "stream",
     "text": [
      "Processing Customers:  96%|█████████▌| 24908/26060 [59:25<01:07, 17.06it/s]"
     ]
    },
    {
     "name": "stdout",
     "output_type": "stream",
     "text": [
      "     month_id     merchant_id  forecast\n",
      "0  2023-10-01  merchant_65340       0.8\n",
      "1  2023-11-01  merchant_65340       0.0\n",
      "2  2023-12-01  merchant_65340       0.0\n",
      "     month_id     merchant_id  forecast\n",
      "0  2023-10-01  merchant_65396       0.8\n",
      "1  2023-11-01  merchant_65396       0.0\n",
      "2  2023-12-01  merchant_65396       0.0\n",
      "     month_id     merchant_id  forecast\n",
      "0  2023-10-01  merchant_65591       1.0\n",
      "1  2023-11-01  merchant_65591       0.0\n",
      "2  2023-12-01  merchant_65591       0.0\n"
     ]
    },
    {
     "name": "stderr",
     "output_type": "stream",
     "text": [
      "Processing Customers:  96%|█████████▌| 24912/26060 [59:25<01:06, 17.33it/s]"
     ]
    },
    {
     "name": "stdout",
     "output_type": "stream",
     "text": [
      "     month_id     merchant_id  forecast\n",
      "0  2023-10-01  merchant_65781      13.8\n",
      "1  2023-11-01  merchant_65781      16.3\n",
      "2  2023-12-01  merchant_65781      17.0\n",
      "     month_id    merchant_id  forecast\n",
      "0  2023-10-01  merchant_6600      81.2\n",
      "1  2023-11-01  merchant_6600      95.3\n",
      "2  2023-12-01  merchant_6600     114.5\n",
      "     month_id     merchant_id  forecast\n",
      "0  2023-10-01  merchant_66056       1.5\n",
      "1  2023-11-01  merchant_66056       1.0\n",
      "2  2023-12-01  merchant_66056       0.0\n",
      "     month_id     merchant_id  forecast\n",
      "0  2023-10-01  merchant_66239       3.2\n",
      "1  2023-11-01  merchant_66239       3.3\n",
      "2  2023-12-01  merchant_66239       2.5\n",
      "     month_id    merchant_id  forecast\n",
      "0  2023-10-01  merchant_6633       2.2\n",
      "1  2023-11-01  merchant_6633       2.0\n",
      "2  2023-12-01  merchant_6633       3.0\n"
     ]
    },
    {
     "name": "stderr",
     "output_type": "stream",
     "text": [
      "Processing Customers:  96%|█████████▌| 24916/26060 [59:25<01:04, 17.67it/s]"
     ]
    },
    {
     "name": "stdout",
     "output_type": "stream",
     "text": [
      "     month_id     merchant_id  forecast\n",
      "0  2023-10-01  merchant_66374       3.8\n",
      "1  2023-11-01  merchant_66374       3.3\n",
      "2  2023-12-01  merchant_66374       4.0\n",
      "     month_id     merchant_id  forecast\n",
      "0  2023-10-01  merchant_66459       0.8\n",
      "1  2023-11-01  merchant_66459       0.0\n",
      "2  2023-12-01  merchant_66459       0.0\n",
      "     month_id     merchant_id  forecast\n",
      "0  2023-10-01  merchant_66507       0.8\n",
      "1  2023-11-01  merchant_66507       0.0\n",
      "2  2023-12-01  merchant_66507       0.0\n",
      "     month_id     merchant_id  forecast\n",
      "0  2023-10-01  merchant_66552       0.8\n",
      "1  2023-11-01  merchant_66552       0.0\n",
      "2  2023-12-01  merchant_66552       0.0\n"
     ]
    },
    {
     "name": "stderr",
     "output_type": "stream",
     "text": [
      "Processing Customers:  96%|█████████▌| 24920/26060 [59:25<01:04, 17.74it/s]"
     ]
    },
    {
     "name": "stdout",
     "output_type": "stream",
     "text": [
      "     month_id     merchant_id  forecast\n",
      "0  2023-10-01  merchant_66561       3.0\n",
      "1  2023-11-01  merchant_66561       2.0\n",
      "2  2023-12-01  merchant_66561       3.0\n",
      "     month_id     merchant_id  forecast\n",
      "0  2023-10-01  merchant_66566       5.2\n",
      "1  2023-11-01  merchant_66566       5.7\n",
      "2  2023-12-01  merchant_66566       5.5\n",
      "     month_id     merchant_id  forecast\n",
      "0  2023-10-01  merchant_66712       2.2\n",
      "1  2023-11-01  merchant_66712       2.0\n",
      "2  2023-12-01  merchant_66712       1.5\n",
      "     month_id     merchant_id  forecast\n",
      "0  2023-10-01  merchant_66805       3.2\n",
      "1  2023-11-01  merchant_66805       3.0\n",
      "2  2023-12-01  merchant_66805       3.0\n"
     ]
    },
    {
     "name": "stderr",
     "output_type": "stream",
     "text": [
      "Processing Customers:  96%|█████████▌| 24924/26060 [59:26<01:04, 17.58it/s]"
     ]
    },
    {
     "name": "stdout",
     "output_type": "stream",
     "text": [
      "     month_id     merchant_id  forecast\n",
      "0  2023-10-01  merchant_67365       1.8\n",
      "1  2023-11-01  merchant_67365       1.3\n",
      "2  2023-12-01  merchant_67365       0.0\n",
      "     month_id     merchant_id  forecast\n",
      "0  2023-10-01  merchant_67404       9.0\n",
      "1  2023-11-01  merchant_67404      11.0\n",
      "2  2023-12-01  merchant_67404      14.0\n",
      "     month_id     merchant_id  forecast\n",
      "0  2023-10-01  merchant_67460      20.0\n",
      "1  2023-11-01  merchant_67460      25.7\n",
      "2  2023-12-01  merchant_67460      22.5\n",
      "     month_id    merchant_id  forecast\n",
      "0  2023-10-01  merchant_6873      39.2\n",
      "1  2023-11-01  merchant_6873      31.3\n",
      "2  2023-12-01  merchant_6873      16.5\n"
     ]
    },
    {
     "name": "stderr",
     "output_type": "stream",
     "text": [
      "Processing Customers:  96%|█████████▌| 24930/26060 [59:26<01:00, 18.74it/s]"
     ]
    },
    {
     "name": "stdout",
     "output_type": "stream",
     "text": [
      "     month_id    merchant_id  forecast\n",
      "0  2023-10-01  merchant_6894       6.5\n",
      "1  2023-11-01  merchant_6894       6.7\n",
      "2  2023-12-01  merchant_6894       6.0\n",
      "     month_id    merchant_id  forecast\n",
      "0  2023-10-01  merchant_6990       4.5\n",
      "1  2023-11-01  merchant_6990       4.7\n",
      "2  2023-12-01  merchant_6990       5.0\n",
      "     month_id    merchant_id  forecast\n",
      "0  2023-10-01  merchant_7067       0.8\n",
      "1  2023-11-01  merchant_7067       0.0\n",
      "2  2023-12-01  merchant_7067       0.0\n",
      "     month_id    merchant_id  forecast\n",
      "0  2023-10-01  merchant_7170       1.5\n",
      "1  2023-11-01  merchant_7170       1.0\n",
      "2  2023-12-01  merchant_7170       1.5\n",
      "     month_id    merchant_id  forecast\n",
      "0  2023-10-01  merchant_7561       3.0\n",
      "1  2023-11-01  merchant_7561       2.7\n",
      "2  2023-12-01  merchant_7561       4.0\n"
     ]
    },
    {
     "name": "stderr",
     "output_type": "stream",
     "text": [
      "Processing Customers:  96%|█████████▌| 24934/26060 [59:26<00:59, 18.79it/s]"
     ]
    },
    {
     "name": "stdout",
     "output_type": "stream",
     "text": [
      "     month_id    merchant_id  forecast\n",
      "0  2023-10-01  merchant_7810       2.2\n",
      "1  2023-11-01  merchant_7810       1.0\n",
      "2  2023-12-01  merchant_7810       1.5\n",
      "     month_id   merchant_id  forecast\n",
      "0  2023-10-01  merchant_782       1.8\n",
      "1  2023-11-01  merchant_782       1.3\n",
      "2  2023-12-01  merchant_782       0.0\n",
      "     month_id    merchant_id  forecast\n",
      "0  2023-10-01  merchant_8086       0.8\n",
      "1  2023-11-01  merchant_8086       0.0\n",
      "2  2023-12-01  merchant_8086       0.0\n",
      "     month_id    merchant_id  forecast\n",
      "0  2023-10-01  merchant_8516       0.8\n",
      "1  2023-11-01  merchant_8516       0.0\n",
      "2  2023-12-01  merchant_8516       0.0\n",
      "     month_id    merchant_id  forecast\n",
      "0  2023-10-01  merchant_8780       1.0\n",
      "1  2023-11-01  merchant_8780       0.0\n",
      "2  2023-12-01  merchant_8780       0.0\n"
     ]
    },
    {
     "name": "stderr",
     "output_type": "stream",
     "text": [
      "Processing Customers:  96%|█████████▌| 24938/26060 [59:26<01:00, 18.46it/s]"
     ]
    },
    {
     "name": "stdout",
     "output_type": "stream",
     "text": [
      "     month_id    merchant_id  forecast\n",
      "0  2023-10-01  merchant_9081       3.8\n",
      "1  2023-11-01  merchant_9081       4.0\n",
      "2  2023-12-01  merchant_9081       4.0\n",
      "     month_id    merchant_id  forecast\n",
      "0  2023-10-01  merchant_9134       2.8\n",
      "1  2023-11-01  merchant_9134       2.3\n",
      "2  2023-12-01  merchant_9134       2.0\n",
      "     month_id    merchant_id  forecast\n",
      "0  2023-10-01  merchant_9147       5.0\n",
      "1  2023-11-01  merchant_9147       5.3\n",
      "2  2023-12-01  merchant_9147       6.0\n",
      "     month_id    merchant_id  forecast\n",
      "0  2023-10-01  merchant_9337       4.5\n",
      "1  2023-11-01  merchant_9337       5.0\n",
      "2  2023-12-01  merchant_9337       4.5\n"
     ]
    },
    {
     "name": "stderr",
     "output_type": "stream",
     "text": [
      "Processing Customers:  96%|█████████▌| 24944/26060 [59:27<00:59, 18.62it/s]"
     ]
    },
    {
     "name": "stdout",
     "output_type": "stream",
     "text": [
      "     month_id    merchant_id  forecast\n",
      "0  2023-10-01  merchant_9415       2.5\n",
      "1  2023-11-01  merchant_9415       2.3\n",
      "2  2023-12-01  merchant_9415       1.5\n",
      "     month_id    merchant_id  forecast\n",
      "0  2023-10-01  merchant_9466       5.8\n",
      "1  2023-11-01  merchant_9466       6.0\n",
      "2  2023-12-01  merchant_9466       6.0\n",
      "     month_id    merchant_id  forecast\n",
      "0  2023-10-01  merchant_9608       4.5\n",
      "1  2023-11-01  merchant_9608       4.7\n",
      "2  2023-12-01  merchant_9608       5.0\n",
      "     month_id    merchant_id  forecast\n",
      "0  2023-10-01  merchant_9729       4.0\n",
      "1  2023-11-01  merchant_9729       4.3\n",
      "2  2023-12-01  merchant_9729       5.0\n",
      "     month_id    merchant_id  forecast\n",
      "0  2023-10-01  merchant_9735     351.2\n",
      "1  2023-11-01  merchant_9735     467.3\n",
      "2  2023-12-01  merchant_9735     648.0\n"
     ]
    },
    {
     "name": "stderr",
     "output_type": "stream",
     "text": [
      "Processing Customers:  96%|█████████▌| 24948/26060 [59:27<01:02, 17.74it/s]"
     ]
    },
    {
     "name": "stdout",
     "output_type": "stream",
     "text": [
      "     month_id    merchant_id  forecast\n",
      "0  2023-10-01  merchant_9771       3.5\n",
      "1  2023-11-01  merchant_9771       3.3\n",
      "2  2023-12-01  merchant_9771       5.0\n",
      "     month_id    merchant_id  forecast\n",
      "0  2023-10-01  merchant_9798      23.8\n",
      "1  2023-11-01  merchant_9798      23.7\n",
      "2  2023-12-01  merchant_9798      27.5\n",
      "     month_id     merchant_id  forecast\n",
      "0  2023-10-01  merchant_10003       1.5\n",
      "1  2023-11-01  merchant_10003       2.0\n",
      "2  2023-12-01  merchant_10003       1.5\n",
      "     month_id    merchant_id  forecast\n",
      "0  2023-10-01  merchant_1022       3.0\n",
      "1  2023-11-01  merchant_1022       4.0\n",
      "2  2023-12-01  merchant_1022       3.0\n",
      "     month_id     merchant_id  forecast\n",
      "0  2023-10-01  merchant_10285       4.5\n",
      "1  2023-11-01  merchant_10285       6.0\n",
      "2  2023-12-01  merchant_10285       6.5\n"
     ]
    },
    {
     "name": "stderr",
     "output_type": "stream",
     "text": [
      "Processing Customers:  96%|█████████▌| 24952/26060 [59:27<01:03, 17.52it/s]"
     ]
    },
    {
     "name": "stdout",
     "output_type": "stream",
     "text": [
      "     month_id     merchant_id  forecast\n",
      "0  2023-10-01  merchant_10330      25.0\n",
      "1  2023-11-01  merchant_10330      33.3\n",
      "2  2023-12-01  merchant_10330      30.0\n",
      "     month_id     merchant_id  forecast\n",
      "0  2023-10-01  merchant_10615       6.8\n",
      "1  2023-11-01  merchant_10615       9.0\n",
      "2  2023-12-01  merchant_10615      11.0\n",
      "     month_id     merchant_id  forecast\n",
      "0  2023-10-01  merchant_10753       2.2\n",
      "1  2023-11-01  merchant_10753       3.0\n",
      "2  2023-12-01  merchant_10753       2.5\n",
      "     month_id     merchant_id  forecast\n",
      "0  2023-10-01  merchant_10952       2.8\n",
      "1  2023-11-01  merchant_10952       3.7\n",
      "2  2023-12-01  merchant_10952       3.5\n"
     ]
    },
    {
     "name": "stderr",
     "output_type": "stream",
     "text": [
      "Processing Customers:  96%|█████████▌| 24956/26060 [59:27<01:03, 17.41it/s]"
     ]
    },
    {
     "name": "stdout",
     "output_type": "stream",
     "text": [
      "     month_id     merchant_id  forecast\n",
      "0  2023-10-01  merchant_11245       3.0\n",
      "1  2023-11-01  merchant_11245       4.0\n",
      "2  2023-12-01  merchant_11245       3.0\n",
      "     month_id     merchant_id  forecast\n",
      "0  2023-10-01  merchant_11320       1.5\n",
      "1  2023-11-01  merchant_11320       2.0\n",
      "2  2023-12-01  merchant_11320       1.5\n",
      "     month_id     merchant_id  forecast\n",
      "0  2023-10-01  merchant_11410       2.2\n",
      "1  2023-11-01  merchant_11410       3.0\n",
      "2  2023-12-01  merchant_11410       1.5\n",
      "     month_id     merchant_id  forecast\n",
      "0  2023-10-01  merchant_11727       0.8\n",
      "1  2023-11-01  merchant_11727       1.0\n",
      "2  2023-12-01  merchant_11727       0.0\n"
     ]
    },
    {
     "name": "stderr",
     "output_type": "stream",
     "text": [
      "Processing Customers:  96%|█████████▌| 24960/26060 [59:28<01:04, 17.17it/s]"
     ]
    },
    {
     "name": "stdout",
     "output_type": "stream",
     "text": [
      "     month_id     merchant_id  forecast\n",
      "0  2023-10-01  merchant_11812       4.0\n",
      "1  2023-11-01  merchant_11812       5.3\n",
      "2  2023-12-01  merchant_11812       6.0\n",
      "     month_id     merchant_id  forecast\n",
      "0  2023-10-01  merchant_12010       1.5\n",
      "1  2023-11-01  merchant_12010       2.0\n",
      "2  2023-12-01  merchant_12010       1.5\n",
      "     month_id     merchant_id  forecast\n",
      "0  2023-10-01  merchant_12072       3.5\n",
      "1  2023-11-01  merchant_12072       4.7\n",
      "2  2023-12-01  merchant_12072       5.5\n",
      "     month_id     merchant_id  forecast\n",
      "0  2023-10-01  merchant_12654       0.8\n",
      "1  2023-11-01  merchant_12654       1.0\n",
      "2  2023-12-01  merchant_12654       0.0\n"
     ]
    },
    {
     "name": "stderr",
     "output_type": "stream",
     "text": [
      "Processing Customers:  96%|█████████▌| 24964/26060 [59:28<01:03, 17.28it/s]"
     ]
    },
    {
     "name": "stdout",
     "output_type": "stream",
     "text": [
      "     month_id     merchant_id  forecast\n",
      "0  2023-10-01  merchant_12764       1.8\n",
      "1  2023-11-01  merchant_12764       2.3\n",
      "2  2023-12-01  merchant_12764       1.5\n",
      "     month_id     merchant_id  forecast\n",
      "0  2023-10-01  merchant_12857       1.5\n",
      "1  2023-11-01  merchant_12857       2.0\n",
      "2  2023-12-01  merchant_12857       1.5\n",
      "     month_id     merchant_id  forecast\n",
      "0  2023-10-01  merchant_13129       1.2\n",
      "1  2023-11-01  merchant_13129       1.7\n",
      "2  2023-12-01  merchant_13129       0.0\n",
      "     month_id   merchant_id  forecast\n",
      "0  2023-10-01  merchant_132       2.8\n",
      "1  2023-11-01  merchant_132       3.7\n",
      "2  2023-12-01  merchant_132       4.0\n"
     ]
    },
    {
     "name": "stderr",
     "output_type": "stream",
     "text": [
      "Processing Customers:  96%|█████████▌| 24968/26060 [59:28<01:01, 17.69it/s]"
     ]
    },
    {
     "name": "stdout",
     "output_type": "stream",
     "text": [
      "     month_id     merchant_id  forecast\n",
      "0  2023-10-01  merchant_13295       0.8\n",
      "1  2023-11-01  merchant_13295       1.0\n",
      "2  2023-12-01  merchant_13295       0.0\n",
      "     month_id    merchant_id  forecast\n",
      "0  2023-10-01  merchant_1341       1.8\n",
      "1  2023-11-01  merchant_1341       2.3\n",
      "2  2023-12-01  merchant_1341       2.0\n",
      "     month_id    merchant_id  forecast\n",
      "0  2023-10-01  merchant_1355       9.2\n",
      "1  2023-11-01  merchant_1355      12.3\n",
      "2  2023-12-01  merchant_1355      17.0\n",
      "     month_id     merchant_id  forecast\n",
      "0  2023-10-01  merchant_13605       1.0\n",
      "1  2023-11-01  merchant_13605       1.3\n",
      "2  2023-12-01  merchant_13605       0.0\n"
     ]
    },
    {
     "name": "stderr",
     "output_type": "stream",
     "text": [
      "Processing Customers:  96%|█████████▌| 24972/26060 [59:28<01:01, 17.74it/s]"
     ]
    },
    {
     "name": "stdout",
     "output_type": "stream",
     "text": [
      "     month_id     merchant_id  forecast\n",
      "0  2023-10-01  merchant_13641       0.8\n",
      "1  2023-11-01  merchant_13641       1.0\n",
      "2  2023-12-01  merchant_13641       0.0\n",
      "     month_id     merchant_id  forecast\n",
      "0  2023-10-01  merchant_13768       1.8\n",
      "1  2023-11-01  merchant_13768       2.3\n",
      "2  2023-12-01  merchant_13768       2.0\n",
      "     month_id    merchant_id  forecast\n",
      "0  2023-10-01  merchant_1414       4.5\n",
      "1  2023-11-01  merchant_1414       6.0\n",
      "2  2023-12-01  merchant_1414       6.0\n",
      "     month_id     merchant_id  forecast\n",
      "0  2023-10-01  merchant_14539       0.8\n",
      "1  2023-11-01  merchant_14539       1.0\n",
      "2  2023-12-01  merchant_14539       0.0\n"
     ]
    },
    {
     "name": "stderr",
     "output_type": "stream",
     "text": [
      "Processing Customers:  96%|█████████▌| 24976/26060 [59:29<01:01, 17.63it/s]"
     ]
    },
    {
     "name": "stdout",
     "output_type": "stream",
     "text": [
      "     month_id     merchant_id  forecast\n",
      "0  2023-10-01  merchant_14623       0.8\n",
      "1  2023-11-01  merchant_14623       1.0\n",
      "2  2023-12-01  merchant_14623       0.0\n",
      "     month_id     merchant_id  forecast\n",
      "0  2023-10-01  merchant_14627       2.0\n",
      "1  2023-11-01  merchant_14627       2.7\n",
      "2  2023-12-01  merchant_14627       2.0\n",
      "     month_id     merchant_id  forecast\n",
      "0  2023-10-01  merchant_14636       0.8\n",
      "1  2023-11-01  merchant_14636       1.0\n",
      "2  2023-12-01  merchant_14636       0.0\n",
      "     month_id     merchant_id  forecast\n",
      "0  2023-10-01  merchant_14885       1.8\n",
      "1  2023-11-01  merchant_14885       2.3\n",
      "2  2023-12-01  merchant_14885       1.5\n"
     ]
    },
    {
     "name": "stderr",
     "output_type": "stream",
     "text": [
      "Processing Customers:  96%|█████████▌| 24980/26060 [59:29<01:04, 16.81it/s]"
     ]
    },
    {
     "name": "stdout",
     "output_type": "stream",
     "text": [
      "     month_id     merchant_id  forecast\n",
      "0  2023-10-01  merchant_14916      96.0\n",
      "1  2023-11-01  merchant_14916     128.0\n",
      "2  2023-12-01  merchant_14916     182.0\n",
      "     month_id     merchant_id  forecast\n",
      "0  2023-10-01  merchant_15751       1.5\n",
      "1  2023-11-01  merchant_15751       2.0\n",
      "2  2023-12-01  merchant_15751       0.0\n",
      "     month_id     merchant_id  forecast\n",
      "0  2023-10-01  merchant_15797       1.0\n",
      "1  2023-11-01  merchant_15797       1.3\n",
      "2  2023-12-01  merchant_15797       0.0\n"
     ]
    },
    {
     "name": "stderr",
     "output_type": "stream",
     "text": [
      "Processing Customers:  96%|█████████▌| 24984/26060 [59:29<01:02, 17.13it/s]"
     ]
    },
    {
     "name": "stdout",
     "output_type": "stream",
     "text": [
      "     month_id     merchant_id  forecast\n",
      "0  2023-10-01  merchant_15999       0.8\n",
      "1  2023-11-01  merchant_15999       1.0\n",
      "2  2023-12-01  merchant_15999       0.0\n",
      "     month_id     merchant_id  forecast\n",
      "0  2023-10-01  merchant_16207      10.0\n",
      "1  2023-11-01  merchant_16207      13.3\n",
      "2  2023-12-01  merchant_16207      18.5\n",
      "     month_id     merchant_id  forecast\n",
      "0  2023-10-01  merchant_16267       3.2\n",
      "1  2023-11-01  merchant_16267       4.3\n",
      "2  2023-12-01  merchant_16267       4.0\n",
      "     month_id     merchant_id  forecast\n",
      "0  2023-10-01  merchant_16427       0.8\n",
      "1  2023-11-01  merchant_16427       1.0\n",
      "2  2023-12-01  merchant_16427       0.0\n",
      "     month_id     merchant_id  forecast\n",
      "0  2023-10-01  merchant_16488       1.5\n",
      "1  2023-11-01  merchant_16488       2.0\n",
      "2  2023-12-01  merchant_16488       1.5\n"
     ]
    },
    {
     "name": "stderr",
     "output_type": "stream",
     "text": [
      "Processing Customers:  96%|█████████▌| 24988/26060 [59:29<01:03, 16.99it/s]"
     ]
    },
    {
     "name": "stdout",
     "output_type": "stream",
     "text": [
      "     month_id     merchant_id  forecast\n",
      "0  2023-10-01  merchant_16491      11.8\n",
      "1  2023-11-01  merchant_16491      15.7\n",
      "2  2023-12-01  merchant_16491       0.0\n",
      "     month_id     merchant_id  forecast\n",
      "0  2023-10-01  merchant_16551       0.8\n",
      "1  2023-11-01  merchant_16551       1.0\n",
      "2  2023-12-01  merchant_16551       0.0\n",
      "     month_id     merchant_id  forecast\n",
      "0  2023-10-01  merchant_16663       3.2\n",
      "1  2023-11-01  merchant_16663       4.3\n",
      "2  2023-12-01  merchant_16663       4.5\n",
      "     month_id     merchant_id  forecast\n",
      "0  2023-10-01  merchant_16690       0.8\n",
      "1  2023-11-01  merchant_16690       1.0\n",
      "2  2023-12-01  merchant_16690       0.0\n"
     ]
    },
    {
     "name": "stderr",
     "output_type": "stream",
     "text": [
      "Processing Customers:  96%|█████████▌| 24992/26060 [59:29<01:01, 17.44it/s]"
     ]
    },
    {
     "name": "stdout",
     "output_type": "stream",
     "text": [
      "     month_id    merchant_id  forecast\n",
      "0  2023-10-01  merchant_1699       1.5\n",
      "1  2023-11-01  merchant_1699       2.0\n",
      "2  2023-12-01  merchant_1699       1.5\n",
      "     month_id     merchant_id  forecast\n",
      "0  2023-10-01  merchant_17006       3.8\n",
      "1  2023-11-01  merchant_17006       5.0\n",
      "2  2023-12-01  merchant_17006       5.5\n",
      "     month_id    merchant_id  forecast\n",
      "0  2023-10-01  merchant_1716       0.8\n",
      "1  2023-11-01  merchant_1716       1.0\n",
      "2  2023-12-01  merchant_1716       0.0\n",
      "     month_id     merchant_id  forecast\n",
      "0  2023-10-01  merchant_17215       3.5\n",
      "1  2023-11-01  merchant_17215       4.7\n",
      "2  2023-12-01  merchant_17215       5.5\n"
     ]
    },
    {
     "name": "stderr",
     "output_type": "stream",
     "text": [
      "Processing Customers:  96%|█████████▌| 24996/26060 [59:30<01:01, 17.39it/s]"
     ]
    },
    {
     "name": "stdout",
     "output_type": "stream",
     "text": [
      "     month_id     merchant_id  forecast\n",
      "0  2023-10-01  merchant_17269       0.8\n",
      "1  2023-11-01  merchant_17269       1.0\n",
      "2  2023-12-01  merchant_17269       0.0\n",
      "     month_id     merchant_id  forecast\n",
      "0  2023-10-01  merchant_17464       4.5\n",
      "1  2023-11-01  merchant_17464       6.0\n",
      "2  2023-12-01  merchant_17464       6.0\n",
      "     month_id     merchant_id  forecast\n",
      "0  2023-10-01  merchant_17521       3.2\n",
      "1  2023-11-01  merchant_17521       4.3\n",
      "2  2023-12-01  merchant_17521       0.0\n",
      "     month_id     merchant_id  forecast\n",
      "0  2023-10-01  merchant_18106       0.8\n",
      "1  2023-11-01  merchant_18106       1.0\n",
      "2  2023-12-01  merchant_18106       0.0\n"
     ]
    },
    {
     "name": "stderr",
     "output_type": "stream",
     "text": [
      "Processing Customers:  96%|█████████▌| 25000/26060 [59:30<01:00, 17.47it/s]"
     ]
    },
    {
     "name": "stdout",
     "output_type": "stream",
     "text": [
      "     month_id     merchant_id  forecast\n",
      "0  2023-10-01  merchant_18174       2.8\n",
      "1  2023-11-01  merchant_18174       3.7\n",
      "2  2023-12-01  merchant_18174       4.0\n",
      "     month_id     merchant_id  forecast\n",
      "0  2023-10-01  merchant_18322       2.5\n",
      "1  2023-11-01  merchant_18322       3.3\n",
      "2  2023-12-01  merchant_18322       3.0\n",
      "     month_id     merchant_id  forecast\n",
      "0  2023-10-01  merchant_18412       2.2\n",
      "1  2023-11-01  merchant_18412       3.0\n",
      "2  2023-12-01  merchant_18412       3.0\n",
      "     month_id    merchant_id  forecast\n",
      "0  2023-10-01  merchant_1842       0.8\n",
      "1  2023-11-01  merchant_1842       1.0\n",
      "2  2023-12-01  merchant_1842       0.0\n"
     ]
    },
    {
     "name": "stderr",
     "output_type": "stream",
     "text": [
      "Processing Customers:  96%|█████████▌| 25004/26060 [59:30<01:00, 17.57it/s]"
     ]
    },
    {
     "name": "stdout",
     "output_type": "stream",
     "text": [
      "     month_id    merchant_id  forecast\n",
      "0  2023-10-01  merchant_1846       4.5\n",
      "1  2023-11-01  merchant_1846       6.0\n",
      "2  2023-12-01  merchant_1846       7.0\n",
      "     month_id     merchant_id  forecast\n",
      "0  2023-10-01  merchant_18603       1.5\n",
      "1  2023-11-01  merchant_18603       2.0\n",
      "2  2023-12-01  merchant_18603       1.5\n",
      "     month_id     merchant_id  forecast\n",
      "0  2023-10-01  merchant_18862       0.8\n",
      "1  2023-11-01  merchant_18862       1.0\n",
      "2  2023-12-01  merchant_18862       0.0\n",
      "     month_id     merchant_id  forecast\n",
      "0  2023-10-01  merchant_19253       2.5\n",
      "1  2023-11-01  merchant_19253       3.3\n",
      "2  2023-12-01  merchant_19253       3.5\n"
     ]
    },
    {
     "name": "stderr",
     "output_type": "stream",
     "text": [
      "Processing Customers:  96%|█████████▌| 25008/26060 [59:30<01:00, 17.44it/s]"
     ]
    },
    {
     "name": "stdout",
     "output_type": "stream",
     "text": [
      "     month_id     merchant_id  forecast\n",
      "0  2023-10-01  merchant_19317       2.8\n",
      "1  2023-11-01  merchant_19317       3.7\n",
      "2  2023-12-01  merchant_19317       3.0\n",
      "     month_id     merchant_id  forecast\n",
      "0  2023-10-01  merchant_19332       0.8\n",
      "1  2023-11-01  merchant_19332       1.0\n",
      "2  2023-12-01  merchant_19332       0.0\n",
      "     month_id     merchant_id  forecast\n",
      "0  2023-10-01  merchant_19390       4.0\n",
      "1  2023-11-01  merchant_19390       5.3\n",
      "2  2023-12-01  merchant_19390       6.5\n",
      "     month_id     merchant_id  forecast\n",
      "0  2023-10-01  merchant_19469      60.2\n",
      "1  2023-11-01  merchant_19469      80.3\n",
      "2  2023-12-01  merchant_19469      85.0\n"
     ]
    },
    {
     "name": "stderr",
     "output_type": "stream",
     "text": [
      "Processing Customers:  96%|█████████▌| 25012/26060 [59:31<01:02, 16.78it/s]"
     ]
    },
    {
     "name": "stdout",
     "output_type": "stream",
     "text": [
      "     month_id     merchant_id  forecast\n",
      "0  2023-10-01  merchant_20067       1.0\n",
      "1  2023-11-01  merchant_20067       1.3\n",
      "2  2023-12-01  merchant_20067       0.0\n",
      "     month_id     merchant_id  forecast\n",
      "0  2023-10-01  merchant_20753      82.0\n",
      "1  2023-11-01  merchant_20753     109.3\n",
      "2  2023-12-01  merchant_20753     148.0\n",
      "     month_id    merchant_id  forecast\n",
      "0  2023-10-01  merchant_2077       2.8\n",
      "1  2023-11-01  merchant_2077       3.7\n",
      "2  2023-12-01  merchant_2077       2.0\n",
      "     month_id     merchant_id  forecast\n",
      "0  2023-10-01  merchant_20943       2.8\n",
      "1  2023-11-01  merchant_20943       3.7\n",
      "2  2023-12-01  merchant_20943       4.0\n"
     ]
    },
    {
     "name": "stderr",
     "output_type": "stream",
     "text": [
      "Processing Customers:  96%|█████████▌| 25016/26060 [59:31<00:59, 17.53it/s]"
     ]
    },
    {
     "name": "stdout",
     "output_type": "stream",
     "text": [
      "     month_id     merchant_id  forecast\n",
      "0  2023-10-01  merchant_21170       2.5\n",
      "1  2023-11-01  merchant_21170       3.3\n",
      "2  2023-12-01  merchant_21170       3.5\n",
      "     month_id    merchant_id  forecast\n",
      "0  2023-10-01  merchant_2121       0.8\n",
      "1  2023-11-01  merchant_2121       1.0\n",
      "2  2023-12-01  merchant_2121       0.0\n",
      "     month_id    merchant_id  forecast\n",
      "0  2023-10-01  merchant_2130       3.5\n",
      "1  2023-11-01  merchant_2130       4.7\n",
      "2  2023-12-01  merchant_2130       5.0\n",
      "     month_id     merchant_id  forecast\n",
      "0  2023-10-01  merchant_21316      82.8\n",
      "1  2023-11-01  merchant_21316     110.3\n",
      "2  2023-12-01  merchant_21316     109.5\n"
     ]
    },
    {
     "name": "stderr",
     "output_type": "stream",
     "text": [
      "Processing Customers:  96%|█████████▌| 25020/26060 [59:31<00:59, 17.36it/s]"
     ]
    },
    {
     "name": "stdout",
     "output_type": "stream",
     "text": [
      "     month_id     merchant_id  forecast\n",
      "0  2023-10-01  merchant_21331       1.5\n",
      "1  2023-11-01  merchant_21331       2.0\n",
      "2  2023-12-01  merchant_21331       0.0\n",
      "     month_id     merchant_id  forecast\n",
      "0  2023-10-01  merchant_21401       0.8\n",
      "1  2023-11-01  merchant_21401       1.0\n",
      "2  2023-12-01  merchant_21401       0.0\n",
      "     month_id     merchant_id  forecast\n",
      "0  2023-10-01  merchant_21851       2.2\n",
      "1  2023-11-01  merchant_21851       3.0\n",
      "2  2023-12-01  merchant_21851       2.0\n",
      "     month_id     merchant_id  forecast\n",
      "0  2023-10-01  merchant_21992       5.0\n",
      "1  2023-11-01  merchant_21992       6.7\n",
      "2  2023-12-01  merchant_21992       6.0\n"
     ]
    },
    {
     "name": "stderr",
     "output_type": "stream",
     "text": [
      "Processing Customers:  96%|█████████▌| 25024/26060 [59:31<00:59, 17.50it/s]"
     ]
    },
    {
     "name": "stdout",
     "output_type": "stream",
     "text": [
      "     month_id     merchant_id  forecast\n",
      "0  2023-10-01  merchant_22169      90.5\n",
      "1  2023-11-01  merchant_22169     120.7\n",
      "2  2023-12-01  merchant_22169     117.5\n",
      "     month_id     merchant_id  forecast\n",
      "0  2023-10-01  merchant_22202       7.0\n",
      "1  2023-11-01  merchant_22202       9.3\n",
      "2  2023-12-01  merchant_22202      12.0\n",
      "     month_id    merchant_id  forecast\n",
      "0  2023-10-01  merchant_2222       0.8\n",
      "1  2023-11-01  merchant_2222       1.0\n",
      "2  2023-12-01  merchant_2222       0.0\n",
      "     month_id     merchant_id  forecast\n",
      "0  2023-10-01  merchant_22224       2.5\n",
      "1  2023-11-01  merchant_22224       3.3\n",
      "2  2023-12-01  merchant_22224       3.5\n"
     ]
    },
    {
     "name": "stderr",
     "output_type": "stream",
     "text": [
      "Processing Customers:  96%|█████████▌| 25028/26060 [59:32<00:58, 17.51it/s]"
     ]
    },
    {
     "name": "stdout",
     "output_type": "stream",
     "text": [
      "     month_id     merchant_id  forecast\n",
      "0  2023-10-01  merchant_22644       1.8\n",
      "1  2023-11-01  merchant_22644       2.3\n",
      "2  2023-12-01  merchant_22644       2.0\n",
      "     month_id     merchant_id  forecast\n",
      "0  2023-10-01  merchant_22757       3.5\n",
      "1  2023-11-01  merchant_22757       4.7\n",
      "2  2023-12-01  merchant_22757       4.5\n",
      "     month_id     merchant_id  forecast\n",
      "0  2023-10-01  merchant_22781       2.2\n",
      "1  2023-11-01  merchant_22781       3.0\n",
      "2  2023-12-01  merchant_22781       2.5\n",
      "     month_id    merchant_id  forecast\n",
      "0  2023-10-01  merchant_2283       1.5\n",
      "1  2023-11-01  merchant_2283       2.0\n",
      "2  2023-12-01  merchant_2283       1.5\n"
     ]
    },
    {
     "name": "stderr",
     "output_type": "stream",
     "text": [
      "Processing Customers:  96%|█████████▌| 25032/26060 [59:32<00:58, 17.67it/s]"
     ]
    },
    {
     "name": "stdout",
     "output_type": "stream",
     "text": [
      "     month_id     merchant_id  forecast\n",
      "0  2023-10-01  merchant_22929       0.8\n",
      "1  2023-11-01  merchant_22929       1.0\n",
      "2  2023-12-01  merchant_22929       0.0\n",
      "     month_id     merchant_id  forecast\n",
      "0  2023-10-01  merchant_23138       3.8\n",
      "1  2023-11-01  merchant_23138       5.0\n",
      "2  2023-12-01  merchant_23138       5.0\n",
      "     month_id     merchant_id  forecast\n",
      "0  2023-10-01  merchant_23149       0.8\n",
      "1  2023-11-01  merchant_23149       1.0\n",
      "2  2023-12-01  merchant_23149       0.0\n",
      "     month_id     merchant_id  forecast\n",
      "0  2023-10-01  merchant_23665       0.8\n",
      "1  2023-11-01  merchant_23665       1.0\n",
      "2  2023-12-01  merchant_23665       0.0\n"
     ]
    },
    {
     "name": "stderr",
     "output_type": "stream",
     "text": [
      "Processing Customers:  96%|█████████▌| 25036/26060 [59:32<00:57, 17.74it/s]"
     ]
    },
    {
     "name": "stdout",
     "output_type": "stream",
     "text": [
      "     month_id     merchant_id  forecast\n",
      "0  2023-10-01  merchant_23852       3.2\n",
      "1  2023-11-01  merchant_23852       4.3\n",
      "2  2023-12-01  merchant_23852       3.5\n",
      "     month_id    merchant_id  forecast\n",
      "0  2023-10-01  merchant_2420       0.8\n",
      "1  2023-11-01  merchant_2420       1.0\n",
      "2  2023-12-01  merchant_2420       0.0\n",
      "     month_id     merchant_id  forecast\n",
      "0  2023-10-01  merchant_24272       3.8\n",
      "1  2023-11-01  merchant_24272       5.0\n",
      "2  2023-12-01  merchant_24272       5.0\n",
      "     month_id     merchant_id  forecast\n",
      "0  2023-10-01  merchant_24433      10.0\n",
      "1  2023-11-01  merchant_24433      13.3\n",
      "2  2023-12-01  merchant_24433      18.0\n"
     ]
    },
    {
     "name": "stderr",
     "output_type": "stream",
     "text": [
      "Processing Customers:  96%|█████████▌| 25040/26060 [59:32<00:57, 17.77it/s]"
     ]
    },
    {
     "name": "stdout",
     "output_type": "stream",
     "text": [
      "     month_id     merchant_id  forecast\n",
      "0  2023-10-01  merchant_24435       1.0\n",
      "1  2023-11-01  merchant_24435       1.3\n",
      "2  2023-12-01  merchant_24435       0.0\n",
      "     month_id     merchant_id  forecast\n",
      "0  2023-10-01  merchant_24537       1.8\n",
      "1  2023-11-01  merchant_24537       2.3\n",
      "2  2023-12-01  merchant_24537       2.0\n",
      "     month_id     merchant_id  forecast\n",
      "0  2023-10-01  merchant_24549       2.0\n",
      "1  2023-11-01  merchant_24549       2.7\n",
      "2  2023-12-01  merchant_24549       1.5\n",
      "     month_id     merchant_id  forecast\n",
      "0  2023-10-01  merchant_24575       1.0\n",
      "1  2023-11-01  merchant_24575       1.3\n",
      "2  2023-12-01  merchant_24575       0.0\n"
     ]
    },
    {
     "name": "stderr",
     "output_type": "stream",
     "text": [
      "Processing Customers:  96%|█████████▌| 25044/26060 [59:32<00:58, 17.36it/s]"
     ]
    },
    {
     "name": "stdout",
     "output_type": "stream",
     "text": [
      "     month_id     merchant_id  forecast\n",
      "0  2023-10-01  merchant_24758       0.8\n",
      "1  2023-11-01  merchant_24758       1.0\n",
      "2  2023-12-01  merchant_24758       0.0\n",
      "     month_id     merchant_id  forecast\n",
      "0  2023-10-01  merchant_24926       1.8\n",
      "1  2023-11-01  merchant_24926       2.3\n",
      "2  2023-12-01  merchant_24926       1.5\n",
      "     month_id     merchant_id  forecast\n",
      "0  2023-10-01  merchant_24982       1.0\n",
      "1  2023-11-01  merchant_24982       1.3\n",
      "2  2023-12-01  merchant_24982       0.0\n",
      "     month_id     merchant_id  forecast\n",
      "0  2023-10-01  merchant_25194       7.8\n",
      "1  2023-11-01  merchant_25194      10.3\n",
      "2  2023-12-01  merchant_25194      12.5\n"
     ]
    },
    {
     "name": "stderr",
     "output_type": "stream",
     "text": [
      "Processing Customers:  96%|█████████▌| 25048/26060 [59:33<01:01, 16.57it/s]"
     ]
    },
    {
     "name": "stdout",
     "output_type": "stream",
     "text": [
      "     month_id     merchant_id  forecast\n",
      "0  2023-10-01  merchant_25321       2.8\n",
      "1  2023-11-01  merchant_25321       3.7\n",
      "2  2023-12-01  merchant_25321       4.0\n",
      "     month_id     merchant_id  forecast\n",
      "0  2023-10-01  merchant_25383       9.2\n",
      "1  2023-11-01  merchant_25383      12.3\n",
      "2  2023-12-01  merchant_25383       8.0\n",
      "     month_id     merchant_id  forecast\n",
      "0  2023-10-01  merchant_25430       0.8\n",
      "1  2023-11-01  merchant_25430       1.0\n",
      "2  2023-12-01  merchant_25430       0.0\n"
     ]
    },
    {
     "name": "stderr",
     "output_type": "stream",
     "text": [
      "Processing Customers:  96%|█████████▌| 25052/26060 [59:33<00:59, 16.88it/s]"
     ]
    },
    {
     "name": "stdout",
     "output_type": "stream",
     "text": [
      "     month_id     merchant_id  forecast\n",
      "0  2023-10-01  merchant_25505       0.8\n",
      "1  2023-11-01  merchant_25505       1.0\n",
      "2  2023-12-01  merchant_25505       0.0\n",
      "     month_id     merchant_id  forecast\n",
      "0  2023-10-01  merchant_25533       0.8\n",
      "1  2023-11-01  merchant_25533       1.0\n",
      "2  2023-12-01  merchant_25533       0.0\n",
      "     month_id     merchant_id  forecast\n",
      "0  2023-10-01  merchant_25643       0.8\n",
      "1  2023-11-01  merchant_25643       1.0\n",
      "2  2023-12-01  merchant_25643       0.0\n",
      "     month_id     merchant_id  forecast\n",
      "0  2023-10-01  merchant_25708       2.2\n",
      "1  2023-11-01  merchant_25708       3.0\n",
      "2  2023-12-01  merchant_25708       3.0\n",
      "     month_id     merchant_id  forecast\n",
      "0  2023-10-01  merchant_25830       1.5\n",
      "1  2023-11-01  merchant_25830       2.0\n",
      "2  2023-12-01  merchant_25830       1.5\n"
     ]
    },
    {
     "name": "stderr",
     "output_type": "stream",
     "text": [
      "Processing Customers:  96%|█████████▌| 25056/26060 [59:33<00:58, 17.11it/s]"
     ]
    },
    {
     "name": "stdout",
     "output_type": "stream",
     "text": [
      "     month_id     merchant_id  forecast\n",
      "0  2023-10-01  merchant_26097       0.8\n",
      "1  2023-11-01  merchant_26097       1.0\n",
      "2  2023-12-01  merchant_26097       0.0\n",
      "     month_id     merchant_id  forecast\n",
      "0  2023-10-01  merchant_26681       1.0\n",
      "1  2023-11-01  merchant_26681       1.3\n",
      "2  2023-12-01  merchant_26681       0.0\n",
      "     month_id     merchant_id  forecast\n",
      "0  2023-10-01  merchant_26706       1.5\n",
      "1  2023-11-01  merchant_26706       2.0\n",
      "2  2023-12-01  merchant_26706       1.5\n",
      "     month_id     merchant_id  forecast\n",
      "0  2023-10-01  merchant_26913       3.2\n",
      "1  2023-11-01  merchant_26913       4.3\n",
      "2  2023-12-01  merchant_26913       4.5\n"
     ]
    },
    {
     "name": "stderr",
     "output_type": "stream",
     "text": [
      "Processing Customers:  96%|█████████▌| 25060/26060 [59:33<00:58, 17.08it/s]"
     ]
    },
    {
     "name": "stdout",
     "output_type": "stream",
     "text": [
      "     month_id     merchant_id  forecast\n",
      "0  2023-10-01  merchant_27010       2.8\n",
      "1  2023-11-01  merchant_27010       3.7\n",
      "2  2023-12-01  merchant_27010       4.0\n",
      "     month_id    merchant_id  forecast\n",
      "0  2023-10-01  merchant_2721       1.8\n",
      "1  2023-11-01  merchant_2721       2.3\n",
      "2  2023-12-01  merchant_2721       2.0\n",
      "     month_id     merchant_id  forecast\n",
      "0  2023-10-01  merchant_27909       3.0\n",
      "1  2023-11-01  merchant_27909       4.0\n",
      "2  2023-12-01  merchant_27909       4.5\n",
      "     month_id    merchant_id  forecast\n",
      "0  2023-10-01  merchant_2804       0.8\n",
      "1  2023-11-01  merchant_2804       1.0\n",
      "2  2023-12-01  merchant_2804       0.0\n"
     ]
    },
    {
     "name": "stderr",
     "output_type": "stream",
     "text": [
      "Processing Customers:  96%|█████████▌| 25064/26060 [59:34<00:57, 17.20it/s]"
     ]
    },
    {
     "name": "stdout",
     "output_type": "stream",
     "text": [
      "     month_id    merchant_id  forecast\n",
      "0  2023-10-01  merchant_2833       1.5\n",
      "1  2023-11-01  merchant_2833       2.0\n",
      "2  2023-12-01  merchant_2833       1.5\n",
      "     month_id     merchant_id  forecast\n",
      "0  2023-10-01  merchant_28383       1.5\n",
      "1  2023-11-01  merchant_28383       2.0\n",
      "2  2023-12-01  merchant_28383       1.5\n",
      "     month_id     merchant_id  forecast\n",
      "0  2023-10-01  merchant_28423       1.5\n",
      "1  2023-11-01  merchant_28423       2.0\n",
      "2  2023-12-01  merchant_28423       1.5\n",
      "     month_id     merchant_id  forecast\n",
      "0  2023-10-01  merchant_28505       0.8\n",
      "1  2023-11-01  merchant_28505       1.0\n",
      "2  2023-12-01  merchant_28505       0.0\n"
     ]
    },
    {
     "name": "stderr",
     "output_type": "stream",
     "text": [
      "Processing Customers:  96%|█████████▌| 25068/26060 [59:34<00:57, 17.29it/s]"
     ]
    },
    {
     "name": "stdout",
     "output_type": "stream",
     "text": [
      "     month_id     merchant_id  forecast\n",
      "0  2023-10-01  merchant_28586       2.0\n",
      "1  2023-11-01  merchant_28586       2.7\n",
      "2  2023-12-01  merchant_28586       2.0\n",
      "     month_id     merchant_id  forecast\n",
      "0  2023-10-01  merchant_28739       5.5\n",
      "1  2023-11-01  merchant_28739       7.3\n",
      "2  2023-12-01  merchant_28739       7.0\n",
      "     month_id     merchant_id  forecast\n",
      "0  2023-10-01  merchant_28975       1.8\n",
      "1  2023-11-01  merchant_28975       2.3\n",
      "2  2023-12-01  merchant_28975       1.5\n",
      "     month_id     merchant_id  forecast\n",
      "0  2023-10-01  merchant_29037       3.5\n",
      "1  2023-11-01  merchant_29037       4.7\n",
      "2  2023-12-01  merchant_29037       4.5\n"
     ]
    },
    {
     "name": "stderr",
     "output_type": "stream",
     "text": [
      "Processing Customers:  96%|█████████▌| 25072/26060 [59:34<00:57, 17.19it/s]"
     ]
    },
    {
     "name": "stdout",
     "output_type": "stream",
     "text": [
      "     month_id     merchant_id  forecast\n",
      "0  2023-10-01  merchant_29365       0.8\n",
      "1  2023-11-01  merchant_29365       1.0\n",
      "2  2023-12-01  merchant_29365       0.0\n",
      "     month_id     merchant_id  forecast\n",
      "0  2023-10-01  merchant_29427      19.0\n",
      "1  2023-11-01  merchant_29427      25.3\n",
      "2  2023-12-01  merchant_29427      31.5\n",
      "     month_id     merchant_id  forecast\n",
      "0  2023-10-01  merchant_29438       1.8\n",
      "1  2023-11-01  merchant_29438       2.3\n",
      "2  2023-12-01  merchant_29438       1.5\n",
      "     month_id    merchant_id  forecast\n",
      "0  2023-10-01  merchant_2949      24.8\n",
      "1  2023-11-01  merchant_2949      33.0\n",
      "2  2023-12-01  merchant_2949      39.5\n"
     ]
    },
    {
     "name": "stderr",
     "output_type": "stream",
     "text": [
      "Processing Customers:  96%|█████████▌| 25076/26060 [59:34<00:56, 17.46it/s]"
     ]
    },
    {
     "name": "stdout",
     "output_type": "stream",
     "text": [
      "     month_id     merchant_id  forecast\n",
      "0  2023-10-01  merchant_29506       0.8\n",
      "1  2023-11-01  merchant_29506       1.0\n",
      "2  2023-12-01  merchant_29506       0.0\n",
      "     month_id     merchant_id  forecast\n",
      "0  2023-10-01  merchant_29770       0.8\n",
      "1  2023-11-01  merchant_29770       1.0\n",
      "2  2023-12-01  merchant_29770       0.0\n",
      "     month_id     merchant_id  forecast\n",
      "0  2023-10-01  merchant_30077       1.5\n",
      "1  2023-11-01  merchant_30077       2.0\n",
      "2  2023-12-01  merchant_30077       1.5\n",
      "     month_id     merchant_id  forecast\n",
      "0  2023-10-01  merchant_30100     158.5\n",
      "1  2023-11-01  merchant_30100     211.3\n",
      "2  2023-12-01  merchant_30100     235.0\n"
     ]
    },
    {
     "name": "stderr",
     "output_type": "stream",
     "text": [
      "Processing Customers:  96%|█████████▌| 25080/26060 [59:35<00:56, 17.45it/s]"
     ]
    },
    {
     "name": "stdout",
     "output_type": "stream",
     "text": [
      "     month_id     merchant_id  forecast\n",
      "0  2023-10-01  merchant_30256       1.5\n",
      "1  2023-11-01  merchant_30256       2.0\n",
      "2  2023-12-01  merchant_30256       1.5\n",
      "     month_id     merchant_id  forecast\n",
      "0  2023-10-01  merchant_30498       2.0\n",
      "1  2023-11-01  merchant_30498       2.7\n",
      "2  2023-12-01  merchant_30498       2.0\n",
      "     month_id     merchant_id  forecast\n",
      "0  2023-10-01  merchant_30592       0.8\n",
      "1  2023-11-01  merchant_30592       1.0\n",
      "2  2023-12-01  merchant_30592       0.0\n",
      "     month_id    merchant_id  forecast\n",
      "0  2023-10-01  merchant_3061       1.2\n",
      "1  2023-11-01  merchant_3061       1.7\n",
      "2  2023-12-01  merchant_3061       0.0\n"
     ]
    },
    {
     "name": "stderr",
     "output_type": "stream",
     "text": [
      "Processing Customers:  96%|█████████▋| 25084/26060 [59:35<00:57, 17.03it/s]"
     ]
    },
    {
     "name": "stdout",
     "output_type": "stream",
     "text": [
      "     month_id    merchant_id  forecast\n",
      "0  2023-10-01  merchant_3080      21.8\n",
      "1  2023-11-01  merchant_3080      29.0\n",
      "2  2023-12-01  merchant_3080       5.0\n",
      "     month_id     merchant_id  forecast\n",
      "0  2023-10-01  merchant_31143       0.8\n",
      "1  2023-11-01  merchant_31143       1.0\n",
      "2  2023-12-01  merchant_31143       0.0\n",
      "     month_id     merchant_id  forecast\n",
      "0  2023-10-01  merchant_31363       1.5\n",
      "1  2023-11-01  merchant_31363       2.0\n",
      "2  2023-12-01  merchant_31363       1.5\n"
     ]
    },
    {
     "name": "stderr",
     "output_type": "stream",
     "text": [
      "Processing Customers:  96%|█████████▋| 25088/26060 [59:35<00:55, 17.42it/s]"
     ]
    },
    {
     "name": "stdout",
     "output_type": "stream",
     "text": [
      "     month_id     merchant_id  forecast\n",
      "0  2023-10-01  merchant_31510       1.0\n",
      "1  2023-11-01  merchant_31510       1.3\n",
      "2  2023-12-01  merchant_31510       0.0\n",
      "     month_id     merchant_id  forecast\n",
      "0  2023-10-01  merchant_31844       0.8\n",
      "1  2023-11-01  merchant_31844       1.0\n",
      "2  2023-12-01  merchant_31844       0.0\n",
      "     month_id    merchant_id  forecast\n",
      "0  2023-10-01  merchant_3189       0.8\n",
      "1  2023-11-01  merchant_3189       1.0\n",
      "2  2023-12-01  merchant_3189       0.0\n",
      "     month_id     merchant_id  forecast\n",
      "0  2023-10-01  merchant_31895       2.0\n",
      "1  2023-11-01  merchant_31895       2.7\n",
      "2  2023-12-01  merchant_31895       2.0\n",
      "     month_id     merchant_id  forecast\n",
      "0  2023-10-01  merchant_32214       0.8\n",
      "1  2023-11-01  merchant_32214       1.0\n",
      "2  2023-12-01  merchant_32214       0.0\n"
     ]
    },
    {
     "name": "stderr",
     "output_type": "stream",
     "text": [
      "Processing Customers:  96%|█████████▋| 25092/26060 [59:35<00:54, 17.74it/s]"
     ]
    },
    {
     "name": "stdout",
     "output_type": "stream",
     "text": [
      "     month_id     merchant_id  forecast\n",
      "0  2023-10-01  merchant_32275       0.8\n",
      "1  2023-11-01  merchant_32275       1.0\n",
      "2  2023-12-01  merchant_32275       0.0\n",
      "     month_id    merchant_id  forecast\n",
      "0  2023-10-01  merchant_3248       1.0\n",
      "1  2023-11-01  merchant_3248       1.3\n",
      "2  2023-12-01  merchant_3248       0.0\n",
      "     month_id     merchant_id  forecast\n",
      "0  2023-10-01  merchant_32628       2.0\n",
      "1  2023-11-01  merchant_32628       2.7\n",
      "2  2023-12-01  merchant_32628       2.0\n",
      "     month_id     merchant_id  forecast\n",
      "0  2023-10-01  merchant_32702      20.5\n",
      "1  2023-11-01  merchant_32702      27.3\n",
      "2  2023-12-01  merchant_32702      38.0\n"
     ]
    },
    {
     "name": "stderr",
     "output_type": "stream",
     "text": [
      "Processing Customers:  96%|█████████▋| 25096/26060 [59:35<00:54, 17.64it/s]"
     ]
    },
    {
     "name": "stdout",
     "output_type": "stream",
     "text": [
      "     month_id     merchant_id  forecast\n",
      "0  2023-10-01  merchant_32988       0.8\n",
      "1  2023-11-01  merchant_32988       1.0\n",
      "2  2023-12-01  merchant_32988       0.0\n",
      "     month_id    merchant_id  forecast\n",
      "0  2023-10-01  merchant_3299       0.8\n",
      "1  2023-11-01  merchant_3299       1.0\n",
      "2  2023-12-01  merchant_3299       0.0\n",
      "     month_id     merchant_id  forecast\n",
      "0  2023-10-01  merchant_33195       1.0\n",
      "1  2023-11-01  merchant_33195       1.3\n",
      "2  2023-12-01  merchant_33195       0.0\n",
      "     month_id     merchant_id  forecast\n",
      "0  2023-10-01  merchant_33546       0.8\n",
      "1  2023-11-01  merchant_33546       1.0\n",
      "2  2023-12-01  merchant_33546       0.0\n"
     ]
    },
    {
     "name": "stderr",
     "output_type": "stream",
     "text": [
      "Processing Customers:  96%|█████████▋| 25100/26060 [59:36<00:53, 17.95it/s]"
     ]
    },
    {
     "name": "stdout",
     "output_type": "stream",
     "text": [
      "     month_id     merchant_id  forecast\n",
      "0  2023-10-01  merchant_33872       2.8\n",
      "1  2023-11-01  merchant_33872       3.7\n",
      "2  2023-12-01  merchant_33872       3.5\n",
      "     month_id     merchant_id  forecast\n",
      "0  2023-10-01  merchant_34021       0.8\n",
      "1  2023-11-01  merchant_34021       1.0\n",
      "2  2023-12-01  merchant_34021       0.0\n",
      "     month_id    merchant_id  forecast\n",
      "0  2023-10-01  merchant_3438       2.8\n",
      "1  2023-11-01  merchant_3438       3.7\n",
      "2  2023-12-01  merchant_3438       3.5\n",
      "     month_id     merchant_id  forecast\n",
      "0  2023-10-01  merchant_34855       1.0\n",
      "1  2023-11-01  merchant_34855       1.3\n",
      "2  2023-12-01  merchant_34855       0.0\n"
     ]
    },
    {
     "name": "stderr",
     "output_type": "stream",
     "text": [
      "Processing Customers:  96%|█████████▋| 25104/26060 [59:36<00:56, 17.04it/s]"
     ]
    },
    {
     "name": "stdout",
     "output_type": "stream",
     "text": [
      "     month_id     merchant_id  forecast\n",
      "0  2023-10-01  merchant_35049       1.0\n",
      "1  2023-11-01  merchant_35049       1.3\n",
      "2  2023-12-01  merchant_35049       0.0\n",
      "     month_id     merchant_id  forecast\n",
      "0  2023-10-01  merchant_35513       0.8\n",
      "1  2023-11-01  merchant_35513       1.0\n",
      "2  2023-12-01  merchant_35513       0.0\n",
      "     month_id     merchant_id  forecast\n",
      "0  2023-10-01  merchant_35988       1.0\n",
      "1  2023-11-01  merchant_35988       1.3\n",
      "2  2023-12-01  merchant_35988       0.0\n",
      "     month_id     merchant_id  forecast\n",
      "0  2023-10-01  merchant_36043       1.5\n",
      "1  2023-11-01  merchant_36043       2.0\n",
      "2  2023-12-01  merchant_36043       0.0\n"
     ]
    },
    {
     "name": "stderr",
     "output_type": "stream",
     "text": [
      "Processing Customers:  96%|█████████▋| 25108/26060 [59:36<00:55, 17.30it/s]"
     ]
    },
    {
     "name": "stdout",
     "output_type": "stream",
     "text": [
      "     month_id     merchant_id  forecast\n",
      "0  2023-10-01  merchant_36250       6.5\n",
      "1  2023-11-01  merchant_36250       8.7\n",
      "2  2023-12-01  merchant_36250       9.5\n",
      "     month_id     merchant_id  forecast\n",
      "0  2023-10-01  merchant_36323       0.8\n",
      "1  2023-11-01  merchant_36323       1.0\n",
      "2  2023-12-01  merchant_36323       0.0\n",
      "     month_id     merchant_id  forecast\n",
      "0  2023-10-01  merchant_36636       1.8\n",
      "1  2023-11-01  merchant_36636       2.3\n",
      "2  2023-12-01  merchant_36636       2.0\n",
      "     month_id    merchant_id  forecast\n",
      "0  2023-10-01  merchant_3666       3.5\n",
      "1  2023-11-01  merchant_3666       4.7\n",
      "2  2023-12-01  merchant_3666       5.0\n"
     ]
    },
    {
     "name": "stderr",
     "output_type": "stream",
     "text": [
      "Processing Customers:  96%|█████████▋| 25112/26060 [59:36<00:53, 17.60it/s]"
     ]
    },
    {
     "name": "stdout",
     "output_type": "stream",
     "text": [
      "     month_id     merchant_id  forecast\n",
      "0  2023-10-01  merchant_36882       0.8\n",
      "1  2023-11-01  merchant_36882       1.0\n",
      "2  2023-12-01  merchant_36882       0.0\n",
      "     month_id     merchant_id  forecast\n",
      "0  2023-10-01  merchant_37185      11.5\n",
      "1  2023-11-01  merchant_37185      15.3\n",
      "2  2023-12-01  merchant_37185      20.5\n",
      "     month_id     merchant_id  forecast\n",
      "0  2023-10-01  merchant_37317       4.2\n",
      "1  2023-11-01  merchant_37317       5.7\n",
      "2  2023-12-01  merchant_37317       6.5\n",
      "     month_id     merchant_id  forecast\n",
      "0  2023-10-01  merchant_37326       2.8\n",
      "1  2023-11-01  merchant_37326       3.7\n",
      "2  2023-12-01  merchant_37326       4.0\n"
     ]
    },
    {
     "name": "stderr",
     "output_type": "stream",
     "text": [
      "Processing Customers:  96%|█████████▋| 25116/26060 [59:37<00:53, 17.65it/s]"
     ]
    },
    {
     "name": "stdout",
     "output_type": "stream",
     "text": [
      "     month_id     merchant_id  forecast\n",
      "0  2023-10-01  merchant_37550       0.8\n",
      "1  2023-11-01  merchant_37550       1.0\n",
      "2  2023-12-01  merchant_37550       0.0\n",
      "     month_id     merchant_id  forecast\n",
      "0  2023-10-01  merchant_37869       2.5\n",
      "1  2023-11-01  merchant_37869       3.3\n",
      "2  2023-12-01  merchant_37869       3.0\n",
      "     month_id     merchant_id  forecast\n",
      "0  2023-10-01  merchant_37973       1.8\n",
      "1  2023-11-01  merchant_37973       2.3\n",
      "2  2023-12-01  merchant_37973       0.0\n",
      "     month_id     merchant_id  forecast\n",
      "0  2023-10-01  merchant_38064       6.5\n",
      "1  2023-11-01  merchant_38064       8.7\n",
      "2  2023-12-01  merchant_38064       5.5\n"
     ]
    },
    {
     "name": "stderr",
     "output_type": "stream",
     "text": [
      "Processing Customers:  96%|█████████▋| 25120/26060 [59:37<00:53, 17.54it/s]"
     ]
    },
    {
     "name": "stdout",
     "output_type": "stream",
     "text": [
      "     month_id     merchant_id  forecast\n",
      "0  2023-10-01  merchant_38310       1.8\n",
      "1  2023-11-01  merchant_38310       2.3\n",
      "2  2023-12-01  merchant_38310       2.0\n",
      "     month_id     merchant_id  forecast\n",
      "0  2023-10-01  merchant_38433       0.8\n",
      "1  2023-11-01  merchant_38433       1.0\n",
      "2  2023-12-01  merchant_38433       0.0\n",
      "     month_id     merchant_id  forecast\n",
      "0  2023-10-01  merchant_38688       3.5\n",
      "1  2023-11-01  merchant_38688       4.7\n",
      "2  2023-12-01  merchant_38688       5.0\n",
      "     month_id     merchant_id  forecast\n",
      "0  2023-10-01  merchant_39028       1.0\n",
      "1  2023-11-01  merchant_39028       1.3\n",
      "2  2023-12-01  merchant_39028       0.0\n"
     ]
    },
    {
     "name": "stderr",
     "output_type": "stream",
     "text": [
      "Processing Customers:  96%|█████████▋| 25124/26060 [59:37<00:53, 17.55it/s]"
     ]
    },
    {
     "name": "stdout",
     "output_type": "stream",
     "text": [
      "     month_id     merchant_id  forecast\n",
      "0  2023-10-01  merchant_39326       1.0\n",
      "1  2023-11-01  merchant_39326       1.3\n",
      "2  2023-12-01  merchant_39326       0.0\n",
      "     month_id     merchant_id  forecast\n",
      "0  2023-10-01  merchant_39416       5.5\n",
      "1  2023-11-01  merchant_39416       7.3\n",
      "2  2023-12-01  merchant_39416       9.5\n",
      "     month_id     merchant_id  forecast\n",
      "0  2023-10-01  merchant_39597       0.8\n",
      "1  2023-11-01  merchant_39597       1.0\n",
      "2  2023-12-01  merchant_39597       0.0\n",
      "     month_id     merchant_id  forecast\n",
      "0  2023-10-01  merchant_39626       5.2\n",
      "1  2023-11-01  merchant_39626       7.0\n",
      "2  2023-12-01  merchant_39626       8.5\n"
     ]
    },
    {
     "name": "stderr",
     "output_type": "stream",
     "text": [
      "Processing Customers:  96%|█████████▋| 25128/26060 [59:37<00:53, 17.43it/s]"
     ]
    },
    {
     "name": "stdout",
     "output_type": "stream",
     "text": [
      "     month_id     merchant_id  forecast\n",
      "0  2023-10-01  merchant_39683       2.8\n",
      "1  2023-11-01  merchant_39683       3.7\n",
      "2  2023-12-01  merchant_39683       3.5\n",
      "     month_id     merchant_id  forecast\n",
      "0  2023-10-01  merchant_39865       1.0\n",
      "1  2023-11-01  merchant_39865       1.3\n",
      "2  2023-12-01  merchant_39865       0.0\n",
      "     month_id     merchant_id  forecast\n",
      "0  2023-10-01  merchant_40040       2.2\n",
      "1  2023-11-01  merchant_40040       3.0\n",
      "2  2023-12-01  merchant_40040       2.5\n",
      "     month_id     merchant_id  forecast\n",
      "0  2023-10-01  merchant_40357       2.5\n",
      "1  2023-11-01  merchant_40357       3.3\n",
      "2  2023-12-01  merchant_40357       3.5\n"
     ]
    },
    {
     "name": "stderr",
     "output_type": "stream",
     "text": [
      "Processing Customers:  96%|█████████▋| 25132/26060 [59:37<00:52, 17.59it/s]"
     ]
    },
    {
     "name": "stdout",
     "output_type": "stream",
     "text": [
      "     month_id     merchant_id  forecast\n",
      "0  2023-10-01  merchant_40556       2.2\n",
      "1  2023-11-01  merchant_40556       3.0\n",
      "2  2023-12-01  merchant_40556       3.0\n",
      "     month_id     merchant_id  forecast\n",
      "0  2023-10-01  merchant_40736       1.8\n",
      "1  2023-11-01  merchant_40736       2.3\n",
      "2  2023-12-01  merchant_40736       2.0\n",
      "     month_id     merchant_id  forecast\n",
      "0  2023-10-01  merchant_40868      18.0\n",
      "1  2023-11-01  merchant_40868      24.0\n",
      "2  2023-12-01  merchant_40868      34.0\n",
      "     month_id     merchant_id  forecast\n",
      "0  2023-10-01  merchant_40876       0.8\n",
      "1  2023-11-01  merchant_40876       1.0\n",
      "2  2023-12-01  merchant_40876       0.0\n"
     ]
    },
    {
     "name": "stderr",
     "output_type": "stream",
     "text": [
      "Processing Customers:  96%|█████████▋| 25136/26060 [59:38<00:54, 16.86it/s]"
     ]
    },
    {
     "name": "stdout",
     "output_type": "stream",
     "text": [
      "     month_id     merchant_id  forecast\n",
      "0  2023-10-01  merchant_41106       1.0\n",
      "1  2023-11-01  merchant_41106       1.3\n",
      "2  2023-12-01  merchant_41106       0.0\n",
      "     month_id     merchant_id  forecast\n",
      "0  2023-10-01  merchant_41190       1.8\n",
      "1  2023-11-01  merchant_41190       2.3\n",
      "2  2023-12-01  merchant_41190       1.5\n",
      "     month_id     merchant_id  forecast\n",
      "0  2023-10-01  merchant_41375       0.8\n",
      "1  2023-11-01  merchant_41375       1.0\n",
      "2  2023-12-01  merchant_41375       0.0\n"
     ]
    },
    {
     "name": "stderr",
     "output_type": "stream",
     "text": [
      "Processing Customers:  96%|█████████▋| 25140/26060 [59:38<00:53, 17.15it/s]"
     ]
    },
    {
     "name": "stdout",
     "output_type": "stream",
     "text": [
      "     month_id     merchant_id  forecast\n",
      "0  2023-10-01  merchant_41395       2.5\n",
      "1  2023-11-01  merchant_41395       3.3\n",
      "2  2023-12-01  merchant_41395       3.5\n",
      "     month_id     merchant_id  forecast\n",
      "0  2023-10-01  merchant_41439       1.0\n",
      "1  2023-11-01  merchant_41439       1.3\n",
      "2  2023-12-01  merchant_41439       0.0\n",
      "     month_id     merchant_id  forecast\n",
      "0  2023-10-01  merchant_41751      17.0\n",
      "1  2023-11-01  merchant_41751      22.7\n",
      "2  2023-12-01  merchant_41751      32.5\n",
      "     month_id     merchant_id  forecast\n",
      "0  2023-10-01  merchant_41767       0.8\n",
      "1  2023-11-01  merchant_41767       1.0\n",
      "2  2023-12-01  merchant_41767       0.0\n",
      "     month_id     merchant_id  forecast\n",
      "0  2023-10-01  merchant_41827       0.8\n",
      "1  2023-11-01  merchant_41827       1.0\n",
      "2  2023-12-01  merchant_41827       0.0\n"
     ]
    },
    {
     "name": "stderr",
     "output_type": "stream",
     "text": [
      "Processing Customers:  96%|█████████▋| 25144/26060 [59:38<00:52, 17.41it/s]"
     ]
    },
    {
     "name": "stdout",
     "output_type": "stream",
     "text": [
      "     month_id     merchant_id  forecast\n",
      "0  2023-10-01  merchant_42168       0.8\n",
      "1  2023-11-01  merchant_42168       1.0\n",
      "2  2023-12-01  merchant_42168       0.0\n",
      "     month_id     merchant_id  forecast\n",
      "0  2023-10-01  merchant_42182      52.2\n",
      "1  2023-11-01  merchant_42182      69.7\n",
      "2  2023-12-01  merchant_42182     103.0\n",
      "     month_id     merchant_id  forecast\n",
      "0  2023-10-01  merchant_42233       0.8\n",
      "1  2023-11-01  merchant_42233       1.0\n",
      "2  2023-12-01  merchant_42233       0.0\n",
      "     month_id     merchant_id  forecast\n",
      "0  2023-10-01  merchant_42533      12.0\n",
      "1  2023-11-01  merchant_42533      16.0\n",
      "2  2023-12-01  merchant_42533      18.0\n"
     ]
    },
    {
     "name": "stderr",
     "output_type": "stream",
     "text": [
      "Processing Customers:  97%|█████████▋| 25148/26060 [59:38<00:52, 17.32it/s]"
     ]
    },
    {
     "name": "stdout",
     "output_type": "stream",
     "text": [
      "     month_id     merchant_id  forecast\n",
      "0  2023-10-01  merchant_42662       6.2\n",
      "1  2023-11-01  merchant_42662       8.3\n",
      "2  2023-12-01  merchant_42662       7.5\n",
      "     month_id     merchant_id  forecast\n",
      "0  2023-10-01  merchant_42778       2.0\n",
      "1  2023-11-01  merchant_42778       2.7\n",
      "2  2023-12-01  merchant_42778       2.0\n",
      "     month_id     merchant_id  forecast\n",
      "0  2023-10-01  merchant_43514       2.5\n",
      "1  2023-11-01  merchant_43514       3.3\n",
      "2  2023-12-01  merchant_43514       3.5\n",
      "     month_id    merchant_id  forecast\n",
      "0  2023-10-01  merchant_4379       0.8\n",
      "1  2023-11-01  merchant_4379       1.0\n",
      "2  2023-12-01  merchant_4379       0.0\n"
     ]
    },
    {
     "name": "stderr",
     "output_type": "stream",
     "text": [
      "Processing Customers:  97%|█████████▋| 25152/26060 [59:39<00:51, 17.74it/s]"
     ]
    },
    {
     "name": "stdout",
     "output_type": "stream",
     "text": [
      "     month_id     merchant_id  forecast\n",
      "0  2023-10-01  merchant_43818       1.5\n",
      "1  2023-11-01  merchant_43818       2.0\n",
      "2  2023-12-01  merchant_43818       1.5\n",
      "     month_id    merchant_id  forecast\n",
      "0  2023-10-01  merchant_4397       1.5\n",
      "1  2023-11-01  merchant_4397       2.0\n",
      "2  2023-12-01  merchant_4397       1.5\n",
      "     month_id     merchant_id  forecast\n",
      "0  2023-10-01  merchant_44149       1.5\n",
      "1  2023-11-01  merchant_44149       2.0\n",
      "2  2023-12-01  merchant_44149       1.5\n",
      "     month_id     merchant_id  forecast\n",
      "0  2023-10-01  merchant_44417       1.8\n",
      "1  2023-11-01  merchant_44417       2.3\n",
      "2  2023-12-01  merchant_44417       1.5\n"
     ]
    },
    {
     "name": "stderr",
     "output_type": "stream",
     "text": [
      "Processing Customers:  97%|█████████▋| 25156/26060 [59:39<00:51, 17.63it/s]"
     ]
    },
    {
     "name": "stdout",
     "output_type": "stream",
     "text": [
      "     month_id     merchant_id  forecast\n",
      "0  2023-10-01  merchant_44519       1.2\n",
      "1  2023-11-01  merchant_44519       1.7\n",
      "2  2023-12-01  merchant_44519       0.0\n",
      "     month_id     merchant_id  forecast\n",
      "0  2023-10-01  merchant_44582       3.0\n",
      "1  2023-11-01  merchant_44582       4.0\n",
      "2  2023-12-01  merchant_44582       4.5\n",
      "     month_id     merchant_id  forecast\n",
      "0  2023-10-01  merchant_45087       0.8\n",
      "1  2023-11-01  merchant_45087       1.0\n",
      "2  2023-12-01  merchant_45087       0.0\n",
      "     month_id     merchant_id  forecast\n",
      "0  2023-10-01  merchant_45291       0.8\n",
      "1  2023-11-01  merchant_45291       1.0\n",
      "2  2023-12-01  merchant_45291       0.0\n"
     ]
    },
    {
     "name": "stderr",
     "output_type": "stream",
     "text": [
      "Processing Customers:  97%|█████████▋| 25160/26060 [59:39<00:51, 17.49it/s]"
     ]
    },
    {
     "name": "stdout",
     "output_type": "stream",
     "text": [
      "     month_id     merchant_id  forecast\n",
      "0  2023-10-01  merchant_45447       1.0\n",
      "1  2023-11-01  merchant_45447       1.3\n",
      "2  2023-12-01  merchant_45447       0.0\n",
      "     month_id     merchant_id  forecast\n",
      "0  2023-10-01  merchant_45478       2.5\n",
      "1  2023-11-01  merchant_45478       3.3\n",
      "2  2023-12-01  merchant_45478       3.0\n",
      "     month_id     merchant_id  forecast\n",
      "0  2023-10-01  merchant_45496     130.2\n",
      "1  2023-11-01  merchant_45496     173.7\n",
      "2  2023-12-01  merchant_45496     259.0\n",
      "     month_id     merchant_id  forecast\n",
      "0  2023-10-01  merchant_45504       1.8\n",
      "1  2023-11-01  merchant_45504       2.3\n",
      "2  2023-12-01  merchant_45504       1.5\n"
     ]
    },
    {
     "name": "stderr",
     "output_type": "stream",
     "text": [
      "Processing Customers:  97%|█████████▋| 25164/26060 [59:39<00:53, 16.78it/s]"
     ]
    },
    {
     "name": "stdout",
     "output_type": "stream",
     "text": [
      "     month_id     merchant_id  forecast\n",
      "0  2023-10-01  merchant_45558       1.0\n",
      "1  2023-11-01  merchant_45558       1.3\n",
      "2  2023-12-01  merchant_45558       0.0\n",
      "     month_id     merchant_id  forecast\n",
      "0  2023-10-01  merchant_45708       2.8\n",
      "1  2023-11-01  merchant_45708       3.7\n",
      "2  2023-12-01  merchant_45708       4.0\n",
      "     month_id     merchant_id  forecast\n",
      "0  2023-10-01  merchant_46000       4.8\n",
      "1  2023-11-01  merchant_46000       6.3\n",
      "2  2023-12-01  merchant_46000       7.0\n"
     ]
    },
    {
     "name": "stderr",
     "output_type": "stream",
     "text": [
      "Processing Customers:  97%|█████████▋| 25168/26060 [59:40<00:52, 16.97it/s]"
     ]
    },
    {
     "name": "stdout",
     "output_type": "stream",
     "text": [
      "     month_id     merchant_id  forecast\n",
      "0  2023-10-01  merchant_46319      33.5\n",
      "1  2023-11-01  merchant_46319      44.7\n",
      "2  2023-12-01  merchant_46319      65.5\n",
      "     month_id     merchant_id  forecast\n",
      "0  2023-10-01  merchant_46533       0.8\n",
      "1  2023-11-01  merchant_46533       1.0\n",
      "2  2023-12-01  merchant_46533       0.0\n",
      "     month_id     merchant_id  forecast\n",
      "0  2023-10-01  merchant_46557      13.8\n",
      "1  2023-11-01  merchant_46557      18.3\n",
      "2  2023-12-01  merchant_46557      21.5\n",
      "     month_id     merchant_id  forecast\n",
      "0  2023-10-01  merchant_46877       1.0\n",
      "1  2023-11-01  merchant_46877       1.3\n",
      "2  2023-12-01  merchant_46877       0.0\n",
      "     month_id     merchant_id  forecast\n",
      "0  2023-10-01  merchant_47193       3.8\n",
      "1  2023-11-01  merchant_47193       5.0\n",
      "2  2023-12-01  merchant_47193       4.5\n"
     ]
    },
    {
     "name": "stderr",
     "output_type": "stream",
     "text": [
      "Processing Customers:  97%|█████████▋| 25172/26060 [59:40<00:52, 16.93it/s]"
     ]
    },
    {
     "name": "stdout",
     "output_type": "stream",
     "text": [
      "     month_id     merchant_id  forecast\n",
      "0  2023-10-01  merchant_47401       1.2\n",
      "1  2023-11-01  merchant_47401       1.7\n",
      "2  2023-12-01  merchant_47401       0.0\n",
      "     month_id     merchant_id  forecast\n",
      "0  2023-10-01  merchant_47753       2.8\n",
      "1  2023-11-01  merchant_47753       3.7\n",
      "2  2023-12-01  merchant_47753       4.0\n",
      "     month_id     merchant_id  forecast\n",
      "0  2023-10-01  merchant_47820       0.8\n",
      "1  2023-11-01  merchant_47820       1.0\n",
      "2  2023-12-01  merchant_47820       0.0\n",
      "     month_id     merchant_id  forecast\n",
      "0  2023-10-01  merchant_48030       5.8\n",
      "1  2023-11-01  merchant_48030       7.7\n",
      "2  2023-12-01  merchant_48030       7.5\n"
     ]
    },
    {
     "name": "stderr",
     "output_type": "stream",
     "text": [
      "Processing Customers:  97%|█████████▋| 25176/26060 [59:40<00:52, 16.76it/s]"
     ]
    },
    {
     "name": "stdout",
     "output_type": "stream",
     "text": [
      "     month_id     merchant_id  forecast\n",
      "0  2023-10-01  merchant_48375      10.8\n",
      "1  2023-11-01  merchant_48375      14.3\n",
      "2  2023-12-01  merchant_48375      15.0\n",
      "     month_id     merchant_id  forecast\n",
      "0  2023-10-01  merchant_48394       0.8\n",
      "1  2023-11-01  merchant_48394       1.0\n",
      "2  2023-12-01  merchant_48394       0.0\n",
      "     month_id     merchant_id  forecast\n",
      "0  2023-10-01  merchant_48395       0.8\n",
      "1  2023-11-01  merchant_48395       1.0\n",
      "2  2023-12-01  merchant_48395       0.0\n",
      "     month_id     merchant_id  forecast\n",
      "0  2023-10-01  merchant_48517       2.5\n",
      "1  2023-11-01  merchant_48517       3.3\n",
      "2  2023-12-01  merchant_48517       3.5\n"
     ]
    },
    {
     "name": "stderr",
     "output_type": "stream",
     "text": [
      "Processing Customers:  97%|█████████▋| 25180/26060 [59:40<00:51, 17.09it/s]"
     ]
    },
    {
     "name": "stdout",
     "output_type": "stream",
     "text": [
      "     month_id     merchant_id  forecast\n",
      "0  2023-10-01  merchant_48539       2.5\n",
      "1  2023-11-01  merchant_48539       3.3\n",
      "2  2023-12-01  merchant_48539       3.5\n",
      "     month_id     merchant_id  forecast\n",
      "0  2023-10-01  merchant_48628      17.8\n",
      "1  2023-11-01  merchant_48628      23.7\n",
      "2  2023-12-01  merchant_48628      28.5\n",
      "     month_id     merchant_id  forecast\n",
      "0  2023-10-01  merchant_48647       0.8\n",
      "1  2023-11-01  merchant_48647       1.0\n",
      "2  2023-12-01  merchant_48647       0.0\n",
      "     month_id     merchant_id  forecast\n",
      "0  2023-10-01  merchant_48740       0.8\n",
      "1  2023-11-01  merchant_48740       1.0\n",
      "2  2023-12-01  merchant_48740       0.0\n"
     ]
    },
    {
     "name": "stderr",
     "output_type": "stream",
     "text": [
      "Processing Customers:  97%|█████████▋| 25184/26060 [59:40<00:51, 17.14it/s]"
     ]
    },
    {
     "name": "stdout",
     "output_type": "stream",
     "text": [
      "     month_id     merchant_id  forecast\n",
      "0  2023-10-01  merchant_48753       1.8\n",
      "1  2023-11-01  merchant_48753       2.3\n",
      "2  2023-12-01  merchant_48753       1.5\n",
      "     month_id     merchant_id  forecast\n",
      "0  2023-10-01  merchant_48997       0.8\n",
      "1  2023-11-01  merchant_48997       1.0\n",
      "2  2023-12-01  merchant_48997       0.0\n",
      "     month_id     merchant_id  forecast\n",
      "0  2023-10-01  merchant_49037       1.5\n",
      "1  2023-11-01  merchant_49037       2.0\n",
      "2  2023-12-01  merchant_49037       0.0\n",
      "     month_id     merchant_id  forecast\n",
      "0  2023-10-01  merchant_49296       0.8\n",
      "1  2023-11-01  merchant_49296       1.0\n",
      "2  2023-12-01  merchant_49296       0.0\n"
     ]
    },
    {
     "name": "stderr",
     "output_type": "stream",
     "text": [
      "Processing Customers:  97%|█████████▋| 25188/26060 [59:41<00:49, 17.61it/s]"
     ]
    },
    {
     "name": "stdout",
     "output_type": "stream",
     "text": [
      "     month_id     merchant_id  forecast\n",
      "0  2023-10-01  merchant_49471       0.8\n",
      "1  2023-11-01  merchant_49471       1.0\n",
      "2  2023-12-01  merchant_49471       0.0\n",
      "     month_id     merchant_id  forecast\n",
      "0  2023-10-01  merchant_49514      14.0\n",
      "1  2023-11-01  merchant_49514      18.7\n",
      "2  2023-12-01  merchant_49514      20.5\n",
      "     month_id    merchant_id  forecast\n",
      "0  2023-10-01  merchant_4966       8.2\n",
      "1  2023-11-01  merchant_4966      11.0\n",
      "2  2023-12-01  merchant_4966      14.0\n",
      "     month_id     merchant_id  forecast\n",
      "0  2023-10-01  merchant_49737       3.0\n",
      "1  2023-11-01  merchant_49737       4.0\n",
      "2  2023-12-01  merchant_49737       3.5\n"
     ]
    },
    {
     "name": "stderr",
     "output_type": "stream",
     "text": [
      "Processing Customers:  97%|█████████▋| 25192/26060 [59:41<00:52, 16.66it/s]"
     ]
    },
    {
     "name": "stdout",
     "output_type": "stream",
     "text": [
      "     month_id     merchant_id  forecast\n",
      "0  2023-10-01  merchant_49952       0.8\n",
      "1  2023-11-01  merchant_49952       1.0\n",
      "2  2023-12-01  merchant_49952       0.0\n",
      "     month_id     merchant_id  forecast\n",
      "0  2023-10-01  merchant_50074       7.5\n",
      "1  2023-11-01  merchant_50074      10.0\n",
      "2  2023-12-01  merchant_50074      13.5\n",
      "     month_id     merchant_id  forecast\n",
      "0  2023-10-01  merchant_50115       1.5\n",
      "1  2023-11-01  merchant_50115       2.0\n",
      "2  2023-12-01  merchant_50115       1.5\n",
      "     month_id     merchant_id  forecast\n",
      "0  2023-10-01  merchant_50177       3.2\n",
      "1  2023-11-01  merchant_50177       4.3\n",
      "2  2023-12-01  merchant_50177       3.0\n"
     ]
    },
    {
     "name": "stderr",
     "output_type": "stream",
     "text": [
      "Processing Customers:  97%|█████████▋| 25196/26060 [59:41<00:50, 17.04it/s]"
     ]
    },
    {
     "name": "stdout",
     "output_type": "stream",
     "text": [
      "     month_id     merchant_id  forecast\n",
      "0  2023-10-01  merchant_50527      22.2\n",
      "1  2023-11-01  merchant_50527      29.7\n",
      "2  2023-12-01  merchant_50527      43.0\n",
      "     month_id   merchant_id  forecast\n",
      "0  2023-10-01  merchant_506       1.8\n",
      "1  2023-11-01  merchant_506       2.3\n",
      "2  2023-12-01  merchant_506       1.5\n",
      "     month_id     merchant_id  forecast\n",
      "0  2023-10-01  merchant_50728       3.2\n",
      "1  2023-11-01  merchant_50728       4.3\n",
      "2  2023-12-01  merchant_50728       4.5\n",
      "     month_id    merchant_id  forecast\n",
      "0  2023-10-01  merchant_5080       3.0\n",
      "1  2023-11-01  merchant_5080       4.0\n",
      "2  2023-12-01  merchant_5080       3.5\n"
     ]
    },
    {
     "name": "stderr",
     "output_type": "stream",
     "text": [
      "Processing Customers:  97%|█████████▋| 25200/26060 [59:41<00:49, 17.46it/s]"
     ]
    },
    {
     "name": "stdout",
     "output_type": "stream",
     "text": [
      "     month_id     merchant_id  forecast\n",
      "0  2023-10-01  merchant_50830       0.8\n",
      "1  2023-11-01  merchant_50830       1.0\n",
      "2  2023-12-01  merchant_50830       0.0\n",
      "     month_id    merchant_id  forecast\n",
      "0  2023-10-01  merchant_5105       0.8\n",
      "1  2023-11-01  merchant_5105       1.0\n",
      "2  2023-12-01  merchant_5105       0.0\n",
      "     month_id     merchant_id  forecast\n",
      "0  2023-10-01  merchant_51122       2.0\n",
      "1  2023-11-01  merchant_51122       2.7\n",
      "2  2023-12-01  merchant_51122       1.5\n",
      "     month_id     merchant_id  forecast\n",
      "0  2023-10-01  merchant_51170     261.5\n",
      "1  2023-11-01  merchant_51170     348.7\n",
      "2  2023-12-01  merchant_51170     481.0\n"
     ]
    },
    {
     "name": "stderr",
     "output_type": "stream",
     "text": [
      "Processing Customers:  97%|█████████▋| 25204/26060 [59:42<00:49, 17.36it/s]"
     ]
    },
    {
     "name": "stdout",
     "output_type": "stream",
     "text": [
      "     month_id     merchant_id  forecast\n",
      "0  2023-10-01  merchant_51180       0.8\n",
      "1  2023-11-01  merchant_51180       1.0\n",
      "2  2023-12-01  merchant_51180       0.0\n",
      "     month_id     merchant_id  forecast\n",
      "0  2023-10-01  merchant_51245       3.2\n",
      "1  2023-11-01  merchant_51245       4.3\n",
      "2  2023-12-01  merchant_51245       4.5\n",
      "     month_id     merchant_id  forecast\n",
      "0  2023-10-01  merchant_51424       0.8\n",
      "1  2023-11-01  merchant_51424       1.0\n",
      "2  2023-12-01  merchant_51424       0.0\n",
      "     month_id     merchant_id  forecast\n",
      "0  2023-10-01  merchant_51453       1.8\n",
      "1  2023-11-01  merchant_51453       2.3\n",
      "2  2023-12-01  merchant_51453       2.0\n"
     ]
    },
    {
     "name": "stderr",
     "output_type": "stream",
     "text": [
      "Processing Customers:  97%|█████████▋| 25208/26060 [59:42<00:49, 17.32it/s]"
     ]
    },
    {
     "name": "stdout",
     "output_type": "stream",
     "text": [
      "     month_id    merchant_id  forecast\n",
      "0  2023-10-01  merchant_5146       0.8\n",
      "1  2023-11-01  merchant_5146       1.0\n",
      "2  2023-12-01  merchant_5146       0.0\n",
      "     month_id     merchant_id  forecast\n",
      "0  2023-10-01  merchant_51482       1.8\n",
      "1  2023-11-01  merchant_51482       2.3\n",
      "2  2023-12-01  merchant_51482       1.5\n",
      "     month_id     merchant_id  forecast\n",
      "0  2023-10-01  merchant_51528       1.5\n",
      "1  2023-11-01  merchant_51528       2.0\n",
      "2  2023-12-01  merchant_51528       1.5\n",
      "     month_id     merchant_id  forecast\n",
      "0  2023-10-01  merchant_51817       0.8\n",
      "1  2023-11-01  merchant_51817       1.0\n",
      "2  2023-12-01  merchant_51817       0.0\n"
     ]
    },
    {
     "name": "stderr",
     "output_type": "stream",
     "text": [
      "Processing Customers:  97%|█████████▋| 25212/26060 [59:42<00:48, 17.52it/s]"
     ]
    },
    {
     "name": "stdout",
     "output_type": "stream",
     "text": [
      "     month_id     merchant_id  forecast\n",
      "0  2023-10-01  merchant_51898       0.8\n",
      "1  2023-11-01  merchant_51898       1.0\n",
      "2  2023-12-01  merchant_51898       0.0\n",
      "     month_id    merchant_id  forecast\n",
      "0  2023-10-01  merchant_5205       1.0\n",
      "1  2023-11-01  merchant_5205       1.3\n",
      "2  2023-12-01  merchant_5205       0.0\n",
      "     month_id     merchant_id  forecast\n",
      "0  2023-10-01  merchant_52068       0.8\n",
      "1  2023-11-01  merchant_52068       1.0\n",
      "2  2023-12-01  merchant_52068       0.0\n",
      "     month_id     merchant_id  forecast\n",
      "0  2023-10-01  merchant_52123       1.5\n",
      "1  2023-11-01  merchant_52123       2.0\n",
      "2  2023-12-01  merchant_52123       1.5\n"
     ]
    },
    {
     "name": "stderr",
     "output_type": "stream",
     "text": [
      "Processing Customers:  97%|█████████▋| 25216/26060 [59:42<00:48, 17.22it/s]"
     ]
    },
    {
     "name": "stdout",
     "output_type": "stream",
     "text": [
      "     month_id     merchant_id  forecast\n",
      "0  2023-10-01  merchant_52172      21.2\n",
      "1  2023-11-01  merchant_52172      28.3\n",
      "2  2023-12-01  merchant_52172      36.0\n",
      "     month_id     merchant_id  forecast\n",
      "0  2023-10-01  merchant_52237       0.8\n",
      "1  2023-11-01  merchant_52237       1.0\n",
      "2  2023-12-01  merchant_52237       0.0\n",
      "     month_id     merchant_id  forecast\n",
      "0  2023-10-01  merchant_52291       0.8\n",
      "1  2023-11-01  merchant_52291       1.0\n",
      "2  2023-12-01  merchant_52291       0.0\n",
      "     month_id     merchant_id  forecast\n",
      "0  2023-10-01  merchant_52389       2.0\n",
      "1  2023-11-01  merchant_52389       2.7\n",
      "2  2023-12-01  merchant_52389       0.0\n"
     ]
    },
    {
     "name": "stderr",
     "output_type": "stream",
     "text": [
      "Processing Customers:  97%|█████████▋| 25220/26060 [59:43<00:50, 16.54it/s]"
     ]
    },
    {
     "name": "stdout",
     "output_type": "stream",
     "text": [
      "     month_id     merchant_id  forecast\n",
      "0  2023-10-01  merchant_52745       2.8\n",
      "1  2023-11-01  merchant_52745       3.7\n",
      "2  2023-12-01  merchant_52745       4.0\n",
      "     month_id     merchant_id  forecast\n",
      "0  2023-10-01  merchant_52978       4.2\n",
      "1  2023-11-01  merchant_52978       5.7\n",
      "2  2023-12-01  merchant_52978       7.0\n",
      "     month_id     merchant_id  forecast\n",
      "0  2023-10-01  merchant_52996       2.8\n",
      "1  2023-11-01  merchant_52996       3.7\n",
      "2  2023-12-01  merchant_52996       3.5\n"
     ]
    },
    {
     "name": "stderr",
     "output_type": "stream",
     "text": [
      "Processing Customers:  97%|█████████▋| 25224/26060 [59:43<00:50, 16.69it/s]"
     ]
    },
    {
     "name": "stdout",
     "output_type": "stream",
     "text": [
      "     month_id     merchant_id  forecast\n",
      "0  2023-10-01  merchant_53952      37.5\n",
      "1  2023-11-01  merchant_53952      50.0\n",
      "2  2023-12-01  merchant_53952      53.0\n",
      "     month_id     merchant_id  forecast\n",
      "0  2023-10-01  merchant_54347       2.8\n",
      "1  2023-11-01  merchant_54347       3.7\n",
      "2  2023-12-01  merchant_54347       3.5\n",
      "     month_id     merchant_id  forecast\n",
      "0  2023-10-01  merchant_54620       0.8\n",
      "1  2023-11-01  merchant_54620       1.0\n",
      "2  2023-12-01  merchant_54620       0.0\n",
      "     month_id     merchant_id  forecast\n",
      "0  2023-10-01  merchant_54833       2.8\n",
      "1  2023-11-01  merchant_54833       3.7\n",
      "2  2023-12-01  merchant_54833       4.0\n",
      "     month_id     merchant_id  forecast\n",
      "0  2023-10-01  merchant_55312       0.8\n",
      "1  2023-11-01  merchant_55312       1.0\n",
      "2  2023-12-01  merchant_55312       0.0\n"
     ]
    },
    {
     "name": "stderr",
     "output_type": "stream",
     "text": [
      "Processing Customers:  97%|█████████▋| 25228/26060 [59:43<00:49, 16.85it/s]"
     ]
    },
    {
     "name": "stdout",
     "output_type": "stream",
     "text": [
      "     month_id     merchant_id  forecast\n",
      "0  2023-10-01  merchant_55505       5.0\n",
      "1  2023-11-01  merchant_55505       6.7\n",
      "2  2023-12-01  merchant_55505       5.5\n",
      "     month_id     merchant_id  forecast\n",
      "0  2023-10-01  merchant_55570       8.2\n",
      "1  2023-11-01  merchant_55570      11.0\n",
      "2  2023-12-01  merchant_55570      15.0\n",
      "     month_id     merchant_id  forecast\n",
      "0  2023-10-01  merchant_55766       2.0\n",
      "1  2023-11-01  merchant_55766       2.7\n",
      "2  2023-12-01  merchant_55766       2.0\n",
      "     month_id     merchant_id  forecast\n",
      "0  2023-10-01  merchant_55999       2.8\n",
      "1  2023-11-01  merchant_55999       3.7\n",
      "2  2023-12-01  merchant_55999       4.0\n"
     ]
    },
    {
     "name": "stderr",
     "output_type": "stream",
     "text": [
      "Processing Customers:  97%|█████████▋| 25232/26060 [59:43<00:50, 16.52it/s]"
     ]
    },
    {
     "name": "stdout",
     "output_type": "stream",
     "text": [
      "     month_id     merchant_id  forecast\n",
      "0  2023-10-01  merchant_56160       1.5\n",
      "1  2023-11-01  merchant_56160       2.0\n",
      "2  2023-12-01  merchant_56160       1.5\n",
      "     month_id     merchant_id  forecast\n",
      "0  2023-10-01  merchant_56243      33.5\n",
      "1  2023-11-01  merchant_56243      44.7\n",
      "2  2023-12-01  merchant_56243      57.5\n",
      "     month_id     merchant_id  forecast\n",
      "0  2023-10-01  merchant_56509       0.8\n",
      "1  2023-11-01  merchant_56509       1.0\n",
      "2  2023-12-01  merchant_56509       0.0\n",
      "     month_id    merchant_id  forecast\n",
      "0  2023-10-01  merchant_5660      23.5\n",
      "1  2023-11-01  merchant_5660      31.3\n",
      "2  2023-12-01  merchant_5660      31.5\n"
     ]
    },
    {
     "name": "stderr",
     "output_type": "stream",
     "text": [
      "Processing Customers:  97%|█████████▋| 25236/26060 [59:44<00:48, 16.82it/s]"
     ]
    },
    {
     "name": "stdout",
     "output_type": "stream",
     "text": [
      "     month_id     merchant_id  forecast\n",
      "0  2023-10-01  merchant_56910       0.8\n",
      "1  2023-11-01  merchant_56910       1.0\n",
      "2  2023-12-01  merchant_56910       0.0\n",
      "     month_id     merchant_id  forecast\n",
      "0  2023-10-01  merchant_57177       0.8\n",
      "1  2023-11-01  merchant_57177       1.0\n",
      "2  2023-12-01  merchant_57177       0.0\n",
      "     month_id     merchant_id  forecast\n",
      "0  2023-10-01  merchant_57326       1.8\n",
      "1  2023-11-01  merchant_57326       2.3\n",
      "2  2023-12-01  merchant_57326       1.5\n",
      "     month_id    merchant_id  forecast\n",
      "0  2023-10-01  merchant_5751       2.0\n",
      "1  2023-11-01  merchant_5751       2.7\n",
      "2  2023-12-01  merchant_5751       2.0\n"
     ]
    },
    {
     "name": "stderr",
     "output_type": "stream",
     "text": [
      "Processing Customers:  97%|█████████▋| 25240/26060 [59:44<00:47, 17.29it/s]"
     ]
    },
    {
     "name": "stdout",
     "output_type": "stream",
     "text": [
      "     month_id    merchant_id  forecast\n",
      "0  2023-10-01  merchant_5772       2.5\n",
      "1  2023-11-01  merchant_5772       3.3\n",
      "2  2023-12-01  merchant_5772       3.5\n",
      "     month_id     merchant_id  forecast\n",
      "0  2023-10-01  merchant_57871       1.8\n",
      "1  2023-11-01  merchant_57871       2.3\n",
      "2  2023-12-01  merchant_57871       2.0\n",
      "     month_id     merchant_id  forecast\n",
      "0  2023-10-01  merchant_57993       2.8\n",
      "1  2023-11-01  merchant_57993       3.7\n",
      "2  2023-12-01  merchant_57993       4.0\n",
      "     month_id     merchant_id  forecast\n",
      "0  2023-10-01  merchant_58130       4.2\n",
      "1  2023-11-01  merchant_58130       5.7\n",
      "2  2023-12-01  merchant_58130       6.5\n"
     ]
    },
    {
     "name": "stderr",
     "output_type": "stream",
     "text": [
      "Processing Customers:  97%|█████████▋| 25244/26060 [59:44<00:46, 17.50it/s]"
     ]
    },
    {
     "name": "stdout",
     "output_type": "stream",
     "text": [
      "     month_id     merchant_id  forecast\n",
      "0  2023-10-01  merchant_58528       0.8\n",
      "1  2023-11-01  merchant_58528       1.0\n",
      "2  2023-12-01  merchant_58528       0.0\n",
      "     month_id    merchant_id  forecast\n",
      "0  2023-10-01  merchant_5856       1.2\n",
      "1  2023-11-01  merchant_5856       1.7\n",
      "2  2023-12-01  merchant_5856       0.0\n",
      "     month_id     merchant_id  forecast\n",
      "0  2023-10-01  merchant_58669       1.5\n",
      "1  2023-11-01  merchant_58669       2.0\n",
      "2  2023-12-01  merchant_58669       1.5\n",
      "     month_id     merchant_id  forecast\n",
      "0  2023-10-01  merchant_58758       3.8\n",
      "1  2023-11-01  merchant_58758       5.0\n",
      "2  2023-12-01  merchant_58758       4.5\n"
     ]
    },
    {
     "name": "stderr",
     "output_type": "stream",
     "text": [
      "Processing Customers:  97%|█████████▋| 25248/26060 [59:44<00:46, 17.41it/s]"
     ]
    },
    {
     "name": "stdout",
     "output_type": "stream",
     "text": [
      "     month_id     merchant_id  forecast\n",
      "0  2023-10-01  merchant_58942       1.5\n",
      "1  2023-11-01  merchant_58942       2.0\n",
      "2  2023-12-01  merchant_58942       1.5\n",
      "     month_id     merchant_id  forecast\n",
      "0  2023-10-01  merchant_59109       2.8\n",
      "1  2023-11-01  merchant_59109       3.7\n",
      "2  2023-12-01  merchant_59109       3.5\n",
      "     month_id     merchant_id  forecast\n",
      "0  2023-10-01  merchant_59312       3.5\n",
      "1  2023-11-01  merchant_59312       4.7\n",
      "2  2023-12-01  merchant_59312       4.5\n",
      "     month_id     merchant_id  forecast\n",
      "0  2023-10-01  merchant_59388       4.0\n",
      "1  2023-11-01  merchant_59388       5.3\n",
      "2  2023-12-01  merchant_59388       6.5\n"
     ]
    },
    {
     "name": "stderr",
     "output_type": "stream",
     "text": [
      "Processing Customers:  97%|█████████▋| 25252/26060 [59:44<00:48, 16.76it/s]"
     ]
    },
    {
     "name": "stdout",
     "output_type": "stream",
     "text": [
      "     month_id     merchant_id  forecast\n",
      "0  2023-10-01  merchant_59978       3.8\n",
      "1  2023-11-01  merchant_59978       5.0\n",
      "2  2023-12-01  merchant_59978       5.0\n",
      "     month_id   merchant_id  forecast\n",
      "0  2023-10-01  merchant_600       1.0\n",
      "1  2023-11-01  merchant_600       1.3\n",
      "2  2023-12-01  merchant_600       0.0\n",
      "     month_id     merchant_id  forecast\n",
      "0  2023-10-01  merchant_60148       1.5\n",
      "1  2023-11-01  merchant_60148       2.0\n",
      "2  2023-12-01  merchant_60148       1.5\n",
      "     month_id     merchant_id  forecast\n",
      "0  2023-10-01  merchant_60278      35.0\n",
      "1  2023-11-01  merchant_60278      46.7\n",
      "2  2023-12-01  merchant_60278      66.5\n"
     ]
    },
    {
     "name": "stderr",
     "output_type": "stream",
     "text": [
      "Processing Customers:  97%|█████████▋| 25256/26060 [59:45<00:46, 17.27it/s]"
     ]
    },
    {
     "name": "stdout",
     "output_type": "stream",
     "text": [
      "     month_id     merchant_id  forecast\n",
      "0  2023-10-01  merchant_60494       1.0\n",
      "1  2023-11-01  merchant_60494       1.3\n",
      "2  2023-12-01  merchant_60494       0.0\n",
      "     month_id     merchant_id  forecast\n",
      "0  2023-10-01  merchant_60594       0.8\n",
      "1  2023-11-01  merchant_60594       1.0\n",
      "2  2023-12-01  merchant_60594       0.0\n",
      "     month_id     merchant_id  forecast\n",
      "0  2023-10-01  merchant_60719       0.8\n",
      "1  2023-11-01  merchant_60719       1.0\n",
      "2  2023-12-01  merchant_60719       0.0\n",
      "     month_id     merchant_id  forecast\n",
      "0  2023-10-01  merchant_60814       0.8\n",
      "1  2023-11-01  merchant_60814       1.0\n",
      "2  2023-12-01  merchant_60814       0.0\n"
     ]
    },
    {
     "name": "stderr",
     "output_type": "stream",
     "text": [
      "Processing Customers:  97%|█████████▋| 25260/26060 [59:45<00:46, 17.39it/s]"
     ]
    },
    {
     "name": "stdout",
     "output_type": "stream",
     "text": [
      "     month_id     merchant_id  forecast\n",
      "0  2023-10-01  merchant_61111       0.8\n",
      "1  2023-11-01  merchant_61111       1.0\n",
      "2  2023-12-01  merchant_61111       0.0\n",
      "     month_id     merchant_id  forecast\n",
      "0  2023-10-01  merchant_61257       6.2\n",
      "1  2023-11-01  merchant_61257       8.3\n",
      "2  2023-12-01  merchant_61257       9.5\n",
      "     month_id     merchant_id  forecast\n",
      "0  2023-10-01  merchant_61411       2.8\n",
      "1  2023-11-01  merchant_61411       3.7\n",
      "2  2023-12-01  merchant_61411       3.5\n",
      "     month_id    merchant_id  forecast\n",
      "0  2023-10-01  merchant_6152       6.5\n",
      "1  2023-11-01  merchant_6152       8.7\n",
      "2  2023-12-01  merchant_6152       9.5\n"
     ]
    },
    {
     "name": "stderr",
     "output_type": "stream",
     "text": [
      "Processing Customers:  97%|█████████▋| 25264/26060 [59:45<00:45, 17.44it/s]"
     ]
    },
    {
     "name": "stdout",
     "output_type": "stream",
     "text": [
      "     month_id     merchant_id  forecast\n",
      "0  2023-10-01  merchant_61548       2.0\n",
      "1  2023-11-01  merchant_61548       2.7\n",
      "2  2023-12-01  merchant_61548       2.5\n",
      "     month_id     merchant_id  forecast\n",
      "0  2023-10-01  merchant_61624       5.5\n",
      "1  2023-11-01  merchant_61624       7.3\n",
      "2  2023-12-01  merchant_61624       8.0\n",
      "     month_id     merchant_id  forecast\n",
      "0  2023-10-01  merchant_61689      61.2\n",
      "1  2023-11-01  merchant_61689      81.7\n",
      "2  2023-12-01  merchant_61689     120.0\n",
      "     month_id    merchant_id  forecast\n",
      "0  2023-10-01  merchant_6172       0.8\n",
      "1  2023-11-01  merchant_6172       1.0\n",
      "2  2023-12-01  merchant_6172       0.0\n"
     ]
    },
    {
     "name": "stderr",
     "output_type": "stream",
     "text": [
      "Processing Customers:  97%|█████████▋| 25268/26060 [59:45<00:44, 17.68it/s]"
     ]
    },
    {
     "name": "stdout",
     "output_type": "stream",
     "text": [
      "     month_id     merchant_id  forecast\n",
      "0  2023-10-01  merchant_61903       1.5\n",
      "1  2023-11-01  merchant_61903       2.0\n",
      "2  2023-12-01  merchant_61903       0.0\n",
      "     month_id    merchant_id  forecast\n",
      "0  2023-10-01  merchant_6197       0.8\n",
      "1  2023-11-01  merchant_6197       1.0\n",
      "2  2023-12-01  merchant_6197       0.0\n",
      "     month_id     merchant_id  forecast\n",
      "0  2023-10-01  merchant_62065       1.8\n",
      "1  2023-11-01  merchant_62065       2.3\n",
      "2  2023-12-01  merchant_62065       2.0\n",
      "     month_id    merchant_id  forecast\n",
      "0  2023-10-01  merchant_6247    3045.2\n",
      "1  2023-11-01  merchant_6247    4060.3\n",
      "2  2023-12-01  merchant_6247    6084.5\n"
     ]
    },
    {
     "name": "stderr",
     "output_type": "stream",
     "text": [
      "Processing Customers:  97%|█████████▋| 25272/26060 [59:46<00:45, 17.46it/s]"
     ]
    },
    {
     "name": "stdout",
     "output_type": "stream",
     "text": [
      "     month_id     merchant_id  forecast\n",
      "0  2023-10-01  merchant_62533       1.0\n",
      "1  2023-11-01  merchant_62533       1.3\n",
      "2  2023-12-01  merchant_62533       0.0\n",
      "     month_id     merchant_id  forecast\n",
      "0  2023-10-01  merchant_62572       8.8\n",
      "1  2023-11-01  merchant_62572      11.7\n",
      "2  2023-12-01  merchant_62572      15.5\n",
      "     month_id     merchant_id  forecast\n",
      "0  2023-10-01  merchant_62723       0.8\n",
      "1  2023-11-01  merchant_62723       1.0\n",
      "2  2023-12-01  merchant_62723       0.0\n",
      "     month_id    merchant_id  forecast\n",
      "0  2023-10-01  merchant_6274       0.8\n",
      "1  2023-11-01  merchant_6274       1.0\n",
      "2  2023-12-01  merchant_6274       0.0\n"
     ]
    },
    {
     "name": "stderr",
     "output_type": "stream",
     "text": [
      "Processing Customers:  97%|█████████▋| 25276/26060 [59:46<00:43, 17.84it/s]"
     ]
    },
    {
     "name": "stdout",
     "output_type": "stream",
     "text": [
      "     month_id    merchant_id  forecast\n",
      "0  2023-10-01  merchant_6319       3.0\n",
      "1  2023-11-01  merchant_6319       4.0\n",
      "2  2023-12-01  merchant_6319       3.0\n",
      "     month_id    merchant_id  forecast\n",
      "0  2023-10-01  merchant_6330       0.8\n",
      "1  2023-11-01  merchant_6330       1.0\n",
      "2  2023-12-01  merchant_6330       0.0\n",
      "     month_id     merchant_id  forecast\n",
      "0  2023-10-01  merchant_63397       2.8\n",
      "1  2023-11-01  merchant_63397       3.7\n",
      "2  2023-12-01  merchant_63397       4.0\n",
      "     month_id     merchant_id  forecast\n",
      "0  2023-10-01  merchant_63405       0.8\n",
      "1  2023-11-01  merchant_63405       1.0\n",
      "2  2023-12-01  merchant_63405       0.0\n"
     ]
    },
    {
     "name": "stderr",
     "output_type": "stream",
     "text": [
      "Processing Customers:  97%|█████████▋| 25280/26060 [59:46<00:46, 16.85it/s]"
     ]
    },
    {
     "name": "stdout",
     "output_type": "stream",
     "text": [
      "     month_id    merchant_id  forecast\n",
      "0  2023-10-01  merchant_6347       4.0\n",
      "1  2023-11-01  merchant_6347       5.3\n",
      "2  2023-12-01  merchant_6347       5.5\n",
      "     month_id     merchant_id  forecast\n",
      "0  2023-10-01  merchant_63620       3.8\n",
      "1  2023-11-01  merchant_63620       5.0\n",
      "2  2023-12-01  merchant_63620       6.0\n",
      "     month_id     merchant_id  forecast\n",
      "0  2023-10-01  merchant_63942       4.0\n",
      "1  2023-11-01  merchant_63942       5.3\n",
      "2  2023-12-01  merchant_63942       5.0\n"
     ]
    },
    {
     "name": "stderr",
     "output_type": "stream",
     "text": [
      "Processing Customers:  97%|█████████▋| 25284/26060 [59:46<00:46, 16.53it/s]"
     ]
    },
    {
     "name": "stdout",
     "output_type": "stream",
     "text": [
      "     month_id     merchant_id  forecast\n",
      "0  2023-10-01  merchant_64304       9.2\n",
      "1  2023-11-01  merchant_64304      12.3\n",
      "2  2023-12-01  merchant_64304      17.0\n",
      "     month_id     merchant_id  forecast\n",
      "0  2023-10-01  merchant_64309       0.8\n",
      "1  2023-11-01  merchant_64309       1.0\n",
      "2  2023-12-01  merchant_64309       0.0\n",
      "     month_id     merchant_id  forecast\n",
      "0  2023-10-01  merchant_64471       1.8\n",
      "1  2023-11-01  merchant_64471       2.3\n",
      "2  2023-12-01  merchant_64471       2.0\n",
      "     month_id     merchant_id  forecast\n",
      "0  2023-10-01  merchant_64500       0.8\n",
      "1  2023-11-01  merchant_64500       1.0\n",
      "2  2023-12-01  merchant_64500       0.0\n",
      "     month_id     merchant_id  forecast\n",
      "0  2023-10-01  merchant_64764       4.0\n",
      "1  2023-11-01  merchant_64764       5.3\n",
      "2  2023-12-01  merchant_64764       5.5\n"
     ]
    },
    {
     "name": "stderr",
     "output_type": "stream",
     "text": [
      "Processing Customers:  97%|█████████▋| 25288/26060 [59:47<00:45, 16.95it/s]"
     ]
    },
    {
     "name": "stdout",
     "output_type": "stream",
     "text": [
      "     month_id    merchant_id  forecast\n",
      "0  2023-10-01  merchant_6485       0.8\n",
      "1  2023-11-01  merchant_6485       1.0\n",
      "2  2023-12-01  merchant_6485       0.0\n",
      "     month_id     merchant_id  forecast\n",
      "0  2023-10-01  merchant_64853       1.0\n",
      "1  2023-11-01  merchant_64853       1.3\n",
      "2  2023-12-01  merchant_64853       0.0\n",
      "     month_id     merchant_id  forecast\n",
      "0  2023-10-01  merchant_65023       0.8\n",
      "1  2023-11-01  merchant_65023       1.0\n",
      "2  2023-12-01  merchant_65023       0.0\n",
      "     month_id     merchant_id  forecast\n",
      "0  2023-10-01  merchant_65280       0.8\n",
      "1  2023-11-01  merchant_65280       1.0\n",
      "2  2023-12-01  merchant_65280       0.0\n"
     ]
    },
    {
     "name": "stderr",
     "output_type": "stream",
     "text": [
      "Processing Customers:  97%|█████████▋| 25292/26060 [59:47<00:44, 17.15it/s]"
     ]
    },
    {
     "name": "stdout",
     "output_type": "stream",
     "text": [
      "     month_id     merchant_id  forecast\n",
      "0  2023-10-01  merchant_65513       3.0\n",
      "1  2023-11-01  merchant_65513       4.0\n",
      "2  2023-12-01  merchant_65513       4.0\n",
      "     month_id     merchant_id  forecast\n",
      "0  2023-10-01  merchant_66074       1.8\n",
      "1  2023-11-01  merchant_66074       2.3\n",
      "2  2023-12-01  merchant_66074       1.5\n",
      "     month_id     merchant_id  forecast\n",
      "0  2023-10-01  merchant_66790       0.8\n",
      "1  2023-11-01  merchant_66790       1.0\n",
      "2  2023-12-01  merchant_66790       0.0\n",
      "     month_id     merchant_id  forecast\n",
      "0  2023-10-01  merchant_67158      12.8\n",
      "1  2023-11-01  merchant_67158      17.0\n",
      "2  2023-12-01  merchant_67158      23.5\n"
     ]
    },
    {
     "name": "stderr",
     "output_type": "stream",
     "text": [
      "Processing Customers:  97%|█████████▋| 25296/26060 [59:47<00:43, 17.39it/s]"
     ]
    },
    {
     "name": "stdout",
     "output_type": "stream",
     "text": [
      "     month_id   merchant_id  forecast\n",
      "0  2023-10-01  merchant_672       4.0\n",
      "1  2023-11-01  merchant_672       5.3\n",
      "2  2023-12-01  merchant_672       5.5\n",
      "     month_id     merchant_id  forecast\n",
      "0  2023-10-01  merchant_67393       0.8\n",
      "1  2023-11-01  merchant_67393       1.0\n",
      "2  2023-12-01  merchant_67393       0.0\n",
      "     month_id     merchant_id  forecast\n",
      "0  2023-10-01  merchant_67553       1.5\n",
      "1  2023-11-01  merchant_67553       2.0\n",
      "2  2023-12-01  merchant_67553       1.5\n",
      "     month_id     merchant_id  forecast\n",
      "0  2023-10-01  merchant_67686       1.2\n",
      "1  2023-11-01  merchant_67686       1.7\n",
      "2  2023-12-01  merchant_67686       0.0\n"
     ]
    },
    {
     "name": "stderr",
     "output_type": "stream",
     "text": [
      "Processing Customers:  97%|█████████▋| 25302/26060 [59:47<00:40, 18.55it/s]"
     ]
    },
    {
     "name": "stdout",
     "output_type": "stream",
     "text": [
      "     month_id    merchant_id  forecast\n",
      "0  2023-10-01  merchant_6776     132.2\n",
      "1  2023-11-01  merchant_6776     176.3\n",
      "2  2023-12-01  merchant_6776     186.0\n",
      "     month_id    merchant_id  forecast\n",
      "0  2023-10-01  merchant_6784       1.5\n",
      "1  2023-11-01  merchant_6784       2.0\n",
      "2  2023-12-01  merchant_6784       1.5\n",
      "     month_id   merchant_id  forecast\n",
      "0  2023-10-01  merchant_791       1.0\n",
      "1  2023-11-01  merchant_791       1.3\n",
      "2  2023-12-01  merchant_791       0.0\n",
      "     month_id    merchant_id  forecast\n",
      "0  2023-10-01  merchant_7915       0.8\n",
      "1  2023-11-01  merchant_7915       1.0\n",
      "2  2023-12-01  merchant_7915       0.0\n",
      "     month_id    merchant_id  forecast\n",
      "0  2023-10-01  merchant_7954       2.2\n",
      "1  2023-11-01  merchant_7954       3.0\n",
      "2  2023-12-01  merchant_7954       2.5\n"
     ]
    },
    {
     "name": "stderr",
     "output_type": "stream",
     "text": [
      "Processing Customers:  97%|█████████▋| 25306/26060 [59:47<00:40, 18.73it/s]"
     ]
    },
    {
     "name": "stdout",
     "output_type": "stream",
     "text": [
      "     month_id    merchant_id  forecast\n",
      "0  2023-10-01  merchant_8032       0.8\n",
      "1  2023-11-01  merchant_8032       1.0\n",
      "2  2023-12-01  merchant_8032       0.0\n",
      "     month_id    merchant_id  forecast\n",
      "0  2023-10-01  merchant_8304      21.0\n",
      "1  2023-11-01  merchant_8304      28.0\n",
      "2  2023-12-01  merchant_8304      29.5\n",
      "     month_id    merchant_id  forecast\n",
      "0  2023-10-01  merchant_8305       1.5\n",
      "1  2023-11-01  merchant_8305       2.0\n",
      "2  2023-12-01  merchant_8305       1.5\n",
      "     month_id    merchant_id  forecast\n",
      "0  2023-10-01  merchant_8525       0.8\n",
      "1  2023-11-01  merchant_8525       1.0\n",
      "2  2023-12-01  merchant_8525       0.0\n",
      "     month_id    merchant_id  forecast\n",
      "0  2023-10-01  merchant_8664       2.0\n",
      "1  2023-11-01  merchant_8664       2.7\n",
      "2  2023-12-01  merchant_8664       1.5\n"
     ]
    },
    {
     "name": "stderr",
     "output_type": "stream",
     "text": [
      "Processing Customers:  97%|█████████▋| 25310/26060 [59:48<00:41, 18.06it/s]"
     ]
    },
    {
     "name": "stdout",
     "output_type": "stream",
     "text": [
      "     month_id    merchant_id  forecast\n",
      "0  2023-10-01  merchant_8914      14.2\n",
      "1  2023-11-01  merchant_8914      19.0\n",
      "2  2023-12-01  merchant_8914      23.5\n",
      "     month_id  merchant_id  forecast\n",
      "0  2023-10-01  merchant_91       1.5\n",
      "1  2023-11-01  merchant_91       2.0\n",
      "2  2023-12-01  merchant_91       1.5\n",
      "     month_id    merchant_id  forecast\n",
      "0  2023-10-01  merchant_9360       1.8\n",
      "1  2023-11-01  merchant_9360       2.3\n",
      "2  2023-12-01  merchant_9360       2.0\n",
      "     month_id    merchant_id  forecast\n",
      "0  2023-10-01  merchant_9388       1.5\n",
      "1  2023-11-01  merchant_9388       2.0\n",
      "2  2023-12-01  merchant_9388       1.5\n"
     ]
    },
    {
     "name": "stderr",
     "output_type": "stream",
     "text": [
      "Processing Customers:  97%|█████████▋| 25316/26060 [59:48<00:39, 18.69it/s]"
     ]
    },
    {
     "name": "stdout",
     "output_type": "stream",
     "text": [
      "     month_id    merchant_id  forecast\n",
      "0  2023-10-01  merchant_9442     102.0\n",
      "1  2023-11-01  merchant_9442     136.0\n",
      "2  2023-12-01  merchant_9442     196.0\n",
      "     month_id    merchant_id  forecast\n",
      "0  2023-10-01  merchant_9512       0.8\n",
      "1  2023-11-01  merchant_9512       1.0\n",
      "2  2023-12-01  merchant_9512       0.0\n",
      "     month_id   merchant_id  forecast\n",
      "0  2023-10-01  merchant_960       1.5\n",
      "1  2023-11-01  merchant_960       2.0\n",
      "2  2023-12-01  merchant_960       1.5\n",
      "     month_id    merchant_id  forecast\n",
      "0  2023-10-01  merchant_9893      13.8\n",
      "1  2023-11-01  merchant_9893      18.3\n",
      "2  2023-12-01  merchant_9893      26.0\n",
      "     month_id    merchant_id  forecast\n",
      "0  2023-10-01  merchant_9918       1.8\n",
      "1  2023-11-01  merchant_9918       2.3\n",
      "2  2023-12-01  merchant_9918       2.0\n"
     ]
    },
    {
     "name": "stderr",
     "output_type": "stream",
     "text": [
      "Processing Customers:  97%|█████████▋| 25320/26060 [59:48<00:41, 18.04it/s]"
     ]
    },
    {
     "name": "stdout",
     "output_type": "stream",
     "text": [
      "     month_id     merchant_id  forecast\n",
      "0  2023-10-01  merchant_10025       1.5\n",
      "1  2023-11-01  merchant_10025       2.0\n",
      "2  2023-12-01  merchant_10025       3.0\n",
      "     month_id     merchant_id  forecast\n",
      "0  2023-10-01  merchant_10142       1.2\n",
      "1  2023-11-01  merchant_10142       1.7\n",
      "2  2023-12-01  merchant_10142       2.5\n",
      "     month_id     merchant_id  forecast\n",
      "0  2023-10-01  merchant_10221       1.8\n",
      "1  2023-11-01  merchant_10221       2.3\n",
      "2  2023-12-01  merchant_10221       3.5\n",
      "     month_id     merchant_id  forecast\n",
      "0  2023-10-01  merchant_10471       0.8\n",
      "1  2023-11-01  merchant_10471       1.0\n",
      "2  2023-12-01  merchant_10471       1.5\n",
      "     month_id    merchant_id  forecast\n",
      "0  2023-10-01  merchant_1056       0.8\n",
      "1  2023-11-01  merchant_1056       1.0\n",
      "2  2023-12-01  merchant_1056       1.5\n"
     ]
    },
    {
     "name": "stderr",
     "output_type": "stream",
     "text": [
      "Processing Customers:  97%|█████████▋| 25324/26060 [59:48<00:40, 18.03it/s]"
     ]
    },
    {
     "name": "stdout",
     "output_type": "stream",
     "text": [
      "     month_id    merchant_id  forecast\n",
      "0  2023-10-01  merchant_1057       1.8\n",
      "1  2023-11-01  merchant_1057       2.3\n",
      "2  2023-12-01  merchant_1057       3.5\n",
      "     month_id     merchant_id  forecast\n",
      "0  2023-10-01  merchant_10636      30.0\n",
      "1  2023-11-01  merchant_10636      40.0\n",
      "2  2023-12-01  merchant_10636      60.0\n",
      "     month_id     merchant_id  forecast\n",
      "0  2023-10-01  merchant_10687       2.2\n",
      "1  2023-11-01  merchant_10687       3.0\n",
      "2  2023-12-01  merchant_10687       4.5\n",
      "     month_id     merchant_id  forecast\n",
      "0  2023-10-01  merchant_10862       1.0\n",
      "1  2023-11-01  merchant_10862       1.3\n",
      "2  2023-12-01  merchant_10862       2.0\n"
     ]
    },
    {
     "name": "stderr",
     "output_type": "stream",
     "text": [
      "Processing Customers:  97%|█████████▋| 25328/26060 [59:49<00:40, 18.06it/s]"
     ]
    },
    {
     "name": "stdout",
     "output_type": "stream",
     "text": [
      "     month_id     merchant_id  forecast\n",
      "0  2023-10-01  merchant_10984       0.8\n",
      "1  2023-11-01  merchant_10984       1.0\n",
      "2  2023-12-01  merchant_10984       1.5\n",
      "     month_id     merchant_id  forecast\n",
      "0  2023-10-01  merchant_11012       2.2\n",
      "1  2023-11-01  merchant_11012       3.0\n",
      "2  2023-12-01  merchant_11012       4.5\n",
      "     month_id   merchant_id  forecast\n",
      "0  2023-10-01  merchant_112       1.8\n",
      "1  2023-11-01  merchant_112       2.3\n",
      "2  2023-12-01  merchant_112       3.5\n",
      "     month_id     merchant_id  forecast\n",
      "0  2023-10-01  merchant_11272       8.0\n",
      "1  2023-11-01  merchant_11272      10.7\n",
      "2  2023-12-01  merchant_11272      16.0\n"
     ]
    },
    {
     "name": "stderr",
     "output_type": "stream",
     "text": [
      "Processing Customers:  97%|█████████▋| 25332/26060 [59:49<00:41, 17.65it/s]"
     ]
    },
    {
     "name": "stdout",
     "output_type": "stream",
     "text": [
      "     month_id     merchant_id  forecast\n",
      "0  2023-10-01  merchant_11366       0.8\n",
      "1  2023-11-01  merchant_11366       1.0\n",
      "2  2023-12-01  merchant_11366       1.5\n",
      "     month_id     merchant_id  forecast\n",
      "0  2023-10-01  merchant_11395       1.2\n",
      "1  2023-11-01  merchant_11395       1.7\n",
      "2  2023-12-01  merchant_11395       2.5\n",
      "     month_id     merchant_id  forecast\n",
      "0  2023-10-01  merchant_11484       4.8\n",
      "1  2023-11-01  merchant_11484       6.3\n",
      "2  2023-12-01  merchant_11484       9.5\n",
      "     month_id     merchant_id  forecast\n",
      "0  2023-10-01  merchant_11538       0.8\n",
      "1  2023-11-01  merchant_11538       1.0\n",
      "2  2023-12-01  merchant_11538       1.5\n"
     ]
    },
    {
     "name": "stderr",
     "output_type": "stream",
     "text": [
      "Processing Customers:  97%|█████████▋| 25336/26060 [59:49<00:42, 17.22it/s]"
     ]
    },
    {
     "name": "stdout",
     "output_type": "stream",
     "text": [
      "     month_id     merchant_id  forecast\n",
      "0  2023-10-01  merchant_11613      34.0\n",
      "1  2023-11-01  merchant_11613      45.3\n",
      "2  2023-12-01  merchant_11613      68.0\n",
      "     month_id     merchant_id  forecast\n",
      "0  2023-10-01  merchant_11634       1.2\n",
      "1  2023-11-01  merchant_11634       1.7\n",
      "2  2023-12-01  merchant_11634       2.5\n",
      "     month_id     merchant_id  forecast\n",
      "0  2023-10-01  merchant_11817       2.5\n",
      "1  2023-11-01  merchant_11817       3.3\n",
      "2  2023-12-01  merchant_11817       5.0\n",
      "     month_id     merchant_id  forecast\n",
      "0  2023-10-01  merchant_12012       1.5\n",
      "1  2023-11-01  merchant_12012       2.0\n",
      "2  2023-12-01  merchant_12012       3.0\n"
     ]
    },
    {
     "name": "stderr",
     "output_type": "stream",
     "text": [
      "Processing Customers:  97%|█████████▋| 25340/26060 [59:49<00:43, 16.62it/s]"
     ]
    },
    {
     "name": "stdout",
     "output_type": "stream",
     "text": [
      "     month_id     merchant_id  forecast\n",
      "0  2023-10-01  merchant_12030       0.8\n",
      "1  2023-11-01  merchant_12030       1.0\n",
      "2  2023-12-01  merchant_12030       1.5\n",
      "     month_id     merchant_id  forecast\n",
      "0  2023-10-01  merchant_12103       1.8\n",
      "1  2023-11-01  merchant_12103       2.3\n",
      "2  2023-12-01  merchant_12103       3.5\n",
      "     month_id     merchant_id  forecast\n",
      "0  2023-10-01  merchant_12362       0.8\n",
      "1  2023-11-01  merchant_12362       1.0\n",
      "2  2023-12-01  merchant_12362       1.5\n"
     ]
    },
    {
     "name": "stderr",
     "output_type": "stream",
     "text": [
      "Processing Customers:  97%|█████████▋| 25344/26060 [59:50<00:42, 16.86it/s]"
     ]
    },
    {
     "name": "stdout",
     "output_type": "stream",
     "text": [
      "     month_id     merchant_id  forecast\n",
      "0  2023-10-01  merchant_12503       0.8\n",
      "1  2023-11-01  merchant_12503       1.0\n",
      "2  2023-12-01  merchant_12503       1.5\n",
      "     month_id     merchant_id  forecast\n",
      "0  2023-10-01  merchant_12557      24.5\n",
      "1  2023-11-01  merchant_12557      32.7\n",
      "2  2023-12-01  merchant_12557      49.0\n",
      "     month_id     merchant_id  forecast\n",
      "0  2023-10-01  merchant_13018       0.8\n",
      "1  2023-11-01  merchant_13018       1.0\n",
      "2  2023-12-01  merchant_13018       1.5\n",
      "     month_id     merchant_id  forecast\n",
      "0  2023-10-01  merchant_13116       3.5\n",
      "1  2023-11-01  merchant_13116       4.7\n",
      "2  2023-12-01  merchant_13116       7.0\n"
     ]
    },
    {
     "name": "stderr",
     "output_type": "stream",
     "text": [
      "Processing Customers:  97%|█████████▋| 25348/26060 [59:50<00:41, 17.09it/s]"
     ]
    },
    {
     "name": "stdout",
     "output_type": "stream",
     "text": [
      "     month_id     merchant_id  forecast\n",
      "0  2023-10-01  merchant_13153       2.8\n",
      "1  2023-11-01  merchant_13153       3.7\n",
      "2  2023-12-01  merchant_13153       5.5\n",
      "     month_id     merchant_id  forecast\n",
      "0  2023-10-01  merchant_13267       1.5\n",
      "1  2023-11-01  merchant_13267       2.0\n",
      "2  2023-12-01  merchant_13267       3.0\n",
      "     month_id     merchant_id  forecast\n",
      "0  2023-10-01  merchant_13455     205.2\n",
      "1  2023-11-01  merchant_13455     273.7\n",
      "2  2023-12-01  merchant_13455     410.5\n",
      "     month_id     merchant_id  forecast\n",
      "0  2023-10-01  merchant_13636       1.8\n",
      "1  2023-11-01  merchant_13636       2.3\n",
      "2  2023-12-01  merchant_13636       3.5\n",
      "     month_id     merchant_id  forecast\n",
      "0  2023-10-01  merchant_13747       0.8\n",
      "1  2023-11-01  merchant_13747       1.0\n",
      "2  2023-12-01  merchant_13747       1.5\n"
     ]
    },
    {
     "name": "stderr",
     "output_type": "stream",
     "text": [
      "Processing Customers:  97%|█████████▋| 25352/26060 [59:50<00:41, 17.19it/s]"
     ]
    },
    {
     "name": "stdout",
     "output_type": "stream",
     "text": [
      "     month_id     merchant_id  forecast\n",
      "0  2023-10-01  merchant_13760       2.0\n",
      "1  2023-11-01  merchant_13760       2.7\n",
      "2  2023-12-01  merchant_13760       4.0\n",
      "     month_id     merchant_id  forecast\n",
      "0  2023-10-01  merchant_13846       0.8\n",
      "1  2023-11-01  merchant_13846       1.0\n",
      "2  2023-12-01  merchant_13846       1.5\n",
      "     month_id     merchant_id  forecast\n",
      "0  2023-10-01  merchant_13908     303.2\n",
      "1  2023-11-01  merchant_13908     404.3\n",
      "2  2023-12-01  merchant_13908     606.5\n",
      "     month_id     merchant_id  forecast\n",
      "0  2023-10-01  merchant_14269       2.0\n",
      "1  2023-11-01  merchant_14269       2.7\n",
      "2  2023-12-01  merchant_14269       4.0\n"
     ]
    },
    {
     "name": "stderr",
     "output_type": "stream",
     "text": [
      "Processing Customers:  97%|█████████▋| 25356/26060 [59:50<00:40, 17.57it/s]"
     ]
    },
    {
     "name": "stdout",
     "output_type": "stream",
     "text": [
      "     month_id     merchant_id  forecast\n",
      "0  2023-10-01  merchant_14484       0.8\n",
      "1  2023-11-01  merchant_14484       1.0\n",
      "2  2023-12-01  merchant_14484       1.5\n",
      "     month_id     merchant_id  forecast\n",
      "0  2023-10-01  merchant_14748       0.8\n",
      "1  2023-11-01  merchant_14748       1.0\n",
      "2  2023-12-01  merchant_14748       1.5\n",
      "     month_id    merchant_id  forecast\n",
      "0  2023-10-01  merchant_1490       1.5\n",
      "1  2023-11-01  merchant_1490       2.0\n",
      "2  2023-12-01  merchant_1490       3.0\n",
      "     month_id     merchant_id  forecast\n",
      "0  2023-10-01  merchant_14915       1.8\n",
      "1  2023-11-01  merchant_14915       2.3\n",
      "2  2023-12-01  merchant_14915       3.5\n"
     ]
    },
    {
     "name": "stderr",
     "output_type": "stream",
     "text": [
      "Processing Customers:  97%|█████████▋| 25360/26060 [59:51<00:39, 17.78it/s]"
     ]
    },
    {
     "name": "stdout",
     "output_type": "stream",
     "text": [
      "     month_id     merchant_id  forecast\n",
      "0  2023-10-01  merchant_14939     240.8\n",
      "1  2023-11-01  merchant_14939     321.0\n",
      "2  2023-12-01  merchant_14939     481.5\n",
      "     month_id    merchant_id  forecast\n",
      "0  2023-10-01  merchant_1505       0.8\n",
      "1  2023-11-01  merchant_1505       1.0\n",
      "2  2023-12-01  merchant_1505       1.5\n",
      "     month_id     merchant_id  forecast\n",
      "0  2023-10-01  merchant_15270       4.0\n",
      "1  2023-11-01  merchant_15270       5.3\n",
      "2  2023-12-01  merchant_15270       8.0\n",
      "     month_id     merchant_id  forecast\n",
      "0  2023-10-01  merchant_15519       1.8\n",
      "1  2023-11-01  merchant_15519       2.3\n",
      "2  2023-12-01  merchant_15519       3.5\n"
     ]
    },
    {
     "name": "stderr",
     "output_type": "stream",
     "text": [
      "Processing Customers:  97%|█████████▋| 25364/26060 [59:51<00:39, 17.50it/s]"
     ]
    },
    {
     "name": "stdout",
     "output_type": "stream",
     "text": [
      "     month_id     merchant_id  forecast\n",
      "0  2023-10-01  merchant_15578       1.8\n",
      "1  2023-11-01  merchant_15578       2.3\n",
      "2  2023-12-01  merchant_15578       3.5\n",
      "     month_id     merchant_id  forecast\n",
      "0  2023-10-01  merchant_15621       1.5\n",
      "1  2023-11-01  merchant_15621       2.0\n",
      "2  2023-12-01  merchant_15621       3.0\n",
      "     month_id     merchant_id  forecast\n",
      "0  2023-10-01  merchant_16104       1.5\n",
      "1  2023-11-01  merchant_16104       2.0\n",
      "2  2023-12-01  merchant_16104       3.0\n",
      "     month_id     merchant_id  forecast\n",
      "0  2023-10-01  merchant_16524       3.8\n",
      "1  2023-11-01  merchant_16524       5.0\n",
      "2  2023-12-01  merchant_16524       7.5\n"
     ]
    },
    {
     "name": "stderr",
     "output_type": "stream",
     "text": [
      "Processing Customers:  97%|█████████▋| 25368/26060 [59:51<00:41, 16.67it/s]"
     ]
    },
    {
     "name": "stdout",
     "output_type": "stream",
     "text": [
      "     month_id     merchant_id  forecast\n",
      "0  2023-10-01  merchant_16636       1.5\n",
      "1  2023-11-01  merchant_16636       2.0\n",
      "2  2023-12-01  merchant_16636       3.0\n",
      "     month_id     merchant_id  forecast\n",
      "0  2023-10-01  merchant_16824       0.8\n",
      "1  2023-11-01  merchant_16824       1.0\n",
      "2  2023-12-01  merchant_16824       1.5\n",
      "     month_id     merchant_id  forecast\n",
      "0  2023-10-01  merchant_16883       2.8\n",
      "1  2023-11-01  merchant_16883       3.7\n",
      "2  2023-12-01  merchant_16883       5.5\n"
     ]
    },
    {
     "name": "stderr",
     "output_type": "stream",
     "text": [
      "Processing Customers:  97%|█████████▋| 25372/26060 [59:51<00:40, 16.95it/s]"
     ]
    },
    {
     "name": "stdout",
     "output_type": "stream",
     "text": [
      "     month_id     merchant_id  forecast\n",
      "0  2023-10-01  merchant_16989       2.0\n",
      "1  2023-11-01  merchant_16989       2.7\n",
      "2  2023-12-01  merchant_16989       4.0\n",
      "     month_id     merchant_id  forecast\n",
      "0  2023-10-01  merchant_16992       1.5\n",
      "1  2023-11-01  merchant_16992       2.0\n",
      "2  2023-12-01  merchant_16992       3.0\n",
      "     month_id     merchant_id  forecast\n",
      "0  2023-10-01  merchant_17029       1.8\n",
      "1  2023-11-01  merchant_17029       2.3\n",
      "2  2023-12-01  merchant_17029       3.5\n",
      "     month_id     merchant_id  forecast\n",
      "0  2023-10-01  merchant_17181      12.0\n",
      "1  2023-11-01  merchant_17181      16.0\n",
      "2  2023-12-01  merchant_17181      24.0\n",
      "     month_id     merchant_id  forecast\n",
      "0  2023-10-01  merchant_17430       1.5\n",
      "1  2023-11-01  merchant_17430       2.0\n",
      "2  2023-12-01  merchant_17430       3.0\n"
     ]
    },
    {
     "name": "stderr",
     "output_type": "stream",
     "text": [
      "Processing Customers:  97%|█████████▋| 25376/26060 [59:51<00:40, 16.81it/s]"
     ]
    },
    {
     "name": "stdout",
     "output_type": "stream",
     "text": [
      "     month_id     merchant_id  forecast\n",
      "0  2023-10-01  merchant_17480       1.0\n",
      "1  2023-11-01  merchant_17480       1.3\n",
      "2  2023-12-01  merchant_17480       2.0\n",
      "     month_id     merchant_id  forecast\n",
      "0  2023-10-01  merchant_17522       2.2\n",
      "1  2023-11-01  merchant_17522       3.0\n",
      "2  2023-12-01  merchant_17522       4.5\n",
      "     month_id     merchant_id  forecast\n",
      "0  2023-10-01  merchant_17543       1.5\n",
      "1  2023-11-01  merchant_17543       2.0\n",
      "2  2023-12-01  merchant_17543       3.0\n",
      "     month_id     merchant_id  forecast\n",
      "0  2023-10-01  merchant_17741       0.8\n",
      "1  2023-11-01  merchant_17741       1.0\n",
      "2  2023-12-01  merchant_17741       1.5\n"
     ]
    },
    {
     "name": "stderr",
     "output_type": "stream",
     "text": [
      "Processing Customers:  97%|█████████▋| 25380/26060 [59:52<00:39, 17.10it/s]"
     ]
    },
    {
     "name": "stdout",
     "output_type": "stream",
     "text": [
      "     month_id     merchant_id  forecast\n",
      "0  2023-10-01  merchant_17951       1.0\n",
      "1  2023-11-01  merchant_17951       1.3\n",
      "2  2023-12-01  merchant_17951       2.0\n",
      "     month_id     merchant_id  forecast\n",
      "0  2023-10-01  merchant_17956       0.8\n",
      "1  2023-11-01  merchant_17956       1.0\n",
      "2  2023-12-01  merchant_17956       1.5\n",
      "     month_id     merchant_id  forecast\n",
      "0  2023-10-01  merchant_18183      20.5\n",
      "1  2023-11-01  merchant_18183      27.3\n",
      "2  2023-12-01  merchant_18183      41.0\n",
      "     month_id     merchant_id  forecast\n",
      "0  2023-10-01  merchant_18196       0.8\n",
      "1  2023-11-01  merchant_18196       1.0\n",
      "2  2023-12-01  merchant_18196       1.5\n"
     ]
    },
    {
     "name": "stderr",
     "output_type": "stream",
     "text": [
      "Processing Customers:  97%|█████████▋| 25384/26060 [59:52<00:39, 17.25it/s]"
     ]
    },
    {
     "name": "stdout",
     "output_type": "stream",
     "text": [
      "     month_id     merchant_id  forecast\n",
      "0  2023-10-01  merchant_18342       2.5\n",
      "1  2023-11-01  merchant_18342       3.3\n",
      "2  2023-12-01  merchant_18342       5.0\n",
      "     month_id     merchant_id  forecast\n",
      "0  2023-10-01  merchant_18585       0.8\n",
      "1  2023-11-01  merchant_18585       1.0\n",
      "2  2023-12-01  merchant_18585       1.5\n",
      "     month_id     merchant_id  forecast\n",
      "0  2023-10-01  merchant_18822       1.2\n",
      "1  2023-11-01  merchant_18822       1.7\n",
      "2  2023-12-01  merchant_18822       2.5\n",
      "     month_id     merchant_id  forecast\n",
      "0  2023-10-01  merchant_18841       1.0\n",
      "1  2023-11-01  merchant_18841       1.3\n",
      "2  2023-12-01  merchant_18841       2.0\n"
     ]
    },
    {
     "name": "stderr",
     "output_type": "stream",
     "text": [
      "Processing Customers:  97%|█████████▋| 25388/26060 [59:52<00:39, 17.10it/s]"
     ]
    },
    {
     "name": "stdout",
     "output_type": "stream",
     "text": [
      "     month_id     merchant_id  forecast\n",
      "0  2023-10-01  merchant_18942       0.8\n",
      "1  2023-11-01  merchant_18942       1.0\n",
      "2  2023-12-01  merchant_18942       1.5\n",
      "     month_id     merchant_id  forecast\n",
      "0  2023-10-01  merchant_18998       0.8\n",
      "1  2023-11-01  merchant_18998       1.0\n",
      "2  2023-12-01  merchant_18998       1.5\n",
      "     month_id     merchant_id  forecast\n",
      "0  2023-10-01  merchant_19362       8.0\n",
      "1  2023-11-01  merchant_19362      10.7\n",
      "2  2023-12-01  merchant_19362      16.0\n",
      "     month_id     merchant_id  forecast\n",
      "0  2023-10-01  merchant_19399       1.8\n",
      "1  2023-11-01  merchant_19399       2.3\n",
      "2  2023-12-01  merchant_19399       3.5\n"
     ]
    },
    {
     "name": "stderr",
     "output_type": "stream",
     "text": [
      "Processing Customers:  97%|█████████▋| 25392/26060 [59:52<00:38, 17.19it/s]"
     ]
    },
    {
     "name": "stdout",
     "output_type": "stream",
     "text": [
      "     month_id     merchant_id  forecast\n",
      "0  2023-10-01  merchant_19447       0.8\n",
      "1  2023-11-01  merchant_19447       1.0\n",
      "2  2023-12-01  merchant_19447       1.5\n",
      "     month_id     merchant_id  forecast\n",
      "0  2023-10-01  merchant_19619       1.0\n",
      "1  2023-11-01  merchant_19619       1.3\n",
      "2  2023-12-01  merchant_19619       2.0\n",
      "     month_id     merchant_id  forecast\n",
      "0  2023-10-01  merchant_19823       1.5\n",
      "1  2023-11-01  merchant_19823       2.0\n",
      "2  2023-12-01  merchant_19823       3.0\n",
      "     month_id     merchant_id  forecast\n",
      "0  2023-10-01  merchant_19881       2.0\n",
      "1  2023-11-01  merchant_19881       2.7\n",
      "2  2023-12-01  merchant_19881       4.0\n"
     ]
    },
    {
     "name": "stderr",
     "output_type": "stream",
     "text": [
      "Processing Customers:  97%|█████████▋| 25396/26060 [59:53<00:39, 16.79it/s]"
     ]
    },
    {
     "name": "stdout",
     "output_type": "stream",
     "text": [
      "     month_id     merchant_id  forecast\n",
      "0  2023-10-01  merchant_19924       1.5\n",
      "1  2023-11-01  merchant_19924       2.0\n",
      "2  2023-12-01  merchant_19924       3.0\n",
      "     month_id     merchant_id  forecast\n",
      "0  2023-10-01  merchant_20095       0.8\n",
      "1  2023-11-01  merchant_20095       1.0\n",
      "2  2023-12-01  merchant_20095       1.5\n",
      "     month_id     merchant_id  forecast\n",
      "0  2023-10-01  merchant_20138       2.5\n",
      "1  2023-11-01  merchant_20138       3.3\n",
      "2  2023-12-01  merchant_20138       5.0\n",
      "     month_id     merchant_id  forecast\n",
      "0  2023-10-01  merchant_20144       0.8\n",
      "1  2023-11-01  merchant_20144       1.0\n",
      "2  2023-12-01  merchant_20144       1.5\n"
     ]
    },
    {
     "name": "stderr",
     "output_type": "stream",
     "text": [
      "Processing Customers:  97%|█████████▋| 25400/26060 [59:53<00:38, 17.34it/s]"
     ]
    },
    {
     "name": "stdout",
     "output_type": "stream",
     "text": [
      "     month_id     merchant_id  forecast\n",
      "0  2023-10-01  merchant_20339       2.2\n",
      "1  2023-11-01  merchant_20339       3.0\n",
      "2  2023-12-01  merchant_20339       4.5\n",
      "     month_id     merchant_id  forecast\n",
      "0  2023-10-01  merchant_20532       0.8\n",
      "1  2023-11-01  merchant_20532       1.0\n",
      "2  2023-12-01  merchant_20532       1.5\n",
      "     month_id    merchant_id  forecast\n",
      "0  2023-10-01  merchant_2059       0.8\n",
      "1  2023-11-01  merchant_2059       1.0\n",
      "2  2023-12-01  merchant_2059       1.5\n",
      "     month_id     merchant_id  forecast\n",
      "0  2023-10-01  merchant_20835       0.8\n",
      "1  2023-11-01  merchant_20835       1.0\n",
      "2  2023-12-01  merchant_20835       1.5\n"
     ]
    },
    {
     "name": "stderr",
     "output_type": "stream",
     "text": [
      "Processing Customers:  97%|█████████▋| 25404/26060 [59:53<00:37, 17.35it/s]"
     ]
    },
    {
     "name": "stdout",
     "output_type": "stream",
     "text": [
      "     month_id     merchant_id  forecast\n",
      "0  2023-10-01  merchant_20984     238.5\n",
      "1  2023-11-01  merchant_20984     318.0\n",
      "2  2023-12-01  merchant_20984     477.0\n",
      "     month_id     merchant_id  forecast\n",
      "0  2023-10-01  merchant_21280       0.8\n",
      "1  2023-11-01  merchant_21280       1.0\n",
      "2  2023-12-01  merchant_21280       1.5\n",
      "     month_id     merchant_id  forecast\n",
      "0  2023-10-01  merchant_21294       0.8\n",
      "1  2023-11-01  merchant_21294       1.0\n",
      "2  2023-12-01  merchant_21294       1.5\n",
      "     month_id     merchant_id  forecast\n",
      "0  2023-10-01  merchant_21349       3.5\n",
      "1  2023-11-01  merchant_21349       4.7\n",
      "2  2023-12-01  merchant_21349       7.0\n"
     ]
    },
    {
     "name": "stderr",
     "output_type": "stream",
     "text": [
      "Processing Customers:  97%|█████████▋| 25408/26060 [59:53<00:37, 17.34it/s]"
     ]
    },
    {
     "name": "stdout",
     "output_type": "stream",
     "text": [
      "     month_id     merchant_id  forecast\n",
      "0  2023-10-01  merchant_21581       1.0\n",
      "1  2023-11-01  merchant_21581       1.3\n",
      "2  2023-12-01  merchant_21581       2.0\n",
      "     month_id     merchant_id  forecast\n",
      "0  2023-10-01  merchant_21773       1.5\n",
      "1  2023-11-01  merchant_21773       2.0\n",
      "2  2023-12-01  merchant_21773       3.0\n",
      "     month_id     merchant_id  forecast\n",
      "0  2023-10-01  merchant_22319       0.8\n",
      "1  2023-11-01  merchant_22319       1.0\n",
      "2  2023-12-01  merchant_22319       1.5\n",
      "     month_id     merchant_id  forecast\n",
      "0  2023-10-01  merchant_22336       3.5\n",
      "1  2023-11-01  merchant_22336       4.7\n",
      "2  2023-12-01  merchant_22336       7.0\n"
     ]
    },
    {
     "name": "stderr",
     "output_type": "stream",
     "text": [
      "Processing Customers:  98%|█████████▊| 25412/26060 [59:54<00:36, 17.58it/s]"
     ]
    },
    {
     "name": "stdout",
     "output_type": "stream",
     "text": [
      "     month_id    merchant_id  forecast\n",
      "0  2023-10-01  merchant_2306      69.0\n",
      "1  2023-11-01  merchant_2306      92.0\n",
      "2  2023-12-01  merchant_2306     138.0\n",
      "     month_id     merchant_id  forecast\n",
      "0  2023-10-01  merchant_23230      24.8\n",
      "1  2023-11-01  merchant_23230      33.0\n",
      "2  2023-12-01  merchant_23230      49.5\n",
      "     month_id     merchant_id  forecast\n",
      "0  2023-10-01  merchant_23471       1.5\n",
      "1  2023-11-01  merchant_23471       2.0\n",
      "2  2023-12-01  merchant_23471       3.0\n",
      "     month_id     merchant_id  forecast\n",
      "0  2023-10-01  merchant_23881       0.8\n",
      "1  2023-11-01  merchant_23881       1.0\n",
      "2  2023-12-01  merchant_23881       1.5\n"
     ]
    },
    {
     "name": "stderr",
     "output_type": "stream",
     "text": [
      "Processing Customers:  98%|█████████▊| 25416/26060 [59:54<00:36, 17.44it/s]"
     ]
    },
    {
     "name": "stdout",
     "output_type": "stream",
     "text": [
      "     month_id     merchant_id  forecast\n",
      "0  2023-10-01  merchant_24013     120.0\n",
      "1  2023-11-01  merchant_24013     160.0\n",
      "2  2023-12-01  merchant_24013     240.0\n",
      "     month_id     merchant_id  forecast\n",
      "0  2023-10-01  merchant_24196       1.8\n",
      "1  2023-11-01  merchant_24196       2.3\n",
      "2  2023-12-01  merchant_24196       3.5\n",
      "     month_id     merchant_id  forecast\n",
      "0  2023-10-01  merchant_24253       3.2\n",
      "1  2023-11-01  merchant_24253       4.3\n",
      "2  2023-12-01  merchant_24253       6.5\n",
      "     month_id     merchant_id  forecast\n",
      "0  2023-10-01  merchant_24282       0.8\n",
      "1  2023-11-01  merchant_24282       1.0\n",
      "2  2023-12-01  merchant_24282       1.5\n"
     ]
    },
    {
     "name": "stderr",
     "output_type": "stream",
     "text": [
      "Processing Customers:  98%|█████████▊| 25420/26060 [59:54<00:38, 16.67it/s]"
     ]
    },
    {
     "name": "stdout",
     "output_type": "stream",
     "text": [
      "     month_id     merchant_id  forecast\n",
      "0  2023-10-01  merchant_24296       1.8\n",
      "1  2023-11-01  merchant_24296       2.3\n",
      "2  2023-12-01  merchant_24296       3.5\n",
      "     month_id     merchant_id  forecast\n",
      "0  2023-10-01  merchant_24332       1.5\n",
      "1  2023-11-01  merchant_24332       2.0\n",
      "2  2023-12-01  merchant_24332       3.0\n",
      "     month_id     merchant_id  forecast\n",
      "0  2023-10-01  merchant_24336       1.8\n",
      "1  2023-11-01  merchant_24336       2.3\n",
      "2  2023-12-01  merchant_24336       3.5\n"
     ]
    },
    {
     "name": "stderr",
     "output_type": "stream",
     "text": [
      "Processing Customers:  98%|█████████▊| 25424/26060 [59:54<00:37, 16.80it/s]"
     ]
    },
    {
     "name": "stdout",
     "output_type": "stream",
     "text": [
      "     month_id     merchant_id  forecast\n",
      "0  2023-10-01  merchant_24510       0.8\n",
      "1  2023-11-01  merchant_24510       1.0\n",
      "2  2023-12-01  merchant_24510       1.5\n",
      "     month_id     merchant_id  forecast\n",
      "0  2023-10-01  merchant_24526       0.8\n",
      "1  2023-11-01  merchant_24526       1.0\n",
      "2  2023-12-01  merchant_24526       1.5\n",
      "     month_id     merchant_id  forecast\n",
      "0  2023-10-01  merchant_24700       1.5\n",
      "1  2023-11-01  merchant_24700       2.0\n",
      "2  2023-12-01  merchant_24700       3.0\n",
      "     month_id     merchant_id  forecast\n",
      "0  2023-10-01  merchant_25028       0.8\n",
      "1  2023-11-01  merchant_25028       1.0\n",
      "2  2023-12-01  merchant_25028       1.5\n"
     ]
    },
    {
     "name": "stderr",
     "output_type": "stream",
     "text": [
      "Processing Customers:  98%|█████████▊| 25428/26060 [59:55<00:37, 16.89it/s]"
     ]
    },
    {
     "name": "stdout",
     "output_type": "stream",
     "text": [
      "     month_id     merchant_id  forecast\n",
      "0  2023-10-01  merchant_25389       0.8\n",
      "1  2023-11-01  merchant_25389       1.0\n",
      "2  2023-12-01  merchant_25389       1.5\n",
      "     month_id     merchant_id  forecast\n",
      "0  2023-10-01  merchant_25529       0.8\n",
      "1  2023-11-01  merchant_25529       1.0\n",
      "2  2023-12-01  merchant_25529       1.5\n",
      "     month_id     merchant_id  forecast\n",
      "0  2023-10-01  merchant_25693       0.8\n",
      "1  2023-11-01  merchant_25693       1.0\n",
      "2  2023-12-01  merchant_25693       1.5\n",
      "     month_id     merchant_id  forecast\n",
      "0  2023-10-01  merchant_25719       0.8\n",
      "1  2023-11-01  merchant_25719       1.0\n",
      "2  2023-12-01  merchant_25719       1.5\n",
      "     month_id     merchant_id  forecast\n",
      "0  2023-10-01  merchant_25737       2.0\n",
      "1  2023-11-01  merchant_25737       2.7\n",
      "2  2023-12-01  merchant_25737       4.0\n"
     ]
    },
    {
     "name": "stderr",
     "output_type": "stream",
     "text": [
      "Processing Customers:  98%|█████████▊| 25432/26060 [59:55<00:37, 16.81it/s]"
     ]
    },
    {
     "name": "stdout",
     "output_type": "stream",
     "text": [
      "     month_id     merchant_id  forecast\n",
      "0  2023-10-01  merchant_25862       1.8\n",
      "1  2023-11-01  merchant_25862       2.3\n",
      "2  2023-12-01  merchant_25862       3.5\n",
      "     month_id     merchant_id  forecast\n",
      "0  2023-10-01  merchant_25890       2.2\n",
      "1  2023-11-01  merchant_25890       3.0\n",
      "2  2023-12-01  merchant_25890       4.5\n",
      "     month_id     merchant_id  forecast\n",
      "0  2023-10-01  merchant_26165       2.5\n",
      "1  2023-11-01  merchant_26165       3.3\n",
      "2  2023-12-01  merchant_26165       5.0\n",
      "     month_id     merchant_id  forecast\n",
      "0  2023-10-01  merchant_26282       0.8\n",
      "1  2023-11-01  merchant_26282       1.0\n",
      "2  2023-12-01  merchant_26282       1.5\n"
     ]
    },
    {
     "name": "stderr",
     "output_type": "stream",
     "text": [
      "Processing Customers:  98%|█████████▊| 25436/26060 [59:55<00:36, 17.04it/s]"
     ]
    },
    {
     "name": "stdout",
     "output_type": "stream",
     "text": [
      "     month_id     merchant_id  forecast\n",
      "0  2023-10-01  merchant_26872       2.2\n",
      "1  2023-11-01  merchant_26872       3.0\n",
      "2  2023-12-01  merchant_26872       4.5\n",
      "     month_id     merchant_id  forecast\n",
      "0  2023-10-01  merchant_27244       0.8\n",
      "1  2023-11-01  merchant_27244       1.0\n",
      "2  2023-12-01  merchant_27244       1.5\n",
      "     month_id     merchant_id  forecast\n",
      "0  2023-10-01  merchant_27401       1.8\n",
      "1  2023-11-01  merchant_27401       2.3\n",
      "2  2023-12-01  merchant_27401       3.5\n",
      "     month_id     merchant_id  forecast\n",
      "0  2023-10-01  merchant_27732       0.8\n",
      "1  2023-11-01  merchant_27732       1.0\n",
      "2  2023-12-01  merchant_27732       1.5\n"
     ]
    },
    {
     "name": "stderr",
     "output_type": "stream",
     "text": [
      "Processing Customers:  98%|█████████▊| 25440/26060 [59:55<00:36, 17.11it/s]"
     ]
    },
    {
     "name": "stdout",
     "output_type": "stream",
     "text": [
      "     month_id     merchant_id  forecast\n",
      "0  2023-10-01  merchant_27742       2.2\n",
      "1  2023-11-01  merchant_27742       3.0\n",
      "2  2023-12-01  merchant_27742       4.5\n",
      "     month_id     merchant_id  forecast\n",
      "0  2023-10-01  merchant_27942       0.8\n",
      "1  2023-11-01  merchant_27942       1.0\n",
      "2  2023-12-01  merchant_27942       1.5\n",
      "     month_id     merchant_id  forecast\n",
      "0  2023-10-01  merchant_27976       0.8\n",
      "1  2023-11-01  merchant_27976       1.0\n",
      "2  2023-12-01  merchant_27976       1.5\n",
      "     month_id     merchant_id  forecast\n",
      "0  2023-10-01  merchant_28026       0.8\n",
      "1  2023-11-01  merchant_28026       1.0\n",
      "2  2023-12-01  merchant_28026       1.5\n"
     ]
    },
    {
     "name": "stderr",
     "output_type": "stream",
     "text": [
      "Processing Customers:  98%|█████████▊| 25444/26060 [59:55<00:36, 17.10it/s]"
     ]
    },
    {
     "name": "stdout",
     "output_type": "stream",
     "text": [
      "     month_id     merchant_id  forecast\n",
      "0  2023-10-01  merchant_28037       1.0\n",
      "1  2023-11-01  merchant_28037       1.3\n",
      "2  2023-12-01  merchant_28037       2.0\n",
      "     month_id     merchant_id  forecast\n",
      "0  2023-10-01  merchant_28297       1.2\n",
      "1  2023-11-01  merchant_28297       1.7\n",
      "2  2023-12-01  merchant_28297       2.5\n",
      "     month_id     merchant_id  forecast\n",
      "0  2023-10-01  merchant_28519       3.2\n",
      "1  2023-11-01  merchant_28519       4.3\n",
      "2  2023-12-01  merchant_28519       6.5\n",
      "     month_id     merchant_id  forecast\n",
      "0  2023-10-01  merchant_28637       0.8\n",
      "1  2023-11-01  merchant_28637       1.0\n",
      "2  2023-12-01  merchant_28637       1.5\n"
     ]
    },
    {
     "name": "stderr",
     "output_type": "stream",
     "text": [
      "Processing Customers:  98%|█████████▊| 25448/26060 [59:56<00:37, 16.47it/s]"
     ]
    },
    {
     "name": "stdout",
     "output_type": "stream",
     "text": [
      "     month_id     merchant_id  forecast\n",
      "0  2023-10-01  merchant_28718       0.8\n",
      "1  2023-11-01  merchant_28718       1.0\n",
      "2  2023-12-01  merchant_28718       1.5\n",
      "     month_id     merchant_id  forecast\n",
      "0  2023-10-01  merchant_28817       0.8\n",
      "1  2023-11-01  merchant_28817       1.0\n",
      "2  2023-12-01  merchant_28817       1.5\n",
      "     month_id    merchant_id  forecast\n",
      "0  2023-10-01  merchant_2887       0.8\n",
      "1  2023-11-01  merchant_2887       1.0\n",
      "2  2023-12-01  merchant_2887       1.5\n"
     ]
    },
    {
     "name": "stderr",
     "output_type": "stream",
     "text": [
      "Processing Customers:  98%|█████████▊| 25452/26060 [59:56<00:35, 16.93it/s]"
     ]
    },
    {
     "name": "stdout",
     "output_type": "stream",
     "text": [
      "     month_id     merchant_id  forecast\n",
      "0  2023-10-01  merchant_28887       5.2\n",
      "1  2023-11-01  merchant_28887       7.0\n",
      "2  2023-12-01  merchant_28887      10.5\n",
      "     month_id    merchant_id  forecast\n",
      "0  2023-10-01  merchant_2893       0.8\n",
      "1  2023-11-01  merchant_2893       1.0\n",
      "2  2023-12-01  merchant_2893       1.5\n",
      "     month_id     merchant_id  forecast\n",
      "0  2023-10-01  merchant_28982       2.0\n",
      "1  2023-11-01  merchant_28982       2.7\n",
      "2  2023-12-01  merchant_28982       4.0\n",
      "     month_id     merchant_id  forecast\n",
      "0  2023-10-01  merchant_28985       0.8\n",
      "1  2023-11-01  merchant_28985       1.0\n",
      "2  2023-12-01  merchant_28985       1.5\n",
      "     month_id     merchant_id  forecast\n",
      "0  2023-10-01  merchant_29379       1.0\n",
      "1  2023-11-01  merchant_29379       1.3\n",
      "2  2023-12-01  merchant_29379       2.0\n"
     ]
    },
    {
     "name": "stderr",
     "output_type": "stream",
     "text": [
      "Processing Customers:  98%|█████████▊| 25456/26060 [59:56<00:35, 16.89it/s]"
     ]
    },
    {
     "name": "stdout",
     "output_type": "stream",
     "text": [
      "     month_id     merchant_id  forecast\n",
      "0  2023-10-01  merchant_29415       2.2\n",
      "1  2023-11-01  merchant_29415       3.0\n",
      "2  2023-12-01  merchant_29415       4.5\n",
      "     month_id     merchant_id  forecast\n",
      "0  2023-10-01  merchant_29483       1.8\n",
      "1  2023-11-01  merchant_29483       2.3\n",
      "2  2023-12-01  merchant_29483       3.5\n",
      "     month_id     merchant_id  forecast\n",
      "0  2023-10-01  merchant_29492       1.8\n",
      "1  2023-11-01  merchant_29492       2.3\n",
      "2  2023-12-01  merchant_29492       3.5\n",
      "     month_id     merchant_id  forecast\n",
      "0  2023-10-01  merchant_29667       0.8\n",
      "1  2023-11-01  merchant_29667       1.0\n",
      "2  2023-12-01  merchant_29667       1.5\n"
     ]
    },
    {
     "name": "stderr",
     "output_type": "stream",
     "text": [
      "Processing Customers:  98%|█████████▊| 25460/26060 [59:56<00:34, 17.28it/s]"
     ]
    },
    {
     "name": "stdout",
     "output_type": "stream",
     "text": [
      "     month_id    merchant_id  forecast\n",
      "0  2023-10-01  merchant_2969       1.8\n",
      "1  2023-11-01  merchant_2969       2.3\n",
      "2  2023-12-01  merchant_2969       3.5\n",
      "     month_id     merchant_id  forecast\n",
      "0  2023-10-01  merchant_29835       0.8\n",
      "1  2023-11-01  merchant_29835       1.0\n",
      "2  2023-12-01  merchant_29835       1.5\n",
      "     month_id     merchant_id  forecast\n",
      "0  2023-10-01  merchant_29904       0.8\n",
      "1  2023-11-01  merchant_29904       1.0\n",
      "2  2023-12-01  merchant_29904       1.5\n",
      "     month_id     merchant_id  forecast\n",
      "0  2023-10-01  merchant_29986       1.8\n",
      "1  2023-11-01  merchant_29986       2.3\n",
      "2  2023-12-01  merchant_29986       3.5\n"
     ]
    },
    {
     "name": "stderr",
     "output_type": "stream",
     "text": [
      "Processing Customers:  98%|█████████▊| 25464/26060 [59:57<00:35, 16.74it/s]"
     ]
    },
    {
     "name": "stdout",
     "output_type": "stream",
     "text": [
      "     month_id     merchant_id  forecast\n",
      "0  2023-10-01  merchant_30410       2.0\n",
      "1  2023-11-01  merchant_30410       2.7\n",
      "2  2023-12-01  merchant_30410       4.0\n",
      "     month_id     merchant_id  forecast\n",
      "0  2023-10-01  merchant_30484      25.2\n",
      "1  2023-11-01  merchant_30484      33.7\n",
      "2  2023-12-01  merchant_30484      50.5\n",
      "     month_id     merchant_id  forecast\n",
      "0  2023-10-01  merchant_30831       1.0\n",
      "1  2023-11-01  merchant_30831       1.3\n",
      "2  2023-12-01  merchant_30831       2.0\n",
      "     month_id     merchant_id  forecast\n",
      "0  2023-10-01  merchant_30835       0.8\n",
      "1  2023-11-01  merchant_30835       1.0\n",
      "2  2023-12-01  merchant_30835       1.5\n"
     ]
    },
    {
     "name": "stderr",
     "output_type": "stream",
     "text": [
      "Processing Customers:  98%|█████████▊| 25468/26060 [59:57<00:34, 16.92it/s]"
     ]
    },
    {
     "name": "stdout",
     "output_type": "stream",
     "text": [
      "     month_id     merchant_id  forecast\n",
      "0  2023-10-01  merchant_31041       2.0\n",
      "1  2023-11-01  merchant_31041       2.7\n",
      "2  2023-12-01  merchant_31041       4.0\n",
      "     month_id     merchant_id  forecast\n",
      "0  2023-10-01  merchant_31049       2.0\n",
      "1  2023-11-01  merchant_31049       2.7\n",
      "2  2023-12-01  merchant_31049       4.0\n",
      "     month_id     merchant_id  forecast\n",
      "0  2023-10-01  merchant_31094       1.8\n",
      "1  2023-11-01  merchant_31094       2.3\n",
      "2  2023-12-01  merchant_31094       3.5\n",
      "     month_id    merchant_id  forecast\n",
      "0  2023-10-01  merchant_3113       0.8\n",
      "1  2023-11-01  merchant_3113       1.0\n",
      "2  2023-12-01  merchant_3113       1.5\n"
     ]
    },
    {
     "name": "stderr",
     "output_type": "stream",
     "text": [
      "Processing Customers:  98%|█████████▊| 25472/26060 [59:57<00:35, 16.43it/s]"
     ]
    },
    {
     "name": "stdout",
     "output_type": "stream",
     "text": [
      "     month_id     merchant_id  forecast\n",
      "0  2023-10-01  merchant_31145       2.0\n",
      "1  2023-11-01  merchant_31145       2.7\n",
      "2  2023-12-01  merchant_31145       4.0\n",
      "     month_id     merchant_id  forecast\n",
      "0  2023-10-01  merchant_31265       1.5\n",
      "1  2023-11-01  merchant_31265       2.0\n",
      "2  2023-12-01  merchant_31265       3.0\n",
      "     month_id     merchant_id  forecast\n",
      "0  2023-10-01  merchant_31273       0.8\n",
      "1  2023-11-01  merchant_31273       1.0\n",
      "2  2023-12-01  merchant_31273       1.5\n"
     ]
    },
    {
     "name": "stderr",
     "output_type": "stream",
     "text": [
      "Processing Customers:  98%|█████████▊| 25476/26060 [59:57<00:35, 16.62it/s]"
     ]
    },
    {
     "name": "stdout",
     "output_type": "stream",
     "text": [
      "     month_id     merchant_id  forecast\n",
      "0  2023-10-01  merchant_31452       1.5\n",
      "1  2023-11-01  merchant_31452       2.0\n",
      "2  2023-12-01  merchant_31452       3.0\n",
      "     month_id     merchant_id  forecast\n",
      "0  2023-10-01  merchant_31483       2.8\n",
      "1  2023-11-01  merchant_31483       3.7\n",
      "2  2023-12-01  merchant_31483       5.5\n",
      "     month_id     merchant_id  forecast\n",
      "0  2023-10-01  merchant_31498       1.8\n",
      "1  2023-11-01  merchant_31498       2.3\n",
      "2  2023-12-01  merchant_31498       3.5\n",
      "     month_id     merchant_id  forecast\n",
      "0  2023-10-01  merchant_31588       1.5\n",
      "1  2023-11-01  merchant_31588       2.0\n",
      "2  2023-12-01  merchant_31588       3.0\n",
      "     month_id     merchant_id  forecast\n",
      "0  2023-10-01  merchant_31599       0.8\n",
      "1  2023-11-01  merchant_31599       1.0\n",
      "2  2023-12-01  merchant_31599       1.5\n"
     ]
    },
    {
     "name": "stderr",
     "output_type": "stream",
     "text": [
      "Processing Customers:  98%|█████████▊| 25480/26060 [59:58<00:34, 16.89it/s]"
     ]
    },
    {
     "name": "stdout",
     "output_type": "stream",
     "text": [
      "     month_id     merchant_id  forecast\n",
      "0  2023-10-01  merchant_31646       2.0\n",
      "1  2023-11-01  merchant_31646       2.7\n",
      "2  2023-12-01  merchant_31646       4.0\n",
      "     month_id     merchant_id  forecast\n",
      "0  2023-10-01  merchant_31990       1.5\n",
      "1  2023-11-01  merchant_31990       2.0\n",
      "2  2023-12-01  merchant_31990       3.0\n",
      "     month_id     merchant_id  forecast\n",
      "0  2023-10-01  merchant_32113       0.8\n",
      "1  2023-11-01  merchant_32113       1.0\n",
      "2  2023-12-01  merchant_32113       1.5\n",
      "     month_id     merchant_id  forecast\n",
      "0  2023-10-01  merchant_32416       1.8\n",
      "1  2023-11-01  merchant_32416       2.3\n",
      "2  2023-12-01  merchant_32416       3.5\n"
     ]
    },
    {
     "name": "stderr",
     "output_type": "stream",
     "text": [
      "Processing Customers:  98%|█████████▊| 25484/26060 [59:58<00:34, 16.93it/s]"
     ]
    },
    {
     "name": "stdout",
     "output_type": "stream",
     "text": [
      "     month_id     merchant_id  forecast\n",
      "0  2023-10-01  merchant_32516       3.2\n",
      "1  2023-11-01  merchant_32516       4.3\n",
      "2  2023-12-01  merchant_32516       6.5\n",
      "     month_id     merchant_id  forecast\n",
      "0  2023-10-01  merchant_32640       1.5\n",
      "1  2023-11-01  merchant_32640       2.0\n",
      "2  2023-12-01  merchant_32640       3.0\n",
      "     month_id     merchant_id  forecast\n",
      "0  2023-10-01  merchant_32663       0.8\n",
      "1  2023-11-01  merchant_32663       1.0\n",
      "2  2023-12-01  merchant_32663       1.5\n",
      "     month_id     merchant_id  forecast\n",
      "0  2023-10-01  merchant_32666       1.8\n",
      "1  2023-11-01  merchant_32666       2.3\n",
      "2  2023-12-01  merchant_32666       3.5\n"
     ]
    },
    {
     "name": "stderr",
     "output_type": "stream",
     "text": [
      "Processing Customers:  98%|█████████▊| 25488/26060 [59:58<00:33, 16.91it/s]"
     ]
    },
    {
     "name": "stdout",
     "output_type": "stream",
     "text": [
      "     month_id     merchant_id  forecast\n",
      "0  2023-10-01  merchant_32822       1.5\n",
      "1  2023-11-01  merchant_32822       2.0\n",
      "2  2023-12-01  merchant_32822       3.0\n",
      "     month_id     merchant_id  forecast\n",
      "0  2023-10-01  merchant_32843       0.8\n",
      "1  2023-11-01  merchant_32843       1.0\n",
      "2  2023-12-01  merchant_32843       1.5\n",
      "     month_id     merchant_id  forecast\n",
      "0  2023-10-01  merchant_33147       0.8\n",
      "1  2023-11-01  merchant_33147       1.0\n",
      "2  2023-12-01  merchant_33147       1.5\n",
      "     month_id     merchant_id  forecast\n",
      "0  2023-10-01  merchant_33154     309.0\n",
      "1  2023-11-01  merchant_33154     412.0\n",
      "2  2023-12-01  merchant_33154     618.0\n"
     ]
    },
    {
     "name": "stderr",
     "output_type": "stream",
     "text": [
      "Processing Customers:  98%|█████████▊| 25492/26060 [59:58<00:33, 17.05it/s]"
     ]
    },
    {
     "name": "stdout",
     "output_type": "stream",
     "text": [
      "     month_id     merchant_id  forecast\n",
      "0  2023-10-01  merchant_33166       2.2\n",
      "1  2023-11-01  merchant_33166       3.0\n",
      "2  2023-12-01  merchant_33166       4.5\n",
      "     month_id     merchant_id  forecast\n",
      "0  2023-10-01  merchant_33270       2.0\n",
      "1  2023-11-01  merchant_33270       2.7\n",
      "2  2023-12-01  merchant_33270       4.0\n",
      "     month_id    merchant_id  forecast\n",
      "0  2023-10-01  merchant_3334       1.0\n",
      "1  2023-11-01  merchant_3334       1.3\n",
      "2  2023-12-01  merchant_3334       2.0\n",
      "     month_id     merchant_id  forecast\n",
      "0  2023-10-01  merchant_33589       1.8\n",
      "1  2023-11-01  merchant_33589       2.3\n",
      "2  2023-12-01  merchant_33589       3.5\n"
     ]
    },
    {
     "name": "stderr",
     "output_type": "stream",
     "text": [
      "Processing Customers:  98%|█████████▊| 25496/26060 [59:59<00:32, 17.21it/s]"
     ]
    },
    {
     "name": "stdout",
     "output_type": "stream",
     "text": [
      "     month_id    merchant_id  forecast\n",
      "0  2023-10-01  merchant_3368       2.5\n",
      "1  2023-11-01  merchant_3368       3.3\n",
      "2  2023-12-01  merchant_3368       5.0\n",
      "     month_id     merchant_id  forecast\n",
      "0  2023-10-01  merchant_33686       2.0\n",
      "1  2023-11-01  merchant_33686       2.7\n",
      "2  2023-12-01  merchant_33686       4.0\n",
      "     month_id     merchant_id  forecast\n",
      "0  2023-10-01  merchant_33967       0.8\n",
      "1  2023-11-01  merchant_33967       1.0\n",
      "2  2023-12-01  merchant_33967       1.5\n",
      "     month_id     merchant_id  forecast\n",
      "0  2023-10-01  merchant_34046       2.0\n",
      "1  2023-11-01  merchant_34046       2.7\n",
      "2  2023-12-01  merchant_34046       4.0\n"
     ]
    },
    {
     "name": "stderr",
     "output_type": "stream",
     "text": [
      "Processing Customers:  98%|█████████▊| 25500/26060 [59:59<00:34, 16.39it/s]"
     ]
    },
    {
     "name": "stdout",
     "output_type": "stream",
     "text": [
      "     month_id     merchant_id  forecast\n",
      "0  2023-10-01  merchant_34166       0.8\n",
      "1  2023-11-01  merchant_34166       1.0\n",
      "2  2023-12-01  merchant_34166       1.5\n",
      "     month_id     merchant_id  forecast\n",
      "0  2023-10-01  merchant_34361       1.5\n",
      "1  2023-11-01  merchant_34361       2.0\n",
      "2  2023-12-01  merchant_34361       3.0\n",
      "     month_id     merchant_id  forecast\n",
      "0  2023-10-01  merchant_34467       0.8\n",
      "1  2023-11-01  merchant_34467       1.0\n",
      "2  2023-12-01  merchant_34467       1.5\n"
     ]
    },
    {
     "name": "stderr",
     "output_type": "stream",
     "text": [
      "Processing Customers:  98%|█████████▊| 25504/26060 [59:59<00:33, 16.80it/s]"
     ]
    },
    {
     "name": "stdout",
     "output_type": "stream",
     "text": [
      "     month_id     merchant_id  forecast\n",
      "0  2023-10-01  merchant_34690       1.5\n",
      "1  2023-11-01  merchant_34690       2.0\n",
      "2  2023-12-01  merchant_34690       3.0\n",
      "     month_id     merchant_id  forecast\n",
      "0  2023-10-01  merchant_34740       1.0\n",
      "1  2023-11-01  merchant_34740       1.3\n",
      "2  2023-12-01  merchant_34740       2.0\n",
      "     month_id     merchant_id  forecast\n",
      "0  2023-10-01  merchant_35231       0.8\n",
      "1  2023-11-01  merchant_35231       1.0\n",
      "2  2023-12-01  merchant_35231       1.5\n",
      "     month_id     merchant_id  forecast\n",
      "0  2023-10-01  merchant_35338       2.2\n",
      "1  2023-11-01  merchant_35338       3.0\n",
      "2  2023-12-01  merchant_35338       4.5\n",
      "     month_id     merchant_id  forecast\n",
      "0  2023-10-01  merchant_35429       1.8\n",
      "1  2023-11-01  merchant_35429       2.3\n",
      "2  2023-12-01  merchant_35429       3.5\n"
     ]
    },
    {
     "name": "stderr",
     "output_type": "stream",
     "text": [
      "Processing Customers:  98%|█████████▊| 25508/26060 [59:59<00:33, 16.59it/s]"
     ]
    },
    {
     "name": "stdout",
     "output_type": "stream",
     "text": [
      "     month_id     merchant_id  forecast\n",
      "0  2023-10-01  merchant_35528       1.0\n",
      "1  2023-11-01  merchant_35528       1.3\n",
      "2  2023-12-01  merchant_35528       2.0\n",
      "     month_id     merchant_id  forecast\n",
      "0  2023-10-01  merchant_35989       0.8\n",
      "1  2023-11-01  merchant_35989       1.0\n",
      "2  2023-12-01  merchant_35989       1.5\n",
      "     month_id     merchant_id  forecast\n",
      "0  2023-10-01  merchant_36025       1.0\n",
      "1  2023-11-01  merchant_36025       1.3\n",
      "2  2023-12-01  merchant_36025       2.0\n"
     ]
    },
    {
     "name": "stderr",
     "output_type": "stream",
     "text": [
      "Processing Customers:  98%|█████████▊| 25512/26060 [59:59<00:32, 16.86it/s]"
     ]
    },
    {
     "name": "stdout",
     "output_type": "stream",
     "text": [
      "     month_id     merchant_id  forecast\n",
      "0  2023-10-01  merchant_36057       0.8\n",
      "1  2023-11-01  merchant_36057       1.0\n",
      "2  2023-12-01  merchant_36057       1.5\n",
      "     month_id     merchant_id  forecast\n",
      "0  2023-10-01  merchant_36361       0.8\n",
      "1  2023-11-01  merchant_36361       1.0\n",
      "2  2023-12-01  merchant_36361       1.5\n",
      "     month_id     merchant_id  forecast\n",
      "0  2023-10-01  merchant_36440       0.8\n",
      "1  2023-11-01  merchant_36440       1.0\n",
      "2  2023-12-01  merchant_36440       1.5\n",
      "     month_id     merchant_id  forecast\n",
      "0  2023-10-01  merchant_36513       0.8\n",
      "1  2023-11-01  merchant_36513       1.0\n",
      "2  2023-12-01  merchant_36513       1.5\n",
      "     month_id     merchant_id  forecast\n",
      "0  2023-10-01  merchant_36960       1.0\n",
      "1  2023-11-01  merchant_36960       1.3\n",
      "2  2023-12-01  merchant_36960       2.0\n"
     ]
    },
    {
     "name": "stderr",
     "output_type": "stream",
     "text": [
      "Processing Customers:  98%|█████████▊| 25516/26060 [1:00:00<00:32, 16.93it/s]"
     ]
    },
    {
     "name": "stdout",
     "output_type": "stream",
     "text": [
      "     month_id     merchant_id  forecast\n",
      "0  2023-10-01  merchant_37303       1.5\n",
      "1  2023-11-01  merchant_37303       2.0\n",
      "2  2023-12-01  merchant_37303       3.0\n",
      "     month_id    merchant_id  forecast\n",
      "0  2023-10-01  merchant_3752       4.2\n",
      "1  2023-11-01  merchant_3752       5.7\n",
      "2  2023-12-01  merchant_3752       8.5\n",
      "     month_id     merchant_id  forecast\n",
      "0  2023-10-01  merchant_37621       3.0\n",
      "1  2023-11-01  merchant_37621       4.0\n",
      "2  2023-12-01  merchant_37621       6.0\n",
      "     month_id     merchant_id  forecast\n",
      "0  2023-10-01  merchant_37813       4.5\n",
      "1  2023-11-01  merchant_37813       6.0\n",
      "2  2023-12-01  merchant_37813       9.0\n"
     ]
    },
    {
     "name": "stderr",
     "output_type": "stream",
     "text": [
      "Processing Customers:  98%|█████████▊| 25520/26060 [1:00:00<00:33, 16.24it/s]"
     ]
    },
    {
     "name": "stdout",
     "output_type": "stream",
     "text": [
      "     month_id     merchant_id  forecast\n",
      "0  2023-10-01  merchant_37951       1.5\n",
      "1  2023-11-01  merchant_37951       2.0\n",
      "2  2023-12-01  merchant_37951       3.0\n",
      "     month_id     merchant_id  forecast\n",
      "0  2023-10-01  merchant_38143       1.5\n",
      "1  2023-11-01  merchant_38143       2.0\n",
      "2  2023-12-01  merchant_38143       3.0\n",
      "     month_id     merchant_id  forecast\n",
      "0  2023-10-01  merchant_38253       1.8\n",
      "1  2023-11-01  merchant_38253       2.3\n",
      "2  2023-12-01  merchant_38253       3.5\n"
     ]
    },
    {
     "name": "stderr",
     "output_type": "stream",
     "text": [
      "Processing Customers:  98%|█████████▊| 25524/26060 [1:00:00<00:31, 16.77it/s]"
     ]
    },
    {
     "name": "stdout",
     "output_type": "stream",
     "text": [
      "     month_id     merchant_id  forecast\n",
      "0  2023-10-01  merchant_38262       0.8\n",
      "1  2023-11-01  merchant_38262       1.0\n",
      "2  2023-12-01  merchant_38262       1.5\n",
      "     month_id     merchant_id  forecast\n",
      "0  2023-10-01  merchant_38397       1.5\n",
      "1  2023-11-01  merchant_38397       2.0\n",
      "2  2023-12-01  merchant_38397       3.0\n",
      "     month_id     merchant_id  forecast\n",
      "0  2023-10-01  merchant_38656       0.8\n",
      "1  2023-11-01  merchant_38656       1.0\n",
      "2  2023-12-01  merchant_38656       1.5\n",
      "     month_id     merchant_id  forecast\n",
      "0  2023-10-01  merchant_38826       2.5\n",
      "1  2023-11-01  merchant_38826       3.3\n",
      "2  2023-12-01  merchant_38826       5.0\n",
      "     month_id    merchant_id  forecast\n",
      "0  2023-10-01  merchant_3885       2.0\n",
      "1  2023-11-01  merchant_3885       2.7\n",
      "2  2023-12-01  merchant_3885       4.0\n"
     ]
    },
    {
     "name": "stderr",
     "output_type": "stream",
     "text": [
      "Processing Customers:  98%|█████████▊| 25528/26060 [1:00:00<00:30, 17.21it/s]"
     ]
    },
    {
     "name": "stdout",
     "output_type": "stream",
     "text": [
      "     month_id     merchant_id  forecast\n",
      "0  2023-10-01  merchant_39164       1.0\n",
      "1  2023-11-01  merchant_39164       1.3\n",
      "2  2023-12-01  merchant_39164       2.0\n",
      "     month_id     merchant_id  forecast\n",
      "0  2023-10-01  merchant_39176       1.8\n",
      "1  2023-11-01  merchant_39176       2.3\n",
      "2  2023-12-01  merchant_39176       3.5\n",
      "     month_id     merchant_id  forecast\n",
      "0  2023-10-01  merchant_39289       2.8\n",
      "1  2023-11-01  merchant_39289       3.7\n",
      "2  2023-12-01  merchant_39289       5.5\n",
      "     month_id     merchant_id  forecast\n",
      "0  2023-10-01  merchant_39337       1.0\n",
      "1  2023-11-01  merchant_39337       1.3\n",
      "2  2023-12-01  merchant_39337       2.0\n"
     ]
    },
    {
     "name": "stderr",
     "output_type": "stream",
     "text": [
      "Processing Customers:  98%|█████████▊| 25532/26060 [1:00:01<00:30, 17.37it/s]"
     ]
    },
    {
     "name": "stdout",
     "output_type": "stream",
     "text": [
      "     month_id   merchant_id  forecast\n",
      "0  2023-10-01  merchant_395       2.2\n",
      "1  2023-11-01  merchant_395       3.0\n",
      "2  2023-12-01  merchant_395       4.5\n",
      "     month_id    merchant_id  forecast\n",
      "0  2023-10-01  merchant_3968       1.0\n",
      "1  2023-11-01  merchant_3968       1.3\n",
      "2  2023-12-01  merchant_3968       2.0\n",
      "     month_id     merchant_id  forecast\n",
      "0  2023-10-01  merchant_39746       0.8\n",
      "1  2023-11-01  merchant_39746       1.0\n",
      "2  2023-12-01  merchant_39746       1.5\n",
      "     month_id    merchant_id  forecast\n",
      "0  2023-10-01  merchant_4008       1.0\n",
      "1  2023-11-01  merchant_4008       1.3\n",
      "2  2023-12-01  merchant_4008       2.0\n"
     ]
    },
    {
     "name": "stderr",
     "output_type": "stream",
     "text": [
      "Processing Customers:  98%|█████████▊| 25536/26060 [1:00:01<00:30, 17.43it/s]"
     ]
    },
    {
     "name": "stdout",
     "output_type": "stream",
     "text": [
      "     month_id     merchant_id  forecast\n",
      "0  2023-10-01  merchant_40127       2.2\n",
      "1  2023-11-01  merchant_40127       3.0\n",
      "2  2023-12-01  merchant_40127       4.5\n",
      "     month_id     merchant_id  forecast\n",
      "0  2023-10-01  merchant_40178       1.5\n",
      "1  2023-11-01  merchant_40178       2.0\n",
      "2  2023-12-01  merchant_40178       3.0\n",
      "     month_id    merchant_id  forecast\n",
      "0  2023-10-01  merchant_4026       0.8\n",
      "1  2023-11-01  merchant_4026       1.0\n",
      "2  2023-12-01  merchant_4026       1.5\n"
     ]
    },
    {
     "name": "stderr",
     "output_type": "stream",
     "text": [
      "Processing Customers:  98%|█████████▊| 25540/26060 [1:00:01<00:31, 16.48it/s]"
     ]
    },
    {
     "name": "stdout",
     "output_type": "stream",
     "text": [
      "     month_id     merchant_id  forecast\n",
      "0  2023-10-01  merchant_40465       0.8\n",
      "1  2023-11-01  merchant_40465       1.0\n",
      "2  2023-12-01  merchant_40465       1.5\n",
      "     month_id     merchant_id  forecast\n",
      "0  2023-10-01  merchant_41042       1.5\n",
      "1  2023-11-01  merchant_41042       2.0\n",
      "2  2023-12-01  merchant_41042       3.0\n",
      "     month_id     merchant_id  forecast\n",
      "0  2023-10-01  merchant_41086       0.8\n",
      "1  2023-11-01  merchant_41086       1.0\n",
      "2  2023-12-01  merchant_41086       1.5\n",
      "     month_id     merchant_id  forecast\n",
      "0  2023-10-01  merchant_41210       1.0\n",
      "1  2023-11-01  merchant_41210       1.3\n",
      "2  2023-12-01  merchant_41210       2.0\n"
     ]
    },
    {
     "name": "stderr",
     "output_type": "stream",
     "text": [
      "Processing Customers:  98%|█████████▊| 25544/26060 [1:00:01<00:30, 16.88it/s]"
     ]
    },
    {
     "name": "stdout",
     "output_type": "stream",
     "text": [
      "     month_id     merchant_id  forecast\n",
      "0  2023-10-01  merchant_41326       0.8\n",
      "1  2023-11-01  merchant_41326       1.0\n",
      "2  2023-12-01  merchant_41326       1.5\n",
      "     month_id     merchant_id  forecast\n",
      "0  2023-10-01  merchant_41424       0.8\n",
      "1  2023-11-01  merchant_41424       1.0\n",
      "2  2023-12-01  merchant_41424       1.5\n",
      "     month_id     merchant_id  forecast\n",
      "0  2023-10-01  merchant_42170       1.8\n",
      "1  2023-11-01  merchant_42170       2.3\n",
      "2  2023-12-01  merchant_42170       3.5\n",
      "     month_id     merchant_id  forecast\n",
      "0  2023-10-01  merchant_42267       1.0\n",
      "1  2023-11-01  merchant_42267       1.3\n",
      "2  2023-12-01  merchant_42267       2.0\n",
      "     month_id     merchant_id  forecast\n",
      "0  2023-10-01  merchant_42339       0.8\n",
      "1  2023-11-01  merchant_42339       1.0\n",
      "2  2023-12-01  merchant_42339       1.5\n"
     ]
    },
    {
     "name": "stderr",
     "output_type": "stream",
     "text": [
      "Processing Customers:  98%|█████████▊| 25548/26060 [1:00:02<00:29, 17.12it/s]"
     ]
    },
    {
     "name": "stdout",
     "output_type": "stream",
     "text": [
      "     month_id     merchant_id  forecast\n",
      "0  2023-10-01  merchant_42787       0.8\n",
      "1  2023-11-01  merchant_42787       1.0\n",
      "2  2023-12-01  merchant_42787       1.5\n",
      "     month_id    merchant_id  forecast\n",
      "0  2023-10-01  merchant_4286       3.2\n",
      "1  2023-11-01  merchant_4286       4.3\n",
      "2  2023-12-01  merchant_4286       6.5\n",
      "     month_id     merchant_id  forecast\n",
      "0  2023-10-01  merchant_42865       0.8\n",
      "1  2023-11-01  merchant_42865       1.0\n",
      "2  2023-12-01  merchant_42865       1.5\n",
      "     month_id     merchant_id  forecast\n",
      "0  2023-10-01  merchant_43033       0.8\n",
      "1  2023-11-01  merchant_43033       1.0\n",
      "2  2023-12-01  merchant_43033       1.5\n"
     ]
    },
    {
     "name": "stderr",
     "output_type": "stream",
     "text": [
      "Processing Customers:  98%|█████████▊| 25552/26060 [1:00:02<00:29, 17.20it/s]"
     ]
    },
    {
     "name": "stdout",
     "output_type": "stream",
     "text": [
      "     month_id     merchant_id  forecast\n",
      "0  2023-10-01  merchant_43039       2.2\n",
      "1  2023-11-01  merchant_43039       3.0\n",
      "2  2023-12-01  merchant_43039       4.5\n",
      "     month_id     merchant_id  forecast\n",
      "0  2023-10-01  merchant_43104       2.2\n",
      "1  2023-11-01  merchant_43104       3.0\n",
      "2  2023-12-01  merchant_43104       4.5\n",
      "     month_id     merchant_id  forecast\n",
      "0  2023-10-01  merchant_43166       0.8\n",
      "1  2023-11-01  merchant_43166       1.0\n",
      "2  2023-12-01  merchant_43166       1.5\n",
      "     month_id     merchant_id  forecast\n",
      "0  2023-10-01  merchant_43210     188.8\n",
      "1  2023-11-01  merchant_43210     251.7\n",
      "2  2023-12-01  merchant_43210     377.5\n"
     ]
    },
    {
     "name": "stderr",
     "output_type": "stream",
     "text": [
      "Processing Customers:  98%|█████████▊| 25556/26060 [1:00:02<00:28, 17.42it/s]"
     ]
    },
    {
     "name": "stdout",
     "output_type": "stream",
     "text": [
      "     month_id     merchant_id  forecast\n",
      "0  2023-10-01  merchant_43274       2.0\n",
      "1  2023-11-01  merchant_43274       2.7\n",
      "2  2023-12-01  merchant_43274       4.0\n",
      "     month_id    merchant_id  forecast\n",
      "0  2023-10-01  merchant_4338       0.8\n",
      "1  2023-11-01  merchant_4338       1.0\n",
      "2  2023-12-01  merchant_4338       1.5\n",
      "     month_id     merchant_id  forecast\n",
      "0  2023-10-01  merchant_43512       0.8\n",
      "1  2023-11-01  merchant_43512       1.0\n",
      "2  2023-12-01  merchant_43512       1.5\n",
      "     month_id     merchant_id  forecast\n",
      "0  2023-10-01  merchant_43639       0.8\n",
      "1  2023-11-01  merchant_43639       1.0\n",
      "2  2023-12-01  merchant_43639       1.5\n"
     ]
    },
    {
     "name": "stderr",
     "output_type": "stream",
     "text": [
      "Processing Customers:  98%|█████████▊| 25560/26060 [1:00:02<00:28, 17.47it/s]"
     ]
    },
    {
     "name": "stdout",
     "output_type": "stream",
     "text": [
      "     month_id     merchant_id  forecast\n",
      "0  2023-10-01  merchant_44049       2.2\n",
      "1  2023-11-01  merchant_44049       3.0\n",
      "2  2023-12-01  merchant_44049       4.5\n",
      "     month_id    merchant_id  forecast\n",
      "0  2023-10-01  merchant_4412       1.0\n",
      "1  2023-11-01  merchant_4412       1.3\n",
      "2  2023-12-01  merchant_4412       2.0\n",
      "     month_id     merchant_id  forecast\n",
      "0  2023-10-01  merchant_44282       0.8\n",
      "1  2023-11-01  merchant_44282       1.0\n",
      "2  2023-12-01  merchant_44282       1.5\n",
      "     month_id     merchant_id  forecast\n",
      "0  2023-10-01  merchant_44331       1.8\n",
      "1  2023-11-01  merchant_44331       2.3\n",
      "2  2023-12-01  merchant_44331       3.5\n"
     ]
    },
    {
     "name": "stderr",
     "output_type": "stream",
     "text": [
      "Processing Customers:  98%|█████████▊| 25564/26060 [1:00:03<00:29, 16.75it/s]"
     ]
    },
    {
     "name": "stdout",
     "output_type": "stream",
     "text": [
      "     month_id     merchant_id  forecast\n",
      "0  2023-10-01  merchant_44353       0.8\n",
      "1  2023-11-01  merchant_44353       1.0\n",
      "2  2023-12-01  merchant_44353       1.5\n",
      "     month_id     merchant_id  forecast\n",
      "0  2023-10-01  merchant_44383      11.5\n",
      "1  2023-11-01  merchant_44383      15.3\n",
      "2  2023-12-01  merchant_44383      23.0\n",
      "     month_id     merchant_id  forecast\n",
      "0  2023-10-01  merchant_44476       1.5\n",
      "1  2023-11-01  merchant_44476       2.0\n",
      "2  2023-12-01  merchant_44476       3.0\n",
      "     month_id     merchant_id  forecast\n",
      "0  2023-10-01  merchant_44807       2.2\n",
      "1  2023-11-01  merchant_44807       3.0\n",
      "2  2023-12-01  merchant_44807       4.5\n"
     ]
    },
    {
     "name": "stderr",
     "output_type": "stream",
     "text": [
      "Processing Customers:  98%|█████████▊| 25568/26060 [1:00:03<00:29, 16.96it/s]"
     ]
    },
    {
     "name": "stdout",
     "output_type": "stream",
     "text": [
      "     month_id     merchant_id  forecast\n",
      "0  2023-10-01  merchant_45026       2.2\n",
      "1  2023-11-01  merchant_45026       3.0\n",
      "2  2023-12-01  merchant_45026       4.5\n",
      "     month_id     merchant_id  forecast\n",
      "0  2023-10-01  merchant_45267       0.8\n",
      "1  2023-11-01  merchant_45267       1.0\n",
      "2  2023-12-01  merchant_45267       1.5\n",
      "     month_id     merchant_id  forecast\n",
      "0  2023-10-01  merchant_45490       1.0\n",
      "1  2023-11-01  merchant_45490       1.3\n",
      "2  2023-12-01  merchant_45490       2.0\n",
      "     month_id    merchant_id  forecast\n",
      "0  2023-10-01  merchant_4565      14.2\n",
      "1  2023-11-01  merchant_4565      19.0\n",
      "2  2023-12-01  merchant_4565      28.5\n"
     ]
    },
    {
     "name": "stderr",
     "output_type": "stream",
     "text": [
      "Processing Customers:  98%|█████████▊| 25572/26060 [1:00:03<00:28, 17.22it/s]"
     ]
    },
    {
     "name": "stdout",
     "output_type": "stream",
     "text": [
      "     month_id     merchant_id  forecast\n",
      "0  2023-10-01  merchant_45873       0.8\n",
      "1  2023-11-01  merchant_45873       1.0\n",
      "2  2023-12-01  merchant_45873       1.5\n",
      "     month_id     merchant_id  forecast\n",
      "0  2023-10-01  merchant_45918       0.8\n",
      "1  2023-11-01  merchant_45918       1.0\n",
      "2  2023-12-01  merchant_45918       1.5\n",
      "     month_id     merchant_id  forecast\n",
      "0  2023-10-01  merchant_45984       0.8\n",
      "1  2023-11-01  merchant_45984       1.0\n",
      "2  2023-12-01  merchant_45984       1.5\n",
      "     month_id     merchant_id  forecast\n",
      "0  2023-10-01  merchant_46163       0.8\n",
      "1  2023-11-01  merchant_46163       1.0\n",
      "2  2023-12-01  merchant_46163       1.5\n"
     ]
    },
    {
     "name": "stderr",
     "output_type": "stream",
     "text": [
      "Processing Customers:  98%|█████████▊| 25576/26060 [1:00:03<00:28, 17.25it/s]"
     ]
    },
    {
     "name": "stdout",
     "output_type": "stream",
     "text": [
      "     month_id     merchant_id  forecast\n",
      "0  2023-10-01  merchant_46316       0.8\n",
      "1  2023-11-01  merchant_46316       1.0\n",
      "2  2023-12-01  merchant_46316       1.5\n",
      "     month_id     merchant_id  forecast\n",
      "0  2023-10-01  merchant_46337     102.2\n",
      "1  2023-11-01  merchant_46337     136.3\n",
      "2  2023-12-01  merchant_46337     204.5\n",
      "     month_id     merchant_id  forecast\n",
      "0  2023-10-01  merchant_46471       1.5\n",
      "1  2023-11-01  merchant_46471       2.0\n",
      "2  2023-12-01  merchant_46471       3.0\n",
      "     month_id     merchant_id  forecast\n",
      "0  2023-10-01  merchant_46521       0.8\n",
      "1  2023-11-01  merchant_46521       1.0\n",
      "2  2023-12-01  merchant_46521       1.5\n"
     ]
    },
    {
     "name": "stderr",
     "output_type": "stream",
     "text": [
      "Processing Customers:  98%|█████████▊| 25580/26060 [1:00:03<00:27, 17.40it/s]"
     ]
    },
    {
     "name": "stdout",
     "output_type": "stream",
     "text": [
      "     month_id     merchant_id  forecast\n",
      "0  2023-10-01  merchant_46574       0.8\n",
      "1  2023-11-01  merchant_46574       1.0\n",
      "2  2023-12-01  merchant_46574       1.5\n",
      "     month_id     merchant_id  forecast\n",
      "0  2023-10-01  merchant_46764      17.8\n",
      "1  2023-11-01  merchant_46764      23.7\n",
      "2  2023-12-01  merchant_46764      35.5\n",
      "     month_id     merchant_id  forecast\n",
      "0  2023-10-01  merchant_47329       0.8\n",
      "1  2023-11-01  merchant_47329       1.0\n",
      "2  2023-12-01  merchant_47329       1.5\n",
      "     month_id     merchant_id  forecast\n",
      "0  2023-10-01  merchant_47386       1.5\n",
      "1  2023-11-01  merchant_47386       2.0\n",
      "2  2023-12-01  merchant_47386       3.0\n"
     ]
    },
    {
     "name": "stderr",
     "output_type": "stream",
     "text": [
      "Processing Customers:  98%|█████████▊| 25584/26060 [1:00:04<00:26, 17.67it/s]"
     ]
    },
    {
     "name": "stdout",
     "output_type": "stream",
     "text": [
      "     month_id     merchant_id  forecast\n",
      "0  2023-10-01  merchant_47523       1.5\n",
      "1  2023-11-01  merchant_47523       2.0\n",
      "2  2023-12-01  merchant_47523       3.0\n",
      "     month_id    merchant_id  forecast\n",
      "0  2023-10-01  merchant_4781       1.0\n",
      "1  2023-11-01  merchant_4781       1.3\n",
      "2  2023-12-01  merchant_4781       2.0\n",
      "     month_id     merchant_id  forecast\n",
      "0  2023-10-01  merchant_47829       0.8\n",
      "1  2023-11-01  merchant_47829       1.0\n",
      "2  2023-12-01  merchant_47829       1.5\n",
      "     month_id     merchant_id  forecast\n",
      "0  2023-10-01  merchant_47888       1.8\n",
      "1  2023-11-01  merchant_47888       2.3\n",
      "2  2023-12-01  merchant_47888       3.5\n"
     ]
    },
    {
     "name": "stderr",
     "output_type": "stream",
     "text": [
      "Processing Customers:  98%|█████████▊| 25588/26060 [1:00:04<00:26, 17.66it/s]"
     ]
    },
    {
     "name": "stdout",
     "output_type": "stream",
     "text": [
      "     month_id     merchant_id  forecast\n",
      "0  2023-10-01  merchant_47966       2.0\n",
      "1  2023-11-01  merchant_47966       2.7\n",
      "2  2023-12-01  merchant_47966       4.0\n",
      "     month_id    merchant_id  forecast\n",
      "0  2023-10-01  merchant_4823       0.8\n",
      "1  2023-11-01  merchant_4823       1.0\n",
      "2  2023-12-01  merchant_4823       1.5\n",
      "     month_id     merchant_id  forecast\n",
      "0  2023-10-01  merchant_48523       1.2\n",
      "1  2023-11-01  merchant_48523       1.7\n",
      "2  2023-12-01  merchant_48523       2.5\n",
      "     month_id     merchant_id  forecast\n",
      "0  2023-10-01  merchant_48681       0.8\n",
      "1  2023-11-01  merchant_48681       1.0\n",
      "2  2023-12-01  merchant_48681       1.5\n"
     ]
    },
    {
     "name": "stderr",
     "output_type": "stream",
     "text": [
      "Processing Customers:  98%|█████████▊| 25592/26060 [1:00:04<00:28, 16.61it/s]"
     ]
    },
    {
     "name": "stdout",
     "output_type": "stream",
     "text": [
      "     month_id     merchant_id  forecast\n",
      "0  2023-10-01  merchant_48782       3.2\n",
      "1  2023-11-01  merchant_48782       4.3\n",
      "2  2023-12-01  merchant_48782       6.5\n",
      "     month_id     merchant_id  forecast\n",
      "0  2023-10-01  merchant_49112       1.0\n",
      "1  2023-11-01  merchant_49112       1.3\n",
      "2  2023-12-01  merchant_49112       2.0\n",
      "     month_id     merchant_id  forecast\n",
      "0  2023-10-01  merchant_49402       0.8\n",
      "1  2023-11-01  merchant_49402       1.0\n",
      "2  2023-12-01  merchant_49402       1.5\n"
     ]
    },
    {
     "name": "stderr",
     "output_type": "stream",
     "text": [
      "Processing Customers:  98%|█████████▊| 25596/26060 [1:00:04<00:27, 17.09it/s]"
     ]
    },
    {
     "name": "stdout",
     "output_type": "stream",
     "text": [
      "     month_id     merchant_id  forecast\n",
      "0  2023-10-01  merchant_49827       0.8\n",
      "1  2023-11-01  merchant_49827       1.0\n",
      "2  2023-12-01  merchant_49827       1.5\n",
      "     month_id     merchant_id  forecast\n",
      "0  2023-10-01  merchant_50251       0.8\n",
      "1  2023-11-01  merchant_50251       1.0\n",
      "2  2023-12-01  merchant_50251       1.5\n",
      "     month_id     merchant_id  forecast\n",
      "0  2023-10-01  merchant_50393       0.8\n",
      "1  2023-11-01  merchant_50393       1.0\n",
      "2  2023-12-01  merchant_50393       1.5\n",
      "     month_id     merchant_id  forecast\n",
      "0  2023-10-01  merchant_50556       3.8\n",
      "1  2023-11-01  merchant_50556       5.0\n",
      "2  2023-12-01  merchant_50556       7.5\n",
      "     month_id     merchant_id  forecast\n",
      "0  2023-10-01  merchant_50811       1.0\n",
      "1  2023-11-01  merchant_50811       1.3\n",
      "2  2023-12-01  merchant_50811       2.0\n"
     ]
    },
    {
     "name": "stderr",
     "output_type": "stream",
     "text": [
      "Processing Customers:  98%|█████████▊| 25600/26060 [1:00:05<00:26, 17.09it/s]"
     ]
    },
    {
     "name": "stdout",
     "output_type": "stream",
     "text": [
      "     month_id     merchant_id  forecast\n",
      "0  2023-10-01  merchant_50835       0.8\n",
      "1  2023-11-01  merchant_50835       1.0\n",
      "2  2023-12-01  merchant_50835       1.5\n",
      "     month_id     merchant_id  forecast\n",
      "0  2023-10-01  merchant_51186      24.0\n",
      "1  2023-11-01  merchant_51186      32.0\n",
      "2  2023-12-01  merchant_51186      48.0\n",
      "     month_id     merchant_id  forecast\n",
      "0  2023-10-01  merchant_51358       3.8\n",
      "1  2023-11-01  merchant_51358       5.0\n",
      "2  2023-12-01  merchant_51358       7.5\n",
      "     month_id     merchant_id  forecast\n",
      "0  2023-10-01  merchant_51408       1.5\n",
      "1  2023-11-01  merchant_51408       2.0\n",
      "2  2023-12-01  merchant_51408       3.0\n"
     ]
    },
    {
     "name": "stderr",
     "output_type": "stream",
     "text": [
      "Processing Customers:  98%|█████████▊| 25604/26060 [1:00:05<00:27, 16.77it/s]"
     ]
    },
    {
     "name": "stdout",
     "output_type": "stream",
     "text": [
      "     month_id     merchant_id  forecast\n",
      "0  2023-10-01  merchant_51432       0.8\n",
      "1  2023-11-01  merchant_51432       1.0\n",
      "2  2023-12-01  merchant_51432       1.5\n",
      "     month_id     merchant_id  forecast\n",
      "0  2023-10-01  merchant_51558       1.8\n",
      "1  2023-11-01  merchant_51558       2.3\n",
      "2  2023-12-01  merchant_51558       3.5\n",
      "     month_id     merchant_id  forecast\n",
      "0  2023-10-01  merchant_51590       1.8\n",
      "1  2023-11-01  merchant_51590       2.3\n",
      "2  2023-12-01  merchant_51590       3.5\n",
      "     month_id     merchant_id  forecast\n",
      "0  2023-10-01  merchant_51598       2.2\n",
      "1  2023-11-01  merchant_51598       3.0\n",
      "2  2023-12-01  merchant_51598       4.5\n"
     ]
    },
    {
     "name": "stderr",
     "output_type": "stream",
     "text": [
      "Processing Customers:  98%|█████████▊| 25608/26060 [1:00:05<00:26, 17.27it/s]"
     ]
    },
    {
     "name": "stdout",
     "output_type": "stream",
     "text": [
      "     month_id     merchant_id  forecast\n",
      "0  2023-10-01  merchant_51743       1.5\n",
      "1  2023-11-01  merchant_51743       2.0\n",
      "2  2023-12-01  merchant_51743       3.0\n",
      "     month_id     merchant_id  forecast\n",
      "0  2023-10-01  merchant_51799       3.0\n",
      "1  2023-11-01  merchant_51799       4.0\n",
      "2  2023-12-01  merchant_51799       6.0\n",
      "     month_id    merchant_id  forecast\n",
      "0  2023-10-01  merchant_5182       0.8\n",
      "1  2023-11-01  merchant_5182       1.0\n",
      "2  2023-12-01  merchant_5182       1.5\n",
      "     month_id     merchant_id  forecast\n",
      "0  2023-10-01  merchant_51979       0.8\n",
      "1  2023-11-01  merchant_51979       1.0\n",
      "2  2023-12-01  merchant_51979       1.5\n"
     ]
    },
    {
     "name": "stderr",
     "output_type": "stream",
     "text": [
      "Processing Customers:  98%|█████████▊| 25612/26060 [1:00:05<00:26, 17.21it/s]"
     ]
    },
    {
     "name": "stdout",
     "output_type": "stream",
     "text": [
      "     month_id     merchant_id  forecast\n",
      "0  2023-10-01  merchant_52171       1.5\n",
      "1  2023-11-01  merchant_52171       2.0\n",
      "2  2023-12-01  merchant_52171       3.0\n",
      "     month_id     merchant_id  forecast\n",
      "0  2023-10-01  merchant_52309       2.0\n",
      "1  2023-11-01  merchant_52309       2.7\n",
      "2  2023-12-01  merchant_52309       4.0\n",
      "     month_id     merchant_id  forecast\n",
      "0  2023-10-01  merchant_52562       1.5\n",
      "1  2023-11-01  merchant_52562       2.0\n",
      "2  2023-12-01  merchant_52562       3.0\n",
      "     month_id     merchant_id  forecast\n",
      "0  2023-10-01  merchant_52998       1.5\n",
      "1  2023-11-01  merchant_52998       2.0\n",
      "2  2023-12-01  merchant_52998       3.0\n"
     ]
    },
    {
     "name": "stderr",
     "output_type": "stream",
     "text": [
      "Processing Customers:  98%|█████████▊| 25616/26060 [1:00:05<00:25, 17.58it/s]"
     ]
    },
    {
     "name": "stdout",
     "output_type": "stream",
     "text": [
      "     month_id     merchant_id  forecast\n",
      "0  2023-10-01  merchant_53017       2.5\n",
      "1  2023-11-01  merchant_53017       3.3\n",
      "2  2023-12-01  merchant_53017       5.0\n",
      "     month_id     merchant_id  forecast\n",
      "0  2023-10-01  merchant_53119       1.5\n",
      "1  2023-11-01  merchant_53119       2.0\n",
      "2  2023-12-01  merchant_53119       3.0\n",
      "     month_id     merchant_id  forecast\n",
      "0  2023-10-01  merchant_53216       7.8\n",
      "1  2023-11-01  merchant_53216      10.3\n",
      "2  2023-12-01  merchant_53216      15.5\n",
      "     month_id     merchant_id  forecast\n",
      "0  2023-10-01  merchant_53389       0.8\n",
      "1  2023-11-01  merchant_53389       1.0\n",
      "2  2023-12-01  merchant_53389       1.5\n"
     ]
    },
    {
     "name": "stderr",
     "output_type": "stream",
     "text": [
      "Processing Customers:  98%|█████████▊| 25622/26060 [1:00:06<00:24, 18.16it/s]"
     ]
    },
    {
     "name": "stdout",
     "output_type": "stream",
     "text": [
      "     month_id     merchant_id  forecast\n",
      "0  2023-10-01  merchant_53534       1.5\n",
      "1  2023-11-01  merchant_53534       2.0\n",
      "2  2023-12-01  merchant_53534       3.0\n",
      "     month_id   merchant_id  forecast\n",
      "0  2023-10-01  merchant_537       2.2\n",
      "1  2023-11-01  merchant_537       3.0\n",
      "2  2023-12-01  merchant_537       4.5\n",
      "     month_id    merchant_id  forecast\n",
      "0  2023-10-01  merchant_5378       0.8\n",
      "1  2023-11-01  merchant_5378       1.0\n",
      "2  2023-12-01  merchant_5378       1.5\n",
      "     month_id     merchant_id  forecast\n",
      "0  2023-10-01  merchant_54093       2.8\n",
      "1  2023-11-01  merchant_54093       3.7\n",
      "2  2023-12-01  merchant_54093       5.5\n",
      "     month_id     merchant_id  forecast\n",
      "0  2023-10-01  merchant_54198       0.8\n",
      "1  2023-11-01  merchant_54198       1.0\n",
      "2  2023-12-01  merchant_54198       1.5\n"
     ]
    },
    {
     "name": "stderr",
     "output_type": "stream",
     "text": [
      "Processing Customers:  98%|█████████▊| 25626/26060 [1:00:06<00:23, 18.27it/s]"
     ]
    },
    {
     "name": "stdout",
     "output_type": "stream",
     "text": [
      "     month_id    merchant_id  forecast\n",
      "0  2023-10-01  merchant_5434       0.8\n",
      "1  2023-11-01  merchant_5434       1.0\n",
      "2  2023-12-01  merchant_5434       1.5\n",
      "     month_id    merchant_id  forecast\n",
      "0  2023-10-01  merchant_5469       1.0\n",
      "1  2023-11-01  merchant_5469       1.3\n",
      "2  2023-12-01  merchant_5469       2.0\n",
      "     month_id     merchant_id  forecast\n",
      "0  2023-10-01  merchant_55169       4.8\n",
      "1  2023-11-01  merchant_55169       6.3\n",
      "2  2023-12-01  merchant_55169       9.5\n",
      "     month_id     merchant_id  forecast\n",
      "0  2023-10-01  merchant_55219       0.8\n",
      "1  2023-11-01  merchant_55219       1.0\n",
      "2  2023-12-01  merchant_55219       1.5\n",
      "     month_id     merchant_id  forecast\n",
      "0  2023-10-01  merchant_55271       3.0\n",
      "1  2023-11-01  merchant_55271       4.0\n",
      "2  2023-12-01  merchant_55271       6.0\n"
     ]
    },
    {
     "name": "stderr",
     "output_type": "stream",
     "text": [
      "Processing Customers:  98%|█████████▊| 25630/26060 [1:00:06<00:24, 17.38it/s]"
     ]
    },
    {
     "name": "stdout",
     "output_type": "stream",
     "text": [
      "     month_id     merchant_id  forecast\n",
      "0  2023-10-01  merchant_55290       1.8\n",
      "1  2023-11-01  merchant_55290       2.3\n",
      "2  2023-12-01  merchant_55290       3.5\n",
      "     month_id     merchant_id  forecast\n",
      "0  2023-10-01  merchant_55318       5.2\n",
      "1  2023-11-01  merchant_55318       7.0\n",
      "2  2023-12-01  merchant_55318      10.5\n",
      "     month_id     merchant_id  forecast\n",
      "0  2023-10-01  merchant_55431       2.0\n",
      "1  2023-11-01  merchant_55431       2.7\n",
      "2  2023-12-01  merchant_55431       4.0\n"
     ]
    },
    {
     "name": "stderr",
     "output_type": "stream",
     "text": [
      "Processing Customers:  98%|█████████▊| 25634/26060 [1:00:06<00:24, 17.57it/s]"
     ]
    },
    {
     "name": "stdout",
     "output_type": "stream",
     "text": [
      "     month_id     merchant_id  forecast\n",
      "0  2023-10-01  merchant_55662       3.0\n",
      "1  2023-11-01  merchant_55662       4.0\n",
      "2  2023-12-01  merchant_55662       6.0\n",
      "     month_id     merchant_id  forecast\n",
      "0  2023-10-01  merchant_55783       0.8\n",
      "1  2023-11-01  merchant_55783       1.0\n",
      "2  2023-12-01  merchant_55783       1.5\n",
      "     month_id     merchant_id  forecast\n",
      "0  2023-10-01  merchant_55835       0.8\n",
      "1  2023-11-01  merchant_55835       1.0\n",
      "2  2023-12-01  merchant_55835       1.5\n",
      "     month_id     merchant_id  forecast\n",
      "0  2023-10-01  merchant_55903       0.8\n",
      "1  2023-11-01  merchant_55903       1.0\n",
      "2  2023-12-01  merchant_55903       1.5\n",
      "     month_id     merchant_id  forecast\n",
      "0  2023-10-01  merchant_55974       1.0\n",
      "1  2023-11-01  merchant_55974       1.3\n",
      "2  2023-12-01  merchant_55974       2.0\n"
     ]
    },
    {
     "name": "stderr",
     "output_type": "stream",
     "text": [
      "Processing Customers:  98%|█████████▊| 25638/26060 [1:00:07<00:23, 17.78it/s]"
     ]
    },
    {
     "name": "stdout",
     "output_type": "stream",
     "text": [
      "     month_id     merchant_id  forecast\n",
      "0  2023-10-01  merchant_56436       1.0\n",
      "1  2023-11-01  merchant_56436       1.3\n",
      "2  2023-12-01  merchant_56436       2.0\n",
      "     month_id     merchant_id  forecast\n",
      "0  2023-10-01  merchant_56489       0.8\n",
      "1  2023-11-01  merchant_56489       1.0\n",
      "2  2023-12-01  merchant_56489       1.5\n",
      "     month_id     merchant_id  forecast\n",
      "0  2023-10-01  merchant_57014       0.8\n",
      "1  2023-11-01  merchant_57014       1.0\n",
      "2  2023-12-01  merchant_57014       1.5\n",
      "     month_id     merchant_id  forecast\n",
      "0  2023-10-01  merchant_57121       0.8\n",
      "1  2023-11-01  merchant_57121       1.0\n",
      "2  2023-12-01  merchant_57121       1.5\n"
     ]
    },
    {
     "name": "stderr",
     "output_type": "stream",
     "text": [
      "Processing Customers:  98%|█████████▊| 25642/26060 [1:00:07<00:23, 17.82it/s]"
     ]
    },
    {
     "name": "stdout",
     "output_type": "stream",
     "text": [
      "     month_id     merchant_id  forecast\n",
      "0  2023-10-01  merchant_57283       2.5\n",
      "1  2023-11-01  merchant_57283       3.3\n",
      "2  2023-12-01  merchant_57283       5.0\n",
      "     month_id     merchant_id  forecast\n",
      "0  2023-10-01  merchant_57371       0.8\n",
      "1  2023-11-01  merchant_57371       1.0\n",
      "2  2023-12-01  merchant_57371       1.5\n",
      "     month_id     merchant_id  forecast\n",
      "0  2023-10-01  merchant_57379       1.8\n",
      "1  2023-11-01  merchant_57379       2.3\n",
      "2  2023-12-01  merchant_57379       3.5\n",
      "     month_id     merchant_id  forecast\n",
      "0  2023-10-01  merchant_57526       0.8\n",
      "1  2023-11-01  merchant_57526       1.0\n",
      "2  2023-12-01  merchant_57526       1.5\n"
     ]
    },
    {
     "name": "stderr",
     "output_type": "stream",
     "text": [
      "Processing Customers:  98%|█████████▊| 25646/26060 [1:00:07<00:23, 17.90it/s]"
     ]
    },
    {
     "name": "stdout",
     "output_type": "stream",
     "text": [
      "     month_id     merchant_id  forecast\n",
      "0  2023-10-01  merchant_57666       1.5\n",
      "1  2023-11-01  merchant_57666       2.0\n",
      "2  2023-12-01  merchant_57666       3.0\n",
      "     month_id     merchant_id  forecast\n",
      "0  2023-10-01  merchant_57721       1.5\n",
      "1  2023-11-01  merchant_57721       2.0\n",
      "2  2023-12-01  merchant_57721       3.0\n",
      "     month_id     merchant_id  forecast\n",
      "0  2023-10-01  merchant_57773       0.8\n",
      "1  2023-11-01  merchant_57773       1.0\n",
      "2  2023-12-01  merchant_57773       1.5\n",
      "     month_id     merchant_id  forecast\n",
      "0  2023-10-01  merchant_57796       2.0\n",
      "1  2023-11-01  merchant_57796       2.7\n",
      "2  2023-12-01  merchant_57796       4.0\n"
     ]
    },
    {
     "name": "stderr",
     "output_type": "stream",
     "text": [
      "Processing Customers:  98%|█████████▊| 25650/26060 [1:00:07<00:22, 17.91it/s]"
     ]
    },
    {
     "name": "stdout",
     "output_type": "stream",
     "text": [
      "     month_id     merchant_id  forecast\n",
      "0  2023-10-01  merchant_57975       0.8\n",
      "1  2023-11-01  merchant_57975       1.0\n",
      "2  2023-12-01  merchant_57975       1.5\n",
      "     month_id     merchant_id  forecast\n",
      "0  2023-10-01  merchant_58277       0.8\n",
      "1  2023-11-01  merchant_58277       1.0\n",
      "2  2023-12-01  merchant_58277       1.5\n",
      "     month_id     merchant_id  forecast\n",
      "0  2023-10-01  merchant_58379       1.0\n",
      "1  2023-11-01  merchant_58379       1.3\n",
      "2  2023-12-01  merchant_58379       2.0\n",
      "     month_id     merchant_id  forecast\n",
      "0  2023-10-01  merchant_58566     127.8\n",
      "1  2023-11-01  merchant_58566     170.3\n",
      "2  2023-12-01  merchant_58566     255.5\n",
      "     month_id   merchant_id  forecast\n",
      "0  2023-10-01  merchant_586       3.5\n",
      "1  2023-11-01  merchant_586       4.7\n",
      "2  2023-12-01  merchant_586       7.0\n"
     ]
    },
    {
     "name": "stderr",
     "output_type": "stream",
     "text": [
      "Processing Customers:  98%|█████████▊| 25656/26060 [1:00:08<00:22, 18.09it/s]"
     ]
    },
    {
     "name": "stdout",
     "output_type": "stream",
     "text": [
      "     month_id     merchant_id  forecast\n",
      "0  2023-10-01  merchant_58617       2.0\n",
      "1  2023-11-01  merchant_58617       2.7\n",
      "2  2023-12-01  merchant_58617       4.0\n",
      "     month_id     merchant_id  forecast\n",
      "0  2023-10-01  merchant_58624       2.2\n",
      "1  2023-11-01  merchant_58624       3.0\n",
      "2  2023-12-01  merchant_58624       4.5\n",
      "     month_id     merchant_id  forecast\n",
      "0  2023-10-01  merchant_58656       8.5\n",
      "1  2023-11-01  merchant_58656      11.3\n",
      "2  2023-12-01  merchant_58656      17.0\n",
      "     month_id     merchant_id  forecast\n",
      "0  2023-10-01  merchant_58765       1.0\n",
      "1  2023-11-01  merchant_58765       1.3\n",
      "2  2023-12-01  merchant_58765       2.0\n",
      "     month_id     merchant_id  forecast\n",
      "0  2023-10-01  merchant_58802       0.8\n",
      "1  2023-11-01  merchant_58802       1.0\n",
      "2  2023-12-01  merchant_58802       1.5\n"
     ]
    },
    {
     "name": "stderr",
     "output_type": "stream",
     "text": [
      "Processing Customers:  98%|█████████▊| 25660/26060 [1:00:08<00:22, 17.99it/s]"
     ]
    },
    {
     "name": "stdout",
     "output_type": "stream",
     "text": [
      "     month_id     merchant_id  forecast\n",
      "0  2023-10-01  merchant_58938      72.0\n",
      "1  2023-11-01  merchant_58938      96.0\n",
      "2  2023-12-01  merchant_58938     144.0\n",
      "     month_id     merchant_id  forecast\n",
      "0  2023-10-01  merchant_59036       1.5\n",
      "1  2023-11-01  merchant_59036       2.0\n",
      "2  2023-12-01  merchant_59036       3.0\n",
      "     month_id     merchant_id  forecast\n",
      "0  2023-10-01  merchant_59063       1.5\n",
      "1  2023-11-01  merchant_59063       2.0\n",
      "2  2023-12-01  merchant_59063       3.0\n",
      "     month_id     merchant_id  forecast\n",
      "0  2023-10-01  merchant_59126       4.0\n",
      "1  2023-11-01  merchant_59126       5.3\n",
      "2  2023-12-01  merchant_59126       8.0\n"
     ]
    },
    {
     "name": "stderr",
     "output_type": "stream",
     "text": [
      "Processing Customers:  98%|█████████▊| 25664/26060 [1:00:08<00:21, 18.02it/s]"
     ]
    },
    {
     "name": "stdout",
     "output_type": "stream",
     "text": [
      "     month_id     merchant_id  forecast\n",
      "0  2023-10-01  merchant_59128       4.5\n",
      "1  2023-11-01  merchant_59128       6.0\n",
      "2  2023-12-01  merchant_59128       9.0\n",
      "     month_id     merchant_id  forecast\n",
      "0  2023-10-01  merchant_59237       0.8\n",
      "1  2023-11-01  merchant_59237       1.0\n",
      "2  2023-12-01  merchant_59237       1.5\n",
      "     month_id     merchant_id  forecast\n",
      "0  2023-10-01  merchant_59492       0.8\n",
      "1  2023-11-01  merchant_59492       1.0\n",
      "2  2023-12-01  merchant_59492       1.5\n",
      "     month_id   merchant_id  forecast\n",
      "0  2023-10-01  merchant_596       1.5\n",
      "1  2023-11-01  merchant_596       2.0\n",
      "2  2023-12-01  merchant_596       3.0\n"
     ]
    },
    {
     "name": "stderr",
     "output_type": "stream",
     "text": [
      "Processing Customers:  98%|█████████▊| 25668/26060 [1:00:08<00:22, 17.57it/s]"
     ]
    },
    {
     "name": "stdout",
     "output_type": "stream",
     "text": [
      "     month_id     merchant_id  forecast\n",
      "0  2023-10-01  merchant_59725       0.8\n",
      "1  2023-11-01  merchant_59725       1.0\n",
      "2  2023-12-01  merchant_59725       1.5\n",
      "     month_id     merchant_id  forecast\n",
      "0  2023-10-01  merchant_59962       3.5\n",
      "1  2023-11-01  merchant_59962       4.7\n",
      "2  2023-12-01  merchant_59962       7.0\n",
      "     month_id     merchant_id  forecast\n",
      "0  2023-10-01  merchant_60077       5.0\n",
      "1  2023-11-01  merchant_60077       6.7\n",
      "2  2023-12-01  merchant_60077      10.0\n",
      "     month_id     merchant_id  forecast\n",
      "0  2023-10-01  merchant_60214       0.8\n",
      "1  2023-11-01  merchant_60214       1.0\n",
      "2  2023-12-01  merchant_60214       1.5\n"
     ]
    },
    {
     "name": "stderr",
     "output_type": "stream",
     "text": [
      "Processing Customers:  99%|█████████▊| 25672/26060 [1:00:09<00:21, 17.82it/s]"
     ]
    },
    {
     "name": "stdout",
     "output_type": "stream",
     "text": [
      "     month_id     merchant_id  forecast\n",
      "0  2023-10-01  merchant_60415       1.5\n",
      "1  2023-11-01  merchant_60415       2.0\n",
      "2  2023-12-01  merchant_60415       3.0\n",
      "     month_id     merchant_id  forecast\n",
      "0  2023-10-01  merchant_60706       3.8\n",
      "1  2023-11-01  merchant_60706       5.0\n",
      "2  2023-12-01  merchant_60706       7.5\n",
      "     month_id     merchant_id  forecast\n",
      "0  2023-10-01  merchant_61096       3.5\n",
      "1  2023-11-01  merchant_61096       4.7\n",
      "2  2023-12-01  merchant_61096       7.0\n",
      "     month_id     merchant_id  forecast\n",
      "0  2023-10-01  merchant_61127       0.8\n",
      "1  2023-11-01  merchant_61127       1.0\n",
      "2  2023-12-01  merchant_61127       1.5\n"
     ]
    },
    {
     "name": "stderr",
     "output_type": "stream",
     "text": [
      "Processing Customers:  99%|█████████▊| 25676/26060 [1:00:09<00:21, 17.94it/s]"
     ]
    },
    {
     "name": "stdout",
     "output_type": "stream",
     "text": [
      "     month_id     merchant_id  forecast\n",
      "0  2023-10-01  merchant_61467       0.8\n",
      "1  2023-11-01  merchant_61467       1.0\n",
      "2  2023-12-01  merchant_61467       1.5\n",
      "     month_id    merchant_id  forecast\n",
      "0  2023-10-01  merchant_6223       1.8\n",
      "1  2023-11-01  merchant_6223       2.3\n",
      "2  2023-12-01  merchant_6223       3.5\n",
      "     month_id     merchant_id  forecast\n",
      "0  2023-10-01  merchant_62350       5.5\n",
      "1  2023-11-01  merchant_62350       7.3\n",
      "2  2023-12-01  merchant_62350      11.0\n",
      "     month_id     merchant_id  forecast\n",
      "0  2023-10-01  merchant_62390     116.5\n",
      "1  2023-11-01  merchant_62390     155.3\n",
      "2  2023-12-01  merchant_62390     233.0\n",
      "     month_id     merchant_id  forecast\n",
      "0  2023-10-01  merchant_62749       2.2\n",
      "1  2023-11-01  merchant_62749       3.0\n",
      "2  2023-12-01  merchant_62749       4.5\n"
     ]
    },
    {
     "name": "stderr",
     "output_type": "stream",
     "text": [
      "Processing Customers:  99%|█████████▊| 25682/26060 [1:00:09<00:20, 18.21it/s]"
     ]
    },
    {
     "name": "stdout",
     "output_type": "stream",
     "text": [
      "     month_id     merchant_id  forecast\n",
      "0  2023-10-01  merchant_62795       0.8\n",
      "1  2023-11-01  merchant_62795       1.0\n",
      "2  2023-12-01  merchant_62795       1.5\n",
      "     month_id     merchant_id  forecast\n",
      "0  2023-10-01  merchant_62963       1.5\n",
      "1  2023-11-01  merchant_62963       2.0\n",
      "2  2023-12-01  merchant_62963       3.0\n",
      "     month_id     merchant_id  forecast\n",
      "0  2023-10-01  merchant_63255       8.8\n",
      "1  2023-11-01  merchant_63255      11.7\n",
      "2  2023-12-01  merchant_63255      17.5\n",
      "     month_id    merchant_id  forecast\n",
      "0  2023-10-01  merchant_6328       0.8\n",
      "1  2023-11-01  merchant_6328       1.0\n",
      "2  2023-12-01  merchant_6328       1.5\n",
      "     month_id     merchant_id  forecast\n",
      "0  2023-10-01  merchant_63379       0.8\n",
      "1  2023-11-01  merchant_63379       1.0\n",
      "2  2023-12-01  merchant_63379       1.5\n"
     ]
    },
    {
     "name": "stderr",
     "output_type": "stream",
     "text": [
      "Processing Customers:  99%|█████████▊| 25686/26060 [1:00:09<00:20, 17.99it/s]"
     ]
    },
    {
     "name": "stdout",
     "output_type": "stream",
     "text": [
      "     month_id     merchant_id  forecast\n",
      "0  2023-10-01  merchant_63399       1.2\n",
      "1  2023-11-01  merchant_63399       1.7\n",
      "2  2023-12-01  merchant_63399       2.5\n",
      "     month_id     merchant_id  forecast\n",
      "0  2023-10-01  merchant_63731       3.5\n",
      "1  2023-11-01  merchant_63731       4.7\n",
      "2  2023-12-01  merchant_63731       7.0\n",
      "     month_id     merchant_id  forecast\n",
      "0  2023-10-01  merchant_63905       0.8\n",
      "1  2023-11-01  merchant_63905       1.0\n",
      "2  2023-12-01  merchant_63905       1.5\n",
      "     month_id     merchant_id  forecast\n",
      "0  2023-10-01  merchant_64064       2.2\n",
      "1  2023-11-01  merchant_64064       3.0\n",
      "2  2023-12-01  merchant_64064       4.5\n"
     ]
    },
    {
     "name": "stderr",
     "output_type": "stream",
     "text": [
      "Processing Customers:  99%|█████████▊| 25690/26060 [1:00:10<00:20, 18.17it/s]"
     ]
    },
    {
     "name": "stdout",
     "output_type": "stream",
     "text": [
      "     month_id     merchant_id  forecast\n",
      "0  2023-10-01  merchant_64234       1.2\n",
      "1  2023-11-01  merchant_64234       1.7\n",
      "2  2023-12-01  merchant_64234       2.5\n",
      "     month_id     merchant_id  forecast\n",
      "0  2023-10-01  merchant_64349       0.8\n",
      "1  2023-11-01  merchant_64349       1.0\n",
      "2  2023-12-01  merchant_64349       1.5\n",
      "     month_id     merchant_id  forecast\n",
      "0  2023-10-01  merchant_64362       2.8\n",
      "1  2023-11-01  merchant_64362       3.7\n",
      "2  2023-12-01  merchant_64362       5.5\n",
      "     month_id     merchant_id  forecast\n",
      "0  2023-10-01  merchant_64525      21.5\n",
      "1  2023-11-01  merchant_64525      28.7\n",
      "2  2023-12-01  merchant_64525      43.0\n"
     ]
    },
    {
     "name": "stderr",
     "output_type": "stream",
     "text": [
      "Processing Customers:  99%|█████████▊| 25694/26060 [1:00:10<00:20, 18.06it/s]"
     ]
    },
    {
     "name": "stdout",
     "output_type": "stream",
     "text": [
      "     month_id     merchant_id  forecast\n",
      "0  2023-10-01  merchant_64638       1.8\n",
      "1  2023-11-01  merchant_64638       2.3\n",
      "2  2023-12-01  merchant_64638       3.5\n",
      "     month_id     merchant_id  forecast\n",
      "0  2023-10-01  merchant_65005       2.0\n",
      "1  2023-11-01  merchant_65005       2.7\n",
      "2  2023-12-01  merchant_65005       4.0\n",
      "     month_id     merchant_id  forecast\n",
      "0  2023-10-01  merchant_65766       0.8\n",
      "1  2023-11-01  merchant_65766       1.0\n",
      "2  2023-12-01  merchant_65766       1.5\n",
      "     month_id     merchant_id  forecast\n",
      "0  2023-10-01  merchant_65816       0.8\n",
      "1  2023-11-01  merchant_65816       1.0\n",
      "2  2023-12-01  merchant_65816       1.5\n"
     ]
    },
    {
     "name": "stderr",
     "output_type": "stream",
     "text": [
      "Processing Customers:  99%|█████████▊| 25698/26060 [1:00:10<00:20, 18.02it/s]"
     ]
    },
    {
     "name": "stdout",
     "output_type": "stream",
     "text": [
      "     month_id     merchant_id  forecast\n",
      "0  2023-10-01  merchant_65970       0.8\n",
      "1  2023-11-01  merchant_65970       1.0\n",
      "2  2023-12-01  merchant_65970       1.5\n",
      "     month_id     merchant_id  forecast\n",
      "0  2023-10-01  merchant_66372       2.0\n",
      "1  2023-11-01  merchant_66372       2.7\n",
      "2  2023-12-01  merchant_66372       4.0\n",
      "     month_id     merchant_id  forecast\n",
      "0  2023-10-01  merchant_66418       1.0\n",
      "1  2023-11-01  merchant_66418       1.3\n",
      "2  2023-12-01  merchant_66418       2.0\n",
      "     month_id     merchant_id  forecast\n",
      "0  2023-10-01  merchant_66722       1.8\n",
      "1  2023-11-01  merchant_66722       2.3\n",
      "2  2023-12-01  merchant_66722       3.5\n"
     ]
    },
    {
     "name": "stderr",
     "output_type": "stream",
     "text": [
      "Processing Customers:  99%|█████████▊| 25702/26060 [1:00:10<00:19, 17.96it/s]"
     ]
    },
    {
     "name": "stdout",
     "output_type": "stream",
     "text": [
      "     month_id     merchant_id  forecast\n",
      "0  2023-10-01  merchant_66998       1.0\n",
      "1  2023-11-01  merchant_66998       1.3\n",
      "2  2023-12-01  merchant_66998       2.0\n",
      "     month_id     merchant_id  forecast\n",
      "0  2023-10-01  merchant_67325       0.8\n",
      "1  2023-11-01  merchant_67325       1.0\n",
      "2  2023-12-01  merchant_67325       1.5\n",
      "     month_id     merchant_id  forecast\n",
      "0  2023-10-01  merchant_67426       0.8\n",
      "1  2023-11-01  merchant_67426       1.0\n",
      "2  2023-12-01  merchant_67426       1.5\n",
      "     month_id     merchant_id  forecast\n",
      "0  2023-10-01  merchant_67654       0.8\n",
      "1  2023-11-01  merchant_67654       1.0\n",
      "2  2023-12-01  merchant_67654       1.5\n"
     ]
    },
    {
     "name": "stderr",
     "output_type": "stream",
     "text": [
      "Processing Customers:  99%|█████████▊| 25706/26060 [1:00:10<00:19, 18.15it/s]"
     ]
    },
    {
     "name": "stdout",
     "output_type": "stream",
     "text": [
      "     month_id     merchant_id  forecast\n",
      "0  2023-10-01  merchant_67757     257.0\n",
      "1  2023-11-01  merchant_67757     342.7\n",
      "2  2023-12-01  merchant_67757     514.0\n",
      "     month_id     merchant_id  forecast\n",
      "0  2023-10-01  merchant_67807       1.0\n",
      "1  2023-11-01  merchant_67807       1.3\n",
      "2  2023-12-01  merchant_67807       2.0\n",
      "     month_id    merchant_id  forecast\n",
      "0  2023-10-01  merchant_6870       2.0\n",
      "1  2023-11-01  merchant_6870       2.7\n",
      "2  2023-12-01  merchant_6870       4.0\n",
      "     month_id    merchant_id  forecast\n",
      "0  2023-10-01  merchant_7105       0.8\n",
      "1  2023-11-01  merchant_7105       1.0\n",
      "2  2023-12-01  merchant_7105       1.5\n"
     ]
    },
    {
     "name": "stderr",
     "output_type": "stream",
     "text": [
      "Processing Customers:  99%|█████████▊| 25710/26060 [1:00:11<00:19, 18.15it/s]"
     ]
    },
    {
     "name": "stdout",
     "output_type": "stream",
     "text": [
      "     month_id    merchant_id  forecast\n",
      "0  2023-10-01  merchant_7239       5.5\n",
      "1  2023-11-01  merchant_7239       7.3\n",
      "2  2023-12-01  merchant_7239      11.0\n",
      "     month_id    merchant_id  forecast\n",
      "0  2023-10-01  merchant_7406     182.0\n",
      "1  2023-11-01  merchant_7406     242.7\n",
      "2  2023-12-01  merchant_7406     364.0\n",
      "     month_id    merchant_id  forecast\n",
      "0  2023-10-01  merchant_8183       1.8\n",
      "1  2023-11-01  merchant_8183       2.3\n",
      "2  2023-12-01  merchant_8183       3.5\n",
      "     month_id    merchant_id  forecast\n",
      "0  2023-10-01  merchant_8498      48.8\n",
      "1  2023-11-01  merchant_8498      65.0\n",
      "2  2023-12-01  merchant_8498      97.5\n"
     ]
    },
    {
     "name": "stderr",
     "output_type": "stream",
     "text": [
      "Processing Customers:  99%|█████████▊| 25714/26060 [1:00:11<00:18, 18.71it/s]"
     ]
    },
    {
     "name": "stdout",
     "output_type": "stream",
     "text": [
      "     month_id    merchant_id  forecast\n",
      "0  2023-10-01  merchant_8833       2.2\n",
      "1  2023-11-01  merchant_8833       3.0\n",
      "2  2023-12-01  merchant_8833       4.5\n",
      "     month_id    merchant_id  forecast\n",
      "0  2023-10-01  merchant_8943       2.2\n",
      "1  2023-11-01  merchant_8943       3.0\n",
      "2  2023-12-01  merchant_8943       4.5\n",
      "     month_id    merchant_id  forecast\n",
      "0  2023-10-01  merchant_9007       2.0\n",
      "1  2023-11-01  merchant_9007       2.7\n",
      "2  2023-12-01  merchant_9007       4.0\n",
      "     month_id    merchant_id  forecast\n",
      "0  2023-10-01  merchant_9354       0.8\n",
      "1  2023-11-01  merchant_9354       1.0\n",
      "2  2023-12-01  merchant_9354       1.5\n"
     ]
    },
    {
     "name": "stderr",
     "output_type": "stream",
     "text": [
      "Processing Customers:  99%|█████████▊| 25720/26060 [1:00:11<00:17, 19.12it/s]"
     ]
    },
    {
     "name": "stdout",
     "output_type": "stream",
     "text": [
      "     month_id    merchant_id  forecast\n",
      "0  2023-10-01  merchant_9368       0.8\n",
      "1  2023-11-01  merchant_9368       1.0\n",
      "2  2023-12-01  merchant_9368       1.5\n",
      "     month_id    merchant_id  forecast\n",
      "0  2023-10-01  merchant_9447       1.0\n",
      "1  2023-11-01  merchant_9447       1.3\n",
      "2  2023-12-01  merchant_9447       2.0\n",
      "     month_id    merchant_id  forecast\n",
      "0  2023-10-01  merchant_9652       3.5\n",
      "1  2023-11-01  merchant_9652       4.7\n",
      "2  2023-12-01  merchant_9652       7.0\n",
      "     month_id    merchant_id  forecast\n",
      "0  2023-10-01  merchant_9791       4.8\n",
      "1  2023-11-01  merchant_9791       6.3\n",
      "2  2023-12-01  merchant_9791       9.5\n",
      "     month_id    merchant_id  forecast\n",
      "0  2023-10-01  merchant_9846       0.8\n",
      "1  2023-11-01  merchant_9846       1.0\n",
      "2  2023-12-01  merchant_9846       1.5\n"
     ]
    },
    {
     "name": "stderr",
     "output_type": "stream",
     "text": [
      "Processing Customers:  99%|█████████▊| 25724/26060 [1:00:11<00:17, 18.72it/s]"
     ]
    },
    {
     "name": "stdout",
     "output_type": "stream",
     "text": [
      "     month_id     merchant_id  forecast\n",
      "0  2023-10-01  merchant_10110       1.0\n",
      "1  2023-11-01  merchant_10110       1.3\n",
      "2  2023-12-01  merchant_10110       2.0\n",
      "     month_id     merchant_id  forecast\n",
      "0  2023-10-01  merchant_10231       0.8\n",
      "1  2023-11-01  merchant_10231       1.0\n",
      "2  2023-12-01  merchant_10231       1.5\n",
      "     month_id     merchant_id  forecast\n",
      "0  2023-10-01  merchant_10456       2.0\n",
      "1  2023-11-01  merchant_10456       2.7\n",
      "2  2023-12-01  merchant_10456       4.0\n",
      "     month_id    merchant_id  forecast\n",
      "0  2023-10-01  merchant_1073       0.8\n",
      "1  2023-11-01  merchant_1073       1.0\n",
      "2  2023-12-01  merchant_1073       1.5\n",
      "     month_id     merchant_id  forecast\n",
      "0  2023-10-01  merchant_10849       1.0\n",
      "1  2023-11-01  merchant_10849       1.3\n",
      "2  2023-12-01  merchant_10849       2.0\n"
     ]
    },
    {
     "name": "stderr",
     "output_type": "stream",
     "text": [
      "Processing Customers:  99%|█████████▊| 25728/26060 [1:00:12<00:18, 18.32it/s]"
     ]
    },
    {
     "name": "stdout",
     "output_type": "stream",
     "text": [
      "     month_id     merchant_id  forecast\n",
      "0  2023-10-01  merchant_10913       1.5\n",
      "1  2023-11-01  merchant_10913       2.0\n",
      "2  2023-12-01  merchant_10913       3.0\n",
      "     month_id     merchant_id  forecast\n",
      "0  2023-10-01  merchant_11022       0.8\n",
      "1  2023-11-01  merchant_11022       1.0\n",
      "2  2023-12-01  merchant_11022       1.5\n",
      "     month_id     merchant_id  forecast\n",
      "0  2023-10-01  merchant_11036       0.8\n",
      "1  2023-11-01  merchant_11036       1.0\n",
      "2  2023-12-01  merchant_11036       1.5\n",
      "     month_id     merchant_id  forecast\n",
      "0  2023-10-01  merchant_11187       1.8\n",
      "1  2023-11-01  merchant_11187       2.3\n",
      "2  2023-12-01  merchant_11187       3.5\n"
     ]
    },
    {
     "name": "stderr",
     "output_type": "stream",
     "text": [
      "Processing Customers:  99%|█████████▊| 25732/26060 [1:00:12<00:18, 18.18it/s]"
     ]
    },
    {
     "name": "stdout",
     "output_type": "stream",
     "text": [
      "     month_id     merchant_id  forecast\n",
      "0  2023-10-01  merchant_11346       0.8\n",
      "1  2023-11-01  merchant_11346       1.0\n",
      "2  2023-12-01  merchant_11346       1.5\n",
      "     month_id     merchant_id  forecast\n",
      "0  2023-10-01  merchant_12338       4.2\n",
      "1  2023-11-01  merchant_12338       5.7\n",
      "2  2023-12-01  merchant_12338       8.5\n",
      "     month_id     merchant_id  forecast\n",
      "0  2023-10-01  merchant_12800       0.8\n",
      "1  2023-11-01  merchant_12800       1.0\n",
      "2  2023-12-01  merchant_12800       1.5\n",
      "     month_id     merchant_id  forecast\n",
      "0  2023-10-01  merchant_12933       0.8\n",
      "1  2023-11-01  merchant_12933       1.0\n",
      "2  2023-12-01  merchant_12933       1.5\n"
     ]
    },
    {
     "name": "stderr",
     "output_type": "stream",
     "text": [
      "Processing Customers:  99%|█████████▉| 25736/26060 [1:00:12<00:17, 18.25it/s]"
     ]
    },
    {
     "name": "stdout",
     "output_type": "stream",
     "text": [
      "     month_id     merchant_id  forecast\n",
      "0  2023-10-01  merchant_12943       1.0\n",
      "1  2023-11-01  merchant_12943       1.3\n",
      "2  2023-12-01  merchant_12943       2.0\n",
      "     month_id   merchant_id  forecast\n",
      "0  2023-10-01  merchant_131       1.0\n",
      "1  2023-11-01  merchant_131       1.3\n",
      "2  2023-12-01  merchant_131       2.0\n",
      "     month_id     merchant_id  forecast\n",
      "0  2023-10-01  merchant_13138       1.0\n",
      "1  2023-11-01  merchant_13138       1.3\n",
      "2  2023-12-01  merchant_13138       2.0\n",
      "     month_id     merchant_id  forecast\n",
      "0  2023-10-01  merchant_13165       0.8\n",
      "1  2023-11-01  merchant_13165       1.0\n",
      "2  2023-12-01  merchant_13165       1.5\n"
     ]
    },
    {
     "name": "stderr",
     "output_type": "stream",
     "text": [
      "Processing Customers:  99%|█████████▉| 25740/26060 [1:00:12<00:17, 18.08it/s]"
     ]
    },
    {
     "name": "stdout",
     "output_type": "stream",
     "text": [
      "     month_id     merchant_id  forecast\n",
      "0  2023-10-01  merchant_13268       0.8\n",
      "1  2023-11-01  merchant_13268       1.0\n",
      "2  2023-12-01  merchant_13268       1.5\n",
      "     month_id     merchant_id  forecast\n",
      "0  2023-10-01  merchant_13427       0.8\n",
      "1  2023-11-01  merchant_13427       1.0\n",
      "2  2023-12-01  merchant_13427       1.5\n",
      "     month_id     merchant_id  forecast\n",
      "0  2023-10-01  merchant_13435       0.8\n",
      "1  2023-11-01  merchant_13435       1.0\n",
      "2  2023-12-01  merchant_13435       1.5\n",
      "     month_id     merchant_id  forecast\n",
      "0  2023-10-01  merchant_13806       1.8\n",
      "1  2023-11-01  merchant_13806       2.3\n",
      "2  2023-12-01  merchant_13806       3.5\n"
     ]
    },
    {
     "name": "stderr",
     "output_type": "stream",
     "text": [
      "Processing Customers:  99%|█████████▉| 25744/26060 [1:00:13<00:17, 18.23it/s]"
     ]
    },
    {
     "name": "stdout",
     "output_type": "stream",
     "text": [
      "     month_id     merchant_id  forecast\n",
      "0  2023-10-01  merchant_13881       1.0\n",
      "1  2023-11-01  merchant_13881       1.3\n",
      "2  2023-12-01  merchant_13881       2.0\n",
      "     month_id     merchant_id  forecast\n",
      "0  2023-10-01  merchant_14446       2.0\n",
      "1  2023-11-01  merchant_14446       2.7\n",
      "2  2023-12-01  merchant_14446       4.0\n",
      "     month_id    merchant_id  forecast\n",
      "0  2023-10-01  merchant_1469       0.8\n",
      "1  2023-11-01  merchant_1469       1.0\n",
      "2  2023-12-01  merchant_1469       1.5\n",
      "     month_id     merchant_id  forecast\n",
      "0  2023-10-01  merchant_14732       0.8\n",
      "1  2023-11-01  merchant_14732       1.0\n",
      "2  2023-12-01  merchant_14732       1.5\n"
     ]
    },
    {
     "name": "stderr",
     "output_type": "stream",
     "text": [
      "Processing Customers:  99%|█████████▉| 25750/26060 [1:00:13<00:17, 18.07it/s]"
     ]
    },
    {
     "name": "stdout",
     "output_type": "stream",
     "text": [
      "     month_id     merchant_id  forecast\n",
      "0  2023-10-01  merchant_15148       0.8\n",
      "1  2023-11-01  merchant_15148       1.0\n",
      "2  2023-12-01  merchant_15148       1.5\n",
      "     month_id     merchant_id  forecast\n",
      "0  2023-10-01  merchant_15247       0.8\n",
      "1  2023-11-01  merchant_15247       1.0\n",
      "2  2023-12-01  merchant_15247       1.5\n",
      "     month_id   merchant_id  forecast\n",
      "0  2023-10-01  merchant_156       0.8\n",
      "1  2023-11-01  merchant_156       1.0\n",
      "2  2023-12-01  merchant_156       1.5\n",
      "     month_id    merchant_id  forecast\n",
      "0  2023-10-01  merchant_1612       1.0\n",
      "1  2023-11-01  merchant_1612       1.3\n",
      "2  2023-12-01  merchant_1612       2.0\n",
      "     month_id     merchant_id  forecast\n",
      "0  2023-10-01  merchant_16333       1.0\n",
      "1  2023-11-01  merchant_16333       1.3\n",
      "2  2023-12-01  merchant_16333       2.0\n"
     ]
    },
    {
     "name": "stderr",
     "output_type": "stream",
     "text": [
      "Processing Customers:  99%|█████████▉| 25754/26060 [1:00:13<00:17, 18.00it/s]"
     ]
    },
    {
     "name": "stdout",
     "output_type": "stream",
     "text": [
      "     month_id     merchant_id  forecast\n",
      "0  2023-10-01  merchant_16975       1.0\n",
      "1  2023-11-01  merchant_16975       1.3\n",
      "2  2023-12-01  merchant_16975       2.0\n",
      "     month_id     merchant_id  forecast\n",
      "0  2023-10-01  merchant_16976       0.8\n",
      "1  2023-11-01  merchant_16976       1.0\n",
      "2  2023-12-01  merchant_16976       1.5\n",
      "     month_id     merchant_id  forecast\n",
      "0  2023-10-01  merchant_16985       0.8\n",
      "1  2023-11-01  merchant_16985       1.0\n",
      "2  2023-12-01  merchant_16985       1.5\n",
      "     month_id     merchant_id  forecast\n",
      "0  2023-10-01  merchant_17593       0.8\n",
      "1  2023-11-01  merchant_17593       1.0\n",
      "2  2023-12-01  merchant_17593       1.5\n",
      "     month_id     merchant_id  forecast\n",
      "0  2023-10-01  merchant_17699       0.8\n",
      "1  2023-11-01  merchant_17699       1.0\n",
      "2  2023-12-01  merchant_17699       1.5\n"
     ]
    },
    {
     "name": "stderr",
     "output_type": "stream",
     "text": [
      "Processing Customers:  99%|█████████▉| 25758/26060 [1:00:13<00:16, 18.08it/s]"
     ]
    },
    {
     "name": "stdout",
     "output_type": "stream",
     "text": [
      "     month_id    merchant_id  forecast\n",
      "0  2023-10-01  merchant_1804       1.8\n",
      "1  2023-11-01  merchant_1804       2.3\n",
      "2  2023-12-01  merchant_1804       3.5\n",
      "     month_id     merchant_id  forecast\n",
      "0  2023-10-01  merchant_18613       0.8\n",
      "1  2023-11-01  merchant_18613       1.0\n",
      "2  2023-12-01  merchant_18613       1.5\n",
      "     month_id     merchant_id  forecast\n",
      "0  2023-10-01  merchant_18694       0.8\n",
      "1  2023-11-01  merchant_18694       1.0\n",
      "2  2023-12-01  merchant_18694       1.5\n",
      "     month_id     merchant_id  forecast\n",
      "0  2023-10-01  merchant_18867       1.2\n",
      "1  2023-11-01  merchant_18867       1.7\n",
      "2  2023-12-01  merchant_18867       2.5\n"
     ]
    },
    {
     "name": "stderr",
     "output_type": "stream",
     "text": [
      "Processing Customers:  99%|█████████▉| 25762/26060 [1:00:14<00:16, 17.92it/s]"
     ]
    },
    {
     "name": "stdout",
     "output_type": "stream",
     "text": [
      "     month_id     merchant_id  forecast\n",
      "0  2023-10-01  merchant_18947       0.8\n",
      "1  2023-11-01  merchant_18947       1.0\n",
      "2  2023-12-01  merchant_18947       1.5\n",
      "     month_id     merchant_id  forecast\n",
      "0  2023-10-01  merchant_18951       0.8\n",
      "1  2023-11-01  merchant_18951       1.0\n",
      "2  2023-12-01  merchant_18951       1.5\n",
      "     month_id     merchant_id  forecast\n",
      "0  2023-10-01  merchant_19602       1.0\n",
      "1  2023-11-01  merchant_19602       1.3\n",
      "2  2023-12-01  merchant_19602       2.0\n",
      "     month_id     merchant_id  forecast\n",
      "0  2023-10-01  merchant_19876       0.8\n",
      "1  2023-11-01  merchant_19876       1.0\n",
      "2  2023-12-01  merchant_19876       1.5\n",
      "     month_id    merchant_id  forecast\n",
      "0  2023-10-01  merchant_2012       0.8\n",
      "1  2023-11-01  merchant_2012       1.0\n",
      "2  2023-12-01  merchant_2012       1.5\n"
     ]
    },
    {
     "name": "stderr",
     "output_type": "stream",
     "text": [
      "Processing Customers:  99%|█████████▉| 25768/26060 [1:00:14<00:16, 18.24it/s]"
     ]
    },
    {
     "name": "stdout",
     "output_type": "stream",
     "text": [
      "     month_id     merchant_id  forecast\n",
      "0  2023-10-01  merchant_20242       0.8\n",
      "1  2023-11-01  merchant_20242       1.0\n",
      "2  2023-12-01  merchant_20242       1.5\n",
      "     month_id     merchant_id  forecast\n",
      "0  2023-10-01  merchant_20328       0.8\n",
      "1  2023-11-01  merchant_20328       1.0\n",
      "2  2023-12-01  merchant_20328       1.5\n",
      "     month_id     merchant_id  forecast\n",
      "0  2023-10-01  merchant_20365       1.8\n",
      "1  2023-11-01  merchant_20365       2.3\n",
      "2  2023-12-01  merchant_20365       3.5\n",
      "     month_id     merchant_id  forecast\n",
      "0  2023-10-01  merchant_20495       0.8\n",
      "1  2023-11-01  merchant_20495       1.0\n",
      "2  2023-12-01  merchant_20495       1.5\n",
      "     month_id     merchant_id  forecast\n",
      "0  2023-10-01  merchant_20552       1.5\n",
      "1  2023-11-01  merchant_20552       2.0\n",
      "2  2023-12-01  merchant_20552       3.0\n"
     ]
    },
    {
     "name": "stderr",
     "output_type": "stream",
     "text": [
      "Processing Customers:  99%|█████████▉| 25774/26060 [1:00:14<00:15, 18.40it/s]"
     ]
    },
    {
     "name": "stdout",
     "output_type": "stream",
     "text": [
      "     month_id     merchant_id  forecast\n",
      "0  2023-10-01  merchant_21328       0.8\n",
      "1  2023-11-01  merchant_21328       1.0\n",
      "2  2023-12-01  merchant_21328       1.5\n",
      "     month_id     merchant_id  forecast\n",
      "0  2023-10-01  merchant_21397       0.8\n",
      "1  2023-11-01  merchant_21397       1.0\n",
      "2  2023-12-01  merchant_21397       1.5\n",
      "     month_id     merchant_id  forecast\n",
      "0  2023-10-01  merchant_21719       0.8\n",
      "1  2023-11-01  merchant_21719       1.0\n",
      "2  2023-12-01  merchant_21719       1.5\n",
      "     month_id     merchant_id  forecast\n",
      "0  2023-10-01  merchant_22013       0.8\n",
      "1  2023-11-01  merchant_22013       1.0\n",
      "2  2023-12-01  merchant_22013       1.5\n",
      "     month_id    merchant_id  forecast\n",
      "0  2023-10-01  merchant_2202       0.8\n",
      "1  2023-11-01  merchant_2202       1.0\n",
      "2  2023-12-01  merchant_2202       1.5\n"
     ]
    },
    {
     "name": "stderr",
     "output_type": "stream",
     "text": [
      "Processing Customers:  99%|█████████▉| 25778/26060 [1:00:14<00:15, 18.43it/s]"
     ]
    },
    {
     "name": "stdout",
     "output_type": "stream",
     "text": [
      "     month_id    merchant_id  forecast\n",
      "0  2023-10-01  merchant_2214      15.0\n",
      "1  2023-11-01  merchant_2214      20.0\n",
      "2  2023-12-01  merchant_2214      30.0\n",
      "     month_id     merchant_id  forecast\n",
      "0  2023-10-01  merchant_22518       4.5\n",
      "1  2023-11-01  merchant_22518       6.0\n",
      "2  2023-12-01  merchant_22518       9.0\n",
      "     month_id    merchant_id  forecast\n",
      "0  2023-10-01  merchant_2258       0.8\n",
      "1  2023-11-01  merchant_2258       1.0\n",
      "2  2023-12-01  merchant_2258       1.5\n",
      "     month_id     merchant_id  forecast\n",
      "0  2023-10-01  merchant_22633       0.8\n",
      "1  2023-11-01  merchant_22633       1.0\n",
      "2  2023-12-01  merchant_22633       1.5\n",
      "     month_id     merchant_id  forecast\n",
      "0  2023-10-01  merchant_22743       0.8\n",
      "1  2023-11-01  merchant_22743       1.0\n",
      "2  2023-12-01  merchant_22743       1.5\n"
     ]
    },
    {
     "name": "stderr",
     "output_type": "stream",
     "text": [
      "Processing Customers:  99%|█████████▉| 25782/26060 [1:00:15<00:15, 18.20it/s]"
     ]
    },
    {
     "name": "stdout",
     "output_type": "stream",
     "text": [
      "     month_id     merchant_id  forecast\n",
      "0  2023-10-01  merchant_23414    1368.8\n",
      "1  2023-11-01  merchant_23414    1825.0\n",
      "2  2023-12-01  merchant_23414    2737.5\n",
      "     month_id     merchant_id  forecast\n",
      "0  2023-10-01  merchant_23463       0.8\n",
      "1  2023-11-01  merchant_23463       1.0\n",
      "2  2023-12-01  merchant_23463       1.5\n",
      "     month_id     merchant_id  forecast\n",
      "0  2023-10-01  merchant_23781       1.0\n",
      "1  2023-11-01  merchant_23781       1.3\n",
      "2  2023-12-01  merchant_23781       2.0\n",
      "     month_id     merchant_id  forecast\n",
      "0  2023-10-01  merchant_23989       0.8\n",
      "1  2023-11-01  merchant_23989       1.0\n",
      "2  2023-12-01  merchant_23989       1.5\n"
     ]
    },
    {
     "name": "stderr",
     "output_type": "stream",
     "text": [
      "Processing Customers:  99%|█████████▉| 25786/26060 [1:00:15<00:15, 17.61it/s]"
     ]
    },
    {
     "name": "stdout",
     "output_type": "stream",
     "text": [
      "     month_id     merchant_id  forecast\n",
      "0  2023-10-01  merchant_24474       1.5\n",
      "1  2023-11-01  merchant_24474       2.0\n",
      "2  2023-12-01  merchant_24474       3.0\n",
      "     month_id     merchant_id  forecast\n",
      "0  2023-10-01  merchant_24637       2.5\n",
      "1  2023-11-01  merchant_24637       3.3\n",
      "2  2023-12-01  merchant_24637       5.0\n",
      "     month_id     merchant_id  forecast\n",
      "0  2023-10-01  merchant_24939       1.0\n",
      "1  2023-11-01  merchant_24939       1.3\n",
      "2  2023-12-01  merchant_24939       2.0\n",
      "     month_id     merchant_id  forecast\n",
      "0  2023-10-01  merchant_24944       1.0\n",
      "1  2023-11-01  merchant_24944       1.3\n",
      "2  2023-12-01  merchant_24944       2.0\n"
     ]
    },
    {
     "name": "stderr",
     "output_type": "stream",
     "text": [
      "Processing Customers:  99%|█████████▉| 25790/26060 [1:00:15<00:15, 17.76it/s]"
     ]
    },
    {
     "name": "stdout",
     "output_type": "stream",
     "text": [
      "     month_id     merchant_id  forecast\n",
      "0  2023-10-01  merchant_25117       1.2\n",
      "1  2023-11-01  merchant_25117       1.7\n",
      "2  2023-12-01  merchant_25117       2.5\n",
      "     month_id     merchant_id  forecast\n",
      "0  2023-10-01  merchant_25308       0.8\n",
      "1  2023-11-01  merchant_25308       1.0\n",
      "2  2023-12-01  merchant_25308       1.5\n",
      "     month_id     merchant_id  forecast\n",
      "0  2023-10-01  merchant_25492       0.8\n",
      "1  2023-11-01  merchant_25492       1.0\n",
      "2  2023-12-01  merchant_25492       1.5\n",
      "     month_id   merchant_id  forecast\n",
      "0  2023-10-01  merchant_255       0.8\n",
      "1  2023-11-01  merchant_255       1.0\n",
      "2  2023-12-01  merchant_255       1.5\n"
     ]
    },
    {
     "name": "stderr",
     "output_type": "stream",
     "text": [
      "Processing Customers:  99%|█████████▉| 25794/26060 [1:00:15<00:14, 18.05it/s]"
     ]
    },
    {
     "name": "stdout",
     "output_type": "stream",
     "text": [
      "     month_id     merchant_id  forecast\n",
      "0  2023-10-01  merchant_25658       1.0\n",
      "1  2023-11-01  merchant_25658       1.3\n",
      "2  2023-12-01  merchant_25658       2.0\n",
      "     month_id     merchant_id  forecast\n",
      "0  2023-10-01  merchant_25680       0.8\n",
      "1  2023-11-01  merchant_25680       1.0\n",
      "2  2023-12-01  merchant_25680       1.5\n",
      "     month_id     merchant_id  forecast\n",
      "0  2023-10-01  merchant_25843       1.8\n",
      "1  2023-11-01  merchant_25843       2.3\n",
      "2  2023-12-01  merchant_25843       3.5\n",
      "     month_id    merchant_id  forecast\n",
      "0  2023-10-01  merchant_2595       0.8\n",
      "1  2023-11-01  merchant_2595       1.0\n",
      "2  2023-12-01  merchant_2595       1.5\n"
     ]
    },
    {
     "name": "stderr",
     "output_type": "stream",
     "text": [
      "Processing Customers:  99%|█████████▉| 25798/26060 [1:00:16<00:14, 18.28it/s]"
     ]
    },
    {
     "name": "stdout",
     "output_type": "stream",
     "text": [
      "     month_id     merchant_id  forecast\n",
      "0  2023-10-01  merchant_26111       0.8\n",
      "1  2023-11-01  merchant_26111       1.0\n",
      "2  2023-12-01  merchant_26111       1.5\n",
      "     month_id     merchant_id  forecast\n",
      "0  2023-10-01  merchant_26251       1.2\n",
      "1  2023-11-01  merchant_26251       1.7\n",
      "2  2023-12-01  merchant_26251       2.5\n",
      "     month_id     merchant_id  forecast\n",
      "0  2023-10-01  merchant_26270       0.8\n",
      "1  2023-11-01  merchant_26270       1.0\n",
      "2  2023-12-01  merchant_26270       1.5\n",
      "     month_id     merchant_id  forecast\n",
      "0  2023-10-01  merchant_26307      49.2\n",
      "1  2023-11-01  merchant_26307      65.7\n",
      "2  2023-12-01  merchant_26307      98.5\n"
     ]
    },
    {
     "name": "stderr",
     "output_type": "stream",
     "text": [
      "Processing Customers:  99%|█████████▉| 25802/26060 [1:00:16<00:14, 17.92it/s]"
     ]
    },
    {
     "name": "stdout",
     "output_type": "stream",
     "text": [
      "     month_id    merchant_id  forecast\n",
      "0  2023-10-01  merchant_2636      18.5\n",
      "1  2023-11-01  merchant_2636      24.7\n",
      "2  2023-12-01  merchant_2636      37.0\n",
      "     month_id     merchant_id  forecast\n",
      "0  2023-10-01  merchant_26366       0.8\n",
      "1  2023-11-01  merchant_26366       1.0\n",
      "2  2023-12-01  merchant_26366       1.5\n",
      "     month_id     merchant_id  forecast\n",
      "0  2023-10-01  merchant_26434       0.8\n",
      "1  2023-11-01  merchant_26434       1.0\n",
      "2  2023-12-01  merchant_26434       1.5\n"
     ]
    },
    {
     "name": "stderr",
     "output_type": "stream",
     "text": [
      "Processing Customers:  99%|█████████▉| 25806/26060 [1:00:16<00:14, 17.88it/s]"
     ]
    },
    {
     "name": "stdout",
     "output_type": "stream",
     "text": [
      "     month_id     merchant_id  forecast\n",
      "0  2023-10-01  merchant_26591       1.5\n",
      "1  2023-11-01  merchant_26591       2.0\n",
      "2  2023-12-01  merchant_26591       3.0\n",
      "     month_id     merchant_id  forecast\n",
      "0  2023-10-01  merchant_26755       0.8\n",
      "1  2023-11-01  merchant_26755       1.0\n",
      "2  2023-12-01  merchant_26755       1.5\n",
      "     month_id     merchant_id  forecast\n",
      "0  2023-10-01  merchant_26835       1.5\n",
      "1  2023-11-01  merchant_26835       2.0\n",
      "2  2023-12-01  merchant_26835       3.0\n",
      "     month_id    merchant_id  forecast\n",
      "0  2023-10-01  merchant_2705       1.2\n",
      "1  2023-11-01  merchant_2705       1.7\n",
      "2  2023-12-01  merchant_2705       2.5\n"
     ]
    },
    {
     "name": "stderr",
     "output_type": "stream",
     "text": [
      "Processing Customers:  99%|█████████▉| 25810/26060 [1:00:16<00:14, 17.75it/s]"
     ]
    },
    {
     "name": "stdout",
     "output_type": "stream",
     "text": [
      "     month_id     merchant_id  forecast\n",
      "0  2023-10-01  merchant_27063       1.0\n",
      "1  2023-11-01  merchant_27063       1.3\n",
      "2  2023-12-01  merchant_27063       2.0\n",
      "     month_id     merchant_id  forecast\n",
      "0  2023-10-01  merchant_27299       1.0\n",
      "1  2023-11-01  merchant_27299       1.3\n",
      "2  2023-12-01  merchant_27299       2.0\n",
      "     month_id     merchant_id  forecast\n",
      "0  2023-10-01  merchant_27708       1.0\n",
      "1  2023-11-01  merchant_27708       1.3\n",
      "2  2023-12-01  merchant_27708       2.0\n",
      "     month_id    merchant_id  forecast\n",
      "0  2023-10-01  merchant_2772       0.8\n",
      "1  2023-11-01  merchant_2772       1.0\n",
      "2  2023-12-01  merchant_2772       1.5\n",
      "     month_id     merchant_id  forecast\n",
      "0  2023-10-01  merchant_27903       1.0\n",
      "1  2023-11-01  merchant_27903       1.3\n",
      "2  2023-12-01  merchant_27903       2.0\n"
     ]
    },
    {
     "name": "stderr",
     "output_type": "stream",
     "text": [
      "Processing Customers:  99%|█████████▉| 25814/26060 [1:00:16<00:13, 17.70it/s]"
     ]
    },
    {
     "name": "stdout",
     "output_type": "stream",
     "text": [
      "     month_id     merchant_id  forecast\n",
      "0  2023-10-01  merchant_28200       1.0\n",
      "1  2023-11-01  merchant_28200       1.3\n",
      "2  2023-12-01  merchant_28200       2.0\n",
      "     month_id     merchant_id  forecast\n",
      "0  2023-10-01  merchant_28687       0.8\n",
      "1  2023-11-01  merchant_28687       1.0\n",
      "2  2023-12-01  merchant_28687       1.5\n",
      "     month_id     merchant_id  forecast\n",
      "0  2023-10-01  merchant_28918       1.0\n",
      "1  2023-11-01  merchant_28918       1.3\n",
      "2  2023-12-01  merchant_28918       2.0\n",
      "     month_id    merchant_id  forecast\n",
      "0  2023-10-01  merchant_2897       0.8\n",
      "1  2023-11-01  merchant_2897       1.0\n",
      "2  2023-12-01  merchant_2897       1.5\n"
     ]
    },
    {
     "name": "stderr",
     "output_type": "stream",
     "text": [
      "Processing Customers:  99%|█████████▉| 25818/26060 [1:00:17<00:13, 17.62it/s]"
     ]
    },
    {
     "name": "stdout",
     "output_type": "stream",
     "text": [
      "     month_id     merchant_id  forecast\n",
      "0  2023-10-01  merchant_28980      11.2\n",
      "1  2023-11-01  merchant_28980      15.0\n",
      "2  2023-12-01  merchant_28980      22.5\n",
      "     month_id     merchant_id  forecast\n",
      "0  2023-10-01  merchant_29154       0.8\n",
      "1  2023-11-01  merchant_29154       1.0\n",
      "2  2023-12-01  merchant_29154       1.5\n",
      "     month_id     merchant_id  forecast\n",
      "0  2023-10-01  merchant_29249       0.8\n",
      "1  2023-11-01  merchant_29249       1.0\n",
      "2  2023-12-01  merchant_29249       1.5\n",
      "     month_id     merchant_id  forecast\n",
      "0  2023-10-01  merchant_29302       1.0\n",
      "1  2023-11-01  merchant_29302       1.3\n",
      "2  2023-12-01  merchant_29302       2.0\n"
     ]
    },
    {
     "name": "stderr",
     "output_type": "stream",
     "text": [
      "Processing Customers:  99%|█████████▉| 25822/26060 [1:00:17<00:13, 17.72it/s]"
     ]
    },
    {
     "name": "stdout",
     "output_type": "stream",
     "text": [
      "     month_id     merchant_id  forecast\n",
      "0  2023-10-01  merchant_29400       1.5\n",
      "1  2023-11-01  merchant_29400       2.0\n",
      "2  2023-12-01  merchant_29400       3.0\n",
      "     month_id     merchant_id  forecast\n",
      "0  2023-10-01  merchant_29699       0.8\n",
      "1  2023-11-01  merchant_29699       1.0\n",
      "2  2023-12-01  merchant_29699       1.5\n",
      "     month_id     merchant_id  forecast\n",
      "0  2023-10-01  merchant_29871       1.5\n",
      "1  2023-11-01  merchant_29871       2.0\n",
      "2  2023-12-01  merchant_29871       3.0\n",
      "     month_id     merchant_id  forecast\n",
      "0  2023-10-01  merchant_29932       0.8\n",
      "1  2023-11-01  merchant_29932       1.0\n",
      "2  2023-12-01  merchant_29932       1.5\n"
     ]
    },
    {
     "name": "stderr",
     "output_type": "stream",
     "text": [
      "Processing Customers:  99%|█████████▉| 25826/26060 [1:00:17<00:13, 17.21it/s]"
     ]
    },
    {
     "name": "stdout",
     "output_type": "stream",
     "text": [
      "     month_id     merchant_id  forecast\n",
      "0  2023-10-01  merchant_30103       0.8\n",
      "1  2023-11-01  merchant_30103       1.0\n",
      "2  2023-12-01  merchant_30103       1.5\n",
      "     month_id     merchant_id  forecast\n",
      "0  2023-10-01  merchant_30210       0.8\n",
      "1  2023-11-01  merchant_30210       1.0\n",
      "2  2023-12-01  merchant_30210       1.5\n",
      "     month_id     merchant_id  forecast\n",
      "0  2023-10-01  merchant_30401       1.0\n",
      "1  2023-11-01  merchant_30401       1.3\n",
      "2  2023-12-01  merchant_30401       2.0\n",
      "     month_id     merchant_id  forecast\n",
      "0  2023-10-01  merchant_30708       0.8\n",
      "1  2023-11-01  merchant_30708       1.0\n",
      "2  2023-12-01  merchant_30708       1.5\n"
     ]
    },
    {
     "name": "stderr",
     "output_type": "stream",
     "text": [
      "Processing Customers:  99%|█████████▉| 25830/26060 [1:00:17<00:13, 17.59it/s]"
     ]
    },
    {
     "name": "stdout",
     "output_type": "stream",
     "text": [
      "     month_id     merchant_id  forecast\n",
      "0  2023-10-01  merchant_31020       0.8\n",
      "1  2023-11-01  merchant_31020       1.0\n",
      "2  2023-12-01  merchant_31020       1.5\n",
      "     month_id     merchant_id  forecast\n",
      "0  2023-10-01  merchant_31069       1.2\n",
      "1  2023-11-01  merchant_31069       1.7\n",
      "2  2023-12-01  merchant_31069       2.5\n",
      "     month_id     merchant_id  forecast\n",
      "0  2023-10-01  merchant_31512       1.0\n",
      "1  2023-11-01  merchant_31512       1.3\n",
      "2  2023-12-01  merchant_31512       2.0\n",
      "     month_id     merchant_id  forecast\n",
      "0  2023-10-01  merchant_31671       1.2\n",
      "1  2023-11-01  merchant_31671       1.7\n",
      "2  2023-12-01  merchant_31671       2.5\n"
     ]
    },
    {
     "name": "stderr",
     "output_type": "stream",
     "text": [
      "Processing Customers:  99%|█████████▉| 25834/26060 [1:00:18<00:12, 18.05it/s]"
     ]
    },
    {
     "name": "stdout",
     "output_type": "stream",
     "text": [
      "     month_id     merchant_id  forecast\n",
      "0  2023-10-01  merchant_31772       1.0\n",
      "1  2023-11-01  merchant_31772       1.3\n",
      "2  2023-12-01  merchant_31772       2.0\n",
      "     month_id     merchant_id  forecast\n",
      "0  2023-10-01  merchant_31800       1.2\n",
      "1  2023-11-01  merchant_31800       1.7\n",
      "2  2023-12-01  merchant_31800       2.5\n",
      "     month_id     merchant_id  forecast\n",
      "0  2023-10-01  merchant_32003       1.0\n",
      "1  2023-11-01  merchant_32003       1.3\n",
      "2  2023-12-01  merchant_32003       2.0\n",
      "     month_id     merchant_id  forecast\n",
      "0  2023-10-01  merchant_32034       0.8\n",
      "1  2023-11-01  merchant_32034       1.0\n",
      "2  2023-12-01  merchant_32034       1.5\n"
     ]
    },
    {
     "name": "stderr",
     "output_type": "stream",
     "text": [
      "Processing Customers:  99%|█████████▉| 25838/26060 [1:00:18<00:12, 18.39it/s]"
     ]
    },
    {
     "name": "stdout",
     "output_type": "stream",
     "text": [
      "     month_id     merchant_id  forecast\n",
      "0  2023-10-01  merchant_32155       0.8\n",
      "1  2023-11-01  merchant_32155       1.0\n",
      "2  2023-12-01  merchant_32155       1.5\n",
      "     month_id     merchant_id  forecast\n",
      "0  2023-10-01  merchant_32485       0.8\n",
      "1  2023-11-01  merchant_32485       1.0\n",
      "2  2023-12-01  merchant_32485       1.5\n",
      "     month_id     merchant_id  forecast\n",
      "0  2023-10-01  merchant_32667       2.0\n",
      "1  2023-11-01  merchant_32667       2.7\n",
      "2  2023-12-01  merchant_32667       4.0\n",
      "     month_id     merchant_id  forecast\n",
      "0  2023-10-01  merchant_33137       0.8\n",
      "1  2023-11-01  merchant_33137       1.0\n",
      "2  2023-12-01  merchant_33137       1.5\n"
     ]
    },
    {
     "name": "stderr",
     "output_type": "stream",
     "text": [
      "Processing Customers:  99%|█████████▉| 25842/26060 [1:00:18<00:13, 16.63it/s]"
     ]
    },
    {
     "name": "stdout",
     "output_type": "stream",
     "text": [
      "     month_id     merchant_id  forecast\n",
      "0  2023-10-01  merchant_33223       0.8\n",
      "1  2023-11-01  merchant_33223       1.0\n",
      "2  2023-12-01  merchant_33223       1.5\n",
      "     month_id     merchant_id  forecast\n",
      "0  2023-10-01  merchant_33388       1.5\n",
      "1  2023-11-01  merchant_33388       2.0\n",
      "2  2023-12-01  merchant_33388       3.0\n",
      "     month_id     merchant_id  forecast\n",
      "0  2023-10-01  merchant_33439       0.8\n",
      "1  2023-11-01  merchant_33439       1.0\n",
      "2  2023-12-01  merchant_33439       1.5\n"
     ]
    },
    {
     "name": "stderr",
     "output_type": "stream",
     "text": [
      "Processing Customers:  99%|█████████▉| 25846/26060 [1:00:18<00:12, 17.43it/s]"
     ]
    },
    {
     "name": "stdout",
     "output_type": "stream",
     "text": [
      "     month_id     merchant_id  forecast\n",
      "0  2023-10-01  merchant_33473       0.8\n",
      "1  2023-11-01  merchant_33473       1.0\n",
      "2  2023-12-01  merchant_33473       1.5\n",
      "     month_id     merchant_id  forecast\n",
      "0  2023-10-01  merchant_34124       0.8\n",
      "1  2023-11-01  merchant_34124       1.0\n",
      "2  2023-12-01  merchant_34124       1.5\n",
      "     month_id    merchant_id  forecast\n",
      "0  2023-10-01  merchant_3434       0.8\n",
      "1  2023-11-01  merchant_3434       1.0\n",
      "2  2023-12-01  merchant_3434       1.5\n",
      "     month_id     merchant_id  forecast\n",
      "0  2023-10-01  merchant_34670       1.5\n",
      "1  2023-11-01  merchant_34670       2.0\n",
      "2  2023-12-01  merchant_34670       3.0\n",
      "     month_id     merchant_id  forecast\n",
      "0  2023-10-01  merchant_34930       1.2\n",
      "1  2023-11-01  merchant_34930       1.7\n",
      "2  2023-12-01  merchant_34930       2.5\n"
     ]
    },
    {
     "name": "stderr",
     "output_type": "stream",
     "text": [
      "Processing Customers:  99%|█████████▉| 25850/26060 [1:00:18<00:12, 17.42it/s]"
     ]
    },
    {
     "name": "stdout",
     "output_type": "stream",
     "text": [
      "     month_id     merchant_id  forecast\n",
      "0  2023-10-01  merchant_35035       3.0\n",
      "1  2023-11-01  merchant_35035       4.0\n",
      "2  2023-12-01  merchant_35035       6.0\n",
      "     month_id     merchant_id  forecast\n",
      "0  2023-10-01  merchant_35041       0.8\n",
      "1  2023-11-01  merchant_35041       1.0\n",
      "2  2023-12-01  merchant_35041       1.5\n",
      "     month_id     merchant_id  forecast\n",
      "0  2023-10-01  merchant_35143       0.8\n",
      "1  2023-11-01  merchant_35143       1.0\n",
      "2  2023-12-01  merchant_35143       1.5\n",
      "     month_id     merchant_id  forecast\n",
      "0  2023-10-01  merchant_35428       1.0\n",
      "1  2023-11-01  merchant_35428       1.3\n",
      "2  2023-12-01  merchant_35428       2.0\n"
     ]
    },
    {
     "name": "stderr",
     "output_type": "stream",
     "text": [
      "Processing Customers:  99%|█████████▉| 25854/26060 [1:00:19<00:11, 17.98it/s]"
     ]
    },
    {
     "name": "stdout",
     "output_type": "stream",
     "text": [
      "     month_id     merchant_id  forecast\n",
      "0  2023-10-01  merchant_35648       1.0\n",
      "1  2023-11-01  merchant_35648       1.3\n",
      "2  2023-12-01  merchant_35648       2.0\n",
      "     month_id     merchant_id  forecast\n",
      "0  2023-10-01  merchant_35696       0.8\n",
      "1  2023-11-01  merchant_35696       1.0\n",
      "2  2023-12-01  merchant_35696       1.5\n",
      "     month_id     merchant_id  forecast\n",
      "0  2023-10-01  merchant_36009       0.8\n",
      "1  2023-11-01  merchant_36009       1.0\n",
      "2  2023-12-01  merchant_36009       1.5\n",
      "     month_id     merchant_id  forecast\n",
      "0  2023-10-01  merchant_36120       0.8\n",
      "1  2023-11-01  merchant_36120       1.0\n",
      "2  2023-12-01  merchant_36120       1.5\n"
     ]
    },
    {
     "name": "stderr",
     "output_type": "stream",
     "text": [
      "Processing Customers:  99%|█████████▉| 25858/26060 [1:00:19<00:11, 16.90it/s]"
     ]
    },
    {
     "name": "stdout",
     "output_type": "stream",
     "text": [
      "     month_id     merchant_id  forecast\n",
      "0  2023-10-01  merchant_36266       1.0\n",
      "1  2023-11-01  merchant_36266       1.3\n",
      "2  2023-12-01  merchant_36266       2.0\n",
      "     month_id     merchant_id  forecast\n",
      "0  2023-10-01  merchant_36267       0.8\n",
      "1  2023-11-01  merchant_36267       1.0\n",
      "2  2023-12-01  merchant_36267       1.5\n",
      "     month_id     merchant_id  forecast\n",
      "0  2023-10-01  merchant_36614       1.5\n",
      "1  2023-11-01  merchant_36614       2.0\n",
      "2  2023-12-01  merchant_36614       3.0\n",
      "     month_id     merchant_id  forecast\n",
      "0  2023-10-01  merchant_37023       1.0\n",
      "1  2023-11-01  merchant_37023       1.3\n",
      "2  2023-12-01  merchant_37023       2.0\n"
     ]
    },
    {
     "name": "stderr",
     "output_type": "stream",
     "text": [
      "Processing Customers:  99%|█████████▉| 25862/26060 [1:00:19<00:11, 17.43it/s]"
     ]
    },
    {
     "name": "stdout",
     "output_type": "stream",
     "text": [
      "     month_id     merchant_id  forecast\n",
      "0  2023-10-01  merchant_37079       0.8\n",
      "1  2023-11-01  merchant_37079       1.0\n",
      "2  2023-12-01  merchant_37079       1.5\n",
      "     month_id     merchant_id  forecast\n",
      "0  2023-10-01  merchant_37101       0.8\n",
      "1  2023-11-01  merchant_37101       1.0\n",
      "2  2023-12-01  merchant_37101       1.5\n",
      "     month_id     merchant_id  forecast\n",
      "0  2023-10-01  merchant_37169       0.8\n",
      "1  2023-11-01  merchant_37169       1.0\n",
      "2  2023-12-01  merchant_37169       1.5\n",
      "     month_id     merchant_id  forecast\n",
      "0  2023-10-01  merchant_37229       0.8\n",
      "1  2023-11-01  merchant_37229       1.0\n",
      "2  2023-12-01  merchant_37229       1.5\n"
     ]
    },
    {
     "name": "stderr",
     "output_type": "stream",
     "text": [
      "Processing Customers:  99%|█████████▉| 25866/26060 [1:00:19<00:10, 18.13it/s]"
     ]
    },
    {
     "name": "stdout",
     "output_type": "stream",
     "text": [
      "     month_id     merchant_id  forecast\n",
      "0  2023-10-01  merchant_37446       0.8\n",
      "1  2023-11-01  merchant_37446       1.0\n",
      "2  2023-12-01  merchant_37446       1.5\n",
      "     month_id     merchant_id  forecast\n",
      "0  2023-10-01  merchant_37488       2.2\n",
      "1  2023-11-01  merchant_37488       3.0\n",
      "2  2023-12-01  merchant_37488       4.5\n",
      "     month_id    merchant_id  forecast\n",
      "0  2023-10-01  merchant_3761       0.8\n",
      "1  2023-11-01  merchant_3761       1.0\n",
      "2  2023-12-01  merchant_3761       1.5\n",
      "     month_id     merchant_id  forecast\n",
      "0  2023-10-01  merchant_37615       0.8\n",
      "1  2023-11-01  merchant_37615       1.0\n",
      "2  2023-12-01  merchant_37615       1.5\n"
     ]
    },
    {
     "name": "stderr",
     "output_type": "stream",
     "text": [
      "Processing Customers:  99%|█████████▉| 25870/26060 [1:00:20<00:10, 18.29it/s]"
     ]
    },
    {
     "name": "stdout",
     "output_type": "stream",
     "text": [
      "     month_id     merchant_id  forecast\n",
      "0  2023-10-01  merchant_37634       0.8\n",
      "1  2023-11-01  merchant_37634       1.0\n",
      "2  2023-12-01  merchant_37634       1.5\n",
      "     month_id     merchant_id  forecast\n",
      "0  2023-10-01  merchant_37676       0.8\n",
      "1  2023-11-01  merchant_37676       1.0\n",
      "2  2023-12-01  merchant_37676       1.5\n",
      "     month_id     merchant_id  forecast\n",
      "0  2023-10-01  merchant_37874       0.8\n",
      "1  2023-11-01  merchant_37874       1.0\n",
      "2  2023-12-01  merchant_37874       1.5\n",
      "     month_id     merchant_id  forecast\n",
      "0  2023-10-01  merchant_37979       0.8\n",
      "1  2023-11-01  merchant_37979       1.0\n",
      "2  2023-12-01  merchant_37979       1.5\n"
     ]
    },
    {
     "name": "stderr",
     "output_type": "stream",
     "text": [
      "Processing Customers:  99%|█████████▉| 25874/26060 [1:00:20<00:10, 17.88it/s]"
     ]
    },
    {
     "name": "stdout",
     "output_type": "stream",
     "text": [
      "     month_id     merchant_id  forecast\n",
      "0  2023-10-01  merchant_37990       0.8\n",
      "1  2023-11-01  merchant_37990       1.0\n",
      "2  2023-12-01  merchant_37990       1.5\n",
      "     month_id     merchant_id  forecast\n",
      "0  2023-10-01  merchant_38138       0.8\n",
      "1  2023-11-01  merchant_38138       1.0\n",
      "2  2023-12-01  merchant_38138       1.5\n",
      "     month_id    merchant_id  forecast\n",
      "0  2023-10-01  merchant_3817       0.8\n",
      "1  2023-11-01  merchant_3817       1.0\n",
      "2  2023-12-01  merchant_3817       1.5\n",
      "     month_id    merchant_id  forecast\n",
      "0  2023-10-01  merchant_3908       0.8\n",
      "1  2023-11-01  merchant_3908       1.0\n",
      "2  2023-12-01  merchant_3908       1.5\n"
     ]
    },
    {
     "name": "stderr",
     "output_type": "stream",
     "text": [
      "Processing Customers:  99%|█████████▉| 25878/26060 [1:00:20<00:10, 18.10it/s]"
     ]
    },
    {
     "name": "stdout",
     "output_type": "stream",
     "text": [
      "     month_id     merchant_id  forecast\n",
      "0  2023-10-01  merchant_39198       1.2\n",
      "1  2023-11-01  merchant_39198       1.7\n",
      "2  2023-12-01  merchant_39198       2.5\n",
      "     month_id     merchant_id  forecast\n",
      "0  2023-10-01  merchant_39657       4.5\n",
      "1  2023-11-01  merchant_39657       6.0\n",
      "2  2023-12-01  merchant_39657       9.0\n",
      "     month_id     merchant_id  forecast\n",
      "0  2023-10-01  merchant_39757       1.2\n",
      "1  2023-11-01  merchant_39757       1.7\n",
      "2  2023-12-01  merchant_39757       2.5\n",
      "     month_id    merchant_id  forecast\n",
      "0  2023-10-01  merchant_3980       2.5\n",
      "1  2023-11-01  merchant_3980       3.3\n",
      "2  2023-12-01  merchant_3980       5.0\n"
     ]
    },
    {
     "name": "stderr",
     "output_type": "stream",
     "text": [
      "Processing Customers:  99%|█████████▉| 25882/26060 [1:00:20<00:09, 18.44it/s]"
     ]
    },
    {
     "name": "stdout",
     "output_type": "stream",
     "text": [
      "     month_id     merchant_id  forecast\n",
      "0  2023-10-01  merchant_39938       0.8\n",
      "1  2023-11-01  merchant_39938       1.0\n",
      "2  2023-12-01  merchant_39938       1.5\n",
      "     month_id     merchant_id  forecast\n",
      "0  2023-10-01  merchant_40101       0.8\n",
      "1  2023-11-01  merchant_40101       1.0\n",
      "2  2023-12-01  merchant_40101       1.5\n",
      "     month_id     merchant_id  forecast\n",
      "0  2023-10-01  merchant_40171      57.5\n",
      "1  2023-11-01  merchant_40171      76.7\n",
      "2  2023-12-01  merchant_40171     115.0\n",
      "     month_id    merchant_id  forecast\n",
      "0  2023-10-01  merchant_4027       0.8\n",
      "1  2023-11-01  merchant_4027       1.0\n",
      "2  2023-12-01  merchant_4027       1.5\n"
     ]
    },
    {
     "name": "stderr",
     "output_type": "stream",
     "text": [
      "Processing Customers:  99%|█████████▉| 25886/26060 [1:00:20<00:09, 18.72it/s]"
     ]
    },
    {
     "name": "stdout",
     "output_type": "stream",
     "text": [
      "     month_id    merchant_id  forecast\n",
      "0  2023-10-01  merchant_4028      16.0\n",
      "1  2023-11-01  merchant_4028      21.3\n",
      "2  2023-12-01  merchant_4028      32.0\n",
      "     month_id     merchant_id  forecast\n",
      "0  2023-10-01  merchant_40359       0.8\n",
      "1  2023-11-01  merchant_40359       1.0\n",
      "2  2023-12-01  merchant_40359       1.5\n",
      "     month_id     merchant_id  forecast\n",
      "0  2023-10-01  merchant_40495       1.2\n",
      "1  2023-11-01  merchant_40495       1.7\n",
      "2  2023-12-01  merchant_40495       2.5\n",
      "     month_id     merchant_id  forecast\n",
      "0  2023-10-01  merchant_40599       2.0\n",
      "1  2023-11-01  merchant_40599       2.7\n",
      "2  2023-12-01  merchant_40599       4.0\n"
     ]
    },
    {
     "name": "stderr",
     "output_type": "stream",
     "text": [
      "Processing Customers:  99%|█████████▉| 25890/26060 [1:00:21<00:09, 18.20it/s]"
     ]
    },
    {
     "name": "stdout",
     "output_type": "stream",
     "text": [
      "     month_id     merchant_id  forecast\n",
      "0  2023-10-01  merchant_40644       1.0\n",
      "1  2023-11-01  merchant_40644       1.3\n",
      "2  2023-12-01  merchant_40644       2.0\n",
      "     month_id     merchant_id  forecast\n",
      "0  2023-10-01  merchant_40695       0.8\n",
      "1  2023-11-01  merchant_40695       1.0\n",
      "2  2023-12-01  merchant_40695       1.5\n",
      "     month_id     merchant_id  forecast\n",
      "0  2023-10-01  merchant_40881       0.8\n",
      "1  2023-11-01  merchant_40881       1.0\n",
      "2  2023-12-01  merchant_40881       1.5\n"
     ]
    },
    {
     "name": "stderr",
     "output_type": "stream",
     "text": [
      "Processing Customers:  99%|█████████▉| 25894/26060 [1:00:21<00:09, 17.60it/s]"
     ]
    },
    {
     "name": "stdout",
     "output_type": "stream",
     "text": [
      "     month_id     merchant_id  forecast\n",
      "0  2023-10-01  merchant_40899       0.8\n",
      "1  2023-11-01  merchant_40899       1.0\n",
      "2  2023-12-01  merchant_40899       1.5\n",
      "     month_id     merchant_id  forecast\n",
      "0  2023-10-01  merchant_41099      13.0\n",
      "1  2023-11-01  merchant_41099      17.3\n",
      "2  2023-12-01  merchant_41099      26.0\n",
      "     month_id     merchant_id  forecast\n",
      "0  2023-10-01  merchant_41644       1.0\n",
      "1  2023-11-01  merchant_41644       1.3\n",
      "2  2023-12-01  merchant_41644       2.0\n",
      "     month_id     merchant_id  forecast\n",
      "0  2023-10-01  merchant_42052       0.8\n",
      "1  2023-11-01  merchant_42052       1.0\n",
      "2  2023-12-01  merchant_42052       1.5\n",
      "     month_id     merchant_id  forecast\n",
      "0  2023-10-01  merchant_42195       1.0\n",
      "1  2023-11-01  merchant_42195       1.3\n",
      "2  2023-12-01  merchant_42195       2.0\n"
     ]
    },
    {
     "name": "stderr",
     "output_type": "stream",
     "text": [
      "Processing Customers:  99%|█████████▉| 25898/26060 [1:00:21<00:09, 17.92it/s]"
     ]
    },
    {
     "name": "stdout",
     "output_type": "stream",
     "text": [
      "     month_id    merchant_id  forecast\n",
      "0  2023-10-01  merchant_4220       1.0\n",
      "1  2023-11-01  merchant_4220       1.3\n",
      "2  2023-12-01  merchant_4220       2.0\n",
      "     month_id     merchant_id  forecast\n",
      "0  2023-10-01  merchant_42346       0.8\n",
      "1  2023-11-01  merchant_42346       1.0\n",
      "2  2023-12-01  merchant_42346       1.5\n",
      "     month_id    merchant_id  forecast\n",
      "0  2023-10-01  merchant_4263       1.0\n",
      "1  2023-11-01  merchant_4263       1.3\n",
      "2  2023-12-01  merchant_4263       2.0\n",
      "     month_id     merchant_id  forecast\n",
      "0  2023-10-01  merchant_43134     185.0\n",
      "1  2023-11-01  merchant_43134     246.7\n",
      "2  2023-12-01  merchant_43134     370.0\n"
     ]
    },
    {
     "name": "stderr",
     "output_type": "stream",
     "text": [
      "Processing Customers:  99%|█████████▉| 25902/26060 [1:00:21<00:08, 18.17it/s]"
     ]
    },
    {
     "name": "stdout",
     "output_type": "stream",
     "text": [
      "     month_id     merchant_id  forecast\n",
      "0  2023-10-01  merchant_43534       0.8\n",
      "1  2023-11-01  merchant_43534       1.0\n",
      "2  2023-12-01  merchant_43534       1.5\n",
      "     month_id     merchant_id  forecast\n",
      "0  2023-10-01  merchant_43657       0.8\n",
      "1  2023-11-01  merchant_43657       1.0\n",
      "2  2023-12-01  merchant_43657       1.5\n",
      "     month_id    merchant_id  forecast\n",
      "0  2023-10-01  merchant_4381       1.5\n",
      "1  2023-11-01  merchant_4381       2.0\n",
      "2  2023-12-01  merchant_4381       3.0\n",
      "     month_id     merchant_id  forecast\n",
      "0  2023-10-01  merchant_43861       0.8\n",
      "1  2023-11-01  merchant_43861       1.0\n",
      "2  2023-12-01  merchant_43861       1.5\n"
     ]
    },
    {
     "name": "stderr",
     "output_type": "stream",
     "text": [
      "Processing Customers:  99%|█████████▉| 25906/26060 [1:00:22<00:08, 18.32it/s]"
     ]
    },
    {
     "name": "stdout",
     "output_type": "stream",
     "text": [
      "     month_id     merchant_id  forecast\n",
      "0  2023-10-01  merchant_43935       1.0\n",
      "1  2023-11-01  merchant_43935       1.3\n",
      "2  2023-12-01  merchant_43935       2.0\n",
      "     month_id     merchant_id  forecast\n",
      "0  2023-10-01  merchant_44256       0.8\n",
      "1  2023-11-01  merchant_44256       1.0\n",
      "2  2023-12-01  merchant_44256       1.5\n",
      "     month_id     merchant_id  forecast\n",
      "0  2023-10-01  merchant_44284       1.8\n",
      "1  2023-11-01  merchant_44284       2.3\n",
      "2  2023-12-01  merchant_44284       3.5\n",
      "     month_id     merchant_id  forecast\n",
      "0  2023-10-01  merchant_44361       0.8\n",
      "1  2023-11-01  merchant_44361       1.0\n",
      "2  2023-12-01  merchant_44361       1.5\n"
     ]
    },
    {
     "name": "stderr",
     "output_type": "stream",
     "text": [
      "Processing Customers:  99%|█████████▉| 25910/26060 [1:00:22<00:08, 17.96it/s]"
     ]
    },
    {
     "name": "stdout",
     "output_type": "stream",
     "text": [
      "     month_id     merchant_id  forecast\n",
      "0  2023-10-01  merchant_44421       0.8\n",
      "1  2023-11-01  merchant_44421       1.0\n",
      "2  2023-12-01  merchant_44421       1.5\n",
      "     month_id     merchant_id  forecast\n",
      "0  2023-10-01  merchant_44671       0.8\n",
      "1  2023-11-01  merchant_44671       1.0\n",
      "2  2023-12-01  merchant_44671       1.5\n",
      "     month_id     merchant_id  forecast\n",
      "0  2023-10-01  merchant_44689       0.8\n",
      "1  2023-11-01  merchant_44689       1.0\n",
      "2  2023-12-01  merchant_44689       1.5\n",
      "     month_id     merchant_id  forecast\n",
      "0  2023-10-01  merchant_44733       1.0\n",
      "1  2023-11-01  merchant_44733       1.3\n",
      "2  2023-12-01  merchant_44733       2.0\n"
     ]
    },
    {
     "name": "stderr",
     "output_type": "stream",
     "text": [
      "Processing Customers:  99%|█████████▉| 25914/26060 [1:00:22<00:08, 18.25it/s]"
     ]
    },
    {
     "name": "stdout",
     "output_type": "stream",
     "text": [
      "     month_id    merchant_id  forecast\n",
      "0  2023-10-01  merchant_4477       4.8\n",
      "1  2023-11-01  merchant_4477       6.3\n",
      "2  2023-12-01  merchant_4477       9.5\n",
      "     month_id     merchant_id  forecast\n",
      "0  2023-10-01  merchant_44923       1.0\n",
      "1  2023-11-01  merchant_44923       1.3\n",
      "2  2023-12-01  merchant_44923       2.0\n",
      "     month_id    merchant_id  forecast\n",
      "0  2023-10-01  merchant_4510       0.8\n",
      "1  2023-11-01  merchant_4510       1.0\n",
      "2  2023-12-01  merchant_4510       1.5\n",
      "     month_id     merchant_id  forecast\n",
      "0  2023-10-01  merchant_45148       1.0\n",
      "1  2023-11-01  merchant_45148       1.3\n",
      "2  2023-12-01  merchant_45148       2.0\n"
     ]
    },
    {
     "name": "stderr",
     "output_type": "stream",
     "text": [
      "Processing Customers:  99%|█████████▉| 25918/26060 [1:00:22<00:07, 18.02it/s]"
     ]
    },
    {
     "name": "stdout",
     "output_type": "stream",
     "text": [
      "     month_id     merchant_id  forecast\n",
      "0  2023-10-01  merchant_45656       0.8\n",
      "1  2023-11-01  merchant_45656       1.0\n",
      "2  2023-12-01  merchant_45656       1.5\n",
      "     month_id     merchant_id  forecast\n",
      "0  2023-10-01  merchant_45699       1.0\n",
      "1  2023-11-01  merchant_45699       1.3\n",
      "2  2023-12-01  merchant_45699       2.0\n",
      "     month_id     merchant_id  forecast\n",
      "0  2023-10-01  merchant_45833       0.8\n",
      "1  2023-11-01  merchant_45833       1.0\n",
      "2  2023-12-01  merchant_45833       1.5\n",
      "     month_id     merchant_id  forecast\n",
      "0  2023-10-01  merchant_45862       0.8\n",
      "1  2023-11-01  merchant_45862       1.0\n",
      "2  2023-12-01  merchant_45862       1.5\n"
     ]
    },
    {
     "name": "stderr",
     "output_type": "stream",
     "text": [
      "Processing Customers:  99%|█████████▉| 25922/26060 [1:00:22<00:07, 18.05it/s]"
     ]
    },
    {
     "name": "stdout",
     "output_type": "stream",
     "text": [
      "     month_id     merchant_id  forecast\n",
      "0  2023-10-01  merchant_46022     110.5\n",
      "1  2023-11-01  merchant_46022     147.3\n",
      "2  2023-12-01  merchant_46022     221.0\n",
      "     month_id     merchant_id  forecast\n",
      "0  2023-10-01  merchant_46120       0.8\n",
      "1  2023-11-01  merchant_46120       1.0\n",
      "2  2023-12-01  merchant_46120       1.5\n",
      "     month_id     merchant_id  forecast\n",
      "0  2023-10-01  merchant_46348       0.8\n",
      "1  2023-11-01  merchant_46348       1.0\n",
      "2  2023-12-01  merchant_46348       1.5\n",
      "     month_id     merchant_id  forecast\n",
      "0  2023-10-01  merchant_46351       1.0\n",
      "1  2023-11-01  merchant_46351       1.3\n",
      "2  2023-12-01  merchant_46351       2.0\n"
     ]
    },
    {
     "name": "stderr",
     "output_type": "stream",
     "text": [
      "Processing Customers:  99%|█████████▉| 25926/26060 [1:00:23<00:07, 17.57it/s]"
     ]
    },
    {
     "name": "stdout",
     "output_type": "stream",
     "text": [
      "     month_id     merchant_id  forecast\n",
      "0  2023-10-01  merchant_46399       0.8\n",
      "1  2023-11-01  merchant_46399       1.0\n",
      "2  2023-12-01  merchant_46399       1.5\n",
      "     month_id     merchant_id  forecast\n",
      "0  2023-10-01  merchant_46436       0.8\n",
      "1  2023-11-01  merchant_46436       1.0\n",
      "2  2023-12-01  merchant_46436       1.5\n",
      "     month_id   merchant_id  forecast\n",
      "0  2023-10-01  merchant_465       0.8\n",
      "1  2023-11-01  merchant_465       1.0\n",
      "2  2023-12-01  merchant_465       1.5\n",
      "     month_id     merchant_id  forecast\n",
      "0  2023-10-01  merchant_46654       1.0\n",
      "1  2023-11-01  merchant_46654       1.3\n",
      "2  2023-12-01  merchant_46654       2.0\n"
     ]
    },
    {
     "name": "stderr",
     "output_type": "stream",
     "text": [
      "Processing Customers: 100%|█████████▉| 25930/26060 [1:00:23<00:07, 17.86it/s]"
     ]
    },
    {
     "name": "stdout",
     "output_type": "stream",
     "text": [
      "     month_id     merchant_id  forecast\n",
      "0  2023-10-01  merchant_46837       0.8\n",
      "1  2023-11-01  merchant_46837       1.0\n",
      "2  2023-12-01  merchant_46837       1.5\n",
      "     month_id    merchant_id  forecast\n",
      "0  2023-10-01  merchant_4697       1.0\n",
      "1  2023-11-01  merchant_4697       1.3\n",
      "2  2023-12-01  merchant_4697       2.0\n",
      "     month_id     merchant_id  forecast\n",
      "0  2023-10-01  merchant_47034       0.8\n",
      "1  2023-11-01  merchant_47034       1.0\n",
      "2  2023-12-01  merchant_47034       1.5\n",
      "     month_id     merchant_id  forecast\n",
      "0  2023-10-01  merchant_47083       0.8\n",
      "1  2023-11-01  merchant_47083       1.0\n",
      "2  2023-12-01  merchant_47083       1.5\n"
     ]
    },
    {
     "name": "stderr",
     "output_type": "stream",
     "text": [
      "Processing Customers: 100%|█████████▉| 25934/26060 [1:00:23<00:07, 17.96it/s]"
     ]
    },
    {
     "name": "stdout",
     "output_type": "stream",
     "text": [
      "     month_id     merchant_id  forecast\n",
      "0  2023-10-01  merchant_47196       0.8\n",
      "1  2023-11-01  merchant_47196       1.0\n",
      "2  2023-12-01  merchant_47196       1.5\n",
      "     month_id     merchant_id  forecast\n",
      "0  2023-10-01  merchant_47204       1.0\n",
      "1  2023-11-01  merchant_47204       1.3\n",
      "2  2023-12-01  merchant_47204       2.0\n",
      "     month_id     merchant_id  forecast\n",
      "0  2023-10-01  merchant_47458       0.8\n",
      "1  2023-11-01  merchant_47458       1.0\n",
      "2  2023-12-01  merchant_47458       1.5\n",
      "     month_id     merchant_id  forecast\n",
      "0  2023-10-01  merchant_47750       0.8\n",
      "1  2023-11-01  merchant_47750       1.0\n",
      "2  2023-12-01  merchant_47750       1.5\n"
     ]
    },
    {
     "name": "stderr",
     "output_type": "stream",
     "text": [
      "Processing Customers: 100%|█████████▉| 25938/26060 [1:00:23<00:06, 18.06it/s]"
     ]
    },
    {
     "name": "stdout",
     "output_type": "stream",
     "text": [
      "     month_id     merchant_id  forecast\n",
      "0  2023-10-01  merchant_47865       0.8\n",
      "1  2023-11-01  merchant_47865       1.0\n",
      "2  2023-12-01  merchant_47865       1.5\n",
      "     month_id     merchant_id  forecast\n",
      "0  2023-10-01  merchant_48015       0.8\n",
      "1  2023-11-01  merchant_48015       1.0\n",
      "2  2023-12-01  merchant_48015       1.5\n",
      "     month_id   merchant_id  forecast\n",
      "0  2023-10-01  merchant_481       1.0\n",
      "1  2023-11-01  merchant_481       1.3\n",
      "2  2023-12-01  merchant_481       2.0\n",
      "     month_id     merchant_id  forecast\n",
      "0  2023-10-01  merchant_48304       0.8\n",
      "1  2023-11-01  merchant_48304       1.0\n",
      "2  2023-12-01  merchant_48304       1.5\n"
     ]
    },
    {
     "name": "stderr",
     "output_type": "stream",
     "text": [
      "Processing Customers: 100%|█████████▉| 25942/26060 [1:00:24<00:06, 18.06it/s]"
     ]
    },
    {
     "name": "stdout",
     "output_type": "stream",
     "text": [
      "     month_id     merchant_id  forecast\n",
      "0  2023-10-01  merchant_48338       1.0\n",
      "1  2023-11-01  merchant_48338       1.3\n",
      "2  2023-12-01  merchant_48338       2.0\n",
      "     month_id     merchant_id  forecast\n",
      "0  2023-10-01  merchant_48453       0.8\n",
      "1  2023-11-01  merchant_48453       1.0\n",
      "2  2023-12-01  merchant_48453       1.5\n",
      "     month_id     merchant_id  forecast\n",
      "0  2023-10-01  merchant_48560       0.8\n",
      "1  2023-11-01  merchant_48560       1.0\n",
      "2  2023-12-01  merchant_48560       1.5\n",
      "     month_id     merchant_id  forecast\n",
      "0  2023-10-01  merchant_48646       1.0\n",
      "1  2023-11-01  merchant_48646       1.3\n",
      "2  2023-12-01  merchant_48646       2.0\n"
     ]
    },
    {
     "name": "stderr",
     "output_type": "stream",
     "text": [
      "Processing Customers: 100%|█████████▉| 25946/26060 [1:00:24<00:06, 18.08it/s]"
     ]
    },
    {
     "name": "stdout",
     "output_type": "stream",
     "text": [
      "     month_id     merchant_id  forecast\n",
      "0  2023-10-01  merchant_48719       0.8\n",
      "1  2023-11-01  merchant_48719       1.0\n",
      "2  2023-12-01  merchant_48719       1.5\n",
      "     month_id     merchant_id  forecast\n",
      "0  2023-10-01  merchant_48918       0.8\n",
      "1  2023-11-01  merchant_48918       1.0\n",
      "2  2023-12-01  merchant_48918       1.5\n",
      "     month_id     merchant_id  forecast\n",
      "0  2023-10-01  merchant_48942       1.0\n",
      "1  2023-11-01  merchant_48942       1.3\n",
      "2  2023-12-01  merchant_48942       2.0\n",
      "     month_id   merchant_id  forecast\n",
      "0  2023-10-01  merchant_497       1.2\n",
      "1  2023-11-01  merchant_497       1.7\n",
      "2  2023-12-01  merchant_497       2.5\n"
     ]
    },
    {
     "name": "stderr",
     "output_type": "stream",
     "text": [
      "Processing Customers: 100%|█████████▉| 25950/26060 [1:00:24<00:06, 17.80it/s]"
     ]
    },
    {
     "name": "stdout",
     "output_type": "stream",
     "text": [
      "     month_id     merchant_id  forecast\n",
      "0  2023-10-01  merchant_50012       2.2\n",
      "1  2023-11-01  merchant_50012       3.0\n",
      "2  2023-12-01  merchant_50012       4.5\n",
      "     month_id     merchant_id  forecast\n",
      "0  2023-10-01  merchant_50291       0.8\n",
      "1  2023-11-01  merchant_50291       1.0\n",
      "2  2023-12-01  merchant_50291       1.5\n",
      "     month_id     merchant_id  forecast\n",
      "0  2023-10-01  merchant_50546       5.0\n",
      "1  2023-11-01  merchant_50546       6.7\n",
      "2  2023-12-01  merchant_50546      10.0\n",
      "     month_id     merchant_id  forecast\n",
      "0  2023-10-01  merchant_50765       0.8\n",
      "1  2023-11-01  merchant_50765       1.0\n",
      "2  2023-12-01  merchant_50765       1.5\n"
     ]
    },
    {
     "name": "stderr",
     "output_type": "stream",
     "text": [
      "Processing Customers: 100%|█████████▉| 25954/26060 [1:00:24<00:05, 17.97it/s]"
     ]
    },
    {
     "name": "stdout",
     "output_type": "stream",
     "text": [
      "     month_id     merchant_id  forecast\n",
      "0  2023-10-01  merchant_50774       0.8\n",
      "1  2023-11-01  merchant_50774       1.0\n",
      "2  2023-12-01  merchant_50774       1.5\n",
      "     month_id     merchant_id  forecast\n",
      "0  2023-10-01  merchant_50914       1.0\n",
      "1  2023-11-01  merchant_50914       1.3\n",
      "2  2023-12-01  merchant_50914       2.0\n",
      "     month_id     merchant_id  forecast\n",
      "0  2023-10-01  merchant_51272       1.0\n",
      "1  2023-11-01  merchant_51272       1.3\n",
      "2  2023-12-01  merchant_51272       2.0\n",
      "     month_id     merchant_id  forecast\n",
      "0  2023-10-01  merchant_51444       1.5\n",
      "1  2023-11-01  merchant_51444       2.0\n",
      "2  2023-12-01  merchant_51444       3.0\n"
     ]
    },
    {
     "name": "stderr",
     "output_type": "stream",
     "text": [
      "Processing Customers: 100%|█████████▉| 25958/26060 [1:00:25<00:05, 17.25it/s]"
     ]
    },
    {
     "name": "stdout",
     "output_type": "stream",
     "text": [
      "     month_id     merchant_id  forecast\n",
      "0  2023-10-01  merchant_51496       1.0\n",
      "1  2023-11-01  merchant_51496       1.3\n",
      "2  2023-12-01  merchant_51496       2.0\n",
      "     month_id     merchant_id  forecast\n",
      "0  2023-10-01  merchant_51649       0.8\n",
      "1  2023-11-01  merchant_51649       1.0\n",
      "2  2023-12-01  merchant_51649       1.5\n",
      "     month_id     merchant_id  forecast\n",
      "0  2023-10-01  merchant_51681       0.8\n",
      "1  2023-11-01  merchant_51681       1.0\n",
      "2  2023-12-01  merchant_51681       1.5\n",
      "     month_id     merchant_id  forecast\n",
      "0  2023-10-01  merchant_51758       0.8\n",
      "1  2023-11-01  merchant_51758       1.0\n",
      "2  2023-12-01  merchant_51758       1.5\n"
     ]
    },
    {
     "name": "stderr",
     "output_type": "stream",
     "text": [
      "Processing Customers: 100%|█████████▉| 25962/26060 [1:00:25<00:05, 18.07it/s]"
     ]
    },
    {
     "name": "stdout",
     "output_type": "stream",
     "text": [
      "     month_id   merchant_id  forecast\n",
      "0  2023-10-01  merchant_520       0.8\n",
      "1  2023-11-01  merchant_520       1.0\n",
      "2  2023-12-01  merchant_520       1.5\n",
      "     month_id    merchant_id  forecast\n",
      "0  2023-10-01  merchant_5240       1.0\n",
      "1  2023-11-01  merchant_5240       1.3\n",
      "2  2023-12-01  merchant_5240       2.0\n",
      "     month_id     merchant_id  forecast\n",
      "0  2023-10-01  merchant_52559       0.8\n",
      "1  2023-11-01  merchant_52559       1.0\n",
      "2  2023-12-01  merchant_52559       1.5\n",
      "     month_id     merchant_id  forecast\n",
      "0  2023-10-01  merchant_52661       0.8\n",
      "1  2023-11-01  merchant_52661       1.0\n",
      "2  2023-12-01  merchant_52661       1.5\n"
     ]
    },
    {
     "name": "stderr",
     "output_type": "stream",
     "text": [
      "Processing Customers: 100%|█████████▉| 25966/26060 [1:00:25<00:05, 18.12it/s]"
     ]
    },
    {
     "name": "stdout",
     "output_type": "stream",
     "text": [
      "     month_id     merchant_id  forecast\n",
      "0  2023-10-01  merchant_52725       1.0\n",
      "1  2023-11-01  merchant_52725       1.3\n",
      "2  2023-12-01  merchant_52725       2.0\n",
      "     month_id     merchant_id  forecast\n",
      "0  2023-10-01  merchant_52733       1.0\n",
      "1  2023-11-01  merchant_52733       1.3\n",
      "2  2023-12-01  merchant_52733       2.0\n",
      "     month_id     merchant_id  forecast\n",
      "0  2023-10-01  merchant_52874       0.8\n",
      "1  2023-11-01  merchant_52874       1.0\n",
      "2  2023-12-01  merchant_52874       1.5\n",
      "     month_id     merchant_id  forecast\n",
      "0  2023-10-01  merchant_53117       1.0\n",
      "1  2023-11-01  merchant_53117       1.3\n",
      "2  2023-12-01  merchant_53117       2.0\n"
     ]
    },
    {
     "name": "stderr",
     "output_type": "stream",
     "text": [
      "Processing Customers: 100%|█████████▉| 25970/26060 [1:00:25<00:04, 18.00it/s]"
     ]
    },
    {
     "name": "stdout",
     "output_type": "stream",
     "text": [
      "     month_id     merchant_id  forecast\n",
      "0  2023-10-01  merchant_53770      20.8\n",
      "1  2023-11-01  merchant_53770      27.7\n",
      "2  2023-12-01  merchant_53770      41.5\n",
      "     month_id     merchant_id  forecast\n",
      "0  2023-10-01  merchant_53974       0.8\n",
      "1  2023-11-01  merchant_53974       1.0\n",
      "2  2023-12-01  merchant_53974       1.5\n",
      "     month_id     merchant_id  forecast\n",
      "0  2023-10-01  merchant_54200     143.2\n",
      "1  2023-11-01  merchant_54200     191.0\n",
      "2  2023-12-01  merchant_54200     286.5\n",
      "     month_id     merchant_id  forecast\n",
      "0  2023-10-01  merchant_54252       1.5\n",
      "1  2023-11-01  merchant_54252       2.0\n",
      "2  2023-12-01  merchant_54252       3.0\n"
     ]
    },
    {
     "name": "stderr",
     "output_type": "stream",
     "text": [
      "Processing Customers: 100%|█████████▉| 25974/26060 [1:00:25<00:04, 18.06it/s]"
     ]
    },
    {
     "name": "stdout",
     "output_type": "stream",
     "text": [
      "     month_id     merchant_id  forecast\n",
      "0  2023-10-01  merchant_54351       0.8\n",
      "1  2023-11-01  merchant_54351       1.0\n",
      "2  2023-12-01  merchant_54351       1.5\n",
      "     month_id     merchant_id  forecast\n",
      "0  2023-10-01  merchant_54384       1.0\n",
      "1  2023-11-01  merchant_54384       1.3\n",
      "2  2023-12-01  merchant_54384       2.0\n",
      "     month_id     merchant_id  forecast\n",
      "0  2023-10-01  merchant_54746       0.8\n",
      "1  2023-11-01  merchant_54746       1.0\n",
      "2  2023-12-01  merchant_54746       1.5\n",
      "     month_id     merchant_id  forecast\n",
      "0  2023-10-01  merchant_55101       1.0\n",
      "1  2023-11-01  merchant_55101       1.3\n",
      "2  2023-12-01  merchant_55101       2.0\n",
      "     month_id     merchant_id  forecast\n",
      "0  2023-10-01  merchant_55168       1.0\n",
      "1  2023-11-01  merchant_55168       1.3\n",
      "2  2023-12-01  merchant_55168       2.0\n"
     ]
    },
    {
     "name": "stderr",
     "output_type": "stream",
     "text": [
      "Processing Customers: 100%|█████████▉| 25980/26060 [1:00:26<00:04, 18.13it/s]"
     ]
    },
    {
     "name": "stdout",
     "output_type": "stream",
     "text": [
      "     month_id     merchant_id  forecast\n",
      "0  2023-10-01  merchant_55649       0.8\n",
      "1  2023-11-01  merchant_55649       1.0\n",
      "2  2023-12-01  merchant_55649       1.5\n",
      "     month_id     merchant_id  forecast\n",
      "0  2023-10-01  merchant_55825       0.8\n",
      "1  2023-11-01  merchant_55825       1.0\n",
      "2  2023-12-01  merchant_55825       1.5\n",
      "     month_id     merchant_id  forecast\n",
      "0  2023-10-01  merchant_55913       0.8\n",
      "1  2023-11-01  merchant_55913       1.0\n",
      "2  2023-12-01  merchant_55913       1.5\n",
      "     month_id     merchant_id  forecast\n",
      "0  2023-10-01  merchant_56023       0.8\n",
      "1  2023-11-01  merchant_56023       1.0\n",
      "2  2023-12-01  merchant_56023       1.5\n",
      "     month_id     merchant_id  forecast\n",
      "0  2023-10-01  merchant_56586       1.5\n",
      "1  2023-11-01  merchant_56586       2.0\n",
      "2  2023-12-01  merchant_56586       3.0\n"
     ]
    },
    {
     "name": "stderr",
     "output_type": "stream",
     "text": [
      "Processing Customers: 100%|█████████▉| 25984/26060 [1:00:26<00:04, 18.12it/s]"
     ]
    },
    {
     "name": "stdout",
     "output_type": "stream",
     "text": [
      "     month_id     merchant_id  forecast\n",
      "0  2023-10-01  merchant_57193       2.0\n",
      "1  2023-11-01  merchant_57193       2.7\n",
      "2  2023-12-01  merchant_57193       4.0\n",
      "     month_id    merchant_id  forecast\n",
      "0  2023-10-01  merchant_5749       0.8\n",
      "1  2023-11-01  merchant_5749       1.0\n",
      "2  2023-12-01  merchant_5749       1.5\n",
      "     month_id     merchant_id  forecast\n",
      "0  2023-10-01  merchant_57576       1.5\n",
      "1  2023-11-01  merchant_57576       2.0\n",
      "2  2023-12-01  merchant_57576       3.0\n",
      "     month_id     merchant_id  forecast\n",
      "0  2023-10-01  merchant_58149       1.0\n",
      "1  2023-11-01  merchant_58149       1.3\n",
      "2  2023-12-01  merchant_58149       2.0\n"
     ]
    },
    {
     "name": "stderr",
     "output_type": "stream",
     "text": [
      "Processing Customers: 100%|█████████▉| 25988/26060 [1:00:26<00:04, 17.28it/s]"
     ]
    },
    {
     "name": "stdout",
     "output_type": "stream",
     "text": [
      "     month_id     merchant_id  forecast\n",
      "0  2023-10-01  merchant_58310       1.5\n",
      "1  2023-11-01  merchant_58310       2.0\n",
      "2  2023-12-01  merchant_58310       3.0\n",
      "     month_id     merchant_id  forecast\n",
      "0  2023-10-01  merchant_58399       0.8\n",
      "1  2023-11-01  merchant_58399       1.0\n",
      "2  2023-12-01  merchant_58399       1.5\n",
      "     month_id     merchant_id  forecast\n",
      "0  2023-10-01  merchant_58509       0.8\n",
      "1  2023-11-01  merchant_58509       1.0\n",
      "2  2023-12-01  merchant_58509       1.5\n",
      "     month_id    merchant_id  forecast\n",
      "0  2023-10-01  merchant_5864       0.8\n",
      "1  2023-11-01  merchant_5864       1.0\n",
      "2  2023-12-01  merchant_5864       1.5\n"
     ]
    },
    {
     "name": "stderr",
     "output_type": "stream",
     "text": [
      "Processing Customers: 100%|█████████▉| 25992/26060 [1:00:26<00:03, 17.82it/s]"
     ]
    },
    {
     "name": "stdout",
     "output_type": "stream",
     "text": [
      "     month_id     merchant_id  forecast\n",
      "0  2023-10-01  merchant_59161       1.0\n",
      "1  2023-11-01  merchant_59161       1.3\n",
      "2  2023-12-01  merchant_59161       2.0\n",
      "     month_id     merchant_id  forecast\n",
      "0  2023-10-01  merchant_59231       1.2\n",
      "1  2023-11-01  merchant_59231       1.7\n",
      "2  2023-12-01  merchant_59231       2.5\n",
      "     month_id    merchant_id  forecast\n",
      "0  2023-10-01  merchant_5935       0.8\n",
      "1  2023-11-01  merchant_5935       1.0\n",
      "2  2023-12-01  merchant_5935       1.5\n",
      "     month_id     merchant_id  forecast\n",
      "0  2023-10-01  merchant_59941       1.5\n",
      "1  2023-11-01  merchant_59941       2.0\n",
      "2  2023-12-01  merchant_59941       3.0\n"
     ]
    },
    {
     "name": "stderr",
     "output_type": "stream",
     "text": [
      "Processing Customers: 100%|█████████▉| 25996/26060 [1:00:27<00:03, 17.89it/s]"
     ]
    },
    {
     "name": "stdout",
     "output_type": "stream",
     "text": [
      "     month_id     merchant_id  forecast\n",
      "0  2023-10-01  merchant_60275       0.8\n",
      "1  2023-11-01  merchant_60275       1.0\n",
      "2  2023-12-01  merchant_60275       1.5\n",
      "     month_id     merchant_id  forecast\n",
      "0  2023-10-01  merchant_60600       0.8\n",
      "1  2023-11-01  merchant_60600       1.0\n",
      "2  2023-12-01  merchant_60600       1.5\n",
      "     month_id     merchant_id  forecast\n",
      "0  2023-10-01  merchant_60680       0.8\n",
      "1  2023-11-01  merchant_60680       1.0\n",
      "2  2023-12-01  merchant_60680       1.5\n",
      "     month_id     merchant_id  forecast\n",
      "0  2023-10-01  merchant_61149       2.2\n",
      "1  2023-11-01  merchant_61149       3.0\n",
      "2  2023-12-01  merchant_61149       4.5\n"
     ]
    },
    {
     "name": "stderr",
     "output_type": "stream",
     "text": [
      "Processing Customers: 100%|█████████▉| 26000/26060 [1:00:27<00:03, 17.68it/s]"
     ]
    },
    {
     "name": "stdout",
     "output_type": "stream",
     "text": [
      "     month_id     merchant_id  forecast\n",
      "0  2023-10-01  merchant_61667       1.2\n",
      "1  2023-11-01  merchant_61667       1.7\n",
      "2  2023-12-01  merchant_61667       2.5\n",
      "     month_id     merchant_id  forecast\n",
      "0  2023-10-01  merchant_61704       0.8\n",
      "1  2023-11-01  merchant_61704       1.0\n",
      "2  2023-12-01  merchant_61704       1.5\n",
      "     month_id     merchant_id  forecast\n",
      "0  2023-10-01  merchant_61764       1.0\n",
      "1  2023-11-01  merchant_61764       1.3\n",
      "2  2023-12-01  merchant_61764       2.0\n",
      "     month_id     merchant_id  forecast\n",
      "0  2023-10-01  merchant_61791       1.0\n",
      "1  2023-11-01  merchant_61791       1.3\n",
      "2  2023-12-01  merchant_61791       2.0\n"
     ]
    },
    {
     "name": "stderr",
     "output_type": "stream",
     "text": [
      "Processing Customers: 100%|█████████▉| 26004/26060 [1:00:27<00:03, 18.03it/s]"
     ]
    },
    {
     "name": "stdout",
     "output_type": "stream",
     "text": [
      "     month_id    merchant_id  forecast\n",
      "0  2023-10-01  merchant_6231       1.2\n",
      "1  2023-11-01  merchant_6231       1.7\n",
      "2  2023-12-01  merchant_6231       2.5\n",
      "     month_id     merchant_id  forecast\n",
      "0  2023-10-01  merchant_62352       0.8\n",
      "1  2023-11-01  merchant_62352       1.0\n",
      "2  2023-12-01  merchant_62352       1.5\n",
      "     month_id     merchant_id  forecast\n",
      "0  2023-10-01  merchant_62592       0.8\n",
      "1  2023-11-01  merchant_62592       1.0\n",
      "2  2023-12-01  merchant_62592       1.5\n",
      "     month_id     merchant_id  forecast\n",
      "0  2023-10-01  merchant_62664       1.0\n",
      "1  2023-11-01  merchant_62664       1.3\n",
      "2  2023-12-01  merchant_62664       2.0\n",
      "     month_id     merchant_id  forecast\n",
      "0  2023-10-01  merchant_62804       0.8\n",
      "1  2023-11-01  merchant_62804       1.0\n",
      "2  2023-12-01  merchant_62804       1.5\n"
     ]
    },
    {
     "name": "stderr",
     "output_type": "stream",
     "text": [
      "Processing Customers: 100%|█████████▉| 26010/26060 [1:00:27<00:02, 18.45it/s]"
     ]
    },
    {
     "name": "stdout",
     "output_type": "stream",
     "text": [
      "     month_id     merchant_id  forecast\n",
      "0  2023-10-01  merchant_62886       0.8\n",
      "1  2023-11-01  merchant_62886       1.0\n",
      "2  2023-12-01  merchant_62886       1.5\n",
      "     month_id     merchant_id  forecast\n",
      "0  2023-10-01  merchant_63230       1.0\n",
      "1  2023-11-01  merchant_63230       1.3\n",
      "2  2023-12-01  merchant_63230       2.0\n",
      "     month_id     merchant_id  forecast\n",
      "0  2023-10-01  merchant_63246       2.8\n",
      "1  2023-11-01  merchant_63246       3.7\n",
      "2  2023-12-01  merchant_63246       5.5\n",
      "     month_id     merchant_id  forecast\n",
      "0  2023-10-01  merchant_63276       1.0\n",
      "1  2023-11-01  merchant_63276       1.3\n",
      "2  2023-12-01  merchant_63276       2.0\n",
      "     month_id     merchant_id  forecast\n",
      "0  2023-10-01  merchant_63319       1.5\n",
      "1  2023-11-01  merchant_63319       2.0\n",
      "2  2023-12-01  merchant_63319       3.0\n"
     ]
    },
    {
     "name": "stderr",
     "output_type": "stream",
     "text": [
      "Processing Customers: 100%|█████████▉| 26014/26060 [1:00:28<00:02, 18.27it/s]"
     ]
    },
    {
     "name": "stdout",
     "output_type": "stream",
     "text": [
      "     month_id     merchant_id  forecast\n",
      "0  2023-10-01  merchant_63369       0.8\n",
      "1  2023-11-01  merchant_63369       1.0\n",
      "2  2023-12-01  merchant_63369       1.5\n",
      "     month_id     merchant_id  forecast\n",
      "0  2023-10-01  merchant_63372       1.8\n",
      "1  2023-11-01  merchant_63372       2.3\n",
      "2  2023-12-01  merchant_63372       3.5\n",
      "     month_id     merchant_id  forecast\n",
      "0  2023-10-01  merchant_63600       0.8\n",
      "1  2023-11-01  merchant_63600       1.0\n",
      "2  2023-12-01  merchant_63600       1.5\n",
      "     month_id     merchant_id  forecast\n",
      "0  2023-10-01  merchant_63634      18.8\n",
      "1  2023-11-01  merchant_63634      25.0\n",
      "2  2023-12-01  merchant_63634      37.5\n"
     ]
    },
    {
     "name": "stderr",
     "output_type": "stream",
     "text": [
      "Processing Customers: 100%|█████████▉| 26018/26060 [1:00:28<00:02, 18.31it/s]"
     ]
    },
    {
     "name": "stdout",
     "output_type": "stream",
     "text": [
      "     month_id     merchant_id  forecast\n",
      "0  2023-10-01  merchant_63769       1.0\n",
      "1  2023-11-01  merchant_63769       1.3\n",
      "2  2023-12-01  merchant_63769       2.0\n",
      "     month_id     merchant_id  forecast\n",
      "0  2023-10-01  merchant_63796       0.8\n",
      "1  2023-11-01  merchant_63796       1.0\n",
      "2  2023-12-01  merchant_63796       1.5\n",
      "     month_id     merchant_id  forecast\n",
      "0  2023-10-01  merchant_64316       0.8\n",
      "1  2023-11-01  merchant_64316       1.0\n",
      "2  2023-12-01  merchant_64316       1.5\n",
      "     month_id     merchant_id  forecast\n",
      "0  2023-10-01  merchant_64511       1.0\n",
      "1  2023-11-01  merchant_64511       1.3\n",
      "2  2023-12-01  merchant_64511       2.0\n"
     ]
    },
    {
     "name": "stderr",
     "output_type": "stream",
     "text": [
      "Processing Customers: 100%|█████████▉| 26022/26060 [1:00:28<00:02, 18.49it/s]"
     ]
    },
    {
     "name": "stdout",
     "output_type": "stream",
     "text": [
      "     month_id     merchant_id  forecast\n",
      "0  2023-10-01  merchant_64803       0.8\n",
      "1  2023-11-01  merchant_64803       1.0\n",
      "2  2023-12-01  merchant_64803       1.5\n",
      "     month_id     merchant_id  forecast\n",
      "0  2023-10-01  merchant_65224       1.8\n",
      "1  2023-11-01  merchant_65224       2.3\n",
      "2  2023-12-01  merchant_65224       3.5\n",
      "     month_id     merchant_id  forecast\n",
      "0  2023-10-01  merchant_65552       0.8\n",
      "1  2023-11-01  merchant_65552       1.0\n",
      "2  2023-12-01  merchant_65552       1.5\n",
      "     month_id     merchant_id  forecast\n",
      "0  2023-10-01  merchant_65651      35.5\n",
      "1  2023-11-01  merchant_65651      47.3\n",
      "2  2023-12-01  merchant_65651      71.0\n"
     ]
    },
    {
     "name": "stderr",
     "output_type": "stream",
     "text": [
      "Processing Customers: 100%|█████████▉| 26026/26060 [1:00:28<00:01, 17.83it/s]"
     ]
    },
    {
     "name": "stdout",
     "output_type": "stream",
     "text": [
      "     month_id     merchant_id  forecast\n",
      "0  2023-10-01  merchant_65721       1.2\n",
      "1  2023-11-01  merchant_65721       1.7\n",
      "2  2023-12-01  merchant_65721       2.5\n",
      "     month_id     merchant_id  forecast\n",
      "0  2023-10-01  merchant_65911       0.8\n",
      "1  2023-11-01  merchant_65911       1.0\n",
      "2  2023-12-01  merchant_65911       1.5\n",
      "     month_id     merchant_id  forecast\n",
      "0  2023-10-01  merchant_66588       1.2\n",
      "1  2023-11-01  merchant_66588       1.7\n",
      "2  2023-12-01  merchant_66588       2.5\n",
      "     month_id     merchant_id  forecast\n",
      "0  2023-10-01  merchant_66735       1.2\n",
      "1  2023-11-01  merchant_66735       1.7\n",
      "2  2023-12-01  merchant_66735       2.5\n"
     ]
    },
    {
     "name": "stderr",
     "output_type": "stream",
     "text": [
      "Processing Customers: 100%|█████████▉| 26030/26060 [1:00:28<00:01, 18.17it/s]"
     ]
    },
    {
     "name": "stdout",
     "output_type": "stream",
     "text": [
      "     month_id     merchant_id  forecast\n",
      "0  2023-10-01  merchant_66808       0.8\n",
      "1  2023-11-01  merchant_66808       1.0\n",
      "2  2023-12-01  merchant_66808       1.5\n",
      "     month_id     merchant_id  forecast\n",
      "0  2023-10-01  merchant_66895       0.8\n",
      "1  2023-11-01  merchant_66895       1.0\n",
      "2  2023-12-01  merchant_66895       1.5\n",
      "     month_id     merchant_id  forecast\n",
      "0  2023-10-01  merchant_66933       1.0\n",
      "1  2023-11-01  merchant_66933       1.3\n",
      "2  2023-12-01  merchant_66933       2.0\n",
      "     month_id     merchant_id  forecast\n",
      "0  2023-10-01  merchant_66957       1.8\n",
      "1  2023-11-01  merchant_66957       2.3\n",
      "2  2023-12-01  merchant_66957       3.5\n",
      "     month_id     merchant_id  forecast\n",
      "0  2023-10-01  merchant_67083       1.0\n",
      "1  2023-11-01  merchant_67083       1.3\n",
      "2  2023-12-01  merchant_67083       2.0\n"
     ]
    },
    {
     "name": "stderr",
     "output_type": "stream",
     "text": [
      "Processing Customers: 100%|█████████▉| 26036/26060 [1:00:29<00:01, 18.69it/s]"
     ]
    },
    {
     "name": "stdout",
     "output_type": "stream",
     "text": [
      "     month_id     merchant_id  forecast\n",
      "0  2023-10-01  merchant_67104      16.8\n",
      "1  2023-11-01  merchant_67104      22.3\n",
      "2  2023-12-01  merchant_67104      33.5\n",
      "     month_id    merchant_id  forecast\n",
      "0  2023-10-01  merchant_6733       0.8\n",
      "1  2023-11-01  merchant_6733       1.0\n",
      "2  2023-12-01  merchant_6733       1.5\n",
      "     month_id     merchant_id  forecast\n",
      "0  2023-10-01  merchant_67349       0.8\n",
      "1  2023-11-01  merchant_67349       1.0\n",
      "2  2023-12-01  merchant_67349       1.5\n",
      "     month_id     merchant_id  forecast\n",
      "0  2023-10-01  merchant_67399       0.8\n",
      "1  2023-11-01  merchant_67399       1.0\n",
      "2  2023-12-01  merchant_67399       1.5\n",
      "     month_id     merchant_id  forecast\n",
      "0  2023-10-01  merchant_67483       2.2\n",
      "1  2023-11-01  merchant_67483       3.0\n",
      "2  2023-12-01  merchant_67483       4.5\n"
     ]
    },
    {
     "name": "stderr",
     "output_type": "stream",
     "text": [
      "Processing Customers: 100%|█████████▉| 26040/26060 [1:00:29<00:01, 18.60it/s]"
     ]
    },
    {
     "name": "stdout",
     "output_type": "stream",
     "text": [
      "     month_id     merchant_id  forecast\n",
      "0  2023-10-01  merchant_67498       1.5\n",
      "1  2023-11-01  merchant_67498       2.0\n",
      "2  2023-12-01  merchant_67498       3.0\n",
      "     month_id     merchant_id  forecast\n",
      "0  2023-10-01  merchant_67637       1.0\n",
      "1  2023-11-01  merchant_67637       1.3\n",
      "2  2023-12-01  merchant_67637       2.0\n",
      "     month_id    merchant_id  forecast\n",
      "0  2023-10-01  merchant_6840       1.0\n",
      "1  2023-11-01  merchant_6840       1.3\n",
      "2  2023-12-01  merchant_6840       2.0\n",
      "     month_id    merchant_id  forecast\n",
      "0  2023-10-01  merchant_6908       0.8\n",
      "1  2023-11-01  merchant_6908       1.0\n",
      "2  2023-12-01  merchant_6908       1.5\n",
      "     month_id   merchant_id  forecast\n",
      "0  2023-10-01  merchant_699       0.8\n",
      "1  2023-11-01  merchant_699       1.0\n",
      "2  2023-12-01  merchant_699       1.5\n"
     ]
    },
    {
     "name": "stderr",
     "output_type": "stream",
     "text": [
      "Processing Customers: 100%|█████████▉| 26045/26060 [1:00:29<00:00, 19.41it/s]"
     ]
    },
    {
     "name": "stdout",
     "output_type": "stream",
     "text": [
      "     month_id    merchant_id  forecast\n",
      "0  2023-10-01  merchant_6994       2.2\n",
      "1  2023-11-01  merchant_6994       3.0\n",
      "2  2023-12-01  merchant_6994       4.5\n",
      "     month_id    merchant_id  forecast\n",
      "0  2023-10-01  merchant_7051       1.2\n",
      "1  2023-11-01  merchant_7051       1.7\n",
      "2  2023-12-01  merchant_7051       2.5\n",
      "     month_id    merchant_id  forecast\n",
      "0  2023-10-01  merchant_7430       1.8\n",
      "1  2023-11-01  merchant_7430       2.3\n",
      "2  2023-12-01  merchant_7430       3.5\n",
      "     month_id   merchant_id  forecast\n",
      "0  2023-10-01  merchant_783       1.5\n",
      "1  2023-11-01  merchant_783       2.0\n",
      "2  2023-12-01  merchant_783       3.0\n",
      "     month_id    merchant_id  forecast\n",
      "0  2023-10-01  merchant_7863       0.8\n",
      "1  2023-11-01  merchant_7863       1.0\n",
      "2  2023-12-01  merchant_7863       1.5\n"
     ]
    },
    {
     "name": "stderr",
     "output_type": "stream",
     "text": [
      "Processing Customers: 100%|█████████▉| 26051/26060 [1:00:30<00:00, 20.10it/s]"
     ]
    },
    {
     "name": "stdout",
     "output_type": "stream",
     "text": [
      "     month_id    merchant_id  forecast\n",
      "0  2023-10-01  merchant_7872       0.8\n",
      "1  2023-11-01  merchant_7872       1.0\n",
      "2  2023-12-01  merchant_7872       1.5\n",
      "     month_id    merchant_id  forecast\n",
      "0  2023-10-01  merchant_8117       0.8\n",
      "1  2023-11-01  merchant_8117       1.0\n",
      "2  2023-12-01  merchant_8117       1.5\n",
      "     month_id    merchant_id  forecast\n",
      "0  2023-10-01  merchant_8224       4.0\n",
      "1  2023-11-01  merchant_8224       5.3\n",
      "2  2023-12-01  merchant_8224       8.0\n",
      "     month_id    merchant_id  forecast\n",
      "0  2023-10-01  merchant_8295       0.8\n",
      "1  2023-11-01  merchant_8295       1.0\n",
      "2  2023-12-01  merchant_8295       1.5\n"
     ]
    },
    {
     "name": "stderr",
     "output_type": "stream",
     "text": [
      "Processing Customers: 100%|█████████▉| 26054/26060 [1:00:30<00:00, 20.22it/s]"
     ]
    },
    {
     "name": "stdout",
     "output_type": "stream",
     "text": [
      "     month_id    merchant_id  forecast\n",
      "0  2023-10-01  merchant_8635       8.5\n",
      "1  2023-11-01  merchant_8635      11.3\n",
      "2  2023-12-01  merchant_8635      17.0\n",
      "     month_id  merchant_id  forecast\n",
      "0  2023-10-01  merchant_88       0.8\n",
      "1  2023-11-01  merchant_88       1.0\n",
      "2  2023-12-01  merchant_88       1.5\n",
      "     month_id   merchant_id  forecast\n",
      "0  2023-10-01  merchant_902       0.8\n",
      "1  2023-11-01  merchant_902       1.0\n",
      "2  2023-12-01  merchant_902       1.5\n",
      "     month_id    merchant_id  forecast\n",
      "0  2023-10-01  merchant_9100       1.0\n",
      "1  2023-11-01  merchant_9100       1.3\n",
      "2  2023-12-01  merchant_9100       2.0\n",
      "     month_id    merchant_id  forecast\n",
      "0  2023-10-01  merchant_9177       1.0\n",
      "1  2023-11-01  merchant_9177       1.3\n",
      "2  2023-12-01  merchant_9177       2.0\n"
     ]
    },
    {
     "name": "stderr",
     "output_type": "stream",
     "text": [
      "Processing Customers: 100%|██████████| 26060/26060 [1:00:30<00:00,  7.18it/s]"
     ]
    },
    {
     "name": "stdout",
     "output_type": "stream",
     "text": [
      "     month_id    merchant_id  forecast\n",
      "0  2023-10-01  merchant_9338       1.0\n",
      "1  2023-11-01  merchant_9338       1.3\n",
      "2  2023-12-01  merchant_9338       2.0\n",
      "     month_id    merchant_id  forecast\n",
      "0  2023-10-01  merchant_9373       0.8\n",
      "1  2023-11-01  merchant_9373       1.0\n",
      "2  2023-12-01  merchant_9373       1.5\n",
      "     month_id    merchant_id  forecast\n",
      "0  2023-10-01  merchant_9383       0.8\n",
      "1  2023-11-01  merchant_9383       1.0\n",
      "2  2023-12-01  merchant_9383       1.5\n",
      "     month_id    merchant_id  forecast\n",
      "0  2023-10-01  merchant_9545       4.0\n",
      "1  2023-11-01  merchant_9545       5.3\n",
      "2  2023-12-01  merchant_9545       8.0\n",
      "Average MAE: 39.69889154904894\n"
     ]
    },
    {
     "name": "stderr",
     "output_type": "stream",
     "text": [
      "\n"
     ]
    }
   ],
   "source": [
    "forecast_df = pd.DataFrame(columns=['month_id', 'merchant_id', 'forecast'])\n",
    "\n",
    "alphas = betas = gammas = np.arange(0.4, 1, 0.4)\n",
    "\n",
    "abg = list(itertools.product(alphas, betas, gammas))\n",
    "\n",
    "iteration_control = 0\n",
    "total_mae = 0\n",
    "\n",
    "for customer_id in tqdm(df_merged['merchant_id'].unique(), desc=\"Processing Customers\"):\n",
    "    try:\n",
    "        customer_data = df_merged[df_merged['merchant_id'] == customer_id]\n",
    "        customer_data = customer_data.set_index('month_id')\n",
    "        customer_data = customer_data.drop('merchant_id', axis=1)\n",
    "\n",
    "        # Ensure the sales column is numeric and the index is datetime\n",
    "        customer_data['net_payment_count'] = pd.to_numeric(customer_data['net_payment_count'], errors='coerce')\n",
    "        customer_data.index = pd.to_datetime(customer_data.index)\n",
    "\n",
    "        if customer_id in new_customer_ids:\n",
    "            moving_average_october = (customer_data['net_payment_count'][\"2023-09-01\"] + customer_data['net_payment_count'][\"2023-08-01\"] + customer_data['net_payment_count'][\"2023-07-01\"] + customer_data['net_payment_count'][\"2023-06-01\"]) / 4\n",
    "            moving_average_november = (customer_data['net_payment_count'][\"2023-09-01\"] + customer_data['net_payment_count'][\"2023-08-01\"] + customer_data['net_payment_count'][\"2023-07-01\"]) / 3 \n",
    "            moving_average_december = (customer_data['net_payment_count'][\"2023-09-01\"] + customer_data['net_payment_count'][\"2023-08-01\"]) / 2\n",
    "            \n",
    "            moving_averages_df = pd.DataFrame({\n",
    "                'month_id': [\"2023-10-01\", \"2023-11-01\", \"2023-12-01\"],\n",
    "                'merchant_id': [customer_id] * 3,\n",
    "                'forecast': [moving_average_october, moving_average_november, moving_average_december]\n",
    "            })\n",
    "            \n",
    "            forecast_df = forecast_df.append(moving_averages_df, ignore_index=True)\n",
    "            \n",
    "        else:\n",
    "            # Split the data into training and testing\n",
    "            train = customer_data[:\"2023-05-01\"]\n",
    "            test = customer_data[\"2023-06-01\":]\n",
    "\n",
    "            # Optimize the model\n",
    "            y_pred_len = len(test)\n",
    "            best_alpha, best_beta, best_gamma, best_mae = tes_optimizer(train, test, abg, y_pred_len, logging=False)\n",
    "\n",
    "            # Train the model\n",
    "            tes_model = ExponentialSmoothing(customer_data, trend=\"add\", seasonal=\"add\", seasonal_periods=12).\\\n",
    "                fit(smoothing_level=best_alpha, smoothing_slope=best_beta, smoothing_seasonal=best_gamma)\n",
    "            \n",
    "            # Forecast\n",
    "            y_pred = tes_model.forecast(3)\n",
    "            y_pred = pd.DataFrame(y_pred, columns=['forecast'])\n",
    "\n",
    "            # print(f\"Customer {customer_id} - MAE: {best_mae}\")\n",
    "\n",
    "            # Ensuring the forecast is 1-dimensional\n",
    "            y_pred = np.array(y_pred).flatten()\n",
    "\n",
    "            # Creating a new DataFrame for the forecasted values\n",
    "            forecast_dates = pd.date_range(start=customer_data.index[-1], periods=len(y_pred) + 1, freq='MS')[1:]\n",
    "            forecast_df_temp = pd.DataFrame({\n",
    "                'month_id': forecast_dates,\n",
    "                'merchant_id': [customer_id] * len(y_pred),  # Repeating the customer_id for each prediction\n",
    "                'forecast': y_pred\n",
    "            })\n",
    "\n",
    "            # Append the forecasts for this customer to the forecast_df\n",
    "            forecast_df = forecast_df.append(forecast_df_temp, ignore_index=True)\n",
    "\n",
    "            iteration_control += 1\n",
    "            total_mae += best_mae\n",
    "\n",
    "    except Exception as e:\n",
    "        print(f\"Error processing in customer: {customer_id}: {e}\")\n",
    "        continue\n",
    "\n",
    "# After all forecasts have been appended to forecast_df\n",
    "avg_mae = total_mae / iteration_control\n",
    "forecast_df['forecast'] = forecast_df['forecast'].apply(lambda x: 0 if x < 1 else x)\n",
    "print(f\"Average MAE: {avg_mae}\")"
   ]
  },
  {
   "cell_type": "code",
   "execution_count": 82,
   "metadata": {},
   "outputs": [
    {
     "data": {
      "text/plain": [
       "39.69889154904894"
      ]
     },
     "execution_count": 82,
     "metadata": {},
     "output_type": "execute_result"
    }
   ],
   "source": [
    "avg_mae"
   ]
  },
  {
   "cell_type": "code",
   "execution_count": 83,
   "metadata": {},
   "outputs": [],
   "source": [
    "forecast_df_new = forecast_df.copy()"
   ]
  },
  {
   "cell_type": "code",
   "execution_count": 84,
   "metadata": {},
   "outputs": [
    {
     "data": {
      "text/html": [
       "<div>\n",
       "<style scoped>\n",
       "    .dataframe tbody tr th:only-of-type {\n",
       "        vertical-align: middle;\n",
       "    }\n",
       "\n",
       "    .dataframe tbody tr th {\n",
       "        vertical-align: top;\n",
       "    }\n",
       "\n",
       "    .dataframe thead th {\n",
       "        text-align: right;\n",
       "    }\n",
       "</style>\n",
       "<table border=\"1\" class=\"dataframe\">\n",
       "  <thead>\n",
       "    <tr style=\"text-align: right;\">\n",
       "      <th></th>\n",
       "      <th>month_id</th>\n",
       "      <th>merchant_id</th>\n",
       "      <th>forecast</th>\n",
       "    </tr>\n",
       "  </thead>\n",
       "  <tbody>\n",
       "    <tr>\n",
       "      <th>0</th>\n",
       "      <td>2023-10-01 00:00:00</td>\n",
       "      <td>merchant_10005</td>\n",
       "      <td>0.0</td>\n",
       "    </tr>\n",
       "    <tr>\n",
       "      <th>1</th>\n",
       "      <td>2023-11-01 00:00:00</td>\n",
       "      <td>merchant_10005</td>\n",
       "      <td>0.0</td>\n",
       "    </tr>\n",
       "    <tr>\n",
       "      <th>2</th>\n",
       "      <td>2023-12-01 00:00:00</td>\n",
       "      <td>merchant_10005</td>\n",
       "      <td>1.0</td>\n",
       "    </tr>\n",
       "    <tr>\n",
       "      <th>3</th>\n",
       "      <td>2023-10-01 00:00:00</td>\n",
       "      <td>merchant_10034</td>\n",
       "      <td>0.0</td>\n",
       "    </tr>\n",
       "    <tr>\n",
       "      <th>4</th>\n",
       "      <td>2023-11-01 00:00:00</td>\n",
       "      <td>merchant_10034</td>\n",
       "      <td>1.6</td>\n",
       "    </tr>\n",
       "  </tbody>\n",
       "</table>\n",
       "</div>"
      ],
      "text/plain": [
       "              month_id     merchant_id  forecast\n",
       "0  2023-10-01 00:00:00  merchant_10005       0.0\n",
       "1  2023-11-01 00:00:00  merchant_10005       0.0\n",
       "2  2023-12-01 00:00:00  merchant_10005       1.0\n",
       "3  2023-10-01 00:00:00  merchant_10034       0.0\n",
       "4  2023-11-01 00:00:00  merchant_10034       1.6"
      ]
     },
     "execution_count": 84,
     "metadata": {},
     "output_type": "execute_result"
    }
   ],
   "source": [
    "forecast_df_new.head()"
   ]
  },
  {
   "cell_type": "code",
   "execution_count": 85,
   "metadata": {},
   "outputs": [],
   "source": [
    "forecast_df_new[\"month_id\"] = pd.to_datetime(forecast_df_new[\"month_id\"], format='%Y-%m-%d')"
   ]
  },
  {
   "cell_type": "code",
   "execution_count": 86,
   "metadata": {},
   "outputs": [
    {
     "data": {
      "text/html": [
       "<div>\n",
       "<style scoped>\n",
       "    .dataframe tbody tr th:only-of-type {\n",
       "        vertical-align: middle;\n",
       "    }\n",
       "\n",
       "    .dataframe tbody tr th {\n",
       "        vertical-align: top;\n",
       "    }\n",
       "\n",
       "    .dataframe thead th {\n",
       "        text-align: right;\n",
       "    }\n",
       "</style>\n",
       "<table border=\"1\" class=\"dataframe\">\n",
       "  <thead>\n",
       "    <tr style=\"text-align: right;\">\n",
       "      <th></th>\n",
       "      <th>month_id</th>\n",
       "      <th>merchant_id</th>\n",
       "      <th>forecast</th>\n",
       "    </tr>\n",
       "  </thead>\n",
       "  <tbody>\n",
       "    <tr>\n",
       "      <th>0</th>\n",
       "      <td>2023-10-01</td>\n",
       "      <td>merchant_10005</td>\n",
       "      <td>0.0</td>\n",
       "    </tr>\n",
       "    <tr>\n",
       "      <th>1</th>\n",
       "      <td>2023-11-01</td>\n",
       "      <td>merchant_10005</td>\n",
       "      <td>0.0</td>\n",
       "    </tr>\n",
       "    <tr>\n",
       "      <th>2</th>\n",
       "      <td>2023-12-01</td>\n",
       "      <td>merchant_10005</td>\n",
       "      <td>1.0</td>\n",
       "    </tr>\n",
       "    <tr>\n",
       "      <th>3</th>\n",
       "      <td>2023-10-01</td>\n",
       "      <td>merchant_10034</td>\n",
       "      <td>0.0</td>\n",
       "    </tr>\n",
       "    <tr>\n",
       "      <th>4</th>\n",
       "      <td>2023-11-01</td>\n",
       "      <td>merchant_10034</td>\n",
       "      <td>1.6</td>\n",
       "    </tr>\n",
       "  </tbody>\n",
       "</table>\n",
       "</div>"
      ],
      "text/plain": [
       "    month_id     merchant_id  forecast\n",
       "0 2023-10-01  merchant_10005       0.0\n",
       "1 2023-11-01  merchant_10005       0.0\n",
       "2 2023-12-01  merchant_10005       1.0\n",
       "3 2023-10-01  merchant_10034       0.0\n",
       "4 2023-11-01  merchant_10034       1.6"
      ]
     },
     "execution_count": 86,
     "metadata": {},
     "output_type": "execute_result"
    }
   ],
   "source": [
    "forecast_df_new.head()"
   ]
  },
  {
   "cell_type": "code",
   "execution_count": 87,
   "metadata": {},
   "outputs": [],
   "source": [
    "forecast_df_new['date_id'] = forecast_df_new['month_id'].apply(lambda x: x.strftime('%Y%m') if x.month in [10, 11, 12] else '')\n",
    "forecast_df_new['general_merchant_id'] = forecast_df_new['date_id'] + forecast_df_new['merchant_id']"
   ]
  },
  {
   "cell_type": "code",
   "execution_count": 88,
   "metadata": {},
   "outputs": [
    {
     "data": {
      "text/html": [
       "<div>\n",
       "<style scoped>\n",
       "    .dataframe tbody tr th:only-of-type {\n",
       "        vertical-align: middle;\n",
       "    }\n",
       "\n",
       "    .dataframe tbody tr th {\n",
       "        vertical-align: top;\n",
       "    }\n",
       "\n",
       "    .dataframe thead th {\n",
       "        text-align: right;\n",
       "    }\n",
       "</style>\n",
       "<table border=\"1\" class=\"dataframe\">\n",
       "  <thead>\n",
       "    <tr style=\"text-align: right;\">\n",
       "      <th></th>\n",
       "      <th>month_id</th>\n",
       "      <th>merchant_id</th>\n",
       "      <th>forecast</th>\n",
       "      <th>date_id</th>\n",
       "      <th>general_merchant_id</th>\n",
       "    </tr>\n",
       "  </thead>\n",
       "  <tbody>\n",
       "    <tr>\n",
       "      <th>0</th>\n",
       "      <td>2023-10-01</td>\n",
       "      <td>merchant_10005</td>\n",
       "      <td>0.0</td>\n",
       "      <td>202310</td>\n",
       "      <td>202310merchant_10005</td>\n",
       "    </tr>\n",
       "    <tr>\n",
       "      <th>1</th>\n",
       "      <td>2023-11-01</td>\n",
       "      <td>merchant_10005</td>\n",
       "      <td>0.0</td>\n",
       "      <td>202311</td>\n",
       "      <td>202311merchant_10005</td>\n",
       "    </tr>\n",
       "    <tr>\n",
       "      <th>2</th>\n",
       "      <td>2023-12-01</td>\n",
       "      <td>merchant_10005</td>\n",
       "      <td>1.0</td>\n",
       "      <td>202312</td>\n",
       "      <td>202312merchant_10005</td>\n",
       "    </tr>\n",
       "    <tr>\n",
       "      <th>3</th>\n",
       "      <td>2023-10-01</td>\n",
       "      <td>merchant_10034</td>\n",
       "      <td>0.0</td>\n",
       "      <td>202310</td>\n",
       "      <td>202310merchant_10034</td>\n",
       "    </tr>\n",
       "    <tr>\n",
       "      <th>4</th>\n",
       "      <td>2023-11-01</td>\n",
       "      <td>merchant_10034</td>\n",
       "      <td>1.6</td>\n",
       "      <td>202311</td>\n",
       "      <td>202311merchant_10034</td>\n",
       "    </tr>\n",
       "  </tbody>\n",
       "</table>\n",
       "</div>"
      ],
      "text/plain": [
       "    month_id     merchant_id  forecast date_id   general_merchant_id\n",
       "0 2023-10-01  merchant_10005       0.0  202310  202310merchant_10005\n",
       "1 2023-11-01  merchant_10005       0.0  202311  202311merchant_10005\n",
       "2 2023-12-01  merchant_10005       1.0  202312  202312merchant_10005\n",
       "3 2023-10-01  merchant_10034       0.0  202310  202310merchant_10034\n",
       "4 2023-11-01  merchant_10034       1.6  202311  202311merchant_10034"
      ]
     },
     "execution_count": 88,
     "metadata": {},
     "output_type": "execute_result"
    }
   ],
   "source": [
    "forecast_df_new.head()"
   ]
  },
  {
   "cell_type": "code",
   "execution_count": 90,
   "metadata": {},
   "outputs": [],
   "source": [
    "forecast_df_new.to_csv(\"C:/Users/MONSTER/Desktop/forecast.csv\", index=False)"
   ]
  }
 ],
 "metadata": {
  "kernelspec": {
   "display_name": "Python 3",
   "language": "python",
   "name": "python3"
  },
  "language_info": {
   "codemirror_mode": {
    "name": "ipython",
    "version": 3
   },
   "file_extension": ".py",
   "mimetype": "text/x-python",
   "name": "python",
   "nbconvert_exporter": "python",
   "pygments_lexer": "ipython3",
   "version": "3.10.11"
  }
 },
 "nbformat": 4,
 "nbformat_minor": 2
}
